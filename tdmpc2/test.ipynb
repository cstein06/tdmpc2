{
 "cells": [
  {
   "cell_type": "code",
   "execution_count": 14,
   "metadata": {},
   "outputs": [
    {
     "data": {
      "text/plain": [
       "True"
      ]
     },
     "execution_count": 14,
     "metadata": {},
     "output_type": "execute_result"
    }
   ],
   "source": [
    "import torch \n",
    "torch.cuda.is_available()"
   ]
  },
  {
   "cell_type": "code",
   "execution_count": 2,
   "metadata": {},
   "outputs": [],
   "source": [
    "models = [torch.nn.Linear(4, 5) for i in range(3)]"
   ]
  },
  {
   "cell_type": "code",
   "execution_count": 3,
   "metadata": {},
   "outputs": [],
   "source": [
    "import common.layers as layers"
   ]
  },
  {
   "cell_type": "code",
   "execution_count": 4,
   "metadata": {},
   "outputs": [],
   "source": [
    "ens = layers.Ensemble(models)"
   ]
  },
  {
   "cell_type": "code",
   "execution_count": 10,
   "metadata": {},
   "outputs": [
    {
     "data": {
      "text/plain": [
       "<function torch._functorch.apis.vmap.<locals>.wrapped(*args, **kwargs)>"
      ]
     },
     "execution_count": 10,
     "metadata": {},
     "output_type": "execute_result"
    }
   ],
   "source": [
    "ens.vmap"
   ]
  },
  {
   "cell_type": "code",
   "execution_count": 13,
   "metadata": {},
   "outputs": [
    {
     "ename": "ValueError",
     "evalue": "vmap({})(<inputs>): got no inputs. Maybe you forgot to add inputs, or you are trying to vmap over a function with no inputs. The latter is unsupported.",
     "output_type": "error",
     "traceback": [
      "\u001b[1;31m---------------------------------------------------------------------------\u001b[0m",
      "\u001b[1;31mValueError\u001b[0m                                Traceback (most recent call last)",
      "\u001b[1;32mg:\\My Drive\\work\\projects\\cerebellum\\code\\tdmpc2\\tdmpc2\\test.ipynb Cell 6\u001b[0m line \u001b[0;36m1\n\u001b[1;32m----> <a href='vscode-notebook-cell:/g%3A/My%20Drive/work/projects/cerebellum/code/tdmpc2/tdmpc2/test.ipynb#X12sZmlsZQ%3D%3D?line=0'>1</a>\u001b[0m ens\u001b[39m.\u001b[39;49mvmap()\n",
      "File \u001b[1;32mc:\\Users\\MSI\\anaconda3\\envs\\tdmpc2\\lib\\site-packages\\torch\\_functorch\\apis.py:188\u001b[0m, in \u001b[0;36mvmap.<locals>.wrapped\u001b[1;34m(*args, **kwargs)\u001b[0m\n\u001b[0;32m    187\u001b[0m \u001b[39mdef\u001b[39;00m \u001b[39mwrapped\u001b[39m(\u001b[39m*\u001b[39margs, \u001b[39m*\u001b[39m\u001b[39m*\u001b[39mkwargs):\n\u001b[1;32m--> 188\u001b[0m     \u001b[39mreturn\u001b[39;00m vmap_impl(func, in_dims, out_dims, randomness, chunk_size, \u001b[39m*\u001b[39margs, \u001b[39m*\u001b[39m\u001b[39m*\u001b[39mkwargs)\n",
      "File \u001b[1;32mc:\\Users\\MSI\\anaconda3\\envs\\tdmpc2\\lib\\site-packages\\torch\\_functorch\\vmap.py:270\u001b[0m, in \u001b[0;36mvmap_impl\u001b[1;34m(func, in_dims, out_dims, randomness, chunk_size, *args, **kwargs)\u001b[0m\n\u001b[0;32m    268\u001b[0m lazy_load_decompositions()\n\u001b[0;32m    269\u001b[0m _check_out_dims_is_int_or_int_pytree(out_dims, func)\n\u001b[1;32m--> 270\u001b[0m batch_size, flat_in_dims, flat_args, args_spec \u001b[39m=\u001b[39m _process_batched_inputs(in_dims, args, func)\n\u001b[0;32m    272\u001b[0m \u001b[39mif\u001b[39;00m chunk_size \u001b[39mis\u001b[39;00m \u001b[39mnot\u001b[39;00m \u001b[39mNone\u001b[39;00m:\n\u001b[0;32m    273\u001b[0m     chunks_flat_args \u001b[39m=\u001b[39m _get_chunked_inputs(flat_args, flat_in_dims, batch_size, chunk_size)\n",
      "File \u001b[1;32mc:\\Users\\MSI\\anaconda3\\envs\\tdmpc2\\lib\\site-packages\\torch\\_functorch\\vmap.py:89\u001b[0m, in \u001b[0;36m_process_batched_inputs\u001b[1;34m(in_dims, args, func)\u001b[0m\n\u001b[0;32m     84\u001b[0m     \u001b[39mraise\u001b[39;00m \u001b[39mValueError\u001b[39;00m(\n\u001b[0;32m     85\u001b[0m         \u001b[39mf\u001b[39m\u001b[39m'\u001b[39m\u001b[39mvmap(\u001b[39m\u001b[39m{\u001b[39;00m_get_name(func)\u001b[39m}\u001b[39;00m\u001b[39m, in_dims=\u001b[39m\u001b[39m{\u001b[39;00min_dims\u001b[39m}\u001b[39;00m\u001b[39m, ...)(<inputs>): \u001b[39m\u001b[39m'\u001b[39m\n\u001b[0;32m     86\u001b[0m         \u001b[39mf\u001b[39m\u001b[39m'\u001b[39m\u001b[39mexpected `in_dims` to be int or a (potentially nested) tuple \u001b[39m\u001b[39m'\u001b[39m\n\u001b[0;32m     87\u001b[0m         \u001b[39mf\u001b[39m\u001b[39m'\u001b[39m\u001b[39mmatching the structure of inputs, got: \u001b[39m\u001b[39m{\u001b[39;00m\u001b[39mtype\u001b[39m(in_dims)\u001b[39m}\u001b[39;00m\u001b[39m.\u001b[39m\u001b[39m'\u001b[39m)\n\u001b[0;32m     88\u001b[0m \u001b[39mif\u001b[39;00m \u001b[39mlen\u001b[39m(args) \u001b[39m==\u001b[39m \u001b[39m0\u001b[39m:\n\u001b[1;32m---> 89\u001b[0m     \u001b[39mraise\u001b[39;00m \u001b[39mValueError\u001b[39;00m(\n\u001b[0;32m     90\u001b[0m         \u001b[39mf\u001b[39m\u001b[39m'\u001b[39m\u001b[39mvmap(\u001b[39m\u001b[39m{\u001b[39;00m_get_name(func)\u001b[39m}\u001b[39;00m\u001b[39m)(<inputs>): got no inputs. Maybe you forgot to add \u001b[39m\u001b[39m'\u001b[39m\n\u001b[0;32m     91\u001b[0m         \u001b[39mf\u001b[39m\u001b[39m'\u001b[39m\u001b[39minputs, or you are trying to vmap over a function with no inputs. \u001b[39m\u001b[39m'\u001b[39m\n\u001b[0;32m     92\u001b[0m         \u001b[39mf\u001b[39m\u001b[39m'\u001b[39m\u001b[39mThe latter is unsupported.\u001b[39m\u001b[39m'\u001b[39m)\n\u001b[0;32m     94\u001b[0m flat_args, args_spec \u001b[39m=\u001b[39m tree_flatten(args)\n\u001b[0;32m     95\u001b[0m flat_in_dims \u001b[39m=\u001b[39m _broadcast_to_and_flatten(in_dims, args_spec)\n",
      "\u001b[1;31mValueError\u001b[0m: vmap({})(<inputs>): got no inputs. Maybe you forgot to add inputs, or you are trying to vmap over a function with no inputs. The latter is unsupported."
     ]
    }
   ],
   "source": [
    "ens.vmap()"
   ]
  },
  {
   "cell_type": "code",
   "execution_count": null,
   "metadata": {},
   "outputs": [],
   "source": []
  }
 ],
 "metadata": {
  "kernelspec": {
   "display_name": "dmcontrol",
   "language": "python",
   "name": "python3"
  },
  "language_info": {
   "codemirror_mode": {
    "name": "ipython",
    "version": 3
   },
   "file_extension": ".py",
   "mimetype": "text/x-python",
   "name": "python",
   "nbconvert_exporter": "python",
   "pygments_lexer": "ipython3",
   "version": "3.9.18"
  }
 },
 "nbformat": 4,
 "nbformat_minor": 2
}
