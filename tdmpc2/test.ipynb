{
 "cells": [
  {
   "cell_type": "markdown",
   "metadata": {},
   "source": [
    "imports"
   ]
  },
  {
   "cell_type": "code",
   "execution_count": 1,
   "metadata": {},
   "outputs": [],
   "source": [
    "%load_ext autoreload\n",
    "%autoreload 2"
   ]
  },
  {
   "cell_type": "code",
   "execution_count": 2,
   "metadata": {},
   "outputs": [
    {
     "name": "stderr",
     "output_type": "stream",
     "text": [
      "g:\\My Drive\\work\\projects\\cerebellum\\code\\tdmpc2\\tdmpc2\\train.py:22: UserWarning: \n",
      "The version_base parameter is not specified.\n",
      "Please specify a compatability version level, or None.\n",
      "Will assume defaults for version 1.1\n",
      "  @hydra.main(config_name='config', config_path='.')\n"
     ]
    }
   ],
   "source": [
    "import train\n",
    "from hydra import initialize, compose\n",
    "from omegaconf import OmegaConf\n",
    "from trainer.online_trainer import OnlineTrainer\n",
    "from common.buffer import Buffer\n",
    "from envs import make_env\n",
    "from common.parser import parse_cfg\n",
    "from tdmpc2 import TDMPC2\n",
    "from common.logger import Logger\n",
    "# world model\n",
    "from tdmpc2 import WorldModel\n",
    "import torch\n",
    "import numpy as np\n",
    "import matplotlib.pyplot as plt\n",
    "from dm_control import mujoco\n",
    "\n",
    "import wandb"
   ]
  },
  {
   "cell_type": "code",
   "execution_count": 3,
   "metadata": {},
   "outputs": [],
   "source": [
    "# with initialize(version_base=None, config_path=\"./\"):\n",
    "#     cfg = compose(config_name='config.yaml')\n",
    "#     cfg = parse_cfg(cfg)\n",
    "#     # print(OmegaConf.to_yaml(cfg))"
   ]
  },
  {
   "cell_type": "code",
   "execution_count": 4,
   "metadata": {},
   "outputs": [
    {
     "name": "stdout",
     "output_type": "stream",
     "text": [
      "Using custom model size.\n"
     ]
    }
   ],
   "source": [
    "initialize(version_base=None, config_path=\"./\")\n",
    "cfg = compose(config_name='config.yaml')\n",
    "cfg = parse_cfg(cfg)"
   ]
  },
  {
   "cell_type": "code",
   "execution_count": 5,
   "metadata": {},
   "outputs": [
    {
     "data": {
      "text/plain": [
       "{'task': 'pointmass-easy', 'device': 'cuda', 'eval_episodes': 3, 'eval_freq': 2500, 'num_videos': 3, 'steps': 50000, 'updates_per_step': 1.0, 'batch_size': 256, 'reward_coef': 0.1, 'value_coef': 0.1, 'consistency_coef': 20, 'rho': 0.5, 'enc_lr_scale': 0.3, 'grad_clip_norm': 20, 'tau': 0.01, 'discount_denom': 5, 'discount_min': 0.95, 'discount_max': 0.995, 'buffer_size': 1000000, 'exp_name': 'default', 'data_dir': '???', 'mpc': False, 'iterations': 6, 'num_samples': 512, 'num_elites': 64, 'num_pi_trajs': 24, 'horizon': 6, 'min_std': 0.05, 'max_std': 2, 'temperature': 0.5, 'log_std_min': -10, 'log_std_max': 2, 'entropy_coef': 0.0001, 'init_state': [-0.2, 0.0, 0.0, 0.0], 'target': [0.2, 0.2], 'target_size': 0.02, 'target_margin': 0.1, 'control_cost': 1.0, 'target_reward': 1.0, 'control_norm_thres': 0.4, 'friction': 1.0, 'terminate_at_target': False, 'target_end_dist': 0.02, 'end_reward': None, 'num_bins': 101, 'vmin': -10, 'vmax': 10, 'model_size': 0, 'no_enc': True, 'num_enc_layers': 2, 'enc_dim': 256, 'action_repeat': 2, 'perturb': True, 'perturb_steps': -1, 'perturb_scale': 0.0, 'action_noise': 0.1, 'action_skip': 0, 'obs_noise': 0.0, 'action_limit': True, 'seed_steps': 2500, 'control': True, 'ctrl_mse': True, 'ctrl_horizon': 8, 'lr_ctrl_pi': 0.0, 'lr_ctrl_dyn': 0.0005, 'pi_lr': 0.0003, 'lr': 0.0003, 'train_agent': True, 'seed_random': False, 'ctrl_sig_init': 0.02, 'fixed_init_state': False, 'num_ctrl_layers': 2, 'ctrl_dim': 512, 'mlp_dim': 512, 'latent_dim': 4, 'action_arrow_scale': 0.03, 'dist_range': 100, 'checkpoint_wandb': False, 'checkpoint_filename': 'final.pt', 'checkpoint_local': False, 'task_dim': 0, 'num_q': 5, 'dropout': 0.01, 'simnorm_dim': 4, 'wandb_project': 'control', 'wandb_entity': 'cstein06', 'wandb_silent': False, 'disable_wandb': False, 'save_csv': True, 'save_video': True, 'save_agent': True, 'seed': 1, 'work_dir': WindowsPath('g:/My Drive/work/projects/cerebellum/code/tdmpc2/tdmpc2/logs/pointmass-easy/1/default'), 'task_title': 'Pointmass Easy', 'multitask': False, 'tasks': ['pointmass-easy'], 'obs_shape': '???', 'action_dim': '???', 'episode_length': '???', 'obs_shapes': '???', 'action_dims': '???', 'episode_lengths': '???', 'bin_size': 0.2}"
      ]
     },
     "execution_count": 5,
     "metadata": {},
     "output_type": "execute_result"
    }
   ],
   "source": [
    "cfg"
   ]
  },
  {
   "cell_type": "code",
   "execution_count": 6,
   "metadata": {},
   "outputs": [],
   "source": [
    "env=make_env(cfg)"
   ]
  },
  {
   "cell_type": "code",
   "execution_count": 7,
   "metadata": {},
   "outputs": [
    {
     "data": {
      "text/plain": [
       "tensor([-0.0481,  0.1278,  0.0000,  0.0000])"
      ]
     },
     "execution_count": 7,
     "metadata": {},
     "output_type": "execute_result"
    }
   ],
   "source": [
    "env.reset()"
   ]
  },
  {
   "cell_type": "code",
   "execution_count": 9,
   "metadata": {},
   "outputs": [
    {
     "data": {
      "text/plain": [
       "<dm_control.suite.point_mass.PointMass at 0x21e5fc26460>"
      ]
     },
     "execution_count": 9,
     "metadata": {},
     "output_type": "execute_result"
    }
   ],
   "source": [
    "env.unwrapped.task"
   ]
  },
  {
   "cell_type": "code",
   "execution_count": 10,
   "metadata": {},
   "outputs": [
    {
     "name": "stderr",
     "output_type": "stream",
     "text": [
      "c:\\Users\\MSI\\anaconda3\\envs\\tdmpc2\\lib\\site-packages\\torch\\_functorch\\deprecated.py:108: UserWarning: We've integrated functorch into PyTorch. As the final step of the integration, functorch.combine_state_for_ensemble is deprecated as of PyTorch 2.0 and will be deleted in a future version of PyTorch >= 2.3. Please use torch.func.stack_module_state instead; see the PyTorch 2.0 release notes and/or the torch.func migration guide for more details https://pytorch.org/docs/master/func.migrating.html\n",
      "  warn_deprecated('combine_state_for_ensemble', 'torch.func.stack_module_state')\n"
     ]
    }
   ],
   "source": [
    "model = WorldModel(cfg)"
   ]
  },
  {
   "cell_type": "code",
   "execution_count": 11,
   "metadata": {},
   "outputs": [
    {
     "data": {
      "text/plain": [
       "tensor([ 0.0000,  0.0000,  0.0000,  0.0000, -7.8240, -7.8240, -7.8240, -7.8240],\n",
       "       grad_fn=<ViewBackward0>)"
      ]
     },
     "execution_count": 11,
     "metadata": {},
     "output_type": "execute_result"
    }
   ],
   "source": [
    "# prediction for center point\n",
    "model._ctrl_dynamics(torch.zeros(6))"
   ]
  },
  {
   "cell_type": "markdown",
   "metadata": {},
   "source": [
    "load trained model"
   ]
  },
  {
   "cell_type": "code",
   "execution_count": 285,
   "metadata": {},
   "outputs": [
    {
     "name": "stdout",
     "output_type": "stream",
     "text": [
      "---------------------------------------\n",
      "  \u001b[1m\u001b[32mTask:          \u001b[0m Pointmass Easy\n",
      "  \u001b[1m\u001b[32mSteps:         \u001b[0m 50,000\n",
      "  \u001b[1m\u001b[32mObservations:  \u001b[0m 4\n",
      "  \u001b[1m\u001b[32mActions:       \u001b[0m 2\n",
      "  \u001b[1m\u001b[32mExperiment:    \u001b[0m default\n",
      "---------------------------------------\n"
     ]
    },
    {
     "data": {
      "application/vnd.jupyter.widget-view+json": {
       "model_id": "82cd77add80a4d03bd267387d5b6c0b7",
       "version_major": 2,
       "version_minor": 0
      },
      "text/plain": [
       "VBox(children=(Label(value='Waiting for wandb.init()...\\r'), FloatProgress(value=0.011288888888278356, max=1.0…"
      ]
     },
     "metadata": {},
     "output_type": "display_data"
    }
   ],
   "source": [
    "logger = Logger(cfg)"
   ]
  },
  {
   "cell_type": "code",
   "execution_count": 284,
   "metadata": {},
   "outputs": [
    {
     "ename": "AttributeError",
     "evalue": "'NoneType' object has no attribute 'use_artifact'",
     "output_type": "error",
     "traceback": [
      "\u001b[1;31m---------------------------------------------------------------------------\u001b[0m",
      "\u001b[1;31mAttributeError\u001b[0m                            Traceback (most recent call last)",
      "Cell \u001b[1;32mIn[284], line 1\u001b[0m\n\u001b[1;32m----> 1\u001b[0m artifact \u001b[38;5;241m=\u001b[39m \u001b[43mtrainer\u001b[49m\u001b[38;5;241;43m.\u001b[39;49m\u001b[43mlogger\u001b[49m\u001b[38;5;241;43m.\u001b[39;49m\u001b[43m_wandb\u001b[49m\u001b[38;5;241;43m.\u001b[39;49m\u001b[43mrun\u001b[49m\u001b[38;5;241;43m.\u001b[39;49m\u001b[43muse_artifact\u001b[49m(cfg\u001b[38;5;241m.\u001b[39mcheckpoint_wandb, \u001b[38;5;28mtype\u001b[39m\u001b[38;5;241m=\u001b[39m\u001b[38;5;124m'\u001b[39m\u001b[38;5;124mmodel\u001b[39m\u001b[38;5;124m'\u001b[39m)\n\u001b[0;32m      2\u001b[0m artifact_dir \u001b[38;5;241m=\u001b[39m artifact\u001b[38;5;241m.\u001b[39mdownload()\n\u001b[0;32m      3\u001b[0m artifact_path \u001b[38;5;241m=\u001b[39m artifact_dir \u001b[38;5;241m+\u001b[39m \u001b[38;5;124mf\u001b[39m\u001b[38;5;124m'\u001b[39m\u001b[38;5;124m/\u001b[39m\u001b[38;5;132;01m{\u001b[39;00mcfg\u001b[38;5;241m.\u001b[39mcheckpoint_filename\u001b[38;5;132;01m}\u001b[39;00m\u001b[38;5;124m'\u001b[39m\n",
      "\u001b[1;31mAttributeError\u001b[0m: 'NoneType' object has no attribute 'use_artifact'"
     ]
    }
   ],
   "source": [
    "artifact = logger._wandb.run.use_artifact(cfg.checkpoint_wandb, type='model')\n",
    "artifact_dir = artifact.download()\n",
    "artifact_path = artifact_dir + f'/{cfg.checkpoint_filename}'\n",
    "agent=TDMPC2(cfg)\n",
    "agent.load(artifact_path)"
   ]
  },
  {
   "cell_type": "markdown",
   "metadata": {},
   "source": [
    "check episodes"
   ]
  },
  {
   "cell_type": "code",
   "execution_count": 52,
   "metadata": {},
   "outputs": [],
   "source": [
    "# filename = 'cstein06/control/run-wo7h6e2t-log_episodes.npy:v0'\n",
    "# filename = 'cstein06/control/run-05xxvaqd-log_episodes.npy:v20'\n",
    "# filename = 'cstein06/control/run-9id0lp8y-log_episodes.npy:v7'\n",
    "filename = 'cstein06/control/run-k7egyjkl-log_episodes.npy:v69'"
   ]
  },
  {
   "cell_type": "code",
   "execution_count": 53,
   "metadata": {},
   "outputs": [
    {
     "name": "stderr",
     "output_type": "stream",
     "text": [
      "\u001b[34m\u001b[1mwandb\u001b[0m:   1 of 1 files downloaded.  \n"
     ]
    }
   ],
   "source": [
    "artifact = trainer.logger._wandb.run.use_artifact(filename, type='unspecified')\n",
    "artifact_path = artifact.download()"
   ]
  },
  {
   "cell_type": "code",
   "execution_count": 54,
   "metadata": {},
   "outputs": [],
   "source": [
    "epis = torch.load(artifact_path + \"\\\\log_episodes.npy\")"
   ]
  },
  {
   "cell_type": "code",
   "execution_count": 55,
   "metadata": {},
   "outputs": [
    {
     "data": {
      "text/plain": [
       "3"
      ]
     },
     "execution_count": 55,
     "metadata": {},
     "output_type": "execute_result"
    }
   ],
   "source": [
    "len(epis)"
   ]
  },
  {
   "cell_type": "code",
   "execution_count": 56,
   "metadata": {},
   "outputs": [
    {
     "data": {
      "text/plain": [
       "[<matplotlib.lines.Line2D at 0x17204163160>,\n",
       " <matplotlib.lines.Line2D at 0x1723002e700>]"
      ]
     },
     "execution_count": 56,
     "metadata": {},
     "output_type": "execute_result"
    },
    {
     "data": {
      "image/png": "[encoded data removed]",
      "text/plain": [
       "<Figure size 640x480 with 1 Axes>"
      ]
     },
     "metadata": {},
     "output_type": "display_data"
    }
   ],
   "source": [
    "plt.plot(epis[0][\"action\"])"
   ]
  },
  {
   "cell_type": "code",
   "execution_count": 57,
   "metadata": {},
   "outputs": [
    {
     "data": {
      "text/plain": [
       "[<matplotlib.lines.Line2D at 0x17230011430>,\n",
       " <matplotlib.lines.Line2D at 0x1723022cd00>]"
      ]
     },
     "execution_count": 57,
     "metadata": {},
     "output_type": "execute_result"
    },
    {
     "data": {
      "image/png": "[encoded data removed]",
      "text/plain": [
       "<Figure size 640x480 with 1 Axes>"
      ]
     },
     "metadata": {},
     "output_type": "display_data"
    }
   ],
   "source": [
    "plt.plot(epis[2][\"action\"])"
   ]
  },
  {
   "cell_type": "code",
   "execution_count": 18,
   "metadata": {},
   "outputs": [
    {
     "data": {
      "text/plain": [
       "[<matplotlib.lines.Line2D at 0x2c8929f4520>]"
      ]
     },
     "execution_count": 18,
     "metadata": {},
     "output_type": "execute_result"
    },
    {
     "data": {
      "image/png": "[encoded data removed]",
      "text/plain": [
       "<Figure size 640x480 with 1 Axes>"
      ]
     },
     "metadata": {},
     "output_type": "display_data"
    }
   ],
   "source": [
    "plt.plot(epis[0][\"action\"].pow(2).sum(1))"
   ]
  },
  {
   "cell_type": "code",
   "execution_count": 21,
   "metadata": {},
   "outputs": [
    {
     "data": {
      "text/html": [
       "Finishing last run (ID:iuohs7ok) before initializing another..."
      ],
      "text/plain": [
       "<IPython.core.display.HTML object>"
      ]
     },
     "metadata": {},
     "output_type": "display_data"
    },
    {
     "data": {
      "application/vnd.jupyter.widget-view+json": {
       "model_id": "4bea5f3fb1d2473aafdf55fce8464651",
       "version_major": 2,
       "version_minor": 0
      },
      "text/plain": [
       "VBox(children=(Label(value='0.001 MB of 0.001 MB uploaded\\r'), FloatProgress(value=1.0, max=1.0)))"
      ]
     },
     "metadata": {},
     "output_type": "display_data"
    },
    {
     "data": {
      "text/html": [
       " View run <strong style=\"color:#cdcd00\">swift-bee-325</strong> at: <a href='https://wandb.ai/cstein06/control/runs/iuohs7ok' target=\"_blank\">https://wandb.ai/cstein06/control/runs/iuohs7ok</a><br/>Synced 5 W&B file(s), 0 media file(s), 0 artifact file(s) and 0 other file(s)"
      ],
      "text/plain": [
       "<IPython.core.display.HTML object>"
      ]
     },
     "metadata": {},
     "output_type": "display_data"
    },
    {
     "data": {
      "text/html": [
       "Find logs at: <code>.\\logs\\pointmass-easy\\1\\default\\wandb\\run-20240618_164913-iuohs7ok\\logs</code>"
      ],
      "text/plain": [
       "<IPython.core.display.HTML object>"
      ]
     },
     "metadata": {},
     "output_type": "display_data"
    },
    {
     "data": {
      "text/html": [
       "Successfully finished last run (ID:iuohs7ok). Initializing new run:<br/>"
      ],
      "text/plain": [
       "<IPython.core.display.HTML object>"
      ]
     },
     "metadata": {},
     "output_type": "display_data"
    },
    {
     "data": {
      "application/vnd.jupyter.widget-view+json": {
       "model_id": "060f3caf291640228690e6ca8ed3f507",
       "version_major": 2,
       "version_minor": 0
      },
      "text/plain": [
       "VBox(children=(Label(value='Waiting for wandb.init()...\\r'), FloatProgress(value=0.011288888888278356, max=1.0…"
      ]
     },
     "metadata": {},
     "output_type": "display_data"
    },
    {
     "data": {
      "text/html": [
       "wandb version 0.17.2 is available!  To upgrade, please run:\n",
       " $ pip install wandb --upgrade"
      ],
      "text/plain": [
       "<IPython.core.display.HTML object>"
      ]
     },
     "metadata": {},
     "output_type": "display_data"
    },
    {
     "data": {
      "text/html": [
       "Tracking run with wandb version 0.16.0"
      ],
      "text/plain": [
       "<IPython.core.display.HTML object>"
      ]
     },
     "metadata": {},
     "output_type": "display_data"
    },
    {
     "data": {
      "text/html": [
       "Run data is saved locally in <code>g:\\My Drive\\work\\projects\\cerebellum\\code\\tdmpc2\\tdmpc2\\wandb\\run-20240618_164959-gjsu0ukk</code>"
      ],
      "text/plain": [
       "<IPython.core.display.HTML object>"
      ]
     },
     "metadata": {},
     "output_type": "display_data"
    },
    {
     "data": {
      "text/html": [
       "Syncing run <strong><a href='https://wandb.ai/cstein06/tdmpc2/runs/gjsu0ukk' target=\"_blank\">vague-gorge-1</a></strong> to <a href='https://wandb.ai/cstein06/tdmpc2' target=\"_blank\">Weights & Biases</a> (<a href='https://wandb.me/run' target=\"_blank\">docs</a>)<br/>"
      ],
      "text/plain": [
       "<IPython.core.display.HTML object>"
      ]
     },
     "metadata": {},
     "output_type": "display_data"
    },
    {
     "data": {
      "text/html": [
       " View project at <a href='https://wandb.ai/cstein06/tdmpc2' target=\"_blank\">https://wandb.ai/cstein06/tdmpc2</a>"
      ],
      "text/plain": [
       "<IPython.core.display.HTML object>"
      ]
     },
     "metadata": {},
     "output_type": "display_data"
    },
    {
     "data": {
      "text/html": [
       " View run at <a href='https://wandb.ai/cstein06/tdmpc2/runs/gjsu0ukk' target=\"_blank\">https://wandb.ai/cstein06/tdmpc2/runs/gjsu0ukk</a>"
      ],
      "text/plain": [
       "<IPython.core.display.HTML object>"
      ]
     },
     "metadata": {},
     "output_type": "display_data"
    },
    {
     "name": "stderr",
     "output_type": "stream",
     "text": [
      "\u001b[34m\u001b[1mwandb\u001b[0m:   1 of 1 files downloaded.  \n"
     ]
    }
   ],
   "source": [
    "run = wandb.init()\n",
    "artifact = run.use_artifact('cstein06/control/run-er1in7ls-log_episodes.npy:v1', type='unspecified')\n",
    "artifact_path = artifact.download()"
   ]
  },
  {
   "cell_type": "code",
   "execution_count": 22,
   "metadata": {},
   "outputs": [
    {
     "data": {
      "text/plain": [
       "'g:\\\\My Drive\\\\work\\\\projects\\\\cerebellum\\\\code\\\\tdmpc2\\\\tdmpc2\\\\artifacts\\\\run-er1in7ls-log_episodes.npy-v1'"
      ]
     },
     "execution_count": 22,
     "metadata": {},
     "output_type": "execute_result"
    }
   ],
   "source": [
    "artifact_path"
   ]
  },
  {
   "cell_type": "code",
   "execution_count": 20,
   "metadata": {},
   "outputs": [],
   "source": [
    "epfile = \"G:\\My Drive\\\\work\\\\projects\\\\cerebellum\\code\\\\tdmpc2\\\\tdmpc2\\\\outputs\\\\2024-06-18\\\\16-29-01\\\\logs\\\\pointmass-easy\\\\1\\\\default\\\\log_episodes.npy\""
   ]
  },
  {
   "cell_type": "code",
   "execution_count": 21,
   "metadata": {},
   "outputs": [],
   "source": [
    "ep = torch.load(epfile)"
   ]
  },
  {
   "cell_type": "code",
   "execution_count": 23,
   "metadata": {},
   "outputs": [
    {
     "data": {
      "text/plain": [
       "torch.Size([90])"
      ]
     },
     "execution_count": 23,
     "metadata": {},
     "output_type": "execute_result"
    }
   ],
   "source": [
    "ep[0].shape"
   ]
  },
  {
   "cell_type": "code",
   "execution_count": 26,
   "metadata": {},
   "outputs": [
    {
     "data": {
      "text/plain": [
       "tensor([[ 0.9962,  0.9930],\n",
       "        [ 0.9961,  0.9932],\n",
       "        [ 0.9960,  0.9933],\n",
       "        [ 0.9959,  0.9934],\n",
       "        [ 0.9958,  0.9934],\n",
       "        [ 0.9957,  0.9935],\n",
       "        [ 0.9957,  0.9935],\n",
       "        [ 0.9956,  0.9935],\n",
       "        [ 0.9955,  0.9935],\n",
       "        [ 0.9955,  0.9934],\n",
       "        [ 0.9954,  0.9934],\n",
       "        [ 0.9954,  0.9933],\n",
       "        [ 0.9954,  0.9933],\n",
       "        [ 0.9953,  0.9932],\n",
       "        [ 0.9953,  0.9931],\n",
       "        [ 0.9953,  0.9930],\n",
       "        [ 0.9953,  0.9929],\n",
       "        [ 0.9952,  0.9927],\n",
       "        [ 0.9952,  0.9926],\n",
       "        [ 0.9951,  0.9924],\n",
       "        [ 0.9951,  0.9923],\n",
       "        [ 0.9950,  0.9921],\n",
       "        [ 0.9950,  0.9919],\n",
       "        [ 0.9950,  0.9916],\n",
       "        [ 0.9949,  0.9914],\n",
       "        [ 0.9949,  0.9911],\n",
       "        [ 0.9949,  0.9907],\n",
       "        [ 0.9950,  0.9904],\n",
       "        [ 0.9950,  0.9900],\n",
       "        [ 0.9949,  0.9895],\n",
       "        [ 0.9949,  0.9889],\n",
       "        [ 0.9949,  0.9882],\n",
       "        [ 0.9949,  0.9874],\n",
       "        [ 0.9948,  0.9865],\n",
       "        [ 0.9948,  0.9854],\n",
       "        [ 0.9948,  0.9841],\n",
       "        [ 0.9947,  0.9825],\n",
       "        [ 0.9946,  0.9805],\n",
       "        [ 0.9945,  0.9781],\n",
       "        [ 0.9944,  0.9753],\n",
       "        [ 0.9943,  0.9715],\n",
       "        [ 0.9942,  0.9671],\n",
       "        [ 0.9940,  0.9609],\n",
       "        [ 0.9939,  0.9532],\n",
       "        [ 0.9937,  0.9425],\n",
       "        [ 0.9936,  0.9294],\n",
       "        [ 0.9935,  0.9140],\n",
       "        [ 0.9935,  0.8910],\n",
       "        [ 0.9935,  0.8641],\n",
       "        [ 0.9936,  0.8227],\n",
       "        [ 0.9938,  0.7631],\n",
       "        [ 0.9940,  0.6934],\n",
       "        [ 0.9943,  0.6149],\n",
       "        [ 0.9947,  0.5328],\n",
       "        [ 0.9950,  0.4333],\n",
       "        [ 0.9953,  0.3387],\n",
       "        [ 0.9955,  0.2607],\n",
       "        [ 0.9957,  0.2149],\n",
       "        [ 0.9959,  0.1822],\n",
       "        [ 0.9960,  0.1488],\n",
       "        [ 0.9961,  0.1424],\n",
       "        [ 0.9961,  0.1320],\n",
       "        [ 0.9961,  0.1241],\n",
       "        [ 0.9961,  0.1426],\n",
       "        [ 0.9961,  0.1389],\n",
       "        [ 0.9960,  0.1412],\n",
       "        [ 0.9959,  0.1399],\n",
       "        [ 0.9958,  0.1319],\n",
       "        [ 0.9957,  0.1270],\n",
       "        [ 0.9955,  0.1333],\n",
       "        [ 0.9953,  0.1265],\n",
       "        [ 0.9949,  0.1266],\n",
       "        [ 0.9945,  0.1246],\n",
       "        [ 0.9938,  0.1236],\n",
       "        [ 0.9928,  0.0889],\n",
       "        [ 0.9915,  0.0926],\n",
       "        [ 0.9896,  0.0762],\n",
       "        [ 0.9868,  0.0606],\n",
       "        [ 0.9828,  0.0585],\n",
       "        [ 0.9773,  0.0623],\n",
       "        [ 0.9707,  0.0379],\n",
       "        [ 0.9634,  0.0367],\n",
       "        [ 0.9549,  0.0341],\n",
       "        [ 0.9479,  0.0196],\n",
       "        [ 0.9360,  0.0159],\n",
       "        [ 0.9249, -0.0056],\n",
       "        [ 0.8995, -0.0275],\n",
       "        [ 0.8725, -0.0688],\n",
       "        [ 0.8269, -0.1098],\n",
       "        [ 0.7205, -0.1695]])"
      ]
     },
     "execution_count": 26,
     "metadata": {},
     "output_type": "execute_result"
    }
   ],
   "source": [
    "ep[0][\"action\"]"
   ]
  },
  {
   "cell_type": "code",
   "execution_count": 26,
   "metadata": {},
   "outputs": [],
   "source": [
    "log_episodes = torch.load(artifact_path + \"\\\\log_episodes.npy\")"
   ]
  },
  {
   "cell_type": "code",
   "execution_count": 32,
   "metadata": {},
   "outputs": [
    {
     "data": {
      "text/plain": [
       "3"
      ]
     },
     "execution_count": 32,
     "metadata": {},
     "output_type": "execute_result"
    }
   ],
   "source": [
    "len(log_episodes)"
   ]
  },
  {
   "cell_type": "code",
   "execution_count": 31,
   "metadata": {},
   "outputs": [
    {
     "data": {
      "text/plain": [
       "torch.Size([90])"
      ]
     },
     "execution_count": 31,
     "metadata": {},
     "output_type": "execute_result"
    }
   ],
   "source": [
    "log_episodes[0].shape"
   ]
  },
  {
   "cell_type": "code",
   "execution_count": 33,
   "metadata": {},
   "outputs": [
    {
     "data": {
      "text/plain": [
       "tensor([[ 0.9962,  0.9930],\n",
       "        [ 0.9961,  0.9932],\n",
       "        [ 0.9960,  0.9933],\n",
       "        [ 0.9959,  0.9934],\n",
       "        [ 0.9958,  0.9934],\n",
       "        [ 0.9957,  0.9935],\n",
       "        [ 0.9957,  0.9935],\n",
       "        [ 0.9956,  0.9935],\n",
       "        [ 0.9955,  0.9935],\n",
       "        [ 0.9955,  0.9934],\n",
       "        [ 0.9954,  0.9934],\n",
       "        [ 0.9954,  0.9933],\n",
       "        [ 0.9954,  0.9933],\n",
       "        [ 0.9953,  0.9932],\n",
       "        [ 0.9953,  0.9931],\n",
       "        [ 0.9953,  0.9930],\n",
       "        [ 0.9953,  0.9929],\n",
       "        [ 0.9952,  0.9927],\n",
       "        [ 0.9952,  0.9926],\n",
       "        [ 0.9951,  0.9924],\n",
       "        [ 0.9951,  0.9923],\n",
       "        [ 0.9950,  0.9921],\n",
       "        [ 0.9950,  0.9919],\n",
       "        [ 0.9950,  0.9916],\n",
       "        [ 0.9949,  0.9914],\n",
       "        [ 0.9949,  0.9911],\n",
       "        [ 0.9949,  0.9907],\n",
       "        [ 0.9950,  0.9904],\n",
       "        [ 0.9950,  0.9900],\n",
       "        [ 0.9949,  0.9895],\n",
       "        [ 0.9949,  0.9889],\n",
       "        [ 0.9949,  0.9882],\n",
       "        [ 0.9949,  0.9874],\n",
       "        [ 0.9948,  0.9865],\n",
       "        [ 0.9948,  0.9854],\n",
       "        [ 0.9948,  0.9841],\n",
       "        [ 0.9947,  0.9825],\n",
       "        [ 0.9946,  0.9805],\n",
       "        [ 0.9945,  0.9781],\n",
       "        [ 0.9944,  0.9753],\n",
       "        [ 0.9943,  0.9715],\n",
       "        [ 0.9942,  0.9671],\n",
       "        [ 0.9940,  0.9609],\n",
       "        [ 0.9939,  0.9532],\n",
       "        [ 0.9937,  0.9425],\n",
       "        [ 0.9936,  0.9294],\n",
       "        [ 0.9935,  0.9140],\n",
       "        [ 0.9935,  0.8910],\n",
       "        [ 0.9935,  0.8641],\n",
       "        [ 0.9936,  0.8227],\n",
       "        [ 0.9938,  0.7631],\n",
       "        [ 0.9940,  0.6934],\n",
       "        [ 0.9943,  0.6149],\n",
       "        [ 0.9947,  0.5328],\n",
       "        [ 0.9950,  0.4333],\n",
       "        [ 0.9953,  0.3387],\n",
       "        [ 0.9955,  0.2607],\n",
       "        [ 0.9957,  0.2149],\n",
       "        [ 0.9959,  0.1822],\n",
       "        [ 0.9960,  0.1488],\n",
       "        [ 0.9961,  0.1424],\n",
       "        [ 0.9961,  0.1320],\n",
       "        [ 0.9961,  0.1241],\n",
       "        [ 0.9961,  0.1426],\n",
       "        [ 0.9961,  0.1389],\n",
       "        [ 0.9960,  0.1412],\n",
       "        [ 0.9959,  0.1399],\n",
       "        [ 0.9958,  0.1319],\n",
       "        [ 0.9957,  0.1270],\n",
       "        [ 0.9955,  0.1333],\n",
       "        [ 0.9953,  0.1265],\n",
       "        [ 0.9949,  0.1266],\n",
       "        [ 0.9945,  0.1246],\n",
       "        [ 0.9938,  0.1236],\n",
       "        [ 0.9928,  0.0889],\n",
       "        [ 0.9915,  0.0926],\n",
       "        [ 0.9896,  0.0762],\n",
       "        [ 0.9868,  0.0606],\n",
       "        [ 0.9828,  0.0585],\n",
       "        [ 0.9773,  0.0623],\n",
       "        [ 0.9707,  0.0379],\n",
       "        [ 0.9634,  0.0367],\n",
       "        [ 0.9549,  0.0341],\n",
       "        [ 0.9479,  0.0196],\n",
       "        [ 0.9360,  0.0159],\n",
       "        [ 0.9249, -0.0056],\n",
       "        [ 0.8995, -0.0275],\n",
       "        [ 0.8725, -0.0688],\n",
       "        [ 0.8269, -0.1098],\n",
       "        [ 0.7205, -0.1695]])"
      ]
     },
     "execution_count": 33,
     "metadata": {},
     "output_type": "execute_result"
    }
   ],
   "source": [
    "log_episodes[0][\"action\"]"
   ]
  },
  {
   "cell_type": "code",
   "execution_count": 28,
   "metadata": {},
   "outputs": [
    {
     "data": {
      "text/plain": [
       "TensorDict(\n",
       "    fields={\n",
       "        action: Tensor(shape=torch.Size([2]), device=cpu, dtype=torch.float32, is_shared=False),\n",
       "        action_ctrl: Tensor(shape=torch.Size([2]), device=cpu, dtype=torch.float32, is_shared=False),\n",
       "        action_eff: Tensor(shape=torch.Size([2]), device=cpu, dtype=torch.float32, is_shared=False),\n",
       "        action_total: Tensor(shape=torch.Size([2]), device=cpu, dtype=torch.float32, is_shared=False),\n",
       "        obs: Tensor(shape=torch.Size([4]), device=cpu, dtype=torch.float32, is_shared=False),\n",
       "        reward: Tensor(shape=torch.Size([]), device=cpu, dtype=torch.float32, is_shared=False)},\n",
       "    batch_size=torch.Size([]),\n",
       "    device=None,\n",
       "    is_shared=False)"
      ]
     },
     "execution_count": 28,
     "metadata": {},
     "output_type": "execute_result"
    }
   ],
   "source": [
    "log_episodes[0][50]"
   ]
  },
  {
   "cell_type": "code",
   "execution_count": 30,
   "metadata": {},
   "outputs": [
    {
     "ename": "IndexError",
     "evalue": "too many indices for tensor of dimension 1",
     "output_type": "error",
     "traceback": [
      "\u001b[1;31m---------------------------------------------------------------------------\u001b[0m",
      "\u001b[1;31mIndexError\u001b[0m                                Traceback (most recent call last)",
      "Cell \u001b[1;32mIn[30], line 1\u001b[0m\n\u001b[1;32m----> 1\u001b[0m plt\u001b[38;5;241m.\u001b[39mplot(\u001b[43mlog_episodes\u001b[49m\u001b[43m[\u001b[49m\u001b[38;5;241;43m0\u001b[39;49m\u001b[43m]\u001b[49m\u001b[43m[\u001b[49m\u001b[43m:\u001b[49m\u001b[38;5;241;43m100\u001b[39;49m\u001b[43m,\u001b[49m\u001b[38;5;241;43m0\u001b[39;49m\u001b[43m]\u001b[49m);\n\u001b[0;32m      2\u001b[0m plt\u001b[38;5;241m.\u001b[39mplot(log_episodes[\u001b[38;5;241m0\u001b[39m][:\u001b[38;5;241m100\u001b[39m,\u001b[38;5;241m2\u001b[39m]);\n\u001b[0;32m      3\u001b[0m plt\u001b[38;5;241m.\u001b[39mplot(log_episodes[\u001b[38;5;241m0\u001b[39m][:\u001b[38;5;241m100\u001b[39m,\u001b[38;5;241m4\u001b[39m]);\n",
      "File \u001b[1;32mc:\\Users\\MSI\\anaconda3\\envs\\tdmpc2\\lib\\site-packages\\tensordict\\base.py:231\u001b[0m, in \u001b[0;36mTensorDictBase.__getitem__\u001b[1;34m(self, index)\u001b[0m\n\u001b[0;32m    228\u001b[0m \u001b[38;5;28;01mif\u001b[39;00m \u001b[38;5;28mall\u001b[39m(\u001b[38;5;28misinstance\u001b[39m(idx, \u001b[38;5;28mslice\u001b[39m) \u001b[38;5;129;01mand\u001b[39;00m idx \u001b[38;5;241m==\u001b[39m \u001b[38;5;28mslice\u001b[39m(\u001b[38;5;28;01mNone\u001b[39;00m) \u001b[38;5;28;01mfor\u001b[39;00m idx \u001b[38;5;129;01min\u001b[39;00m index):\n\u001b[0;32m    229\u001b[0m     \u001b[38;5;28;01mreturn\u001b[39;00m \u001b[38;5;28mself\u001b[39m\n\u001b[1;32m--> 231\u001b[0m \u001b[38;5;28;01mreturn\u001b[39;00m \u001b[38;5;28;43mself\u001b[39;49m\u001b[38;5;241;43m.\u001b[39;49m\u001b[43m_index_tensordict\u001b[49m\u001b[43m(\u001b[49m\u001b[43mindex\u001b[49m\u001b[43m)\u001b[49m\n",
      "File \u001b[1;32mc:\\Users\\MSI\\anaconda3\\envs\\tdmpc2\\lib\\site-packages\\tensordict\\_td.py:644\u001b[0m, in \u001b[0;36mTensorDict._index_tensordict\u001b[1;34m(self, index, new_batch_size, names)\u001b[0m\n\u001b[0;32m    640\u001b[0m         source[key] \u001b[38;5;241m=\u001b[39m item\u001b[38;5;241m.\u001b[39m_index_tensordict(\n\u001b[0;32m    641\u001b[0m             index, new_batch_size\u001b[38;5;241m=\u001b[39mnew_batch_size\n\u001b[0;32m    642\u001b[0m         )\n\u001b[0;32m    643\u001b[0m     \u001b[38;5;28;01melse\u001b[39;00m:\n\u001b[1;32m--> 644\u001b[0m         source[key] \u001b[38;5;241m=\u001b[39m \u001b[43m_get_item\u001b[49m\u001b[43m(\u001b[49m\u001b[43mitem\u001b[49m\u001b[43m,\u001b[49m\u001b[43m \u001b[49m\u001b[43mindex\u001b[49m\u001b[43m)\u001b[49m\n\u001b[0;32m    645\u001b[0m \u001b[38;5;28;01mreturn\u001b[39;00m TensorDict(\n\u001b[0;32m    646\u001b[0m     source\u001b[38;5;241m=\u001b[39msource,\n\u001b[0;32m    647\u001b[0m     batch_size\u001b[38;5;241m=\u001b[39mbatch_size,\n\u001b[1;32m   (...)\u001b[0m\n\u001b[0;32m    652\u001b[0m     _is_memmap\u001b[38;5;241m=\u001b[39m\u001b[38;5;28mself\u001b[39m\u001b[38;5;241m.\u001b[39mis_memmap(),\n\u001b[0;32m    653\u001b[0m )\n",
      "File \u001b[1;32mc:\\Users\\MSI\\anaconda3\\envs\\tdmpc2\\lib\\site-packages\\tensordict\\utils.py:631\u001b[0m, in \u001b[0;36m_get_item\u001b[1;34m(tensor, index)\u001b[0m\n\u001b[0;32m    624\u001b[0m                 warnings\u001b[38;5;241m.\u001b[39mwarn(\n\u001b[0;32m    625\u001b[0m                     \u001b[38;5;124m\"\u001b[39m\u001b[38;5;124mIndexing a tensor with a nested list of boolean values is \u001b[39m\u001b[38;5;124m\"\u001b[39m\n\u001b[0;32m    626\u001b[0m                     \u001b[38;5;124m\"\u001b[39m\u001b[38;5;124mgoing to be deprecated as this functionality is not supported \u001b[39m\u001b[38;5;124m\"\u001b[39m\n\u001b[0;32m    627\u001b[0m                     \u001b[38;5;124mf\u001b[39m\u001b[38;5;124m\"\u001b[39m\u001b[38;5;124mby PyTorch. (follows error: \u001b[39m\u001b[38;5;132;01m{\u001b[39;00merr\u001b[38;5;132;01m}\u001b[39;00m\u001b[38;5;124m)\u001b[39m\u001b[38;5;124m\"\u001b[39m,\n\u001b[0;32m    628\u001b[0m                     category\u001b[38;5;241m=\u001b[39m\u001b[38;5;167;01mDeprecationWarning\u001b[39;00m,\n\u001b[0;32m    629\u001b[0m                 )\n\u001b[0;32m    630\u001b[0m             \u001b[38;5;28;01mreturn\u001b[39;00m tensor[index]\n\u001b[1;32m--> 631\u001b[0m         \u001b[38;5;28;01mraise\u001b[39;00m err\n\u001b[0;32m    632\u001b[0m \u001b[38;5;28;01melif\u001b[39;00m \u001b[38;5;28misinstance\u001b[39m(tensor, KeyedJaggedTensor):\n\u001b[0;32m    633\u001b[0m     \u001b[38;5;28;01mreturn\u001b[39;00m index_keyedjaggedtensor(tensor, index)\n",
      "File \u001b[1;32mc:\\Users\\MSI\\anaconda3\\envs\\tdmpc2\\lib\\site-packages\\tensordict\\utils.py:617\u001b[0m, in \u001b[0;36m_get_item\u001b[1;34m(tensor, index)\u001b[0m\n\u001b[0;32m    615\u001b[0m \u001b[38;5;28;01mif\u001b[39;00m \u001b[38;5;28misinstance\u001b[39m(tensor, Tensor):\n\u001b[0;32m    616\u001b[0m     \u001b[38;5;28;01mtry\u001b[39;00m:\n\u001b[1;32m--> 617\u001b[0m         \u001b[38;5;28;01mreturn\u001b[39;00m \u001b[43mtensor\u001b[49m\u001b[43m[\u001b[49m\u001b[43mindex\u001b[49m\u001b[43m]\u001b[49m\n\u001b[0;32m    618\u001b[0m     \u001b[38;5;28;01mexcept\u001b[39;00m \u001b[38;5;167;01mIndexError\u001b[39;00m \u001b[38;5;28;01mas\u001b[39;00m err:\n\u001b[0;32m    619\u001b[0m         \u001b[38;5;66;03m# try to map list index to tensor, and assess type. If bool, we\u001b[39;00m\n\u001b[0;32m    620\u001b[0m         \u001b[38;5;66;03m# likely have a nested list of booleans which is not supported by pytorch\u001b[39;00m\n\u001b[0;32m    621\u001b[0m         \u001b[38;5;28;01mif\u001b[39;00m _is_lis_of_list_of_bools(index):\n",
      "\u001b[1;31mIndexError\u001b[0m: too many indices for tensor of dimension 1"
     ]
    }
   ],
   "source": [
    "plt.plot(log_episodes[0][:100,0]);\n",
    "plt.plot(log_episodes[0][:100,2]);\n",
    "plt.plot(log_episodes[0][:100,4]);\n",
    "plt.grid();"
   ]
  },
  {
   "cell_type": "code",
   "execution_count": 53,
   "metadata": {},
   "outputs": [
    {
     "data": {
      "image/png": "[encoded data removed]",
      "text/plain": [
       "<Figure size 640x480 with 1 Axes>"
      ]
     },
     "metadata": {},
     "output_type": "display_data"
    }
   ],
   "source": [
    "plt.plot(log_episodes[0,:,6]);"
   ]
  },
  {
   "cell_type": "code",
   "execution_count": 21,
   "metadata": {},
   "outputs": [
    {
     "data": {
      "text/plain": [
       "tensor([ 9.3161e-03,  2.7370e-03,  3.9348e-02,  3.1717e-02, -1.0206e+01,\n",
       "        -1.0283e+01, -8.5235e+00, -8.5565e+00], device='cuda:0',\n",
       "       grad_fn=<ViewBackward0>)"
      ]
     },
     "execution_count": 21,
     "metadata": {},
     "output_type": "execute_result"
    }
   ],
   "source": [
    "agent.model._ctrl_dynamics(torch.zeros(6).to(agent.device))"
   ]
  },
  {
   "cell_type": "code",
   "execution_count": 23,
   "metadata": {},
   "outputs": [
    {
     "data": {
      "text/plain": [
       "tensor([ 9.3161e-03,  2.7370e-03,  3.9348e-02,  3.1717e-02, -1.0206e+01,\n",
       "        -1.0283e+01, -8.5235e+00, -8.5565e+00], device='cuda:0',\n",
       "       grad_fn=<ViewBackward0>)"
      ]
     },
     "execution_count": 23,
     "metadata": {},
     "output_type": "execute_result"
    }
   ],
   "source": [
    "agent.model._ctrl_dynamics(torch.tensor([0.e-2, 0.e-2, 0., 0., 0., 0.]).to(agent.device))"
   ]
  },
  {
   "cell_type": "code",
   "execution_count": 54,
   "metadata": {},
   "outputs": [
    {
     "data": {
      "text/plain": [
       "tensor([  0.0547,   0.0435,  -0.0742,  -0.0891, -10.0827,  -9.9151,  -8.0687,\n",
       "         -7.8373], device='cuda:0', grad_fn=<ViewBackward0>)"
      ]
     },
     "execution_count": 54,
     "metadata": {},
     "output_type": "execute_result"
    }
   ],
   "source": [
    "agent.model._ctrl_dynamics(torch.tensor([0., 0., 0.1, 0.1, 0., 0.]).to(agent.device))"
   ]
  },
  {
   "cell_type": "code",
   "execution_count": 55,
   "metadata": {},
   "outputs": [
    {
     "data": {
      "text/plain": [
       "tensor([ 0.0499,  0.0456, -0.0250, -0.0183, -9.3278, -9.2448, -7.8511, -7.6764],\n",
       "       device='cuda:0', grad_fn=<ViewBackward0>)"
      ]
     },
     "execution_count": 55,
     "metadata": {},
     "output_type": "execute_result"
    }
   ],
   "source": [
    "agent.model._ctrl_dynamics(torch.tensor([0., 0., 0.1, 0.1, 1., 1.]).to(agent.device))"
   ]
  },
  {
   "cell_type": "code",
   "execution_count": 68,
   "metadata": {},
   "outputs": [
    {
     "data": {
      "text/plain": [
       "tensor([ 3.4092e-02,  3.0771e-02, -4.6946e-03,  2.2272e-03, -9.5211e+00,\n",
       "        -9.5025e+00, -8.0169e+00, -7.9284e+00], device='cuda:0',\n",
       "       grad_fn=<ViewBackward0>)"
      ]
     },
     "execution_count": 68,
     "metadata": {},
     "output_type": "execute_result"
    }
   ],
   "source": [
    "agent.model._ctrl_dynamics(torch.tensor([0., 0., 0.05, 0.05, 0.9, 0.9]).to(agent.device))"
   ]
  },
  {
   "cell_type": "code",
   "execution_count": 73,
   "metadata": {},
   "outputs": [
    {
     "data": {
      "text/plain": [
       "(array([0.03411071, 0.03120993, 0.04710774, 0.05492379], dtype=float32),\n",
       " array([7.514895e-05, 7.569467e-05, 3.353868e-04, 3.657715e-04],\n",
       "       dtype=float32))"
      ]
     },
     "execution_count": 73,
     "metadata": {},
     "output_type": "execute_result"
    }
   ],
   "source": [
    "agent.control_predict(torch.tensor([0., 0., 0.05, 0.05]).to(agent.device), torch.tensor([1., 1.]).to(agent.device))"
   ]
  },
  {
   "cell_type": "code",
   "execution_count": 10,
   "metadata": {},
   "outputs": [],
   "source": [
    "agent=TDMPC2(cfg)"
   ]
  },
  {
   "cell_type": "code",
   "execution_count": 11,
   "metadata": {},
   "outputs": [
    {
     "data": {
      "text/plain": [
       "(array([0.99992454, 0.99848807, 0.99981457, 0.9996759 ], dtype=float32),\n",
       " array([0.00039971, 0.00040037, 0.00040003, 0.00039937], dtype=float32))"
      ]
     },
     "execution_count": 11,
     "metadata": {},
     "output_type": "execute_result"
    }
   ],
   "source": [
    "agent.control_predict(torch.ones(4), torch.zeros(2))"
   ]
  },
  {
   "cell_type": "code",
   "execution_count": 12,
   "metadata": {},
   "outputs": [
    {
     "data": {
      "text/plain": [
       "Parameter containing:\n",
       "tensor([ 0.0000,  0.0000,  0.0000,  0.0000, -7.8240, -7.8240, -7.8240, -7.8240],\n",
       "       requires_grad=True)"
      ]
     },
     "execution_count": 12,
     "metadata": {},
     "output_type": "execute_result"
    }
   ],
   "source": [
    "model._ctrl_dynamics[-1].bias"
   ]
  },
  {
   "cell_type": "code",
   "execution_count": 13,
   "metadata": {},
   "outputs": [
    {
     "data": {
      "text/plain": [
       "<generator object Module.parameters at 0x000001BADE2F5CF0>"
      ]
     },
     "execution_count": 13,
     "metadata": {},
     "output_type": "execute_result"
    }
   ],
   "source": [
    "model._ctrl_dynamics[-1].parameters()"
   ]
  },
  {
   "cell_type": "code",
   "execution_count": 14,
   "metadata": {},
   "outputs": [
    {
     "data": {
      "text/plain": [
       "tensor([ 1.0434e-04,  6.4209e-06,  4.1754e-05, -1.0034e-04, -1.1945e-04,\n",
       "         3.1155e-05, -3.7919e-06,  7.8259e-05], grad_fn=<SelectBackward0>)"
      ]
     },
     "execution_count": 14,
     "metadata": {},
     "output_type": "execute_result"
    }
   ],
   "source": [
    "model._ctrl_dynamics[-1].weight[:,0]"
   ]
  },
  {
   "cell_type": "code",
   "execution_count": 34,
   "metadata": {},
   "outputs": [
    {
     "data": {
      "text/plain": [
       "omegaconf.listconfig.ListConfig"
      ]
     },
     "execution_count": 34,
     "metadata": {},
     "output_type": "execute_result"
    }
   ],
   "source": [
    "type(cfg.obs_shape['state'])"
   ]
  },
  {
   "cell_type": "code",
   "execution_count": 35,
   "metadata": {},
   "outputs": [
    {
     "data": {
      "text/plain": [
       "2"
      ]
     },
     "execution_count": 35,
     "metadata": {},
     "output_type": "execute_result"
    }
   ],
   "source": [
    "cfg.action_dim"
   ]
  },
  {
   "cell_type": "markdown",
   "metadata": {},
   "source": [
    "trainer"
   ]
  },
  {
   "cell_type": "code",
   "execution_count": 8,
   "metadata": {},
   "outputs": [
    {
     "name": "stderr",
     "output_type": "stream",
     "text": [
      "c:\\Users\\MSI\\anaconda3\\envs\\tdmpc2\\lib\\site-packages\\torch\\_functorch\\deprecated.py:108: UserWarning: We've integrated functorch into PyTorch. As the final step of the integration, functorch.combine_state_for_ensemble is deprecated as of PyTorch 2.0 and will be deleted in a future version of PyTorch >= 2.3. Please use torch.func.stack_module_state instead; see the PyTorch 2.0 release notes and/or the torch.func migration guide for more details https://pytorch.org/docs/master/func.migrating.html\n",
      "  warn_deprecated('combine_state_for_ensemble', 'torch.func.stack_module_state')\n",
      "ERROR:wandb.jupyter:Failed to detect the name of this notebook, you can set it manually with the WANDB_NOTEBOOK_NAME environment variable to enable code saving.\n"
     ]
    },
    {
     "name": "stdout",
     "output_type": "stream",
     "text": [
      "---------------------------------------\n",
      "  \u001b[1m\u001b[32mTask:          \u001b[0m Pointmass Easy\n",
      "  \u001b[1m\u001b[32mSteps:         \u001b[0m 50,000\n",
      "  \u001b[1m\u001b[32mObservations:  \u001b[0m 4\n",
      "  \u001b[1m\u001b[32mActions:       \u001b[0m 2\n",
      "  \u001b[1m\u001b[32mExperiment:    \u001b[0m default\n",
      "---------------------------------------\n"
     ]
    },
    {
     "name": "stderr",
     "output_type": "stream",
     "text": [
      "\u001b[34m\u001b[1mwandb\u001b[0m: Currently logged in as: \u001b[33mcstein06\u001b[0m. Use \u001b[1m`wandb login --relogin`\u001b[0m to force relogin\n"
     ]
    },
    {
     "data": {
      "text/html": [
       "wandb version 0.17.2 is available!  To upgrade, please run:\n",
       " $ pip install wandb --upgrade"
      ],
      "text/plain": [
       "<IPython.core.display.HTML object>"
      ]
     },
     "metadata": {},
     "output_type": "display_data"
    },
    {
     "data": {
      "text/html": [
       "Tracking run with wandb version 0.16.0"
      ],
      "text/plain": [
       "<IPython.core.display.HTML object>"
      ]
     },
     "metadata": {},
     "output_type": "display_data"
    },
    {
     "data": {
      "text/html": [
       "Run data is saved locally in <code>g:\\My Drive\\work\\projects\\cerebellum\\code\\tdmpc2\\tdmpc2\\logs\\pointmass-easy\\1\\default\\wandb\\run-20240620_175812-loh1impz</code>"
      ],
      "text/plain": [
       "<IPython.core.display.HTML object>"
      ]
     },
     "metadata": {},
     "output_type": "display_data"
    },
    {
     "data": {
      "text/html": [
       "Syncing run <strong><a href='https://wandb.ai/cstein06/control/runs/loh1impz' target=\"_blank\">wandering-glade-371</a></strong> to <a href='https://wandb.ai/cstein06/control' target=\"_blank\">Weights & Biases</a> (<a href='https://wandb.me/run' target=\"_blank\">docs</a>)<br/>"
      ],
      "text/plain": [
       "<IPython.core.display.HTML object>"
      ]
     },
     "metadata": {},
     "output_type": "display_data"
    },
    {
     "data": {
      "text/html": [
       " View project at <a href='https://wandb.ai/cstein06/control' target=\"_blank\">https://wandb.ai/cstein06/control</a>"
      ],
      "text/plain": [
       "<IPython.core.display.HTML object>"
      ]
     },
     "metadata": {},
     "output_type": "display_data"
    },
    {
     "data": {
      "text/html": [
       " View run at <a href='https://wandb.ai/cstein06/control/runs/loh1impz' target=\"_blank\">https://wandb.ai/cstein06/control/runs/loh1impz</a>"
      ],
      "text/plain": [
       "<IPython.core.display.HTML object>"
      ]
     },
     "metadata": {},
     "output_type": "display_data"
    },
    {
     "name": "stdout",
     "output_type": "stream",
     "text": [
      "\u001b[1m\u001b[34mLogs will be synced with wandb.\u001b[0m\n",
      "Learnable parameters: 2,733,680\n",
      "Architecture: WorldModel(\n",
      "  (_encoder): ModuleDict(\n",
      "    (state): Identity()\n",
      "  )\n",
      "  (_ctrl_dynamics): Sequential(\n",
      "    (0): NormedLinear(in_features=6, out_features=512, bias=True, act=Mish)\n",
      "    (1): NormedLinear(in_features=512, out_features=512, bias=True, act=Mish)\n",
      "    (2): Linear(in_features=512, out_features=8, bias=True)\n",
      "  )\n",
      "  (_dynamics): Sequential(\n",
      "    (0): NormedLinear(in_features=6, out_features=512, bias=True, act=Mish)\n",
      "    (1): NormedLinear(in_features=512, out_features=512, bias=True, act=Mish)\n",
      "    (2): Linear(in_features=512, out_features=4, bias=True)\n",
      "  )\n",
      "  (_reward): Sequential(\n",
      "    (0): NormedLinear(in_features=6, out_features=512, bias=True, act=Mish)\n",
      "    (1): NormedLinear(in_features=512, out_features=512, bias=True, act=Mish)\n",
      "    (2): Linear(in_features=512, out_features=101, bias=True)\n",
      "  )\n",
      "  (_pi): Sequential(\n",
      "    (0): NormedLinear(in_features=4, out_features=512, bias=True, act=Mish)\n",
      "    (1): NormedLinear(in_features=512, out_features=512, bias=True, act=Mish)\n",
      "    (2): Linear(in_features=512, out_features=4, bias=True)\n",
      "  )\n",
      "  (_ctrl_pi): Linear(in_features=512, out_features=2, bias=True)\n",
      "  (_Qs): Vectorized ModuleList(\n",
      "    (0-4): 5 x Sequential(\n",
      "      (0): NormedLinear(in_features=6, out_features=512, bias=True, dropout=0.01, act=Mish)\n",
      "      (1): NormedLinear(in_features=512, out_features=512, bias=True, act=Mish)\n",
      "      (2): Linear(in_features=512, out_features=101, bias=True)\n",
      "    )\n",
      "  )\n",
      "  (_target_Qs): Vectorized ModuleList(\n",
      "    (0-4): 5 x Sequential(\n",
      "      (0): NormedLinear(in_features=6, out_features=512, bias=True, dropout=0.01, act=Mish)\n",
      "      (1): NormedLinear(in_features=512, out_features=512, bias=True, act=Mish)\n",
      "      (2): Linear(in_features=512, out_features=101, bias=True)\n",
      "    )\n",
      "  )\n",
      ")\n"
     ]
    }
   ],
   "source": [
    "trainer_cls = OnlineTrainer\n",
    "trainer = trainer_cls(\n",
    "\t\tcfg=cfg,\n",
    "\t\tenv=make_env(cfg),\n",
    "\t\tagent=TDMPC2(cfg),\n",
    "\t\tbuffer=Buffer(cfg),\n",
    "\t\tlogger=Logger(cfg),\n",
    "\t)"
   ]
  },
  {
   "cell_type": "code",
   "execution_count": 9,
   "metadata": {},
   "outputs": [],
   "source": [
    "if cfg.checkpoint_wandb:\n",
    "    print(\"Loading wandb artifact:\", cfg.checkpoint_wandb)\n",
    "    artifact = trainer.logger._wandb.run.use_artifact(cfg.checkpoint_wandb, type='model')\n",
    "    artifact_dir = artifact.download()\n",
    "    artifact_path = artifact_dir + f'/{cfg.checkpoint_filename}'\n",
    "    print(\"Artifact path:\", artifact_path)\n",
    "    trainer.agent.load(artifact_path)"
   ]
  },
  {
   "cell_type": "code",
   "execution_count": 10,
   "metadata": {},
   "outputs": [],
   "source": [
    "trainer.set_env()"
   ]
  },
  {
   "cell_type": "code",
   "execution_count": 11,
   "metadata": {},
   "outputs": [
    {
     "data": {
      "text/plain": [
       "<dm_control.mujoco.wrapper.core.MjModel at 0x17204424970>"
      ]
     },
     "execution_count": 11,
     "metadata": {},
     "output_type": "execute_result"
    }
   ],
   "source": [
    "trainer.env.unwrapped.physics.model"
   ]
  },
  {
   "cell_type": "code",
   "execution_count": 12,
   "metadata": {},
   "outputs": [
    {
     "data": {
      "text/plain": [
       "'wandering-glade-371'"
      ]
     },
     "execution_count": 12,
     "metadata": {},
     "output_type": "execute_result"
    }
   ],
   "source": [
    "trainer.logger._wandb.run.name"
   ]
  },
  {
   "cell_type": "markdown",
   "metadata": {},
   "source": [
    "check env"
   ]
  },
  {
   "cell_type": "code",
   "execution_count": 13,
   "metadata": {},
   "outputs": [
    {
     "data": {
      "text/plain": [
       "<TensorWrapper<envs.dmcontrol.TimeStepToGymWrapper object at 0x00000172043ABA00>>"
      ]
     },
     "execution_count": 13,
     "metadata": {},
     "output_type": "execute_result"
    }
   ],
   "source": [
    "trainer.env"
   ]
  },
  {
   "cell_type": "code",
   "execution_count": 14,
   "metadata": {},
   "outputs": [
    {
     "data": {
      "text/plain": [
       "FieldIndexer(geom_friction):\n",
       " 0       ground [ 1         0.005     0.0001  ]\n",
       " 1       wall_x [ 1         0.005     0.0001  ]\n",
       " 2       wall_y [ 1         0.005     0.0001  ]\n",
       " 3   wall_neg_x [ 1         0.005     0.0001  ]\n",
       " 4   wall_neg_y [ 1         0.005     0.0001  ]\n",
       " 5       target [ 1         0.005     0.0001  ]\n",
       " 6         pred [ 1         0.005     0.0001  ]\n",
       " 7 pred_correct [ 1         0.005     0.0001  ]\n",
       " 8      optimal [ 1         0.005     0.0001  ]\n",
       " 9  action_orig [ 1         0.005     0.0001  ]\n",
       "10 action_total [ 1         0.005     0.0001  ]\n",
       "11   action_eff [ 1         0.005     0.0001  ]\n",
       "12  action_ctrl [ 1         0.005     0.0001  ]\n",
       "13    pointmass [ 1         0.005     0.0001  ]"
      ]
     },
     "execution_count": 14,
     "metadata": {},
     "output_type": "execute_result"
    }
   ],
   "source": [
    "trainer.env.unwrapped.physics.named.model.geom_friction"
   ]
  },
  {
   "cell_type": "code",
   "execution_count": 15,
   "metadata": {},
   "outputs": [
    {
     "data": {
      "text/plain": [
       "array([1., 1., 1., 1., 1., 1., 1., 1., 1., 1., 1., 1., 1., 1.])"
      ]
     },
     "execution_count": 15,
     "metadata": {},
     "output_type": "execute_result"
    }
   ],
   "source": [
    "trainer.env.unwrapped.physics.named.model.geom_friction[:,0]"
   ]
  },
  {
   "cell_type": "code",
   "execution_count": 16,
   "metadata": {},
   "outputs": [
    {
     "data": {
      "text/plain": [
       "array([0.  , 0.  , 0.01])"
      ]
     },
     "execution_count": 16,
     "metadata": {},
     "output_type": "execute_result"
    }
   ],
   "source": [
    "trainer.env.unwrapped.physics.named.data.geom_xpos['target']"
   ]
  },
  {
   "cell_type": "code",
   "execution_count": 17,
   "metadata": {},
   "outputs": [
    {
     "data": {
      "text/plain": [
       "array([0.02, 0.  , 0.  ])"
      ]
     },
     "execution_count": 17,
     "metadata": {},
     "output_type": "execute_result"
    }
   ],
   "source": [
    "trainer.env.unwrapped.physics.named.model.geom_size['target']"
   ]
  },
  {
   "cell_type": "code",
   "execution_count": 18,
   "metadata": {},
   "outputs": [
    {
     "data": {
      "text/plain": [
       "array([0.2 , 0.2 , 0.01])"
      ]
     },
     "execution_count": 18,
     "metadata": {},
     "output_type": "execute_result"
    }
   ],
   "source": [
    "trainer.env.unwrapped.physics.named.model.geom_pos['target']"
   ]
  },
  {
   "cell_type": "code",
   "execution_count": 19,
   "metadata": {},
   "outputs": [
    {
     "data": {
      "text/plain": [
       "0.1"
      ]
     },
     "execution_count": 19,
     "metadata": {},
     "output_type": "execute_result"
    }
   ],
   "source": [
    "trainer.env.unwrapped.physics.named.model.geom_margin['target']"
   ]
  },
  {
   "cell_type": "code",
   "execution_count": 20,
   "metadata": {},
   "outputs": [],
   "source": [
    "physics = trainer.env.unwrapped.physics"
   ]
  },
  {
   "cell_type": "code",
   "execution_count": 21,
   "metadata": {},
   "outputs": [
    {
     "data": {
      "text/plain": [
       "1.0"
      ]
     },
     "execution_count": 21,
     "metadata": {},
     "output_type": "execute_result"
    }
   ],
   "source": [
    "trainer.env.unwrapped.task._control_cost"
   ]
  },
  {
   "cell_type": "code",
   "execution_count": 22,
   "metadata": {},
   "outputs": [],
   "source": [
    "# trainer.env.unwrapped.task._control_cost = 1."
   ]
  },
  {
   "cell_type": "code",
   "execution_count": 23,
   "metadata": {},
   "outputs": [],
   "source": [
    "# trainer.env.unwrapped.physics.named.model.geom_margin['target'] = 0."
   ]
  },
  {
   "cell_type": "code",
   "execution_count": 24,
   "metadata": {},
   "outputs": [],
   "source": [
    "from dm_control.utils import rewards"
   ]
  },
  {
   "cell_type": "code",
   "execution_count": 25,
   "metadata": {},
   "outputs": [
    {
     "data": {
      "text/plain": [
       "array([0.  , 0.  , 0.  , 0.  , 0.  , 0.  , 0.36, 0.64, 0.84, 0.96, 1.  ,\n",
       "       0.96, 0.84, 0.64, 0.36, 0.  , 0.  , 0.  , 0.  , 0.  , 0.  ])"
      ]
     },
     "execution_count": 25,
     "metadata": {},
     "output_type": "execute_result"
    }
   ],
   "source": [
    "rewards.tolerance(np.linspace(-2,2,21), margin=1,\n",
    "                                       value_at_margin=0,\n",
    "                                       sigmoid='quadratic')"
   ]
  },
  {
   "cell_type": "code",
   "execution_count": 29,
   "metadata": {},
   "outputs": [],
   "source": [
    "obs = trainer.env.reset()"
   ]
  },
  {
   "cell_type": "code",
   "execution_count": 30,
   "metadata": {},
   "outputs": [
    {
     "name": "stdout",
     "output_type": "stream",
     "text": [
      "0\n",
      "tensor([ 0.3337, -0.6949], grad_fn=<ToCopyBackward0>) tensor([-0.2048, -0.2367,  0.0040, -0.0084]) tensor(-0.2751) False defaultdict(<class 'float'>, {'success': 0.0})\n",
      "tensor(0.5942, grad_fn=<SumBackward0>)\n",
      "1\n",
      "tensor([0.3313, 0.4308], grad_fn=<ToCopyBackward0>) tensor([-0.2045, -0.2368,  0.0076, -0.0022]) tensor(-0.0412) False defaultdict(<class 'float'>, {'success': 0.0})\n",
      "tensor(0.2953, grad_fn=<SumBackward0>)\n",
      "2\n",
      "tensor([0.3219, 0.3076], grad_fn=<ToCopyBackward0>) tensor([-0.2041, -0.2368,  0.0105,  0.0018]) tensor(-0.0041) False defaultdict(<class 'float'>, {'success': 0.0})\n",
      "tensor(0.1982, grad_fn=<SumBackward0>)\n",
      "3\n",
      "tensor([ 0.2427, -0.4352], grad_fn=<ToCopyBackward0>) tensor([-0.2036, -0.2369,  0.0122, -0.0037]) tensor(-0.0193) False defaultdict(<class 'float'>, {'success': 0.0})\n",
      "tensor(0.2483, grad_fn=<SumBackward0>)\n",
      "4\n",
      "tensor([0.2363, 0.2107], grad_fn=<ToCopyBackward0>) tensor([-0.2031, -0.2370,  0.0136, -0.0007]) tensor(1.9359e-33) False defaultdict(<class 'float'>, {'success': 0.0})\n",
      "tensor(0.1002, grad_fn=<SumBackward0>)\n",
      "5\n",
      "tensor([0.3407, 0.7406], grad_fn=<ToCopyBackward0>) tensor([-0.2025, -0.2367,  0.0161,  0.0084]) tensor(-0.3447) False defaultdict(<class 'float'>, {'success': 0.0})\n",
      "tensor(0.6645, grad_fn=<SumBackward0>)\n",
      "6\n",
      "tensor([ 0.3248, -0.2713], grad_fn=<ToCopyBackward0>) tensor([-0.2018, -0.2365,  0.0181,  0.0041]) tensor(-0.0011) False defaultdict(<class 'float'>, {'success': 0.0})\n",
      "tensor(0.1791, grad_fn=<SumBackward0>)\n",
      "7\n",
      "tensor([0.2713, 0.1404], grad_fn=<ToCopyBackward0>) tensor([-0.2010, -0.2363,  0.0192,  0.0053]) tensor(3.1206e-33) False defaultdict(<class 'float'>, {'success': 0.0})\n",
      "tensor(0.0933, grad_fn=<SumBackward0>)\n",
      "8\n",
      "tensor([ 0.2648, -0.2123], grad_fn=<ToCopyBackward0>) tensor([-0.2002, -0.2362,  0.0200,  0.0021]) tensor(3.6915e-33) False defaultdict(<class 'float'>, {'success': 0.0})\n",
      "tensor(0.1152, grad_fn=<SumBackward0>)\n",
      "9\n",
      "tensor([0.2514, 0.9370], grad_fn=<ToCopyBackward0>) tensor([-0.1994, -0.2358,  0.0207,  0.0132]) tensor(-0.6502) False defaultdict(<class 'float'>, {'success': 0.0})\n",
      "tensor(0.9413, grad_fn=<SumBackward0>)\n",
      "10\n",
      "tensor([ 0.3011, -0.5915], grad_fn=<ToCopyBackward0>) tensor([-0.1985, -0.2355,  0.0218,  0.0044]) tensor(-0.1391) False defaultdict(<class 'float'>, {'success': 0.0})\n",
      "tensor(0.4405, grad_fn=<SumBackward0>)\n",
      "11\n",
      "tensor([ 0.3112, -0.2899], grad_fn=<ToCopyBackward0>) tensor([-0.1976, -0.2355,  0.0229,  0.0004]) tensor(-0.0013) False defaultdict(<class 'float'>, {'success': 0.0})\n",
      "tensor(0.1809, grad_fn=<SumBackward0>)\n",
      "12\n",
      "tensor([ 0.2815, -0.3129], grad_fn=<ToCopyBackward0>) tensor([-0.1967, -0.2356,  0.0236, -0.0035]) tensor(-0.0009) False defaultdict(<class 'float'>, {'success': 0.0})\n",
      "tensor(0.1772, grad_fn=<SumBackward0>)\n",
      "13\n",
      "tensor([0.2153, 0.8116], grad_fn=<ToCopyBackward0>) tensor([-0.1958, -0.2354,  0.0233,  0.0068]) tensor(-0.3866) False defaultdict(<class 'float'>, {'success': 0.0})\n",
      "tensor(0.7050, grad_fn=<SumBackward0>)\n",
      "14\n",
      "tensor([ 0.2324, -0.3452], grad_fn=<ToCopyBackward0>) tensor([-0.1948, -0.2353,  0.0233,  0.0018]) tensor(-0.0005) False defaultdict(<class 'float'>, {'success': 0.0})\n",
      "tensor(0.1732, grad_fn=<SumBackward0>)\n",
      "15\n",
      "tensor([ 0.2415, -0.7282], grad_fn=<ToCopyBackward0>) tensor([-0.1939, -0.2355,  0.0234, -0.0073]) tensor(-0.2697) False defaultdict(<class 'float'>, {'success': 0.0})\n",
      "tensor(0.5886, grad_fn=<SumBackward0>)\n",
      "16\n",
      "tensor([ 0.2891, -0.5883], grad_fn=<ToCopyBackward0>) tensor([-0.1929, -0.2360,  0.0241, -0.0135]) tensor(-0.1305) False defaultdict(<class 'float'>, {'success': 0.0})\n",
      "tensor(0.4297, grad_fn=<SumBackward0>)\n",
      "17\n",
      "tensor([ 0.3254, -0.6166], grad_fn=<ToCopyBackward0>) tensor([-0.1919, -0.2367,  0.0251, -0.0193]) tensor(-0.1767) False defaultdict(<class 'float'>, {'success': 0.0})\n",
      "tensor(0.4861, grad_fn=<SumBackward0>)\n",
      "18\n",
      "tensor([0.2529, 0.0868], grad_fn=<ToCopyBackward0>) tensor([-0.1909, -0.2373,  0.0251, -0.0159]) tensor(1.5537e-32) False defaultdict(<class 'float'>, {'success': 0.0})\n",
      "tensor(0.0715, grad_fn=<SumBackward0>)\n",
      "19\n",
      "tensor([ 0.1804, -0.7895], grad_fn=<ToCopyBackward0>) tensor([-0.1900, -0.2382,  0.0243, -0.0236]) tensor(-0.3360) False defaultdict(<class 'float'>, {'success': 0.0})\n",
      "tensor(0.6559, grad_fn=<SumBackward0>)\n",
      "20\n",
      "tensor([ 0.2518, -0.1671], grad_fn=<ToCopyBackward0>) tensor([-0.1890, -0.2391,  0.0244, -0.0227]) tensor(1.5620e-32) False defaultdict(<class 'float'>, {'success': 0.0})\n",
      "tensor(0.0913, grad_fn=<SumBackward0>)\n",
      "21\n",
      "tensor([ 0.2343, -0.5010], grad_fn=<ToCopyBackward0>) tensor([-0.1880, -0.2401,  0.0243, -0.0261]) tensor(-0.0469) False defaultdict(<class 'float'>, {'success': 0.0})\n",
      "tensor(0.3059, grad_fn=<SumBackward0>)\n",
      "22\n",
      "tensor([ 0.2563, -0.1512], grad_fn=<ToCopyBackward0>) tensor([-0.1870, -0.2411,  0.0244, -0.0247]) tensor(1.4805e-32) False defaultdict(<class 'float'>, {'success': 0.0})\n",
      "tensor(0.0885, grad_fn=<SumBackward0>)\n",
      "23\n",
      "tensor([0.2754, 0.1000], grad_fn=<ToCopyBackward0>) tensor([-0.1861, -0.2420,  0.0248, -0.0205]) tensor(1.4687e-32) False defaultdict(<class 'float'>, {'success': 0.0})\n",
      "tensor(0.0858, grad_fn=<SumBackward0>)\n",
      "24\n",
      "tensor([ 0.2215, -0.8726], grad_fn=<ToCopyBackward0>) tensor([-0.1851, -0.2431,  0.0245, -0.0286]) tensor(-0.5006) False defaultdict(<class 'float'>, {'success': 0.0})\n",
      "tensor(0.8105, grad_fn=<SumBackward0>)\n",
      "25\n",
      "tensor([0.2387, 0.5910], grad_fn=<ToCopyBackward0>) tensor([-0.1841, -0.2439,  0.0244, -0.0180]) tensor(-0.1127) False defaultdict(<class 'float'>, {'success': 0.0})\n",
      "tensor(0.4063, grad_fn=<SumBackward0>)\n",
      "26\n",
      "tensor([ 0.2682, -0.9281], grad_fn=<ToCopyBackward0>) tensor([-0.1831, -0.2449,  0.0247, -0.0270]) tensor(-0.6409) False defaultdict(<class 'float'>, {'success': 0.0})\n",
      "tensor(0.9333, grad_fn=<SumBackward0>)\n",
      "27\n",
      "tensor([0.1919, 0.2400], grad_fn=<ToCopyBackward0>) tensor([-0.1821, -0.2458,  0.0240, -0.0209]) tensor(1.3633e-32) False defaultdict(<class 'float'>, {'success': 0.0})\n",
      "tensor(0.0944, grad_fn=<SumBackward0>)\n",
      "28\n",
      "tensor([0.1960, 0.2384], grad_fn=<ToCopyBackward0>) tensor([-0.1812, -0.2465,  0.0235, -0.0155]) tensor(1.3877e-32) False defaultdict(<class 'float'>, {'success': 0.0})\n",
      "tensor(0.0953, grad_fn=<SumBackward0>)\n",
      "29\n",
      "tensor([ 0.2615, -0.5507], grad_fn=<ToCopyBackward0>) tensor([-0.1802, -0.2472,  0.0238, -0.0202]) tensor(-0.0879) False defaultdict(<class 'float'>, {'success': 0.0})\n",
      "tensor(0.3717, grad_fn=<SumBackward0>)\n",
      "30\n",
      "tensor([ 0.2311, -0.8539], grad_fn=<ToCopyBackward0>) tensor([-0.1793, -0.2483,  0.0237, -0.0281]) tensor(-0.4697) False defaultdict(<class 'float'>, {'success': 0.0})\n",
      "tensor(0.7826, grad_fn=<SumBackward0>)\n",
      "31\n",
      "tensor([0.2509, 0.3021], grad_fn=<ToCopyBackward0>) tensor([-0.1783, -0.2492,  0.0239, -0.0211]) tensor(1.3207e-32) False defaultdict(<class 'float'>, {'success': 0.0})\n",
      "tensor(0.1542, grad_fn=<SumBackward0>)\n",
      "32\n",
      "tensor([0.1689, 0.4758], grad_fn=<ToCopyBackward0>) tensor([-0.1774, -0.2498,  0.0230, -0.0128]) tensor(-0.0220) False defaultdict(<class 'float'>, {'success': 0.0})\n",
      "tensor(0.2549, grad_fn=<SumBackward0>)\n",
      "33\n",
      "tensor([ 0.1799, -0.2643], grad_fn=<ToCopyBackward0>) tensor([-0.1765, -0.2503,  0.0224, -0.0144]) tensor(1.4122e-32) False defaultdict(<class 'float'>, {'success': 0.0})\n",
      "tensor(0.1022, grad_fn=<SumBackward0>)\n",
      "34\n",
      "tensor([0.1358, 0.8156], grad_fn=<ToCopyBackward0>) tensor([-0.1756, -0.2506,  0.0214, -0.0028]) tensor(-0.3643) False defaultdict(<class 'float'>, {'success': 0.0})\n",
      "tensor(0.6836, grad_fn=<SumBackward0>)\n",
      "35\n",
      "tensor([ 0.1656, -0.1729], grad_fn=<ToCopyBackward0>) tensor([-0.1748, -0.2507,  0.0208, -0.0045]) tensor(1.7075e-32) False defaultdict(<class 'float'>, {'success': 0.0})\n",
      "tensor(0.0573, grad_fn=<SumBackward0>)\n",
      "36\n",
      "tensor([0.2354, 0.6688], grad_fn=<ToCopyBackward0>) tensor([-0.1740, -0.2506,  0.0211,  0.0041]) tensor(-0.1910) False defaultdict(<class 'float'>, {'success': 0.0})\n",
      "tensor(0.5028, grad_fn=<SumBackward0>)\n",
      "37\n",
      "tensor([0.2836, 0.3461], grad_fn=<ToCopyBackward0>) tensor([-0.1731, -0.2504,  0.0220,  0.0078]) tensor(-0.0045) False defaultdict(<class 'float'>, {'success': 0.0})\n",
      "tensor(0.2002, grad_fn=<SumBackward0>)\n",
      "38\n",
      "tensor([0.1672, 0.1127], grad_fn=<ToCopyBackward0>) tensor([-0.1722, -0.2500,  0.0214,  0.0082]) tensor(2.9261e-32) False defaultdict(<class 'float'>, {'success': 0.0})\n",
      "tensor(0.0407, grad_fn=<SumBackward0>)\n",
      "39\n",
      "tensor([0.2735, 0.0842], grad_fn=<ToCopyBackward0>) tensor([-0.1714, -0.2497,  0.0221,  0.0082]) tensor(3.6088e-32) False defaultdict(<class 'float'>, {'success': 0.0})\n",
      "tensor(0.0819, grad_fn=<SumBackward0>)\n",
      "40\n",
      "tensor([0.2449, 0.2909], grad_fn=<ToCopyBackward0>) tensor([-0.1705, -0.2493,  0.0224,  0.0108]) tensor(4.5114e-32) False defaultdict(<class 'float'>, {'success': 0.0})\n",
      "tensor(0.1446, grad_fn=<SumBackward0>)\n",
      "41\n",
      "tensor([ 0.2327, -0.2065], grad_fn=<ToCopyBackward0>) tensor([-0.1696, -0.2490,  0.0225,  0.0070]) tensor(5.6097e-32) False defaultdict(<class 'float'>, {'success': 0.0})\n",
      "tensor(0.0968, grad_fn=<SumBackward0>)\n",
      "42\n",
      "tensor([0.2284, 0.7199], grad_fn=<ToCopyBackward0>) tensor([-0.1687, -0.2485,  0.0225,  0.0148]) tensor(-0.2525) False defaultdict(<class 'float'>, {'success': 0.0})\n",
      "tensor(0.5705, grad_fn=<SumBackward0>)\n",
      "43\n",
      "tensor([ 0.2654, -0.5258], grad_fn=<ToCopyBackward0>) tensor([-0.1678, -0.2481,  0.0230,  0.0067]) tensor(-0.0715) False defaultdict(<class 'float'>, {'success': 0.0})\n",
      "tensor(0.3470, grad_fn=<SumBackward0>)\n",
      "44\n",
      "tensor([ 0.1918, -0.2370], grad_fn=<ToCopyBackward0>) tensor([-0.1668, -0.2480,  0.0225,  0.0030]) tensor(1.0817e-31) False defaultdict(<class 'float'>, {'success': 0.0})\n",
      "tensor(0.0929, grad_fn=<SumBackward0>)\n",
      "45\n",
      "tensor([0.2711, 0.4346], grad_fn=<ToCopyBackward0>) tensor([-0.1659, -0.2477,  0.0231,  0.0079]) tensor(-0.0252) False defaultdict(<class 'float'>, {'success': 0.0})\n",
      "tensor(0.2624, grad_fn=<SumBackward0>)\n",
      "46\n",
      "tensor([0.1549, 0.2004], grad_fn=<ToCopyBackward0>) tensor([-0.1650, -0.2473,  0.0222,  0.0094]) tensor(1.6284e-31) False defaultdict(<class 'float'>, {'success': 0.0})\n",
      "tensor(0.0642, grad_fn=<SumBackward0>)\n",
      "47\n",
      "tensor([ 0.1799, -0.5316], grad_fn=<ToCopyBackward0>) tensor([-0.1642, -0.2472,  0.0217,  0.0018]) tensor(-0.0520) False defaultdict(<class 'float'>, {'success': 0.0})\n",
      "tensor(0.3150, grad_fn=<SumBackward0>)\n",
      "48\n",
      "tensor([ 0.1353, -0.1972], grad_fn=<ToCopyBackward0>) tensor([-0.1633, -0.2472,  0.0207, -0.0008]) tensor(2.2557e-31) False defaultdict(<class 'float'>, {'success': 0.0})\n",
      "tensor(0.0572, grad_fn=<SumBackward0>)\n",
      "49\n",
      "tensor([0.2335, 0.2176], grad_fn=<ToCopyBackward0>) tensor([-0.1625, -0.2471,  0.0210,  0.0019]) tensor(2.5932e-31) False defaultdict(<class 'float'>, {'success': 0.0})\n",
      "tensor(0.1019, grad_fn=<SumBackward0>)\n",
      "50\n",
      "tensor([ 0.2260, -0.2988], grad_fn=<ToCopyBackward0>) tensor([-0.1616, -0.2472,  0.0212, -0.0019]) tensor(2.9693e-31) False defaultdict(<class 'float'>, {'success': 0.0})\n",
      "tensor(0.1404, grad_fn=<SumBackward0>)\n",
      "51\n",
      "tensor([0.1979, 0.2778], grad_fn=<ToCopyBackward0>) tensor([-0.1608, -0.2472,  0.0210,  0.0017]) tensor(3.3988e-31) False defaultdict(<class 'float'>, {'success': 0.0})\n",
      "tensor(0.1163, grad_fn=<SumBackward0>)\n",
      "52\n",
      "tensor([ 0.1023, -0.7644], grad_fn=<ToCopyBackward0>) tensor([-0.1600, -0.2474,  0.0197, -0.0078]) tensor(-0.2756) False defaultdict(<class 'float'>, {'success': 0.0})\n",
      "tensor(0.5948, grad_fn=<SumBackward0>)\n",
      "53\n",
      "tensor([ 0.1682, -0.1740], grad_fn=<ToCopyBackward0>) tensor([-0.1592, -0.2477,  0.0194, -0.0090]) tensor(4.0020e-31) False defaultdict(<class 'float'>, {'success': 0.0})\n",
      "tensor(0.0586, grad_fn=<SumBackward0>)\n",
      "54\n",
      "tensor([0.1652, 0.4363], grad_fn=<ToCopyBackward0>) tensor([-0.1584, -0.2479,  0.0190, -0.0026]) tensor(-0.0088) False defaultdict(<class 'float'>, {'success': 0.0})\n",
      "tensor(0.2176, grad_fn=<SumBackward0>)\n",
      "55\n",
      "tensor([0.1163, 0.0134], grad_fn=<ToCopyBackward0>) tensor([-0.1577, -0.2480,  0.0181, -0.0021]) tensor(4.7760e-31) False defaultdict(<class 'float'>, {'success': 0.0})\n",
      "tensor(0.0137, grad_fn=<SumBackward0>)\n",
      "56\n",
      "tensor([0.1268, 0.1922], grad_fn=<ToCopyBackward0>) tensor([-0.1570, -0.2480,  0.0175,  0.0005]) tensor(5.3146e-31) False defaultdict(<class 'float'>, {'success': 0.0})\n",
      "tensor(0.0530, grad_fn=<SumBackward0>)\n",
      "57\n",
      "tensor([ 0.1808, -0.6397], grad_fn=<ToCopyBackward0>) tensor([-0.1563, -0.2482,  0.0175, -0.0073]) tensor(-0.1402) False defaultdict(<class 'float'>, {'success': 0.0})\n",
      "tensor(0.4419, grad_fn=<SumBackward0>)\n",
      "58\n",
      "tensor([ 0.0769, -0.0839], grad_fn=<ToCopyBackward0>) tensor([-0.1556, -0.2485,  0.0164, -0.0075]) tensor(6.0594e-31) False defaultdict(<class 'float'>, {'success': 0.0})\n",
      "tensor(0.0130, grad_fn=<SumBackward0>)\n",
      "59\n",
      "tensor([0.1755, 0.1891], grad_fn=<ToCopyBackward0>) tensor([-0.1550, -0.2487,  0.0165, -0.0043]) tensor(6.4169e-31) False defaultdict(<class 'float'>, {'success': 0.0})\n",
      "tensor(0.0665, grad_fn=<SumBackward0>)\n",
      "60\n",
      "tensor([ 0.1247, -0.4516], grad_fn=<ToCopyBackward0>) tensor([-0.1543, -0.2490,  0.0160, -0.0092]) tensor(-0.0094) False defaultdict(<class 'float'>, {'success': 0.0})\n",
      "tensor(0.2195, grad_fn=<SumBackward0>)\n",
      "61\n",
      "tensor([ 0.2422, -0.2168], grad_fn=<ToCopyBackward0>) tensor([-0.1537, -0.2494,  0.0170, -0.0107]) tensor(6.8992e-31) False defaultdict(<class 'float'>, {'success': 0.0})\n",
      "tensor(0.1057, grad_fn=<SumBackward0>)\n",
      "62\n",
      "tensor([ 0.3308, -0.6533], grad_fn=<ToCopyBackward0>) tensor([-0.1529, -0.2501,  0.0189, -0.0173]) tensor(-0.2208) False defaultdict(<class 'float'>, {'success': 0.0})\n",
      "tensor(0.5362, grad_fn=<SumBackward0>)\n",
      "63\n",
      "tensor([ 0.1206, -0.2999], grad_fn=<ToCopyBackward0>) tensor([-0.1522, -0.2508,  0.0181, -0.0189]) tensor(6.7062e-31) False defaultdict(<class 'float'>, {'success': 0.0})\n",
      "tensor(0.1045, grad_fn=<SumBackward0>)\n",
      "64\n",
      "tensor([0.1872, 0.6940], grad_fn=<ToCopyBackward0>) tensor([-0.1515, -0.2512,  0.0182, -0.0082]) tensor(-0.2032) False defaultdict(<class 'float'>, {'success': 0.0})\n",
      "tensor(0.5166, grad_fn=<SumBackward0>)\n",
      "65\n",
      "tensor([0.1676, 0.6691], grad_fn=<ToCopyBackward0>) tensor([-0.1507, -0.2513,  0.0180,  0.0009]) tensor(-0.1679) False defaultdict(<class 'float'>, {'success': 0.0})\n",
      "tensor(0.4758, grad_fn=<SumBackward0>)\n",
      "66\n",
      "tensor([ 0.1391, -0.1326], grad_fn=<ToCopyBackward0>) tensor([-0.1500, -0.2513,  0.0175, -0.0008]) tensor(8.2040e-31) False defaultdict(<class 'float'>, {'success': 0.0})\n",
      "tensor(0.0369, grad_fn=<SumBackward0>)\n",
      "67\n",
      "tensor([ 0.1554, -0.3874], grad_fn=<ToCopyBackward0>) tensor([-0.1494, -0.2515,  0.0173, -0.0054]) tensor(-0.0006) False defaultdict(<class 'float'>, {'success': 0.0})\n",
      "tensor(0.1742, grad_fn=<SumBackward0>)\n",
      "68\n",
      "tensor([0.1510, 0.5226], grad_fn=<ToCopyBackward0>) tensor([-0.1487, -0.2515,  0.0170,  0.0016]) tensor(-0.0415) False defaultdict(<class 'float'>, {'success': 0.0})\n",
      "tensor(0.2959, grad_fn=<SumBackward0>)\n",
      "69\n",
      "tensor([ 0.2048, -0.2163], grad_fn=<ToCopyBackward0>) tensor([-0.1480, -0.2515,  0.0174, -0.0012]) tensor(1.0882e-30) False defaultdict(<class 'float'>, {'success': 0.0})\n",
      "tensor(0.0888, grad_fn=<SumBackward0>)\n",
      "70\n",
      "tensor([0.1434, 0.4065], grad_fn=<ToCopyBackward0>) tensor([-0.1473, -0.2514,  0.0171,  0.0038]) tensor(-0.0019) False defaultdict(<class 'float'>, {'success': 0.0})\n",
      "tensor(0.1858, grad_fn=<SumBackward0>)\n",
      "71\n",
      "tensor([0.1498, 0.6261], grad_fn=<ToCopyBackward0>) tensor([-0.1466, -0.2510,  0.0168,  0.0110]) tensor(-0.1188) False defaultdict(<class 'float'>, {'success': 0.0})\n",
      "tensor(0.4144, grad_fn=<SumBackward0>)\n",
      "72\n",
      "tensor([0.2275, 0.1368], grad_fn=<ToCopyBackward0>) tensor([-0.1459, -0.2506,  0.0175,  0.0113]) tensor(1.7542e-30) False defaultdict(<class 'float'>, {'success': 0.0})\n",
      "tensor(0.0705, grad_fn=<SumBackward0>)\n",
      "73\n",
      "tensor([ 0.2271, -0.1387], grad_fn=<ToCopyBackward0>) tensor([-0.1452, -0.2502,  0.0182,  0.0082]) tensor(2.1158e-30) False defaultdict(<class 'float'>, {'success': 0.0})\n",
      "tensor(0.0708, grad_fn=<SumBackward0>)\n",
      "74\n",
      "tensor([ 0.1490, -0.1618], grad_fn=<ToCopyBackward0>) tensor([-0.1445, -0.2500,  0.0178,  0.0053]) tensor(2.4921e-30) False defaultdict(<class 'float'>, {'success': 0.0})\n",
      "tensor(0.0484, grad_fn=<SumBackward0>)\n",
      "75\n",
      "tensor([0.2152, 0.0974], grad_fn=<ToCopyBackward0>) tensor([-0.1438, -0.2498,  0.0182,  0.0058]) tensor(2.9088e-30) False defaultdict(<class 'float'>, {'success': 0.0})\n",
      "tensor(0.0558, grad_fn=<SumBackward0>)\n",
      "76\n",
      "tensor([ 0.2157, -0.3976], grad_fn=<ToCopyBackward0>) tensor([-0.1430, -0.2497,  0.0186,  0.0003]) tensor(-0.0055) False defaultdict(<class 'float'>, {'success': 0.0})\n",
      "tensor(0.2047, grad_fn=<SumBackward0>)\n",
      "77\n",
      "tensor([0.0877, 0.3969], grad_fn=<ToCopyBackward0>) tensor([-0.1423, -0.2495,  0.0174,  0.0051]) tensor(-8.3762e-05) False defaultdict(<class 'float'>, {'success': 0.0})\n",
      "tensor(0.1652, grad_fn=<SumBackward0>)\n",
      "78\n",
      "tensor([0.2014, 0.1605], grad_fn=<ToCopyBackward0>) tensor([-0.1416, -0.2493,  0.0178,  0.0064]) tensor(4.4316e-30) False defaultdict(<class 'float'>, {'success': 0.0})\n",
      "tensor(0.0663, grad_fn=<SumBackward0>)\n",
      "79\n",
      "tensor([ 0.2081, -0.1659], grad_fn=<ToCopyBackward0>) tensor([-0.1409, -0.2491,  0.0181,  0.0036]) tensor(5.1410e-30) False defaultdict(<class 'float'>, {'success': 0.0})\n",
      "tensor(0.0708, grad_fn=<SumBackward0>)\n",
      "80\n",
      "tensor([ 0.3011, -0.6316], grad_fn=<ToCopyBackward0>) tensor([-0.1401, -0.2492,  0.0196, -0.0045]) tensor(-0.1796) False defaultdict(<class 'float'>, {'success': 0.0})\n",
      "tensor(0.4895, grad_fn=<SumBackward0>)\n",
      "81\n",
      "tensor([0.0920, 0.1027], grad_fn=<ToCopyBackward0>) tensor([-0.1394, -0.2493,  0.0183, -0.0027]) tensor(6.2535e-30) False defaultdict(<class 'float'>, {'success': 0.0})\n",
      "tensor(0.0190, grad_fn=<SumBackward0>)\n",
      "82\n",
      "tensor([0.1967, 0.0953], grad_fn=<ToCopyBackward0>) tensor([-0.1386, -0.2494,  0.0185, -0.0012]) tensor(6.8805e-30) False defaultdict(<class 'float'>, {'success': 0.0})\n",
      "tensor(0.0478, grad_fn=<SumBackward0>)\n",
      "83\n",
      "tensor([ 0.1572, -0.3591], grad_fn=<ToCopyBackward0>) tensor([-0.1379, -0.2496,  0.0182, -0.0054]) tensor(7.4780e-30) False defaultdict(<class 'float'>, {'success': 0.0})\n",
      "tensor(0.1537, grad_fn=<SumBackward0>)\n",
      "84\n",
      "tensor([ 0.1529, -0.3282], grad_fn=<ToCopyBackward0>) tensor([-0.1372, -0.2499,  0.0178, -0.0087]) tensor(7.8699e-30) False defaultdict(<class 'float'>, {'success': 0.0})\n",
      "tensor(0.1311, grad_fn=<SumBackward0>)\n",
      "85\n",
      "tensor([0.1749, 0.7183], grad_fn=<ToCopyBackward0>) tensor([-0.1365, -0.2499,  0.0178,  0.0010]) tensor(-0.2302) False defaultdict(<class 'float'>, {'success': 0.0})\n",
      "tensor(0.5466, grad_fn=<SumBackward0>)\n",
      "86\n",
      "tensor([ 0.0976, -0.1879], grad_fn=<ToCopyBackward0>) tensor([-0.1358, -0.2500,  0.0168, -0.0014]) tensor(9.4051e-30) False defaultdict(<class 'float'>, {'success': 0.0})\n",
      "tensor(0.0448, grad_fn=<SumBackward0>)\n",
      "87\n",
      "tensor([0.2445, 0.3087], grad_fn=<ToCopyBackward0>) tensor([-0.1351, -0.2499,  0.0177,  0.0025]) tensor(1.0479e-29) False defaultdict(<class 'float'>, {'success': 0.0})\n",
      "tensor(0.1551, grad_fn=<SumBackward0>)\n",
      "88\n",
      "tensor([ 0.1323, -0.1133], grad_fn=<ToCopyBackward0>) tensor([-0.1344, -0.2499,  0.0172,  0.0009]) tensor(1.1780e-29) False defaultdict(<class 'float'>, {'success': 0.0})\n",
      "tensor(0.0304, grad_fn=<SumBackward0>)\n",
      "89\n",
      "tensor([0.0581, 0.3960], grad_fn=<ToCopyBackward0>) tensor([-0.1338, -0.2497,  0.0158,  0.0055]) tensor(-1.2708e-07) False defaultdict(<class 'float'>, {'success': 0.0})\n",
      "tensor(0.1602, grad_fn=<SumBackward0>)\n",
      "90\n",
      "tensor([ 0.0430, -0.4602], grad_fn=<ToCopyBackward0>) tensor([-0.1332, -0.2497,  0.0144, -0.0007]) tensor(-0.0077) False defaultdict(<class 'float'>, {'success': 0.0})\n",
      "tensor(0.2136, grad_fn=<SumBackward0>)\n",
      "91\n",
      "tensor([ 0.0799, -0.6621], grad_fn=<ToCopyBackward0>) tensor([-0.1326, -0.2499,  0.0136, -0.0086]) tensor(-0.1425) False defaultdict(<class 'float'>, {'success': 0.0})\n",
      "tensor(0.4448, grad_fn=<SumBackward0>)\n",
      "92\n",
      "tensor([ 0.1245, -0.5811], grad_fn=<ToCopyBackward0>) tensor([-0.1321, -0.2505,  0.0135, -0.0146]) tensor(-0.0755) False defaultdict(<class 'float'>, {'success': 0.0})\n",
      "tensor(0.3532, grad_fn=<SumBackward0>)\n",
      "93\n",
      "tensor([ 0.1318, -0.2826], grad_fn=<ToCopyBackward0>) tensor([-0.1315, -0.2511,  0.0135, -0.0163]) tensor(1.4669e-29) False defaultdict(<class 'float'>, {'success': 0.0})\n",
      "tensor(0.0972, grad_fn=<SumBackward0>)\n",
      "94\n",
      "tensor([ 0.2130, -0.0387], grad_fn=<ToCopyBackward0>) tensor([-0.1310, -0.2517,  0.0144, -0.0148]) tensor(1.4061e-29) False defaultdict(<class 'float'>, {'success': 0.0})\n",
      "tensor(0.0469, grad_fn=<SumBackward0>)\n",
      "95\n",
      "tensor([0.1577, 0.4744], grad_fn=<ToCopyBackward0>) tensor([-0.1304, -0.2521,  0.0146, -0.0072]) tensor(-0.0200) False defaultdict(<class 'float'>, {'success': 0.0})\n",
      "tensor(0.2499, grad_fn=<SumBackward0>)\n",
      "96\n",
      "tensor([ 0.1689, -0.4060], grad_fn=<ToCopyBackward0>) tensor([-0.1298, -0.2525,  0.0148, -0.0113]) tensor(-0.0032) False defaultdict(<class 'float'>, {'success': 0.0})\n",
      "tensor(0.1934, grad_fn=<SumBackward0>)\n",
      "97\n",
      "tensor([ 0.1628, -0.0231], grad_fn=<ToCopyBackward0>) tensor([-0.1292, -0.2529,  0.0150, -0.0102]) tensor(1.4204e-29) False defaultdict(<class 'float'>, {'success': 0.0})\n",
      "tensor(0.0270, grad_fn=<SumBackward0>)\n",
      "98\n",
      "tensor([ 0.1335, -0.3872], grad_fn=<ToCopyBackward0>) tensor([-0.1286, -0.2534,  0.0148, -0.0136]) tensor(-0.0002) False defaultdict(<class 'float'>, {'success': 0.0})\n",
      "tensor(0.1677, grad_fn=<SumBackward0>)\n",
      "99\n",
      "tensor([0.1195, 0.6332], grad_fn=<ToCopyBackward0>) tensor([-0.1280, -0.2537,  0.0145, -0.0043]) tensor(-0.1194) False defaultdict(<class 'float'>, {'success': 0.0})\n",
      "tensor(0.4152, grad_fn=<SumBackward0>)\n",
      "100\n",
      "tensor([ 0.0985, -0.7054], grad_fn=<ToCopyBackward0>) tensor([-0.1275, -0.2541,  0.0139, -0.0123]) tensor(-0.1951) False defaultdict(<class 'float'>, {'success': 0.0})\n",
      "tensor(0.5074, grad_fn=<SumBackward0>)\n",
      "101\n",
      "tensor([0.0262, 0.3421], grad_fn=<ToCopyBackward0>) tensor([-0.1269, -0.2544,  0.0125, -0.0067]) tensor(1.4491e-29) False defaultdict(<class 'float'>, {'success': 0.0})\n",
      "tensor(0.1177, grad_fn=<SumBackward0>)\n",
      "102\n",
      "tensor([0.0265, 0.2805], grad_fn=<ToCopyBackward0>) tensor([-0.1265, -0.2545,  0.0113, -0.0025]) tensor(1.4970e-29) False defaultdict(<class 'float'>, {'success': 0.0})\n",
      "tensor(0.0794, grad_fn=<SumBackward0>)\n",
      "103\n",
      "tensor([ 0.0831, -0.4229], grad_fn=<ToCopyBackward0>) tensor([-0.1260, -0.2548,  0.0110, -0.0073]) tensor(-0.0019) False defaultdict(<class 'float'>, {'success': 0.0})\n",
      "tensor(0.1858, grad_fn=<SumBackward0>)\n",
      "104\n",
      "tensor([0.2361, 0.8105], grad_fn=<ToCopyBackward0>) tensor([-0.1255, -0.2548,  0.0125,  0.0034]) tensor(-0.3947) False defaultdict(<class 'float'>, {'success': 0.0})\n",
      "tensor(0.7127, grad_fn=<SumBackward0>)\n",
      "105\n",
      "tensor([ 0.0392, -0.6306], grad_fn=<ToCopyBackward0>) tensor([-0.1251, -0.2549,  0.0115, -0.0047]) tensor(-0.1075) False defaultdict(<class 'float'>, {'success': 0.0})\n",
      "tensor(0.3992, grad_fn=<SumBackward0>)\n",
      "106\n",
      "tensor([0.1622, 0.2772], grad_fn=<ToCopyBackward0>) tensor([-0.1246, -0.2549,  0.0120, -0.0007]) tensor(1.8058e-29) False defaultdict(<class 'float'>, {'success': 0.0})\n",
      "tensor(0.1031, grad_fn=<SumBackward0>)\n",
      "107\n",
      "tensor([ 0.0838, -0.5149], grad_fn=<ToCopyBackward0>) tensor([-0.1241, -0.2551,  0.0116, -0.0069]) tensor(-0.0296) False defaultdict(<class 'float'>, {'success': 0.0})\n",
      "tensor(0.2722, grad_fn=<SumBackward0>)\n",
      "108\n",
      "tensor([ 0.0577, -0.5622], grad_fn=<ToCopyBackward0>) tensor([-0.1237, -0.2556,  0.0109, -0.0129]) tensor(-0.0546) False defaultdict(<class 'float'>, {'success': 0.0})\n",
      "tensor(0.3194, grad_fn=<SumBackward0>)\n",
      "109\n",
      "tensor([0.0409, 0.7171], grad_fn=<ToCopyBackward0>) tensor([-0.1233, -0.2558,  0.0101, -0.0026]) tensor(-0.2026) False defaultdict(<class 'float'>, {'success': 0.0})\n",
      "tensor(0.5159, grad_fn=<SumBackward0>)\n",
      "110\n",
      "tensor([ 0.0918, -0.4468], grad_fn=<ToCopyBackward0>) tensor([-0.1229, -0.2561,  0.0100, -0.0077]) tensor(-0.0063) False defaultdict(<class 'float'>, {'success': 0.0})\n",
      "tensor(0.2080, grad_fn=<SumBackward0>)\n",
      "111\n",
      "tensor([ 0.1923, -0.8036], grad_fn=<ToCopyBackward0>) tensor([-0.1224, -0.2566,  0.0111, -0.0165]) tensor(-0.3634) False defaultdict(<class 'float'>, {'success': 0.0})\n",
      "tensor(0.6827, grad_fn=<SumBackward0>)\n",
      "112\n",
      "tensor([0.0708, 0.0128], grad_fn=<ToCopyBackward0>) tensor([-0.1220, -0.2572,  0.0106, -0.0144]) tensor(1.6896e-29) False defaultdict(<class 'float'>, {'success': 0.0})\n",
      "tensor(0.0052, grad_fn=<SumBackward0>)\n",
      "113\n",
      "tensor([ 0.1749, -0.4086], grad_fn=<ToCopyBackward0>) tensor([-0.1216, -0.2579,  0.0114, -0.0176]) tensor(-0.0040) False defaultdict(<class 'float'>, {'success': 0.0})\n",
      "tensor(0.1976, grad_fn=<SumBackward0>)\n",
      "114\n",
      "tensor([0.0995, 0.4985], grad_fn=<ToCopyBackward0>) tensor([-0.1211, -0.2584,  0.0113, -0.0094]) tensor(-0.0235) False defaultdict(<class 'float'>, {'success': 0.0})\n",
      "tensor(0.2584, grad_fn=<SumBackward0>)\n",
      "115\n",
      "tensor([0.1500, 0.3466], grad_fn=<ToCopyBackward0>) tensor([-0.1207, -0.2586,  0.0117, -0.0041]) tensor(1.5284e-29) False defaultdict(<class 'float'>, {'success': 0.0})\n",
      "tensor(0.1427, grad_fn=<SumBackward0>)\n",
      "116\n",
      "tensor([ 0.1474, -0.0340], grad_fn=<ToCopyBackward0>) tensor([-0.1202, -0.2587,  0.0121, -0.0040]) tensor(1.5828e-29) False defaultdict(<class 'float'>, {'success': 0.0})\n",
      "tensor(0.0229, grad_fn=<SumBackward0>)\n",
      "117\n",
      "tensor([ 0.0591, -0.2194], grad_fn=<ToCopyBackward0>) tensor([-0.1197, -0.2590,  0.0113, -0.0062]) tensor(1.6228e-29) False defaultdict(<class 'float'>, {'success': 0.0})\n",
      "tensor(0.0517, grad_fn=<SumBackward0>)\n",
      "118\n",
      "tensor([0.2151, 0.4618], grad_fn=<ToCopyBackward0>) tensor([-1.1922e-01, -2.5902e-01,  1.2562e-02,  1.7850e-04]) tensor(-0.0240) False defaultdict(<class 'float'>, {'success': 0.0})\n",
      "tensor(0.2595, grad_fn=<SumBackward0>)\n",
      "119\n",
      "tensor([ 0.0866, -0.3242], grad_fn=<ToCopyBackward0>) tensor([-0.1187, -0.2591,  0.0121, -0.0038]) tensor(1.7914e-29) False defaultdict(<class 'float'>, {'success': 0.0})\n",
      "tensor(0.1126, grad_fn=<SumBackward0>)\n",
      "120\n",
      "tensor([0.1087, 0.5337], grad_fn=<ToCopyBackward0>) tensor([-0.1183, -0.2591,  0.0119,  0.0031]) tensor(-0.0418) False defaultdict(<class 'float'>, {'success': 0.0})\n",
      "tensor(0.2966, grad_fn=<SumBackward0>)\n",
      "121\n",
      "tensor([ 0.0501, -0.0442], grad_fn=<ToCopyBackward0>) tensor([-0.1178, -0.2590,  0.0111,  0.0022]) tensor(2.0877e-29) False defaultdict(<class 'float'>, {'success': 0.0})\n",
      "tensor(0.0045, grad_fn=<SumBackward0>)\n",
      "122\n",
      "tensor([ 0.2007, -0.6676], grad_fn=<ToCopyBackward0>) tensor([-0.1173, -0.2591,  0.0122, -0.0061]) tensor(-0.1765) False defaultdict(<class 'float'>, {'success': 0.0})\n",
      "tensor(0.4859, grad_fn=<SumBackward0>)\n",
      "123\n",
      "tensor([0.0683, 0.5673], grad_fn=<ToCopyBackward0>) tensor([-0.1169, -0.2592,  0.0115,  0.0015]) tensor(-0.0588) False defaultdict(<class 'float'>, {'success': 0.0})\n",
      "tensor(0.3265, grad_fn=<SumBackward0>)\n",
      "124\n",
      "tensor([ 0.1265, -0.0343], grad_fn=<ToCopyBackward0>) tensor([-0.1164, -0.2591,  0.0117,  0.0009]) tensor(2.4813e-29) False defaultdict(<class 'float'>, {'success': 0.0})\n",
      "tensor(0.0172, grad_fn=<SumBackward0>)\n",
      "125\n",
      "tensor([ 0.1888, -0.0557], grad_fn=<ToCopyBackward0>) tensor([-1.1590e-01, -2.5910e-01,  1.2546e-02,  1.1198e-04]) tensor(2.6668e-29) False defaultdict(<class 'float'>, {'success': 0.0})\n",
      "tensor(0.0387, grad_fn=<SumBackward0>)\n",
      "126\n",
      "tensor([ 0.1231, -0.7746], grad_fn=<ToCopyBackward0>) tensor([-0.1154, -0.2594,  0.0125, -0.0093]) tensor(-0.2954) False defaultdict(<class 'float'>, {'success': 0.0})\n",
      "tensor(0.6152, grad_fn=<SumBackward0>)\n",
      "127\n",
      "tensor([ 0.1913, -0.5660], grad_fn=<ToCopyBackward0>) tensor([-0.1149, -0.2599,  0.0133, -0.0150]) tensor(-0.0780) False defaultdict(<class 'float'>, {'success': 0.0})\n",
      "tensor(0.3569, grad_fn=<SumBackward0>)\n",
      "128\n",
      "tensor([0.0220, 0.0044], grad_fn=<ToCopyBackward0>) tensor([-0.1144, -0.2605,  0.0120, -0.0131]) tensor(2.5642e-29) False defaultdict(<class 'float'>, {'success': 0.0})\n",
      "tensor(0.0005, grad_fn=<SumBackward0>)\n",
      "129\n",
      "tensor([ 0.1411, -0.1571], grad_fn=<ToCopyBackward0>) tensor([-0.1139, -0.2610,  0.0122, -0.0135]) tensor(2.4607e-29) False defaultdict(<class 'float'>, {'success': 0.0})\n",
      "tensor(0.0446, grad_fn=<SumBackward0>)\n",
      "130\n",
      "tensor([ 0.0781, -0.6039], grad_fn=<ToCopyBackward0>) tensor([-0.1134, -0.2617,  0.0117, -0.0191]) tensor(-0.0873) False defaultdict(<class 'float'>, {'success': 0.0})\n",
      "tensor(0.3708, grad_fn=<SumBackward0>)\n",
      "131\n",
      "tensor([ 0.0824, -0.2973], grad_fn=<ToCopyBackward0>) tensor([-0.1130, -0.2625,  0.0113, -0.0204]) tensor(2.0857e-29) False defaultdict(<class 'float'>, {'success': 0.0})\n",
      "tensor(0.0951, grad_fn=<SumBackward0>)\n",
      "132\n",
      "tensor([ 0.1046, -0.1810], grad_fn=<ToCopyBackward0>) tensor([-0.1125, -0.2633,  0.0112, -0.0201]) tensor(1.8792e-29) False defaultdict(<class 'float'>, {'success': 0.0})\n",
      "tensor(0.0437, grad_fn=<SumBackward0>)\n",
      "133\n",
      "tensor([ 0.0502, -0.4884], grad_fn=<ToCopyBackward0>) tensor([-0.1121, -0.2642,  0.0104, -0.0236]) tensor(-0.0165) False defaultdict(<class 'float'>, {'success': 0.0})\n",
      "tensor(0.2410, grad_fn=<SumBackward0>)\n",
      "134\n",
      "tensor([0.1327, 0.1007], grad_fn=<ToCopyBackward0>) tensor([-0.1117, -0.2651,  0.0108, -0.0195]) tensor(1.4792e-29) False defaultdict(<class 'float'>, {'success': 0.0})\n",
      "tensor(0.0278, grad_fn=<SumBackward0>)\n",
      "135\n",
      "tensor([ 0.1484, -0.5294], grad_fn=<ToCopyBackward0>) tensor([-0.1112, -0.2660,  0.0113, -0.0236]) tensor(-0.0449) False defaultdict(<class 'float'>, {'success': 0.0})\n",
      "tensor(0.3023, grad_fn=<SumBackward0>)\n",
      "136\n",
      "tensor([0.1050, 0.7398], grad_fn=<ToCopyBackward0>) tensor([-0.1108, -0.2665,  0.0112, -0.0118]) tensor(-0.2412) False defaultdict(<class 'float'>, {'success': 0.0})\n",
      "tensor(0.5584, grad_fn=<SumBackward0>)\n",
      "137\n",
      "tensor([ 0.0639, -0.7158], grad_fn=<ToCopyBackward0>) tensor([-0.1103, -0.2672,  0.0106, -0.0190]) tensor(-0.2031) False defaultdict(<class 'float'>, {'success': 0.0})\n",
      "tensor(0.5165, grad_fn=<SumBackward0>)\n",
      "138\n",
      "tensor([0.0494, 0.8357], grad_fn=<ToCopyBackward0>) tensor([-0.1099, -0.2676,  0.0099, -0.0066]) tensor(-0.3822) False defaultdict(<class 'float'>, {'success': 0.0})\n",
      "tensor(0.7008, grad_fn=<SumBackward0>)\n",
      "139\n",
      "tensor([ 0.0637, -0.8710], grad_fn=<ToCopyBackward0>) tensor([-0.1096, -0.2682,  0.0095, -0.0163]) tensor(-0.4481) False defaultdict(<class 'float'>, {'success': 0.0})\n",
      "tensor(0.7627, grad_fn=<SumBackward0>)\n",
      "140\n",
      "tensor([-0.0075, -0.7060], grad_fn=<ToCopyBackward0>) tensor([-0.1092, -0.2690,  0.0082, -0.0229]) tensor(-0.1873) False defaultdict(<class 'float'>, {'success': 0.0})\n",
      "tensor(0.4985, grad_fn=<SumBackward0>)\n",
      "141\n",
      "tensor([ 0.0430, -0.4969], grad_fn=<ToCopyBackward0>) tensor([-0.1089, -0.2700,  0.0078, -0.0262]) tensor(-0.0195) False defaultdict(<class 'float'>, {'success': 0.0})\n",
      "tensor(0.2488, grad_fn=<SumBackward0>)\n",
      "142\n",
      "tensor([-0.0316, -0.7089], grad_fn=<ToCopyBackward0>) tensor([-0.1086, -0.2713,  0.0064, -0.0316]) tensor(-0.1917) False defaultdict(<class 'float'>, {'success': 0.0})\n",
      "tensor(0.5035, grad_fn=<SumBackward0>)\n",
      "143\n",
      "tensor([ 0.0693, -0.0124], grad_fn=<ToCopyBackward0>) tensor([-0.1084, -0.2724,  0.0065, -0.0279]) tensor(5.1694e-30) False defaultdict(<class 'float'>, {'success': 0.0})\n",
      "tensor(0.0050, grad_fn=<SumBackward0>)\n",
      "144\n",
      "tensor([ 0.0813, -0.7510], grad_fn=<ToCopyBackward0>) tensor([-0.1081, -0.2737,  0.0067, -0.0336]) tensor(-0.2526) False defaultdict(<class 'float'>, {'success': 0.0})\n",
      "tensor(0.5707, grad_fn=<SumBackward0>)\n",
      "145\n",
      "tensor([ 0.1255, -0.0564], grad_fn=<ToCopyBackward0>) tensor([-0.1078, -0.2749,  0.0074, -0.0302]) tensor(3.2885e-30) False defaultdict(<class 'float'>, {'success': 0.0})\n",
      "tensor(0.0189, grad_fn=<SumBackward0>)\n",
      "146\n",
      "tensor([0.0607, 0.1660], grad_fn=<ToCopyBackward0>) tensor([-0.1075, -0.2760,  0.0072, -0.0246]) tensor(2.7157e-30) False defaultdict(<class 'float'>, {'success': 0.0})\n",
      "tensor(0.0312, grad_fn=<SumBackward0>)\n",
      "147\n",
      "tensor([ 0.0339, -0.5002], grad_fn=<ToCopyBackward0>) tensor([-0.1072, -0.2771,  0.0068, -0.0276]) tensor(-0.0205) False defaultdict(<class 'float'>, {'success': 0.0})\n",
      "tensor(0.2513, grad_fn=<SumBackward0>)\n",
      "148\n",
      "tensor([ 0.0407, -0.7111], grad_fn=<ToCopyBackward0>) tensor([-0.1070, -0.2783,  0.0064, -0.0329]) tensor(-0.1950) False defaultdict(<class 'float'>, {'success': 0.0})\n",
      "tensor(0.5073, grad_fn=<SumBackward0>)\n",
      "149\n",
      "tensor([ 0.0955, -0.3902], grad_fn=<ToCopyBackward0>) tensor([-0.1067, -0.2797,  0.0068, -0.0336]) tensor(-6.2462e-06) False defaultdict(<class 'float'>, {'success': 0.0})\n",
      "tensor(0.1614, grad_fn=<SumBackward0>)\n",
      "150\n",
      "tensor([ 0.0491, -0.5626], grad_fn=<ToCopyBackward0>) tensor([-0.1065, -0.2811,  0.0066, -0.0364]) tensor(-0.0543) False defaultdict(<class 'float'>, {'success': 0.0})\n",
      "tensor(0.3189, grad_fn=<SumBackward0>)\n",
      "151\n",
      "tensor([-0.0010,  0.2275], grad_fn=<ToCopyBackward0>) tensor([-0.1062, -0.2823,  0.0058, -0.0292]) tensor(8.5219e-31) False defaultdict(<class 'float'>, {'success': 0.0})\n",
      "tensor(0.0518, grad_fn=<SumBackward0>)\n",
      "152\n",
      "tensor([0.1288, 0.2073], grad_fn=<ToCopyBackward0>) tensor([-0.1060, -0.2833,  0.0066, -0.0232]) tensor(7.0394e-31) False defaultdict(<class 'float'>, {'success': 0.0})\n",
      "tensor(0.0596, grad_fn=<SumBackward0>)\n",
      "153\n",
      "tensor([ 0.0132, -0.1422], grad_fn=<ToCopyBackward0>) tensor([-0.1057, -0.2842,  0.0060, -0.0221]) tensor(5.9977e-31) False defaultdict(<class 'float'>, {'success': 0.0})\n",
      "tensor(0.0204, grad_fn=<SumBackward0>)\n",
      "154\n",
      "tensor([ 0.1187, -0.3000], grad_fn=<ToCopyBackward0>) tensor([-0.1054, -0.2851,  0.0067, -0.0230]) tensor(5.1118e-31) False defaultdict(<class 'float'>, {'success': 0.0})\n",
      "tensor(0.1041, grad_fn=<SumBackward0>)\n",
      "155\n",
      "tensor([ 0.0511, -0.3267], grad_fn=<ToCopyBackward0>) tensor([-0.1052, -0.2861,  0.0065, -0.0242]) tensor(4.3215e-31) False defaultdict(<class 'float'>, {'success': 0.0})\n",
      "tensor(0.1093, grad_fn=<SumBackward0>)\n",
      "156\n",
      "tensor([ 0.0709, -0.0521], grad_fn=<ToCopyBackward0>) tensor([-0.1049, -0.2870,  0.0066, -0.0219]) tensor(3.6683e-31) False defaultdict(<class 'float'>, {'success': 0.0})\n",
      "tensor(0.0077, grad_fn=<SumBackward0>)\n",
      "157\n",
      "tensor([0.1911, 0.2917], grad_fn=<ToCopyBackward0>) tensor([-0.1046, -0.2877,  0.0081, -0.0157]) tensor(3.2433e-31) False defaultdict(<class 'float'>, {'success': 0.0})\n",
      "tensor(0.1216, grad_fn=<SumBackward0>)\n",
      "158\n",
      "tensor([ 0.0205, -0.1582], grad_fn=<ToCopyBackward0>) tensor([-0.1043, -0.2883,  0.0074, -0.0157]) tensor(2.9506e-31) False defaultdict(<class 'float'>, {'success': 0.0})\n",
      "tensor(0.0255, grad_fn=<SumBackward0>)\n",
      "159\n",
      "tensor([ 0.0363, -0.2506], grad_fn=<ToCopyBackward0>) tensor([-0.1040, -0.2890,  0.0069, -0.0169]) tensor(2.6620e-31) False defaultdict(<class 'float'>, {'success': 0.0})\n",
      "tensor(0.0641, grad_fn=<SumBackward0>)\n",
      "160\n",
      "tensor([ 0.1391, -0.8913], grad_fn=<ToCopyBackward0>) tensor([-0.1037, -0.2899,  0.0078, -0.0256]) tensor(-0.5041) False defaultdict(<class 'float'>, {'success': 0.0})\n",
      "tensor(0.8137, grad_fn=<SumBackward0>)\n",
      "161\n",
      "tensor([ 0.0901, -0.0568], grad_fn=<ToCopyBackward0>) tensor([-0.1034, -0.2903,  0.0079,  0.0019]) tensor(2.0494e-31) False defaultdict(<class 'float'>, {'success': 0.0})\n",
      "tensor(0.0113, grad_fn=<SumBackward0>)\n",
      "162\n",
      "tensor([0.1056, 0.4361], grad_fn=<ToCopyBackward0>) tensor([-0.1031, -0.2901,  0.0082,  0.0069]) tensor(-0.0047) False defaultdict(<class 'float'>, {'success': 0.0})\n",
      "tensor(0.2013, grad_fn=<SumBackward0>)\n",
      "163\n",
      "tensor([0.1458, 0.0669], grad_fn=<ToCopyBackward0>) tensor([-0.1027, -0.2898,  0.0090,  0.0069]) tensor(2.4757e-31) False defaultdict(<class 'float'>, {'success': 0.0})\n",
      "tensor(0.0257, grad_fn=<SumBackward0>)\n",
      "164\n",
      "tensor([ 0.0646, -0.2431], grad_fn=<ToCopyBackward0>) tensor([-0.1024, -0.2897,  0.0087,  0.0031]) tensor(2.7106e-31) False defaultdict(<class 'float'>, {'success': 0.0})\n",
      "tensor(0.0633, grad_fn=<SumBackward0>)\n",
      "165\n",
      "tensor([0.0744, 0.1076], grad_fn=<ToCopyBackward0>) tensor([-0.1020, -0.2895,  0.0085,  0.0040]) tensor(2.9290e-31) False defaultdict(<class 'float'>, {'success': 0.0})\n",
      "tensor(0.0171, grad_fn=<SumBackward0>)\n",
      "166\n",
      "tensor([ 0.0549, -0.8304], grad_fn=<ToCopyBackward0>) tensor([-0.1017, -0.2897,  0.0082, -0.0065]) tensor(-0.3736) False defaultdict(<class 'float'>, {'success': 0.0})\n",
      "tensor(0.6925, grad_fn=<SumBackward0>)\n",
      "167\n",
      "tensor([ 0.1296, -0.5764], grad_fn=<ToCopyBackward0>) tensor([-0.1014, -0.2901,  0.0088, -0.0127]) tensor(-0.0728) False defaultdict(<class 'float'>, {'success': 0.0})\n",
      "tensor(0.3491, grad_fn=<SumBackward0>)\n",
      "168\n",
      "tensor([ 0.1417, -0.0602], grad_fn=<ToCopyBackward0>) tensor([-0.1010, -0.2901,  0.0094,  0.0014]) tensor(2.9846e-31) False defaultdict(<class 'float'>, {'success': 0.0})\n",
      "tensor(0.0237, grad_fn=<SumBackward0>)\n",
      "169\n",
      "tensor([-0.0456, -0.4393], grad_fn=<ToCopyBackward0>) tensor([-0.1007, -0.2901,  0.0077,  0.0007]) tensor(-0.0035) False defaultdict(<class 'float'>, {'success': 0.0})\n",
      "tensor(0.1951, grad_fn=<SumBackward0>)\n",
      "170\n",
      "tensor([ 0.1070, -0.1328], grad_fn=<ToCopyBackward0>) tensor([-0.1003, -0.2900,  0.0081,  0.0006]) tensor(3.3080e-31) False defaultdict(<class 'float'>, {'success': 0.0})\n",
      "tensor(0.0291, grad_fn=<SumBackward0>)\n",
      "171\n",
      "tensor([ 0.1827, -0.1903], grad_fn=<ToCopyBackward0>) tensor([-0.1000, -0.2900,  0.0093,  0.0003]) tensor(3.4783e-31) False defaultdict(<class 'float'>, {'success': 0.0})\n",
      "tensor(0.0696, grad_fn=<SumBackward0>)\n",
      "172\n",
      "tensor([ 0.0755, -0.7563], grad_fn=<ToCopyBackward0>) tensor([-9.9623e-02, -2.9004e-01,  9.0989e-03, -1.4276e-04]) tensor(-0.2593) False defaultdict(<class 'float'>, {'success': 0.0})\n",
      "tensor(0.5778, grad_fn=<SumBackward0>)\n",
      "173\n",
      "tensor([ 0.0154, -0.1750], grad_fn=<ToCopyBackward0>) tensor([-9.9286e-02, -2.9003e-01,  8.1834e-03,  2.3723e-04]) tensor(3.8293e-31) False defaultdict(<class 'float'>, {'success': 0.0})\n",
      "tensor(0.0309, grad_fn=<SumBackward0>)\n",
      "174\n",
      "tensor([0.2070, 0.1739], grad_fn=<ToCopyBackward0>) tensor([-0.0989, -0.2900,  0.0097,  0.0023]) tensor(4.0620e-31) False defaultdict(<class 'float'>, {'success': 0.0})\n",
      "tensor(0.0731, grad_fn=<SumBackward0>)\n",
      "175\n",
      "tensor([ 0.0015, -0.2749], grad_fn=<ToCopyBackward0>) tensor([-0.0986, -0.2900,  0.0085, -0.0013]) tensor(4.2808e-31) False defaultdict(<class 'float'>, {'success': 0.0})\n",
      "tensor(0.0756, grad_fn=<SumBackward0>)\n",
      "176\n",
      "tensor([-0.0282, -0.7394], grad_fn=<ToCopyBackward0>) tensor([-9.8260e-02, -2.9009e-01,  7.1669e-03, -1.5657e-04]) tensor(-0.2311) False defaultdict(<class 'float'>, {'success': 0.0})\n",
      "tensor(0.5475, grad_fn=<SumBackward0>)\n",
      "177\n",
      "tensor([-0.0709, -0.6478], grad_fn=<ToCopyBackward0>) tensor([-0.0980, -0.2901,  0.0054,  0.0005]) tensor(-0.1267) False defaultdict(<class 'float'>, {'success': 0.0})\n",
      "tensor(0.4246, grad_fn=<SumBackward0>)\n",
      "178\n",
      "tensor([ 0.0957, -0.6407], grad_fn=<ToCopyBackward0>) tensor([-0.0978, -0.2901,  0.0059,  0.0003]) tensor(-0.1228) False defaultdict(<class 'float'>, {'success': 0.0})\n",
      "tensor(0.4196, grad_fn=<SumBackward0>)\n",
      "179\n",
      "tensor([-0.0886, -0.5060], grad_fn=<ToCopyBackward0>) tensor([-9.7610e-02, -2.9005e-01,  4.1494e-03,  2.4168e-04]) tensor(-0.0259) False defaultdict(<class 'float'>, {'success': 0.0})\n",
      "tensor(0.2639, grad_fn=<SumBackward0>)\n",
      "180\n",
      "tensor([ 0.1291, -0.6297], grad_fn=<ToCopyBackward0>) tensor([-9.7412e-02, -2.9004e-01,  5.2100e-03,  7.0029e-05]) tensor(-0.1179) False defaultdict(<class 'float'>, {'success': 0.0})\n",
      "tensor(0.4132, grad_fn=<SumBackward0>)\n",
      "181\n",
      "tensor([0.0888, 0.1072], grad_fn=<ToCopyBackward0>) tensor([-0.0972, -0.2900,  0.0057,  0.0014]) tensor(5.0899e-31) False defaultdict(<class 'float'>, {'success': 0.0})\n",
      "tensor(0.0194, grad_fn=<SumBackward0>)\n",
      "182\n",
      "tensor([ 0.1452, -0.1570], grad_fn=<ToCopyBackward0>) tensor([-0.0969, -0.2900,  0.0067, -0.0007]) tensor(5.2734e-31) False defaultdict(<class 'float'>, {'success': 0.0})\n",
      "tensor(0.0457, grad_fn=<SumBackward0>)\n",
      "183\n",
      "tensor([-0.0527, -0.4171], grad_fn=<ToCopyBackward0>) tensor([-9.6706e-02, -2.9002e-01,  5.2749e-03, -1.5138e-04]) tensor(-0.0008) False defaultdict(<class 'float'>, {'success': 0.0})\n",
      "tensor(0.1767, grad_fn=<SumBackward0>)\n",
      "184\n",
      "tensor([ 0.1219, -0.6497], grad_fn=<ToCopyBackward0>) tensor([-9.6470e-02, -2.9003e-01,  6.1127e-03, -2.1148e-04]) tensor(-0.1363) False defaultdict(<class 'float'>, {'success': 0.0})\n",
      "tensor(0.4370, grad_fn=<SumBackward0>)\n",
      "185\n",
      "tensor([ 0.1005, -0.7104], grad_fn=<ToCopyBackward0>) tensor([-9.6211e-02, -2.9003e-01,  6.5900e-03, -1.5689e-04]) tensor(-0.2016) False defaultdict(<class 'float'>, {'success': 0.0})\n",
      "tensor(0.5148, grad_fn=<SumBackward0>)\n",
      "186\n",
      "tensor([0.0536, 0.0020], grad_fn=<ToCopyBackward0>) tensor([-0.0960, -0.2900,  0.0064,  0.0003]) tensor(5.9738e-31) False defaultdict(<class 'float'>, {'success': 0.0})\n",
      "tensor(0.0029, grad_fn=<SumBackward0>)\n",
      "187\n",
      "tensor([0.0854, 0.0981], grad_fn=<ToCopyBackward0>) tensor([-0.0957, -0.2900,  0.0067,  0.0015]) tensor(6.2328e-31) False defaultdict(<class 'float'>, {'success': 0.0})\n",
      "tensor(0.0169, grad_fn=<SumBackward0>)\n",
      "188\n",
      "tensor([ 0.0909, -0.0096], grad_fn=<ToCopyBackward0>) tensor([-0.0954, -0.2899,  0.0070,  0.0012]) tensor(6.5356e-31) False defaultdict(<class 'float'>, {'success': 0.0})\n",
      "tensor(0.0084, grad_fn=<SumBackward0>)\n",
      "189\n",
      "tensor([-0.0751, -0.6193], grad_fn=<ToCopyBackward0>) tensor([-0.0952, -0.2901,  0.0052, -0.0065]) tensor(-0.1002) False defaultdict(<class 'float'>, {'success': 0.0})\n",
      "tensor(0.3892, grad_fn=<SumBackward0>)\n",
      "190\n",
      "tensor([0.0454, 0.0984], grad_fn=<ToCopyBackward0>) tensor([-0.0950, -0.2901,  0.0051,  0.0011]) tensor(6.7091e-31) False defaultdict(<class 'float'>, {'success': 0.0})\n",
      "tensor(0.0118, grad_fn=<SumBackward0>)\n",
      "191\n",
      "tensor([ 0.1530, -0.7096], grad_fn=<ToCopyBackward0>) tensor([-9.4734e-02, -2.9006e-01,  6.3757e-03,  2.8971e-04]) tensor(-0.2124) False defaultdict(<class 'float'>, {'success': 0.0})\n",
      "tensor(0.5269, grad_fn=<SumBackward0>)\n",
      "192\n",
      "tensor([-0.0066,  0.1642], grad_fn=<ToCopyBackward0>) tensor([-0.0945, -0.2900,  0.0055,  0.0022]) tensor(7.2510e-31) False defaultdict(<class 'float'>, {'success': 0.0})\n",
      "tensor(0.0270, grad_fn=<SumBackward0>)\n",
      "193\n",
      "tensor([ 0.0415, -0.1527], grad_fn=<ToCopyBackward0>) tensor([-9.4288e-02, -2.8996e-01,  5.3580e-03,  1.2302e-04]) tensor(7.5362e-31) False defaultdict(<class 'float'>, {'success': 0.0})\n",
      "tensor(0.0250, grad_fn=<SumBackward0>)\n",
      "194\n",
      "tensor([ 0.1974, -0.7091], grad_fn=<ToCopyBackward0>) tensor([-0.0940, -0.2901,  0.0071, -0.0004]) tensor(-0.2259) False defaultdict(<class 'float'>, {'success': 0.0})\n",
      "tensor(0.5418, grad_fn=<SumBackward0>)\n",
      "195\n",
      "tensor([-0.0287, -0.2821], grad_fn=<ToCopyBackward0>) tensor([-0.0938, -0.2900,  0.0059,  0.0004]) tensor(7.9136e-31) False defaultdict(<class 'float'>, {'success': 0.0})\n",
      "tensor(0.0804, grad_fn=<SumBackward0>)\n",
      "196\n",
      "tensor([0.0554, 0.1689], grad_fn=<ToCopyBackward0>) tensor([-0.0935, -0.2900,  0.0058,  0.0024]) tensor(8.2602e-31) False defaultdict(<class 'float'>, {'success': 0.0})\n",
      "tensor(0.0316, grad_fn=<SumBackward0>)\n",
      "197\n",
      "tensor([-0.0128, -0.0582], grad_fn=<ToCopyBackward0>) tensor([-0.0933, -0.2899,  0.0050,  0.0014]) tensor(8.6363e-31) False defaultdict(<class 'float'>, {'success': 0.0})\n",
      "tensor(0.0036, grad_fn=<SumBackward0>)\n",
      "198\n",
      "tensor([ 0.0027, -0.0265], grad_fn=<ToCopyBackward0>) tensor([-0.0931, -0.2899,  0.0044,  0.0009]) tensor(8.9384e-31) False defaultdict(<class 'float'>, {'success': 0.0})\n",
      "tensor(0.0007, grad_fn=<SumBackward0>)\n",
      "199\n",
      "tensor([ 0.1034, -0.1894], grad_fn=<ToCopyBackward0>) tensor([-0.0930, -0.2899,  0.0051, -0.0015]) tensor(9.1378e-31) False defaultdict(<class 'float'>, {'success': 0.0})\n",
      "tensor(0.0466, grad_fn=<SumBackward0>)\n",
      "200\n",
      "tensor([-0.0558, -0.6000], grad_fn=<ToCopyBackward0>) tensor([-0.0928, -0.2900,  0.0038, -0.0009]) tensor(-0.0821) False defaultdict(<class 'float'>, {'success': 0.0})\n",
      "tensor(0.3631, grad_fn=<SumBackward0>)\n",
      "201\n",
      "tensor([-0.0394, -0.7636], grad_fn=<ToCopyBackward0>) tensor([-9.2660e-02, -2.9003e-01,  2.8935e-03, -2.4330e-04]) tensor(-0.2659) False defaultdict(<class 'float'>, {'success': 0.0})\n",
      "tensor(0.5846, grad_fn=<SumBackward0>)\n",
      "202\n",
      "tensor([ 0.0742, -0.0858], grad_fn=<ToCopyBackward0>) tensor([-9.2528e-02, -2.9002e-01,  3.4420e-03,  2.4562e-04]) tensor(9.3823e-31) False defaultdict(<class 'float'>, {'success': 0.0})\n",
      "tensor(0.0129, grad_fn=<SumBackward0>)\n",
      "203\n",
      "tensor([ 0.0242, -0.5985], grad_fn=<ToCopyBackward0>) tensor([-9.2394e-02, -2.9003e-01,  3.3181e-03, -1.3906e-04]) tensor(-0.0792) False defaultdict(<class 'float'>, {'success': 0.0})\n",
      "tensor(0.3588, grad_fn=<SumBackward0>)\n",
      "204\n",
      "tensor([ 0.1548, -0.2501], grad_fn=<ToCopyBackward0>) tensor([-9.2217e-02, -2.9002e-01,  4.7903e-03,  1.1003e-04]) tensor(9.7534e-31) False defaultdict(<class 'float'>, {'success': 0.0})\n",
      "tensor(0.0865, grad_fn=<SumBackward0>)\n",
      "205\n",
      "tensor([ 0.0650, -0.3415], grad_fn=<ToCopyBackward0>) tensor([-9.2019e-02, -2.9002e-01,  4.9977e-03,  1.5359e-05]) tensor(1.0009e-30) False defaultdict(<class 'float'>, {'success': 0.0})\n",
      "tensor(0.1208, grad_fn=<SumBackward0>)\n",
      "206\n",
      "tensor([ 0.0353, -0.3186], grad_fn=<ToCopyBackward0>) tensor([-9.1824e-02, -2.9002e-01,  4.8201e-03,  2.0654e-05]) tensor(1.0269e-30) False defaultdict(<class 'float'>, {'success': 0.0})\n",
      "tensor(0.1027, grad_fn=<SumBackward0>)\n",
      "207\n",
      "tensor([0.0636, 0.1499], grad_fn=<ToCopyBackward0>) tensor([-0.0916, -0.2900,  0.0050,  0.0018]) tensor(1.0621e-30) False defaultdict(<class 'float'>, {'success': 0.0})\n",
      "tensor(0.0265, grad_fn=<SumBackward0>)\n",
      "208\n",
      "tensor([0.1475, 0.1474], grad_fn=<ToCopyBackward0>) tensor([-0.0914, -0.2898,  0.0062,  0.0034]) tensor(1.1188e-30) False defaultdict(<class 'float'>, {'success': 0.0})\n",
      "tensor(0.0435, grad_fn=<SumBackward0>)\n",
      "209\n",
      "tensor([-0.0003, -0.2689], grad_fn=<ToCopyBackward0>) tensor([-9.1165e-02, -2.8982e-01,  5.4333e-03, -2.7127e-04]) tensor(1.1683e-30) False defaultdict(<class 'float'>, {'success': 0.0})\n",
      "tensor(0.0723, grad_fn=<SumBackward0>)\n",
      "210\n",
      "tensor([ 0.1837, -0.0979], grad_fn=<ToCopyBackward0>) tensor([-0.0909, -0.2899,  0.0070, -0.0014]) tensor(1.1976e-30) False defaultdict(<class 'float'>, {'success': 0.0})\n",
      "tensor(0.0433, grad_fn=<SumBackward0>)\n",
      "211\n",
      "tensor([0.0250, 0.0277], grad_fn=<ToCopyBackward0>) tensor([-0.0906, -0.2899,  0.0065, -0.0009]) tensor(1.2274e-30) False defaultdict(<class 'float'>, {'success': 0.0})\n",
      "tensor(0.0014, grad_fn=<SumBackward0>)\n",
      "212\n",
      "tensor([0.1784, 0.0379], grad_fn=<ToCopyBackward0>) tensor([-0.0903, -0.2899,  0.0078, -0.0003]) tensor(1.2667e-30) False defaultdict(<class 'float'>, {'success': 0.0})\n",
      "tensor(0.0333, grad_fn=<SumBackward0>)\n",
      "213\n",
      "tensor([-0.1560,  0.1659], grad_fn=<ToCopyBackward0>) tensor([-0.0901, -0.2899,  0.0050,  0.0017]) tensor(1.3172e-30) False defaultdict(<class 'float'>, {'success': 0.0})\n",
      "tensor(0.0519, grad_fn=<SumBackward0>)\n",
      "214\n",
      "tensor([ 0.1424, -0.2913], grad_fn=<ToCopyBackward0>) tensor([-0.0899, -0.2899,  0.0061, -0.0020]) tensor(1.3532e-30) False defaultdict(<class 'float'>, {'success': 0.0})\n",
      "tensor(0.1051, grad_fn=<SumBackward0>)\n",
      "215\n",
      "tensor([-0.0024, -0.7652], grad_fn=<ToCopyBackward0>) tensor([-0.0897, -0.2901,  0.0053, -0.0006]) tensor(-0.2667) False defaultdict(<class 'float'>, {'success': 0.0})\n",
      "tensor(0.5855, grad_fn=<SumBackward0>)\n",
      "216\n",
      "tensor([0.0674, 0.0567], grad_fn=<ToCopyBackward0>) tensor([-0.0894, -0.2900,  0.0055,  0.0010]) tensor(1.3896e-30) False defaultdict(<class 'float'>, {'success': 0.0})\n",
      "tensor(0.0078, grad_fn=<SumBackward0>)\n",
      "217\n",
      "tensor([ 0.0339, -0.4885], grad_fn=<ToCopyBackward0>) tensor([-8.9223e-02, -2.9003e-01,  5.2575e-03,  3.7316e-05]) tensor(-0.0161) False defaultdict(<class 'float'>, {'success': 0.0})\n",
      "tensor(0.2398, grad_fn=<SumBackward0>)\n",
      "218\n",
      "tensor([-0.0764,  0.1719], grad_fn=<ToCopyBackward0>) tensor([-0.0891, -0.2900,  0.0037,  0.0021]) tensor(1.4801e-30) False defaultdict(<class 'float'>, {'success': 0.0})\n",
      "tensor(0.0354, grad_fn=<SumBackward0>)\n",
      "219\n",
      "tensor([0.1798, 0.0414], grad_fn=<ToCopyBackward0>) tensor([-0.0889, -0.2899,  0.0054,  0.0024]) tensor(1.5452e-30) False defaultdict(<class 'float'>, {'success': 0.0})\n",
      "tensor(0.0340, grad_fn=<SumBackward0>)\n",
      "220\n",
      "tensor([-0.0370, -0.3830], grad_fn=<ToCopyBackward0>) tensor([-0.0887, -0.2899,  0.0043, -0.0026]) tensor(1.5822e-30) False defaultdict(<class 'float'>, {'success': 0.0})\n",
      "tensor(0.1481, grad_fn=<SumBackward0>)\n",
      "221\n",
      "tensor([ 0.0538, -0.0362], grad_fn=<ToCopyBackward0>) tensor([-0.0885, -0.2900,  0.0044, -0.0027]) tensor(1.5816e-30) False defaultdict(<class 'float'>, {'success': 0.0})\n",
      "tensor(0.0042, grad_fn=<SumBackward0>)\n",
      "222\n",
      "tensor([-0.0696,  0.1802], grad_fn=<ToCopyBackward0>) tensor([-0.0884, -0.2900,  0.0031,  0.0013]) tensor(1.6088e-30) False defaultdict(<class 'float'>, {'success': 0.0})\n",
      "tensor(0.0373, grad_fn=<SumBackward0>)\n",
      "223\n",
      "tensor([0.0187, 0.5940], grad_fn=<ToCopyBackward0>) tensor([-0.0882, -0.2897,  0.0029,  0.0083]) tensor(-0.0755) False defaultdict(<class 'float'>, {'success': 0.0})\n",
      "tensor(0.3532, grad_fn=<SumBackward0>)\n",
      "224\n",
      "tensor([ 0.0466, -0.2059], grad_fn=<ToCopyBackward0>) tensor([-0.0881, -0.2895,  0.0031,  0.0048]) tensor(1.8333e-30) False defaultdict(<class 'float'>, {'success': 0.0})\n",
      "tensor(0.0445, grad_fn=<SumBackward0>)\n",
      "225\n",
      "tensor([ 0.0784, -0.4043], grad_fn=<ToCopyBackward0>) tensor([-0.0880, -0.2895,  0.0037, -0.0006]) tensor(-0.0003) False defaultdict(<class 'float'>, {'success': 0.0})\n",
      "tensor(0.1696, grad_fn=<SumBackward0>)\n",
      "226\n",
      "tensor([-0.0102, -0.8065], grad_fn=<ToCopyBackward0>) tensor([-0.0878, -0.2898,  0.0031, -0.0103]) tensor(-0.3306) False defaultdict(<class 'float'>, {'success': 0.0})\n",
      "tensor(0.6506, grad_fn=<SumBackward0>)\n",
      "227\n",
      "tensor([0.0179, 0.0376], grad_fn=<ToCopyBackward0>) tensor([-0.0877, -0.2902,  0.0030, -0.0086]) tensor(1.7226e-30) False defaultdict(<class 'float'>, {'success': 0.0})\n",
      "tensor(0.0017, grad_fn=<SumBackward0>)\n",
      "228\n",
      "tensor([-0.0343, -0.7541], grad_fn=<ToCopyBackward0>) tensor([-0.0876, -0.2901,  0.0022,  0.0012]) tensor(-0.2519) False defaultdict(<class 'float'>, {'success': 0.0})\n",
      "tensor(0.5699, grad_fn=<SumBackward0>)\n",
      "229\n",
      "tensor([ 0.0727, -0.8229], grad_fn=<ToCopyBackward0>) tensor([-0.0875, -0.2901,  0.0028,  0.0008]) tensor(-0.3631) False defaultdict(<class 'float'>, {'success': 0.0})\n",
      "tensor(0.6824, grad_fn=<SumBackward0>)\n",
      "230\n",
      "tensor([0.1106, 0.6263], grad_fn=<ToCopyBackward0>) tensor([-0.0874, -0.2898,  0.0038,  0.0083]) tensor(-0.1114) False defaultdict(<class 'float'>, {'success': 0.0})\n",
      "tensor(0.4045, grad_fn=<SumBackward0>)\n",
      "231\n",
      "tensor([0.0297, 0.0111], grad_fn=<ToCopyBackward0>) tensor([-0.0872, -0.2895,  0.0037,  0.0074]) tensor(2.0310e-30) False defaultdict(<class 'float'>, {'success': 0.0})\n",
      "tensor(0.0010, grad_fn=<SumBackward0>)\n",
      "232\n",
      "tensor([0.0110, 0.0815], grad_fn=<ToCopyBackward0>) tensor([-0.0871, -0.2892,  0.0034,  0.0075]) tensor(2.2065e-30) False defaultdict(<class 'float'>, {'success': 0.0})\n",
      "tensor(0.0068, grad_fn=<SumBackward0>)\n",
      "233\n",
      "tensor([-0.0030,  0.6110], grad_fn=<ToCopyBackward0>) tensor([-0.0870, -0.2887,  0.0029,  0.0140]) tensor(-0.0890) False defaultdict(<class 'float'>, {'success': 0.0})\n",
      "tensor(0.3733, grad_fn=<SumBackward0>)\n",
      "234\n",
      "tensor([ 0.0945, -0.4787], grad_fn=<ToCopyBackward0>) tensor([-0.0868, -0.2884,  0.0037,  0.0065]) tensor(-0.0155) False defaultdict(<class 'float'>, {'success': 0.0})\n",
      "tensor(0.2381, grad_fn=<SumBackward0>)\n",
      "235\n",
      "tensor([ 0.1609, -0.4212], grad_fn=<ToCopyBackward0>) tensor([-0.0866, -0.2883,  0.0052,  0.0006]) tensor(-0.0052) False defaultdict(<class 'float'>, {'success': 0.0})\n",
      "tensor(0.2033, grad_fn=<SumBackward0>)\n",
      "236\n",
      "tensor([-0.0079,  0.0816], grad_fn=<ToCopyBackward0>) tensor([-0.0865, -0.2883,  0.0045,  0.0015]) tensor(2.9858e-30) False defaultdict(<class 'float'>, {'success': 0.0})\n",
      "tensor(0.0067, grad_fn=<SumBackward0>)\n",
      "237\n",
      "tensor([ 0.1385, -0.5392], grad_fn=<ToCopyBackward0>) tensor([-0.0862, -0.2884,  0.0056, -0.0052]) tensor(-0.0491) False defaultdict(<class 'float'>, {'success': 0.0})\n",
      "tensor(0.3099, grad_fn=<SumBackward0>)\n",
      "238\n",
      "tensor([ 0.0758, -0.3197], grad_fn=<ToCopyBackward0>) tensor([-0.0860, -0.2887,  0.0059, -0.0084]) tensor(2.9246e-30) False defaultdict(<class 'float'>, {'success': 0.0})\n",
      "tensor(0.1080, grad_fn=<SumBackward0>)\n",
      "239\n",
      "tensor([ 0.0698, -0.2772], grad_fn=<ToCopyBackward0>) tensor([-0.0858, -0.2891,  0.0060, -0.0108]) tensor(2.7727e-30) False defaultdict(<class 'float'>, {'success': 0.0})\n",
      "tensor(0.0817, grad_fn=<SumBackward0>)\n",
      "240\n",
      "tensor([ 0.0735, -0.3195], grad_fn=<ToCopyBackward0>) tensor([-0.0855, -0.2896,  0.0062, -0.0133]) tensor(2.5749e-30) False defaultdict(<class 'float'>, {'success': 0.0})\n",
      "tensor(0.1075, grad_fn=<SumBackward0>)\n",
      "241\n",
      "tensor([-0.0119,  0.1361], grad_fn=<ToCopyBackward0>) tensor([-0.0853, -0.2901,  0.0053, -0.0101]) tensor(2.3942e-30) False defaultdict(<class 'float'>, {'success': 0.0})\n",
      "tensor(0.0187, grad_fn=<SumBackward0>)\n",
      "242\n",
      "tensor([-0.0421, -0.4973], grad_fn=<ToCopyBackward0>) tensor([-0.0851, -0.2901,  0.0041,  0.0005]) tensor(-0.0196) False defaultdict(<class 'float'>, {'success': 0.0})\n",
      "tensor(0.2491, grad_fn=<SumBackward0>)\n",
      "243\n",
      "tensor([0.0828, 0.6164], grad_fn=<ToCopyBackward0>) tensor([-0.0849, -0.2898,  0.0046,  0.0079]) tensor(-0.0985) False defaultdict(<class 'float'>, {'success': 0.0})\n",
      "tensor(0.3868, grad_fn=<SumBackward0>)\n",
      "244\n",
      "tensor([ 0.0842, -0.4159], grad_fn=<ToCopyBackward0>) tensor([-0.0847, -0.2897,  0.0051,  0.0019]) tensor(-0.0012) False defaultdict(<class 'float'>, {'success': 0.0})\n",
      "tensor(0.1800, grad_fn=<SumBackward0>)\n",
      "245\n",
      "tensor([0.1324, 0.3876], grad_fn=<ToCopyBackward0>) tensor([-0.0845, -0.2895,  0.0061,  0.0064]) tensor(-0.0002) False defaultdict(<class 'float'>, {'success': 0.0})\n",
      "tensor(0.1677, grad_fn=<SumBackward0>)\n",
      "246\n",
      "tensor([ 0.0690, -0.4114], grad_fn=<ToCopyBackward0>) tensor([-0.0843, -0.2894,  0.0062,  0.0006]) tensor(-0.0006) False defaultdict(<class 'float'>, {'success': 0.0})\n",
      "tensor(0.1740, grad_fn=<SumBackward0>)\n",
      "247\n",
      "tensor([0.0083, 0.1902], grad_fn=<ToCopyBackward0>) tensor([-0.0840, -0.2893,  0.0055,  0.0029]) tensor(3.2246e-30) False defaultdict(<class 'float'>, {'success': 0.0})\n",
      "tensor(0.0362, grad_fn=<SumBackward0>)\n",
      "248\n",
      "tensor([-0.0120,  0.3699], grad_fn=<ToCopyBackward0>) tensor([-0.0838, -0.2891,  0.0047,  0.0070]) tensor(3.4552e-30) False defaultdict(<class 'float'>, {'success': 0.0})\n",
      "tensor(0.1370, grad_fn=<SumBackward0>)\n",
      "249\n",
      "tensor([ 0.0739, -0.6109], grad_fn=<ToCopyBackward0>) tensor([-0.0836, -0.2890,  0.0050, -0.0013]) tensor(-0.0927) False defaultdict(<class 'float'>, {'success': 0.0})\n",
      "tensor(0.3786, grad_fn=<SumBackward0>)\n",
      "250\n",
      "tensor([-0.0784, -0.1788], grad_fn=<ToCopyBackward0>) tensor([-0.0835, -0.2891,  0.0035, -0.0033]) tensor(3.6338e-30) False defaultdict(<class 'float'>, {'success': 0.0})\n",
      "tensor(0.0381, grad_fn=<SumBackward0>)\n",
      "251\n",
      "tensor([ 0.2465, -0.6205], grad_fn=<ToCopyBackward0>) tensor([-0.0833, -0.2895,  0.0060, -0.0104]) tensor(-0.1433) False defaultdict(<class 'float'>, {'success': 0.0})\n",
      "tensor(0.4458, grad_fn=<SumBackward0>)\n",
      "252\n",
      "tensor([-0.0831,  0.3183], grad_fn=<ToCopyBackward0>) tensor([-0.0831, -0.2898,  0.0043, -0.0053]) tensor(3.3628e-30) False defaultdict(<class 'float'>, {'success': 0.0})\n",
      "tensor(0.1082, grad_fn=<SumBackward0>)\n",
      "253\n",
      "tensor([-0.0662, -0.0581], grad_fn=<ToCopyBackward0>) tensor([-0.0830, -0.2900,  0.0030, -0.0053]) tensor(3.2703e-30) False defaultdict(<class 'float'>, {'success': 0.0})\n",
      "tensor(0.0078, grad_fn=<SumBackward0>)\n",
      "254\n",
      "tensor([ 0.0509, -0.4732], grad_fn=<ToCopyBackward0>) tensor([-8.2824e-02, -2.9012e-01,  3.2369e-03,  2.3055e-04]) tensor(-0.0115) False defaultdict(<class 'float'>, {'success': 0.0})\n",
      "tensor(0.2265, grad_fn=<SumBackward0>)\n",
      "255\n",
      "tensor([0.1732, 0.0578], grad_fn=<ToCopyBackward0>) tensor([-0.0826, -0.2901,  0.0049,  0.0016]) tensor(3.2719e-30) False defaultdict(<class 'float'>, {'success': 0.0})\n",
      "tensor(0.0333, grad_fn=<SumBackward0>)\n",
      "256\n",
      "tensor([ 0.1527, -0.3245], grad_fn=<ToCopyBackward0>) tensor([-0.0824, -0.2900,  0.0062,  0.0004]) tensor(3.3891e-30) False defaultdict(<class 'float'>, {'success': 0.0})\n",
      "tensor(0.1286, grad_fn=<SumBackward0>)\n",
      "257\n",
      "tensor([0.1185, 0.5665], grad_fn=<ToCopyBackward0>) tensor([-0.0821, -0.2898,  0.0069,  0.0072]) tensor(-0.0639) False defaultdict(<class 'float'>, {'success': 0.0})\n",
      "tensor(0.3350, grad_fn=<SumBackward0>)\n",
      "258\n",
      "tensor([ 0.0739, -0.6830], grad_fn=<ToCopyBackward0>) tensor([-0.0819, -0.2898,  0.0069, -0.0019]) tensor(-0.1647) False defaultdict(<class 'float'>, {'success': 0.0})\n",
      "tensor(0.4719, grad_fn=<SumBackward0>)\n",
      "259\n",
      "tensor([0.1000, 0.4114], grad_fn=<ToCopyBackward0>) tensor([-0.0816, -0.2897,  0.0073,  0.0033]) tensor(-0.0011) False defaultdict(<class 'float'>, {'success': 0.0})\n",
      "tensor(0.1792, grad_fn=<SumBackward0>)\n",
      "260\n",
      "tensor([-0.1065,  0.3056], grad_fn=<ToCopyBackward0>) tensor([-0.0813, -0.2895,  0.0051,  0.0066]) tensor(4.3069e-30) False defaultdict(<class 'float'>, {'success': 0.0})\n",
      "tensor(0.1048, grad_fn=<SumBackward0>)\n",
      "261\n",
      "tensor([ 0.0555, -0.0867], grad_fn=<ToCopyBackward0>) tensor([-0.0811, -0.2893,  0.0052,  0.0047]) tensor(4.6416e-30) False defaultdict(<class 'float'>, {'success': 0.0})\n",
      "tensor(0.0106, grad_fn=<SumBackward0>)\n",
      "262\n",
      "tensor([0.0102, 0.6820], grad_fn=<ToCopyBackward0>) tensor([-0.0809, -0.2889,  0.0047,  0.0124]) tensor(-0.1591) False defaultdict(<class 'float'>, {'success': 0.0})\n",
      "tensor(0.4652, grad_fn=<SumBackward0>)\n",
      "263\n",
      "tensor([-0.0300, -0.2433], grad_fn=<ToCopyBackward0>) tensor([-0.0808, -0.2885,  0.0038,  0.0080]) tensor(5.7209e-30) False defaultdict(<class 'float'>, {'success': 0.0})\n",
      "tensor(0.0601, grad_fn=<SumBackward0>)\n",
      "264\n",
      "tensor([-0.0084,  0.0743], grad_fn=<ToCopyBackward0>) tensor([-0.0807, -0.2882,  0.0032,  0.0079]) tensor(6.2358e-30) False defaultdict(<class 'float'>, {'success': 0.0})\n",
      "tensor(0.0056, grad_fn=<SumBackward0>)\n",
      "265\n",
      "tensor([ 0.0537, -0.2744], grad_fn=<ToCopyBackward0>) tensor([-0.0805, -0.2880,  0.0035,  0.0036]) tensor(6.6623e-30) False defaultdict(<class 'float'>, {'success': 0.0})\n",
      "tensor(0.0782, grad_fn=<SumBackward0>)\n",
      "266\n",
      "tensor([-0.0829, -0.4370], grad_fn=<ToCopyBackward0>) tensor([-0.0804, -0.2880,  0.0020, -0.0021]) tensor(-0.0040) False defaultdict(<class 'float'>, {'success': 0.0})\n",
      "tensor(0.1978, grad_fn=<SumBackward0>)\n",
      "267\n",
      "tensor([ 0.0863, -0.2867], grad_fn=<ToCopyBackward0>) tensor([-0.0803, -0.2882,  0.0028, -0.0053]) tensor(6.6591e-30) False defaultdict(<class 'float'>, {'success': 0.0})\n",
      "tensor(0.0896, grad_fn=<SumBackward0>)\n",
      "268\n",
      "tensor([0.0798, 0.2558], grad_fn=<ToCopyBackward0>) tensor([-0.0802, -0.2883,  0.0035, -0.0016]) tensor(6.5665e-30) False defaultdict(<class 'float'>, {'success': 0.0})\n",
      "tensor(0.0718, grad_fn=<SumBackward0>)\n",
      "269\n",
      "tensor([ 0.1015, -0.0040], grad_fn=<ToCopyBackward0>) tensor([-0.0800, -0.2884,  0.0043, -0.0014]) tensor(6.6072e-30) False defaultdict(<class 'float'>, {'success': 0.0})\n",
      "tensor(0.0103, grad_fn=<SumBackward0>)\n",
      "270\n",
      "tensor([-0.0049, -0.6095], grad_fn=<ToCopyBackward0>) tensor([-0.0799, -0.2886,  0.0037, -0.0086]) tensor(-0.0878) False defaultdict(<class 'float'>, {'success': 0.0})\n",
      "tensor(0.3715, grad_fn=<SumBackward0>)\n",
      "271\n",
      "tensor([0.0102, 0.4143], grad_fn=<ToCopyBackward0>) tensor([-0.0797, -0.2888,  0.0034, -0.0026]) tensor(-0.0004) False defaultdict(<class 'float'>, {'success': 0.0})\n",
      "tensor(0.1718, grad_fn=<SumBackward0>)\n",
      "272\n",
      "tensor([ 0.0865, -0.1784], grad_fn=<ToCopyBackward0>) tensor([-0.0796, -0.2890,  0.0040, -0.0044]) tensor(6.1764e-30) False defaultdict(<class 'float'>, {'success': 0.0})\n",
      "tensor(0.0393, grad_fn=<SumBackward0>)\n",
      "273\n",
      "tensor([-0.0477, -0.2861], grad_fn=<ToCopyBackward0>) tensor([-0.0795, -0.2892,  0.0029, -0.0074]) tensor(5.9693e-30) False defaultdict(<class 'float'>, {'success': 0.0})\n",
      "tensor(0.0841, grad_fn=<SumBackward0>)\n",
      "274\n",
      "tensor([0.0733, 0.1072], grad_fn=<ToCopyBackward0>) tensor([-0.0793, -0.2895,  0.0035, -0.0052]) tensor(5.7446e-30) False defaultdict(<class 'float'>, {'success': 0.0})\n",
      "tensor(0.0169, grad_fn=<SumBackward0>)\n",
      "275\n",
      "tensor([-0.0011, -0.0811], grad_fn=<ToCopyBackward0>) tensor([-0.0792, -0.2897,  0.0030, -0.0055]) tensor(5.5729e-30) False defaultdict(<class 'float'>, {'success': 0.0})\n",
      "tensor(0.0066, grad_fn=<SumBackward0>)\n",
      "276\n",
      "tensor([-0.0736, -0.3516], grad_fn=<ToCopyBackward0>) tensor([-0.0791, -0.2900,  0.0018, -0.0091]) tensor(5.2910e-30) False defaultdict(<class 'float'>, {'success': 0.0})\n",
      "tensor(0.1290, grad_fn=<SumBackward0>)\n",
      "277\n",
      "tensor([-0.0332, -0.4692], grad_fn=<ToCopyBackward0>) tensor([-7.9054e-02, -2.9003e-01,  1.1638e-03, -8.0726e-05]) tensor(-0.0099) False defaultdict(<class 'float'>, {'success': 0.0})\n",
      "tensor(0.2213, grad_fn=<SumBackward0>)\n",
      "278\n",
      "tensor([-0.0319, -0.0918], grad_fn=<ToCopyBackward0>) tensor([-7.9024e-02, -2.9002e-01,  6.3627e-04,  2.6482e-04]) tensor(5.2286e-30) False defaultdict(<class 'float'>, {'success': 0.0})\n",
      "tensor(0.0094, grad_fn=<SumBackward0>)\n",
      "279\n",
      "tensor([ 0.2234, -0.5227], grad_fn=<ToCopyBackward0>) tensor([-7.8919e-02, -2.9003e-01,  3.2640e-03, -8.3802e-05]) tensor(-0.0567) False defaultdict(<class 'float'>, {'success': 0.0})\n",
      "tensor(0.3231, grad_fn=<SumBackward0>)\n",
      "280\n",
      "tensor([ 0.0639, -0.3401], grad_fn=<ToCopyBackward0>) tensor([-7.8777e-02, -2.9002e-01,  3.6431e-03,  4.9696e-05]) tensor(5.3726e-30) False defaultdict(<class 'float'>, {'success': 0.0})\n",
      "tensor(0.1198, grad_fn=<SumBackward0>)\n",
      "281\n",
      "tensor([ 0.0768, -0.1239], grad_fn=<ToCopyBackward0>) tensor([-7.8616e-02, -2.9002e-01,  4.1323e-03,  1.5117e-04]) tensor(5.4837e-30) False defaultdict(<class 'float'>, {'success': 0.0})\n",
      "tensor(0.0212, grad_fn=<SumBackward0>)\n",
      "282\n",
      "tensor([ 0.0199, -0.1101], grad_fn=<ToCopyBackward0>) tensor([-7.8459e-02, -2.9001e-01,  3.8733e-03,  9.6371e-05]) tensor(5.5994e-30) False defaultdict(<class 'float'>, {'success': 0.0})\n",
      "tensor(0.0125, grad_fn=<SumBackward0>)\n",
      "283\n",
      "tensor([-0.0170, -0.1971], grad_fn=<ToCopyBackward0>) tensor([-7.8324e-02, -2.9001e-01,  3.1988e-03,  6.4957e-06]) tensor(5.6998e-30) False defaultdict(<class 'float'>, {'success': 0.0})\n",
      "tensor(0.0391, grad_fn=<SumBackward0>)\n",
      "284\n",
      "tensor([ 0.2107, -0.5601], grad_fn=<ToCopyBackward0>) tensor([-7.8131e-02, -2.9002e-01,  5.3630e-03, -2.0027e-04]) tensor(-0.0788) False defaultdict(<class 'float'>, {'success': 0.0})\n",
      "tensor(0.3581, grad_fn=<SumBackward0>)\n",
      "285\n",
      "tensor([0.0103, 0.1213], grad_fn=<ToCopyBackward0>) tensor([-0.0779, -0.2900,  0.0048,  0.0013]) tensor(5.9916e-30) False defaultdict(<class 'float'>, {'success': 0.0})\n",
      "tensor(0.0148, grad_fn=<SumBackward0>)\n",
      "286\n",
      "tensor([-0.0452,  0.1424], grad_fn=<ToCopyBackward0>) tensor([-0.0778, -0.2899,  0.0037,  0.0029]) tensor(6.2315e-30) False defaultdict(<class 'float'>, {'success': 0.0})\n",
      "tensor(0.0223, grad_fn=<SumBackward0>)\n",
      "287\n",
      "tensor([-0.1300, -0.4860], grad_fn=<ToCopyBackward0>) tensor([-0.0777, -0.2900,  0.0017, -0.0034]) tensor(-0.0213) False defaultdict(<class 'float'>, {'success': 0.0})\n",
      "tensor(0.2531, grad_fn=<SumBackward0>)\n",
      "288\n",
      "tensor([ 0.0221, -0.7406], grad_fn=<ToCopyBackward0>) tensor([-7.7617e-02, -2.9012e-01,  1.7472e-03, -6.4237e-05]) tensor(-0.2325) False defaultdict(<class 'float'>, {'success': 0.0})\n",
      "tensor(0.5490, grad_fn=<SumBackward0>)\n",
      "289\n",
      "tensor([ 0.0700, -0.0088], grad_fn=<ToCopyBackward0>) tensor([-0.0775, -0.2901,  0.0024,  0.0011]) tensor(6.2021e-30) False defaultdict(<class 'float'>, {'success': 0.0})\n",
      "tensor(0.0050, grad_fn=<SumBackward0>)\n",
      "290\n",
      "tensor([-0.0559, -0.3842], grad_fn=<ToCopyBackward0>) tensor([-0.0775, -0.2900,  0.0014,  0.0004]) tensor(6.2976e-30) False defaultdict(<class 'float'>, {'success': 0.0})\n",
      "tensor(0.1508, grad_fn=<SumBackward0>)\n",
      "291\n",
      "tensor([-0.0197,  0.0436], grad_fn=<ToCopyBackward0>) tensor([-0.0774, -0.2900,  0.0010,  0.0009]) tensor(6.3724e-30) False defaultdict(<class 'float'>, {'success': 0.0})\n",
      "tensor(0.0023, grad_fn=<SumBackward0>)\n",
      "292\n",
      "tensor([ 0.0923, -0.2584], grad_fn=<ToCopyBackward0>) tensor([-7.7347e-02, -2.9001e-01,  2.0036e-03,  8.1586e-06]) tensor(6.4362e-30) False defaultdict(<class 'float'>, {'success': 0.0})\n",
      "tensor(0.0753, grad_fn=<SumBackward0>)\n",
      "293\n",
      "tensor([ 0.1034, -0.7992], grad_fn=<ToCopyBackward0>) tensor([-0.0772, -0.2900,  0.0030, -0.0003]) tensor(-0.3295) False defaultdict(<class 'float'>, {'success': 0.0})\n",
      "tensor(0.6495, grad_fn=<SumBackward0>)\n",
      "294\n",
      "tensor([ 0.0943, -0.0837], grad_fn=<ToCopyBackward0>) tensor([-7.7092e-02, -2.9002e-01,  3.7898e-03,  2.1847e-04]) tensor(6.6173e-30) False defaultdict(<class 'float'>, {'success': 0.0})\n",
      "tensor(0.0159, grad_fn=<SumBackward0>)\n",
      "295\n",
      "tensor([ 0.0434, -0.1926], grad_fn=<ToCopyBackward0>) tensor([-7.6938e-02, -2.9002e-01,  3.8562e-03,  7.1420e-05]) tensor(6.7504e-30) False defaultdict(<class 'float'>, {'success': 0.0})\n",
      "tensor(0.0390, grad_fn=<SumBackward0>)\n",
      "296\n",
      "tensor([-0.0154, -0.4247], grad_fn=<ToCopyBackward0>) tensor([-7.6804e-02, -2.9002e-01,  3.2032e-03, -9.0062e-05]) tensor(-0.0012) False defaultdict(<class 'float'>, {'success': 0.0})\n",
      "tensor(0.1806, grad_fn=<SumBackward0>)\n",
      "297\n",
      "tensor([-0.1291, -0.3050], grad_fn=<ToCopyBackward0>) tensor([-7.6735e-02, -2.9002e-01,  1.2515e-03,  1.3014e-05]) tensor(6.9394e-30) False defaultdict(<class 'float'>, {'success': 0.0})\n",
      "tensor(0.1097, grad_fn=<SumBackward0>)\n",
      "298\n",
      "tensor([ 0.0612, -0.1612], grad_fn=<ToCopyBackward0>) tensor([-7.6667e-02, -2.9002e-01,  1.8405e-03,  8.9088e-05]) tensor(6.9971e-30) False defaultdict(<class 'float'>, {'success': 0.0})\n",
      "tensor(0.0297, grad_fn=<SumBackward0>)\n",
      "299\n",
      "tensor([0.0982, 0.1433], grad_fn=<ToCopyBackward0>) tensor([-0.0766, -0.2900,  0.0028,  0.0018]) tensor(7.1377e-30) False defaultdict(<class 'float'>, {'success': 0.0})\n",
      "tensor(0.0302, grad_fn=<SumBackward0>)\n",
      "300\n",
      "tensor([0.0050, 0.0174], grad_fn=<ToCopyBackward0>) tensor([-0.0765, -0.2899,  0.0025,  0.0018]) tensor(7.3465e-30) False defaultdict(<class 'float'>, {'success': 0.0})\n",
      "tensor(0.0003, grad_fn=<SumBackward0>)\n",
      "301\n",
      "tensor([-0.0403, -0.6023], grad_fn=<ToCopyBackward0>) tensor([-0.0764, -0.2900,  0.0017, -0.0057]) tensor(-0.0829) False defaultdict(<class 'float'>, {'success': 0.0})\n",
      "tensor(0.3644, grad_fn=<SumBackward0>)\n",
      "302\n",
      "tensor([ 0.0978, -0.0777], grad_fn=<ToCopyBackward0>) tensor([-0.0763, -0.2900,  0.0027,  0.0004]) tensor(7.2842e-30) False defaultdict(<class 'float'>, {'success': 0.0})\n",
      "tensor(0.0156, grad_fn=<SumBackward0>)\n",
      "303\n",
      "tensor([ 0.0720, -0.4102], grad_fn=<ToCopyBackward0>) tensor([-7.6159e-02, -2.9003e-01,  3.2528e-03,  1.2657e-04]) tensor(-0.0005) False defaultdict(<class 'float'>, {'success': 0.0})\n",
      "tensor(0.1734, grad_fn=<SumBackward0>)\n",
      "304\n",
      "tensor([-0.1038,  0.1530], grad_fn=<ToCopyBackward0>) tensor([-0.0761, -0.2900,  0.0016,  0.0020]) tensor(7.5644e-30) False defaultdict(<class 'float'>, {'success': 0.0})\n",
      "tensor(0.0342, grad_fn=<SumBackward0>)\n",
      "305\n",
      "tensor([ 0.0014, -0.0566], grad_fn=<ToCopyBackward0>) tensor([-0.0760, -0.2899,  0.0014,  0.0010]) tensor(7.7204e-30) False defaultdict(<class 'float'>, {'success': 0.0})\n",
      "tensor(0.0032, grad_fn=<SumBackward0>)\n",
      "306\n",
      "tensor([-0.0518, -0.3857], grad_fn=<ToCopyBackward0>) tensor([-0.0760, -0.2900,  0.0006, -0.0038]) tensor(7.6655e-30) False defaultdict(<class 'float'>, {'success': 0.0})\n",
      "tensor(0.1514, grad_fn=<SumBackward0>)\n",
      "307\n",
      "tensor([ 0.1260, -0.8623], grad_fn=<ToCopyBackward0>) tensor([-7.5919e-02, -2.9004e-01,  2.0743e-03, -2.1012e-04]) tensor(-0.4445) False defaultdict(<class 'float'>, {'success': 0.0})\n",
      "tensor(0.7594, grad_fn=<SumBackward0>)\n",
      "308\n",
      "tensor([ 0.1700, -0.3559], grad_fn=<ToCopyBackward0>) tensor([-7.5781e-02, -2.9003e-01,  3.8822e-03,  2.0071e-04]) tensor(7.7471e-30) False defaultdict(<class 'float'>, {'success': 0.0})\n",
      "tensor(0.1555, grad_fn=<SumBackward0>)\n",
      "309\n",
      "tensor([-0.1178, -0.1563], grad_fn=<ToCopyBackward0>) tensor([-7.5683e-02, -2.9002e-01,  1.9852e-03,  2.3214e-04]) tensor(7.8757e-30) False defaultdict(<class 'float'>, {'success': 0.0})\n",
      "tensor(0.0383, grad_fn=<SumBackward0>)\n",
      "310\n",
      "tensor([-0.0528, -0.3335], grad_fn=<ToCopyBackward0>) tensor([-7.5631e-02, -2.9002e-01,  1.1054e-03,  3.5652e-05]) tensor(7.9422e-30) False defaultdict(<class 'float'>, {'success': 0.0})\n",
      "tensor(0.1140, grad_fn=<SumBackward0>)\n",
      "311\n",
      "tensor([-0.1238, -0.1265], grad_fn=<ToCopyBackward0>) tensor([-7.5636e-02, -2.9002e-01, -5.2742e-04,  1.3421e-04]) tensor(7.9612e-30) False defaultdict(<class 'float'>, {'success': 0.0})\n",
      "tensor(0.0313, grad_fn=<SumBackward0>)\n",
      "312\n",
      "tensor([ 0.1529, -0.4147], grad_fn=<ToCopyBackward0>) tensor([-7.5599e-02, -2.9002e-01,  1.3882e-03, -8.2409e-05]) tensor(-0.0035) False defaultdict(<class 'float'>, {'success': 0.0})\n",
      "tensor(0.1954, grad_fn=<SumBackward0>)\n",
      "313\n",
      "tensor([0.0074, 0.0689], grad_fn=<ToCopyBackward0>) tensor([-0.0755, -0.2900,  0.0013,  0.0008]) tensor(8.0540e-30) False defaultdict(<class 'float'>, {'success': 0.0})\n",
      "tensor(0.0048, grad_fn=<SumBackward0>)\n",
      "314\n",
      "tensor([ 0.0074, -0.7517], grad_fn=<ToCopyBackward0>) tensor([-7.5495e-02, -2.9008e-01,  1.2410e-03, -7.8952e-05]) tensor(-0.2475) False defaultdict(<class 'float'>, {'success': 0.0})\n",
      "tensor(0.5652, grad_fn=<SumBackward0>)\n",
      "315\n",
      "tensor([-0.0235, -0.4156], grad_fn=<ToCopyBackward0>) tensor([-0.0755, -0.2901,  0.0008,  0.0005]) tensor(-0.0005) False defaultdict(<class 'float'>, {'success': 0.0})\n",
      "tensor(0.1733, grad_fn=<SumBackward0>)\n",
      "316\n",
      "tensor([-0.0301, -0.5146], grad_fn=<ToCopyBackward0>) tensor([-7.5441e-02, -2.9005e-01,  3.4483e-04,  2.4333e-04]) tensor(-0.0267) False defaultdict(<class 'float'>, {'success': 0.0})\n",
      "tensor(0.2657, grad_fn=<SumBackward0>)\n",
      "317\n",
      "tensor([-0.0202, -0.1885], grad_fn=<ToCopyBackward0>) tensor([-7.5435e-02, -2.9003e-01,  5.8820e-05,  3.1972e-04]) tensor(8.1226e-30) False defaultdict(<class 'float'>, {'success': 0.0})\n",
      "tensor(0.0359, grad_fn=<SumBackward0>)\n",
      "318\n",
      "tensor([-0.0266,  0.1186], grad_fn=<ToCopyBackward0>) tensor([-7.5443e-02, -2.8998e-01, -2.7080e-04,  1.7172e-03]) tensor(8.1914e-30) False defaultdict(<class 'float'>, {'success': 0.0})\n",
      "tensor(0.0148, grad_fn=<SumBackward0>)\n",
      "319\n",
      "tensor([ 0.1932, -0.3311], grad_fn=<ToCopyBackward0>) tensor([-0.0754, -0.2900,  0.0021, -0.0025]) tensor(8.1986e-30) False defaultdict(<class 'float'>, {'success': 0.0})\n",
      "tensor(0.1469, grad_fn=<SumBackward0>)\n",
      "320\n",
      "tensor([-0.0395, -0.2971], grad_fn=<ToCopyBackward0>) tensor([-7.5320e-02, -2.9003e-01,  1.3686e-03,  1.9429e-04]) tensor(8.2240e-30) False defaultdict(<class 'float'>, {'success': 0.0})\n",
      "tensor(0.0898, grad_fn=<SumBackward0>)\n",
      "321\n",
      "tensor([ 0.1747, -0.4868], grad_fn=<ToCopyBackward0>) tensor([-7.5206e-02, -2.9003e-01,  3.3187e-03,  3.6382e-05]) tensor(-0.0275) False defaultdict(<class 'float'>, {'success': 0.0})\n",
      "tensor(0.2675, grad_fn=<SumBackward0>)\n",
      "322\n",
      "tensor([0.0885, 0.0425], grad_fn=<ToCopyBackward0>) tensor([-0.0751, -0.2900,  0.0040,  0.0006]) tensor(8.5013e-30) False defaultdict(<class 'float'>, {'success': 0.0})\n",
      "tensor(0.0096, grad_fn=<SumBackward0>)\n",
      "323\n",
      "tensor([-0.0536, -0.4208], grad_fn=<ToCopyBackward0>) tensor([-7.4928e-02, -2.9002e-01,  2.8574e-03, -1.3032e-04]) tensor(-0.0012) False defaultdict(<class 'float'>, {'success': 0.0})\n",
      "tensor(0.1800, grad_fn=<SumBackward0>)\n",
      "324\n",
      "tensor([-0.0433, -0.6034], grad_fn=<ToCopyBackward0>) tensor([-7.4840e-02, -2.9002e-01,  1.9872e-03, -1.8565e-04]) tensor(-0.0840) False defaultdict(<class 'float'>, {'success': 0.0})\n",
      "tensor(0.3660, grad_fn=<SumBackward0>)\n",
      "325\n",
      "tensor([-0.0936,  0.2979], grad_fn=<ToCopyBackward0>) tensor([-0.0748, -0.2899,  0.0006,  0.0034]) tensor(8.9216e-30) False defaultdict(<class 'float'>, {'success': 0.0})\n",
      "tensor(0.0975, grad_fn=<SumBackward0>)\n",
      "326\n",
      "tensor([-0.0539, -0.6189], grad_fn=<ToCopyBackward0>) tensor([-7.4800e-02, -2.9002e-01, -1.1390e-04, -4.4675e-03]) tensor(-0.0979) False defaultdict(<class 'float'>, {'success': 0.0})\n",
      "tensor(0.3859, grad_fn=<SumBackward0>)\n",
      "327\n",
      "tensor([ 0.0404, -0.2011], grad_fn=<ToCopyBackward0>) tensor([-7.4789e-02, -2.9003e-01,  3.8969e-04,  1.5974e-04]) tensor(8.7971e-30) False defaultdict(<class 'float'>, {'success': 0.0})\n",
      "tensor(0.0421, grad_fn=<SumBackward0>)\n",
      "328\n",
      "tensor([-0.0759, -0.6825], grad_fn=<ToCopyBackward0>) tensor([-7.4803e-02, -2.9003e-01, -5.7708e-04, -1.2505e-04]) tensor(-0.1644) False defaultdict(<class 'float'>, {'success': 0.0})\n",
      "tensor(0.4716, grad_fn=<SumBackward0>)\n",
      "329\n",
      "tensor([ 0.0737, -0.5170], grad_fn=<ToCopyBackward0>) tensor([-7.4797e-02, -2.9003e-01,  3.8585e-04,  1.6980e-05]) tensor(-0.0299) False defaultdict(<class 'float'>, {'success': 0.0})\n",
      "tensor(0.2727, grad_fn=<SumBackward0>)\n",
      "330\n",
      "tensor([-0.0952, -0.4435], grad_fn=<ToCopyBackward0>) tensor([-7.4818e-02, -2.9003e-01, -8.1415e-04,  5.2437e-05]) tensor(-0.0058) False defaultdict(<class 'float'>, {'success': 0.0})\n",
      "tensor(0.2058, grad_fn=<SumBackward0>)\n",
      "331\n",
      "tensor([ 0.0535, -0.5234], grad_fn=<ToCopyBackward0>) tensor([-7.4828e-02, -2.9003e-01, -6.7958e-05, -1.3917e-05]) tensor(-0.0318) False defaultdict(<class 'float'>, {'success': 0.0})\n",
      "tensor(0.2768, grad_fn=<SumBackward0>)\n",
      "332\n",
      "tensor([ 0.0917, -0.5706], grad_fn=<ToCopyBackward0>) tensor([-7.4796e-02, -2.9003e-01,  1.0502e-03, -3.5121e-05]) tensor(-0.0633) False defaultdict(<class 'float'>, {'success': 0.0})\n",
      "tensor(0.3340, grad_fn=<SumBackward0>)\n",
      "333\n",
      "tensor([-0.0517,  0.0775], grad_fn=<ToCopyBackward0>) tensor([-0.0748, -0.2900,  0.0003,  0.0009]) tensor(8.8406e-30) False defaultdict(<class 'float'>, {'success': 0.0})\n",
      "tensor(0.0087, grad_fn=<SumBackward0>)\n",
      "334\n",
      "tensor([0.0527, 0.5431], grad_fn=<ToCopyBackward0>) tensor([-0.0747, -0.2898,  0.0009,  0.0074]) tensor(-0.0424) False defaultdict(<class 'float'>, {'success': 0.0})\n",
      "tensor(0.2977, grad_fn=<SumBackward0>)\n",
      "335\n",
      "tensor([ 0.0418, -0.7344], grad_fn=<ToCopyBackward0>) tensor([-0.0747, -0.2898,  0.0013, -0.0024]) tensor(-0.2252) False defaultdict(<class 'float'>, {'success': 0.0})\n",
      "tensor(0.5411, grad_fn=<SumBackward0>)\n",
      "336\n",
      "tensor([-0.0597, -0.1665], grad_fn=<ToCopyBackward0>) tensor([-0.0747, -0.2899,  0.0004, -0.0041]) tensor(9.2132e-30) False defaultdict(<class 'float'>, {'success': 0.0})\n",
      "tensor(0.0313, grad_fn=<SumBackward0>)\n",
      "337\n",
      "tensor([-0.0233, -0.3749], grad_fn=<ToCopyBackward0>) tensor([-7.4667e-02, -2.9005e-01,  8.5212e-05, -3.9405e-04]) tensor(8.8896e-30) False defaultdict(<class 'float'>, {'success': 0.0})\n",
      "tensor(0.1411, grad_fn=<SumBackward0>)\n",
      "338\n",
      "tensor([-0.0379,  0.3098], grad_fn=<ToCopyBackward0>) tensor([-0.0747, -0.2900, -0.0004,  0.0034]) tensor(9.0027e-30) False defaultdict(<class 'float'>, {'success': 0.0})\n",
      "tensor(0.0974, grad_fn=<SumBackward0>)\n",
      "339\n",
      "tensor([ 0.0428, -0.0401], grad_fn=<ToCopyBackward0>) tensor([-7.4676e-02, -2.8985e-01,  1.8066e-04,  2.5076e-03]) tensor(9.2323e-30) False defaultdict(<class 'float'>, {'success': 0.0})\n",
      "tensor(0.0034, grad_fn=<SumBackward0>)\n",
      "340\n",
      "tensor([ 0.0669, -0.1479], grad_fn=<ToCopyBackward0>) tensor([-0.0746, -0.2898,  0.0010,  0.0004]) tensor(9.3755e-30) False defaultdict(<class 'float'>, {'success': 0.0})\n",
      "tensor(0.0264, grad_fn=<SumBackward0>)\n",
      "341\n",
      "tensor([ 0.1352, -0.6683], grad_fn=<ToCopyBackward0>) tensor([-0.0746, -0.2900,  0.0025, -0.0077]) tensor(-0.1588) False defaultdict(<class 'float'>, {'success': 0.0})\n",
      "tensor(0.4648, grad_fn=<SumBackward0>)\n",
      "342\n",
      "tensor([-0.0055, -0.3507], grad_fn=<ToCopyBackward0>) tensor([-7.4472e-02, -2.9005e-01,  2.1207e-03,  2.6806e-04]) tensor(9.0839e-30) False defaultdict(<class 'float'>, {'success': 0.0})\n",
      "tensor(0.1230, grad_fn=<SumBackward0>)\n",
      "343\n",
      "tensor([-0.0572, -0.3398], grad_fn=<ToCopyBackward0>) tensor([-7.4416e-02, -2.9004e-01,  1.1716e-03,  2.4982e-04]) tensor(9.1795e-30) False defaultdict(<class 'float'>, {'success': 0.0})\n",
      "tensor(0.1188, grad_fn=<SumBackward0>)\n",
      "344\n",
      "tensor([0.0550, 0.4925], grad_fn=<ToCopyBackward0>) tensor([-0.0744, -0.2898,  0.0017,  0.0062]) tensor(-0.0183) False defaultdict(<class 'float'>, {'success': 0.0})\n",
      "tensor(0.2456, grad_fn=<SumBackward0>)\n",
      "345\n",
      "tensor([ 2.4045e-04, -3.7429e-01], grad_fn=<ToCopyBackward0>) tensor([-0.0743, -0.2898,  0.0015,  0.0009]) tensor(9.8811e-30) False defaultdict(<class 'float'>, {'success': 0.0})\n",
      "tensor(0.1401, grad_fn=<SumBackward0>)\n",
      "346\n",
      "tensor([-0.0221, -0.5680], grad_fn=<ToCopyBackward0>) tensor([-0.0742, -0.2899,  0.0010, -0.0061]) tensor(-0.0568) False defaultdict(<class 'float'>, {'success': 0.0})\n",
      "tensor(0.3232, grad_fn=<SumBackward0>)\n",
      "347\n",
      "tensor([0.0643, 0.1912], grad_fn=<ToCopyBackward0>) tensor([-7.4184e-02, -2.9003e-01,  1.6970e-03, -9.6934e-05]) tensor(9.4628e-30) False defaultdict(<class 'float'>, {'success': 0.0})\n",
      "tensor(0.0407, grad_fn=<SumBackward0>)\n",
      "348\n",
      "tensor([ 0.0074, -0.5728], grad_fn=<ToCopyBackward0>) tensor([-7.4119e-02, -2.9003e-01,  1.5814e-03, -6.8409e-05]) tensor(-0.0597) False defaultdict(<class 'float'>, {'success': 0.0})\n",
      "tensor(0.3281, grad_fn=<SumBackward0>)\n",
      "349\n",
      "tensor([ 0.0424, -0.2600], grad_fn=<ToCopyBackward0>) tensor([-7.4046e-02, -2.9002e-01,  1.9038e-03,  1.3550e-04]) tensor(9.6203e-30) False defaultdict(<class 'float'>, {'success': 0.0})\n",
      "tensor(0.0694, grad_fn=<SumBackward0>)\n",
      "350\n",
      "tensor([ 0.0708, -0.6038], grad_fn=<ToCopyBackward0>) tensor([-7.3951e-02, -2.9003e-01,  2.5305e-03, -1.1148e-04]) tensor(-0.0865) False defaultdict(<class 'float'>, {'success': 0.0})\n",
      "tensor(0.3696, grad_fn=<SumBackward0>)\n",
      "351\n",
      "tensor([-0.0287, -0.4762], grad_fn=<ToCopyBackward0>) tensor([-7.3870e-02, -2.9003e-01,  1.8763e-03,  4.0927e-06]) tensor(-0.0119) False defaultdict(<class 'float'>, {'success': 0.0})\n",
      "tensor(0.2276, grad_fn=<SumBackward0>)\n",
      "352\n",
      "tensor([-0.0161, -0.1292], grad_fn=<ToCopyBackward0>) tensor([-7.3808e-02, -2.9002e-01,  1.4538e-03,  1.9763e-04]) tensor(9.9163e-30) False defaultdict(<class 'float'>, {'success': 0.0})\n",
      "tensor(0.0169, grad_fn=<SumBackward0>)\n",
      "353\n",
      "tensor([-0.1617,  0.4331], grad_fn=<ToCopyBackward0>) tensor([-0.0738, -0.2899, -0.0007,  0.0054]) tensor(-0.0078) False defaultdict(<class 'float'>, {'success': 0.0})\n",
      "tensor(0.2137, grad_fn=<SumBackward0>)\n",
      "354\n",
      "tensor([ 0.0111, -0.1749], grad_fn=<ToCopyBackward0>) tensor([-0.0738, -0.2897, -0.0005,  0.0026]) tensor(1.0516e-29) False defaultdict(<class 'float'>, {'success': 0.0})\n",
      "tensor(0.0307, grad_fn=<SumBackward0>)\n",
      "355\n",
      "tensor([ 0.0634, -0.8138], grad_fn=<ToCopyBackward0>) tensor([-0.0738, -0.2899,  0.0004, -0.0075]) tensor(-0.3465) False defaultdict(<class 'float'>, {'success': 0.0})\n",
      "tensor(0.6662, grad_fn=<SumBackward0>)\n",
      "356\n",
      "tensor([-0.1064, -0.3089], grad_fn=<ToCopyBackward0>) tensor([-7.3854e-02, -2.9010e-01, -9.7290e-04, -3.4684e-05]) tensor(9.7140e-30) False defaultdict(<class 'float'>, {'success': 0.0})\n",
      "tensor(0.1068, grad_fn=<SumBackward0>)\n",
      "357\n",
      "tensor([ 0.0007, -0.3133], grad_fn=<ToCopyBackward0>) tensor([-0.0739, -0.2901, -0.0008,  0.0008]) tensor(9.7258e-30) False defaultdict(<class 'float'>, {'success': 0.0})\n",
      "tensor(0.0982, grad_fn=<SumBackward0>)\n",
      "358\n",
      "tensor([-0.1162, -0.2631], grad_fn=<ToCopyBackward0>) tensor([-0.0740, -0.2900, -0.0022,  0.0005]) tensor(9.7104e-30) False defaultdict(<class 'float'>, {'success': 0.0})\n",
      "tensor(0.0827, grad_fn=<SumBackward0>)\n",
      "359\n",
      "tensor([ 0.0999, -0.3283], grad_fn=<ToCopyBackward0>) tensor([-7.4004e-02, -2.9004e-01, -6.8063e-04,  2.5306e-04]) tensor(9.6746e-30) False defaultdict(<class 'float'>, {'success': 0.0})\n",
      "tensor(0.1178, grad_fn=<SumBackward0>)\n",
      "360\n",
      "tensor([-0.0313, -0.3781], grad_fn=<ToCopyBackward0>) tensor([-7.4041e-02, -2.9003e-01, -9.7769e-04,  1.1574e-04]) tensor(9.6500e-30) False defaultdict(<class 'float'>, {'success': 0.0})\n",
      "tensor(0.1439, grad_fn=<SumBackward0>)\n",
      "361\n",
      "tensor([ 0.0427, -0.4222], grad_fn=<ToCopyBackward0>) tensor([-7.4060e-02, -2.9003e-01, -3.4246e-04,  4.0777e-05]) tensor(-0.0012) False defaultdict(<class 'float'>, {'success': 0.0})\n",
      "tensor(0.1801, grad_fn=<SumBackward0>)\n",
      "362\n",
      "tensor([ 0.0733, -0.4675], grad_fn=<ToCopyBackward0>) tensor([-7.4046e-02, -2.9003e-01,  5.8711e-04, -2.5864e-06]) tensor(-0.0107) False defaultdict(<class 'float'>, {'success': 0.0})\n",
      "tensor(0.2240, grad_fn=<SumBackward0>)\n",
      "363\n",
      "tensor([-0.0587,  0.1713], grad_fn=<ToCopyBackward0>) tensor([-7.4046e-02, -2.8996e-01, -1.9539e-04,  2.0717e-03]) tensor(9.7296e-30) False defaultdict(<class 'float'>, {'success': 0.0})\n",
      "tensor(0.0328, grad_fn=<SumBackward0>)\n",
      "364\n",
      "tensor([ 0.0969, -0.4709], grad_fn=<ToCopyBackward0>) tensor([-0.0740, -0.2901,  0.0010, -0.0039]) tensor(-0.0130) False defaultdict(<class 'float'>, {'success': 0.0})\n",
      "tensor(0.2311, grad_fn=<SumBackward0>)\n",
      "365\n",
      "tensor([ 0.0950, -0.7549], grad_fn=<ToCopyBackward0>) tensor([-7.3946e-02, -2.9006e-01,  2.0304e-03,  2.1051e-04]) tensor(-0.2604) False defaultdict(<class 'float'>, {'success': 0.0})\n",
      "tensor(0.5788, grad_fn=<SumBackward0>)\n",
      "366\n",
      "tensor([ 0.1021, -0.5851], grad_fn=<ToCopyBackward0>) tensor([-7.3835e-02, -2.9005e-01,  3.0206e-03,  2.6113e-04]) tensor(-0.0752) False defaultdict(<class 'float'>, {'success': 0.0})\n",
      "tensor(0.3527, grad_fn=<SumBackward0>)\n",
      "367\n",
      "tensor([-0.1787,  0.0157], grad_fn=<ToCopyBackward0>) tensor([-0.0738, -0.2900,  0.0005,  0.0006]) tensor(9.9242e-30) False defaultdict(<class 'float'>, {'success': 0.0})\n",
      "tensor(0.0322, grad_fn=<SumBackward0>)\n",
      "368\n",
      "tensor([ 0.0145, -0.4226], grad_fn=<ToCopyBackward0>) tensor([-7.3768e-02, -2.9002e-01,  6.0693e-04,  9.2643e-06]) tensor(-0.0010) False defaultdict(<class 'float'>, {'success': 0.0})\n",
      "tensor(0.1788, grad_fn=<SumBackward0>)\n",
      "369\n",
      "tensor([-0.0252, -0.6566], grad_fn=<ToCopyBackward0>) tensor([-7.3755e-02, -2.9003e-01,  2.2875e-04, -1.3236e-04]) tensor(-0.1321) False defaultdict(<class 'float'>, {'success': 0.0})\n",
      "tensor(0.4317, grad_fn=<SumBackward0>)\n",
      "370\n",
      "tensor([-0.1844, -0.4379], grad_fn=<ToCopyBackward0>) tensor([-7.3814e-02, -2.9003e-01, -2.0321e-03,  4.4048e-05]) tensor(-0.0113) False defaultdict(<class 'float'>, {'success': 0.0})\n",
      "tensor(0.2258, grad_fn=<SumBackward0>)\n",
      "371\n",
      "tensor([0.0510, 0.2557], grad_fn=<ToCopyBackward0>) tensor([-0.0739, -0.2899, -0.0012,  0.0031]) tensor(9.9975e-30) False defaultdict(<class 'float'>, {'success': 0.0})\n",
      "tensor(0.0680, grad_fn=<SumBackward0>)\n",
      "372\n",
      "tensor([-0.0870, -0.4876], grad_fn=<ToCopyBackward0>) tensor([-0.0739, -0.2900, -0.0021, -0.0031]) tensor(-0.0182) False defaultdict(<class 'float'>, {'success': 0.0})\n",
      "tensor(0.2453, grad_fn=<SumBackward0>)\n",
      "373\n",
      "tensor([ 0.0048, -0.1552], grad_fn=<ToCopyBackward0>) tensor([-0.0740, -0.2901, -0.0018,  0.0003]) tensor(9.5951e-30) False defaultdict(<class 'float'>, {'success': 0.0})\n",
      "tensor(0.0241, grad_fn=<SumBackward0>)\n",
      "374\n",
      "tensor([-0.0015, -0.2372], grad_fn=<ToCopyBackward0>) tensor([-0.0741, -0.2900, -0.0016,  0.0005]) tensor(9.5610e-30) False defaultdict(<class 'float'>, {'success': 0.0})\n",
      "tensor(0.0563, grad_fn=<SumBackward0>)\n",
      "375\n",
      "tensor([ 0.1673, -0.3764], grad_fn=<ToCopyBackward0>) tensor([-7.4078e-02, -2.9004e-01,  6.4264e-04,  2.3300e-04]) tensor(-0.0003) False defaultdict(<class 'float'>, {'success': 0.0})\n",
      "tensor(0.1697, grad_fn=<SumBackward0>)\n",
      "376\n",
      "tensor([ 0.0581, -0.1255], grad_fn=<ToCopyBackward0>) tensor([-7.4034e-02, -2.9002e-01,  1.2685e-03,  2.7162e-04]) tensor(9.6389e-30) False defaultdict(<class 'float'>, {'success': 0.0})\n",
      "tensor(0.0191, grad_fn=<SumBackward0>)\n",
      "377\n",
      "tensor([0.0146, 0.1026], grad_fn=<ToCopyBackward0>) tensor([-0.0740, -0.2900,  0.0013,  0.0015]) tensor(9.7743e-30) False defaultdict(<class 'float'>, {'success': 0.0})\n",
      "tensor(0.0107, grad_fn=<SumBackward0>)\n",
      "378\n",
      "tensor([-0.0113, -0.5706], grad_fn=<ToCopyBackward0>) tensor([-0.0739, -0.2900,  0.0010, -0.0004]) tensor(-0.0583) False defaultdict(<class 'float'>, {'success': 0.0})\n",
      "tensor(0.3257, grad_fn=<SumBackward0>)\n",
      "379\n",
      "tensor([ 0.0159, -0.4176], grad_fn=<ToCopyBackward0>) tensor([-7.3897e-02, -2.9003e-01,  1.0701e-03,  3.3862e-05]) tensor(-0.0006) False defaultdict(<class 'float'>, {'success': 0.0})\n",
      "tensor(0.1747, grad_fn=<SumBackward0>)\n",
      "380\n",
      "tensor([ 0.1281, -0.5600], grad_fn=<ToCopyBackward0>) tensor([-7.3811e-02, -2.9003e-01,  2.4921e-03, -5.5461e-05]) tensor(-0.0609) False defaultdict(<class 'float'>, {'success': 0.0})\n",
      "tensor(0.3300, grad_fn=<SumBackward0>)\n",
      "381\n",
      "tensor([-0.0211, -0.7363], grad_fn=<ToCopyBackward0>) tensor([-7.3729e-02, -2.9004e-01,  1.9351e-03, -1.3153e-04]) tensor(-0.2266) False defaultdict(<class 'float'>, {'success': 0.0})\n",
      "tensor(0.5426, grad_fn=<SumBackward0>)\n",
      "382\n",
      "tensor([-0.0084,  0.1956], grad_fn=<ToCopyBackward0>) tensor([-0.0737, -0.2900,  0.0016,  0.0023]) tensor(1.0162e-29) False defaultdict(<class 'float'>, {'success': 0.0})\n",
      "tensor(0.0383, grad_fn=<SumBackward0>)\n",
      "383\n",
      "tensor([ 0.0535, -0.4136], grad_fn=<ToCopyBackward0>) tensor([-0.0736, -0.2900,  0.0021, -0.0030]) tensor(-0.0006) False defaultdict(<class 'float'>, {'success': 0.0})\n",
      "tensor(0.1740, grad_fn=<SumBackward0>)\n",
      "384\n",
      "tensor([0.0153, 0.4910], grad_fn=<ToCopyBackward0>) tensor([-0.0735, -0.2900,  0.0020,  0.0034]) tensor(-0.0166) False defaultdict(<class 'float'>, {'success': 0.0})\n",
      "tensor(0.2413, grad_fn=<SumBackward0>)\n",
      "385\n",
      "tensor([-0.0561,  0.1436], grad_fn=<ToCopyBackward0>) tensor([-0.0735, -0.2898,  0.0011,  0.0048]) tensor(1.0798e-29) False defaultdict(<class 'float'>, {'success': 0.0})\n",
      "tensor(0.0238, grad_fn=<SumBackward0>)\n",
      "386\n",
      "tensor([-0.0836,  0.0148], grad_fn=<ToCopyBackward0>) tensor([-7.3444e-02, -2.8961e-01, -7.1684e-05,  4.3614e-03]) tensor(1.1261e-29) False defaultdict(<class 'float'>, {'success': 0.0})\n",
      "tensor(0.0072, grad_fn=<SumBackward0>)\n",
      "387\n",
      "tensor([-0.0817, -0.7592], grad_fn=<ToCopyBackward0>) tensor([-0.0735, -0.2897, -0.0011, -0.0054]) tensor(-0.2644) False defaultdict(<class 'float'>, {'success': 0.0})\n",
      "tensor(0.5831, grad_fn=<SumBackward0>)\n",
      "388\n",
      "tensor([-0.0490,  0.2410], grad_fn=<ToCopyBackward0>) tensor([-0.0735, -0.2898, -0.0015, -0.0018]) tensor(1.0766e-29) False defaultdict(<class 'float'>, {'success': 0.0})\n",
      "tensor(0.0605, grad_fn=<SumBackward0>)\n",
      "389\n",
      "tensor([0.0170, 0.3529], grad_fn=<ToCopyBackward0>) tensor([-0.0736, -0.2898, -0.0011,  0.0027]) tensor(1.0743e-29) False defaultdict(<class 'float'>, {'success': 0.0})\n",
      "tensor(0.1248, grad_fn=<SumBackward0>)\n",
      "390\n",
      "tensor([ 0.0005, -0.0810], grad_fn=<ToCopyBackward0>) tensor([-0.0736, -0.2897, -0.0010,  0.0014]) tensor(1.0879e-29) False defaultdict(<class 'float'>, {'success': 0.0})\n",
      "tensor(0.0066, grad_fn=<SumBackward0>)\n",
      "391\n",
      "tensor([-0.0619,  0.1503], grad_fn=<ToCopyBackward0>) tensor([-0.0737, -0.2896, -0.0016,  0.0030]) tensor(1.1021e-29) False defaultdict(<class 'float'>, {'success': 0.0})\n",
      "tensor(0.0264, grad_fn=<SumBackward0>)\n",
      "392\n",
      "tensor([0.0609, 0.4586], grad_fn=<ToCopyBackward0>) tensor([-0.0737, -0.2893, -0.0007,  0.0082]) tensor(-0.0079) False defaultdict(<class 'float'>, {'success': 0.0})\n",
      "tensor(0.2141, grad_fn=<SumBackward0>)\n",
      "393\n",
      "tensor([-0.0770, -0.0656], grad_fn=<ToCopyBackward0>) tensor([-0.0738, -0.2890, -0.0015,  0.0064]) tensor(1.2206e-29) False defaultdict(<class 'float'>, {'success': 0.0})\n",
      "tensor(0.0102, grad_fn=<SumBackward0>)\n",
      "394\n",
      "tensor([-0.0348, -0.4421], grad_fn=<ToCopyBackward0>) tensor([-0.0738, -0.2890, -0.0018,  0.0003]) tensor(-0.0038) False defaultdict(<class 'float'>, {'success': 0.0})\n",
      "tensor(0.1967, grad_fn=<SumBackward0>)\n",
      "395\n",
      "tensor([-0.0132, -0.0764], grad_fn=<ToCopyBackward0>) tensor([-0.0739, -0.2890, -0.0017, -0.0007]) tensor(1.2336e-29) False defaultdict(<class 'float'>, {'success': 0.0})\n",
      "tensor(0.0060, grad_fn=<SumBackward0>)\n",
      "396\n",
      "tensor([ 0.0021, -0.5414], grad_fn=<ToCopyBackward0>) tensor([-0.0740, -0.2892, -0.0015, -0.0071]) tensor(-0.0400) False defaultdict(<class 'float'>, {'success': 0.0})\n",
      "tensor(0.2931, grad_fn=<SumBackward0>)\n",
      "397\n",
      "tensor([0.0614, 0.4869], grad_fn=<ToCopyBackward0>) tensor([-0.0740, -0.2893, -0.0006, -0.0004]) tensor(-0.0165) False defaultdict(<class 'float'>, {'success': 0.0})\n",
      "tensor(0.2409, grad_fn=<SumBackward0>)\n",
      "398\n",
      "tensor([ 0.1406, -0.6297], grad_fn=<ToCopyBackward0>) tensor([-0.0740, -0.2895,  0.0012, -0.0080]) tensor(-0.1202) False defaultdict(<class 'float'>, {'success': 0.0})\n",
      "tensor(0.4162, grad_fn=<SumBackward0>)\n",
      "399\n",
      "tensor([ 0.0209, -0.3655], grad_fn=<ToCopyBackward0>) tensor([-0.0739, -0.2900,  0.0013, -0.0114]) tensor(1.0179e-29) False defaultdict(<class 'float'>, {'success': 0.0})\n",
      "tensor(0.1340, grad_fn=<SumBackward0>)\n",
      "400\n",
      "tensor([ 0.0616, -0.7620], grad_fn=<ToCopyBackward0>) tensor([-0.0738, -0.2902,  0.0019,  0.0009]) tensor(-0.2657) False defaultdict(<class 'float'>, {'success': 0.0})\n",
      "tensor(0.5845, grad_fn=<SumBackward0>)\n",
      "401\n",
      "tensor([ 0.0582, -0.4972], grad_fn=<ToCopyBackward0>) tensor([-0.0738, -0.2902,  0.0024,  0.0021]) tensor(-0.0202) False defaultdict(<class 'float'>, {'success': 0.0})\n",
      "tensor(0.2506, grad_fn=<SumBackward0>)\n",
      "402\n",
      "tensor([ 0.0191, -0.4181], grad_fn=<ToCopyBackward0>) tensor([-0.0737, -0.2901,  0.0023,  0.0012]) tensor(-0.0007) False defaultdict(<class 'float'>, {'success': 0.0})\n",
      "tensor(0.1752, grad_fn=<SumBackward0>)\n",
      "403\n",
      "tensor([-0.0774, -0.5008], grad_fn=<ToCopyBackward0>) tensor([-0.0736, -0.2901,  0.0011,  0.0007]) tensor(-0.0228) False defaultdict(<class 'float'>, {'success': 0.0})\n",
      "tensor(0.2568, grad_fn=<SumBackward0>)\n",
      "404\n",
      "tensor([-0.0787, -0.4863], grad_fn=<ToCopyBackward0>) tensor([-7.3595e-02, -2.9005e-01,  1.7254e-05,  3.8184e-04]) tensor(-0.0172) False defaultdict(<class 'float'>, {'success': 0.0})\n",
      "tensor(0.2427, grad_fn=<SumBackward0>)\n",
      "405\n",
      "tensor([-0.0817,  0.6314], grad_fn=<ToCopyBackward0>) tensor([-0.0736, -0.2898, -0.0010,  0.0080]) tensor(-0.1120) False defaultdict(<class 'float'>, {'success': 0.0})\n",
      "tensor(0.4053, grad_fn=<SumBackward0>)\n",
      "406\n",
      "tensor([ 0.0489, -0.7449], grad_fn=<ToCopyBackward0>) tensor([-7.3642e-02, -2.8979e-01, -2.6318e-04, -2.0057e-03]) tensor(-0.2401) False defaultdict(<class 'float'>, {'success': 0.0})\n",
      "tensor(0.5573, grad_fn=<SumBackward0>)\n",
      "407\n",
      "tensor([-0.0305, -0.4125], grad_fn=<ToCopyBackward0>) tensor([-0.0737, -0.2900, -0.0006, -0.0068]) tensor(-0.0004) False defaultdict(<class 'float'>, {'success': 0.0})\n",
      "tensor(0.1711, grad_fn=<SumBackward0>)\n",
      "408\n",
      "tensor([0.0932, 0.0567], grad_fn=<ToCopyBackward0>) tensor([-7.3650e-02, -2.9002e-01,  6.0081e-04,  2.4369e-04]) tensor(1.0117e-29) False defaultdict(<class 'float'>, {'success': 0.0})\n",
      "tensor(0.0119, grad_fn=<SumBackward0>)\n",
      "409\n",
      "tensor([-0.0188,  0.2289], grad_fn=<ToCopyBackward0>) tensor([-0.0736, -0.2899,  0.0003,  0.0030]) tensor(1.0285e-29) False defaultdict(<class 'float'>, {'success': 0.0})\n",
      "tensor(0.0527, grad_fn=<SumBackward0>)\n",
      "410\n",
      "tensor([ 0.0628, -0.2498], grad_fn=<ToCopyBackward0>) tensor([-0.0736, -0.2899,  0.0010, -0.0004]) tensor(1.0432e-29) False defaultdict(<class 'float'>, {'success': 0.0})\n",
      "tensor(0.0664, grad_fn=<SumBackward0>)\n",
      "411\n",
      "tensor([ 0.1022, -0.3875], grad_fn=<ToCopyBackward0>) tensor([-0.0735, -0.2901,  0.0021, -0.0050]) tensor(-1.2105e-06) False defaultdict(<class 'float'>, {'success': 0.0})\n",
      "tensor(0.1606, grad_fn=<SumBackward0>)\n",
      "412\n",
      "tensor([ 0.0961, -0.4653], grad_fn=<ToCopyBackward0>) tensor([-0.0734, -0.2901,  0.0030,  0.0004]) tensor(-0.0113) False defaultdict(<class 'float'>, {'success': 0.0})\n",
      "tensor(0.2257, grad_fn=<SumBackward0>)\n",
      "413\n",
      "tensor([ 0.0359, -0.1659], grad_fn=<ToCopyBackward0>) tensor([-0.0733, -0.2900,  0.0031,  0.0005]) tensor(1.0488e-29) False defaultdict(<class 'float'>, {'success': 0.0})\n",
      "tensor(0.0288, grad_fn=<SumBackward0>)\n",
      "414\n",
      "tensor([ 0.0705, -0.3970], grad_fn=<ToCopyBackward0>) tensor([-7.3151e-02, -2.9003e-01,  3.5868e-03,  1.4731e-04]) tensor(-2.1039e-05) False defaultdict(<class 'float'>, {'success': 0.0})\n",
      "tensor(0.1626, grad_fn=<SumBackward0>)\n",
      "415\n",
      "tensor([-0.1459, -0.4171], grad_fn=<ToCopyBackward0>) tensor([-7.3074e-02, -2.9003e-01,  1.3854e-03,  7.0284e-05]) tensor(-0.0035) False defaultdict(<class 'float'>, {'success': 0.0})\n",
      "tensor(0.1953, grad_fn=<SumBackward0>)\n",
      "416\n",
      "tensor([0.0598, 0.1780], grad_fn=<ToCopyBackward0>) tensor([-0.0730, -0.2900,  0.0019,  0.0022]) tensor(1.1022e-29) False defaultdict(<class 'float'>, {'success': 0.0})\n",
      "tensor(0.0353, grad_fn=<SumBackward0>)\n",
      "417\n",
      "tensor([-0.0229, -0.6639], grad_fn=<ToCopyBackward0>) tensor([-0.0729, -0.2900,  0.0014, -0.0006]) tensor(-0.1397) False defaultdict(<class 'float'>, {'success': 0.0})\n",
      "tensor(0.4413, grad_fn=<SumBackward0>)\n",
      "418\n",
      "tensor([-0.0173, -0.6843], grad_fn=<ToCopyBackward0>) tensor([-7.2895e-02, -2.9003e-01,  1.0467e-03, -2.3772e-04]) tensor(-0.1619) False defaultdict(<class 'float'>, {'success': 0.0})\n",
      "tensor(0.4686, grad_fn=<SumBackward0>)\n",
      "419\n",
      "tensor([0.0802, 0.0105], grad_fn=<ToCopyBackward0>) tensor([-0.0728, -0.2900,  0.0019,  0.0003]) tensor(1.1174e-29) False defaultdict(<class 'float'>, {'success': 0.0})\n",
      "tensor(0.0065, grad_fn=<SumBackward0>)\n",
      "420\n",
      "tensor([-0.0214,  0.3612], grad_fn=<ToCopyBackward0>) tensor([-0.0728, -0.2899,  0.0014,  0.0046]) tensor(1.1513e-29) False defaultdict(<class 'float'>, {'success': 0.0})\n",
      "tensor(0.1309, grad_fn=<SumBackward0>)\n",
      "421\n",
      "tensor([ 0.1246, -0.1342], grad_fn=<ToCopyBackward0>) tensor([-0.0727, -0.2898,  0.0027,  0.0025]) tensor(1.1992e-29) False defaultdict(<class 'float'>, {'success': 0.0})\n",
      "tensor(0.0335, grad_fn=<SumBackward0>)\n",
      "422\n",
      "tensor([ 0.0140, -0.0078], grad_fn=<ToCopyBackward0>) tensor([-0.0726, -0.2897,  0.0026,  0.0021]) tensor(1.2388e-29) False defaultdict(<class 'float'>, {'success': 0.0})\n",
      "tensor(0.0003, grad_fn=<SumBackward0>)\n",
      "423\n",
      "tensor([-0.0031, -0.5067], grad_fn=<ToCopyBackward0>) tensor([-0.0725, -0.2898,  0.0022, -0.0043]) tensor(-0.0228) False defaultdict(<class 'float'>, {'success': 0.0})\n",
      "tensor(0.2568, grad_fn=<SumBackward0>)\n",
      "424\n",
      "tensor([-0.0198, -0.3559], grad_fn=<ToCopyBackward0>) tensor([-0.0724, -0.2901,  0.0017, -0.0081]) tensor(1.1862e-29) False defaultdict(<class 'float'>, {'success': 0.0})\n",
      "tensor(0.1271, grad_fn=<SumBackward0>)\n",
      "425\n",
      "tensor([0.1075, 0.1232], grad_fn=<ToCopyBackward0>) tensor([-0.0723, -0.2901,  0.0028,  0.0008]) tensor(1.1797e-29) False defaultdict(<class 'float'>, {'success': 0.0})\n",
      "tensor(0.0267, grad_fn=<SumBackward0>)\n",
      "426\n",
      "tensor([-0.0898, -0.3568], grad_fn=<ToCopyBackward0>) tensor([-7.2228e-02, -2.9004e-01,  1.3838e-03,  2.7227e-04]) tensor(1.1964e-29) False defaultdict(<class 'float'>, {'success': 0.0})\n",
      "tensor(0.1354, grad_fn=<SumBackward0>)\n",
      "427\n",
      "tensor([ 0.1264, -0.3571], grad_fn=<ToCopyBackward0>) tensor([-7.2131e-02, -2.9003e-01,  2.7467e-03,  1.5179e-04]) tensor(1.2107e-29) False defaultdict(<class 'float'>, {'success': 0.0})\n",
      "tensor(0.1435, grad_fn=<SumBackward0>)\n",
      "428\n",
      "tensor([-0.0652, -0.2444], grad_fn=<ToCopyBackward0>) tensor([-7.2055e-02, -2.9002e-01,  1.6244e-03,  1.4948e-04]) tensor(1.2252e-29) False defaultdict(<class 'float'>, {'success': 0.0})\n",
      "tensor(0.0640, grad_fn=<SumBackward0>)\n",
      "429\n",
      "tensor([ 0.0510, -0.3971], grad_fn=<ToCopyBackward0>) tensor([-7.1977e-02, -2.9002e-01,  2.0453e-03,  1.0777e-06]) tensor(-3.3433e-07) False defaultdict(<class 'float'>, {'success': 0.0})\n",
      "tensor(0.1603, grad_fn=<SumBackward0>)\n",
      "430\n",
      "tensor([-0.0256, -0.4672], grad_fn=<ToCopyBackward0>) tensor([-7.1912e-02, -2.9003e-01,  1.4880e-03, -4.0212e-05]) tensor(-0.0092) False defaultdict(<class 'float'>, {'success': 0.0})\n",
      "tensor(0.2190, grad_fn=<SumBackward0>)\n",
      "431\n",
      "tensor([0.0052, 0.4648], grad_fn=<ToCopyBackward0>) tensor([-0.0719, -0.2899,  0.0014,  0.0056]) tensor(-0.0084) False defaultdict(<class 'float'>, {'success': 0.0})\n",
      "tensor(0.2161, grad_fn=<SumBackward0>)\n",
      "432\n",
      "tensor([-0.0388, -0.4333], grad_fn=<ToCopyBackward0>) tensor([-0.0718, -0.2898,  0.0007, -0.0003]) tensor(-0.0025) False defaultdict(<class 'float'>, {'success': 0.0})\n",
      "tensor(0.1892, grad_fn=<SumBackward0>)\n",
      "433\n",
      "tensor([ 0.0943, -0.2438], grad_fn=<ToCopyBackward0>) tensor([-0.0718, -0.2899,  0.0018, -0.0032]) tensor(1.3100e-29) False defaultdict(<class 'float'>, {'success': 0.0})\n",
      "tensor(0.0683, grad_fn=<SumBackward0>)\n",
      "434\n",
      "tensor([ 0.0646, -0.7883], grad_fn=<ToCopyBackward0>) tensor([-0.0717, -0.2901,  0.0024, -0.0006]) tensor(-0.3057) False defaultdict(<class 'float'>, {'success': 0.0})\n",
      "tensor(0.6256, grad_fn=<SumBackward0>)\n",
      "435\n",
      "tensor([-0.0553, -0.4913], grad_fn=<ToCopyBackward0>) tensor([-0.0716, -0.2901,  0.0014,  0.0005]) tensor(-0.0178) False defaultdict(<class 'float'>, {'success': 0.0})\n",
      "tensor(0.2444, grad_fn=<SumBackward0>)\n",
      "436\n",
      "tensor([0.0378, 0.6643], grad_fn=<ToCopyBackward0>) tensor([-0.0715, -0.2898,  0.0017,  0.0085]) tensor(-0.1409) False defaultdict(<class 'float'>, {'success': 0.0})\n",
      "tensor(0.4428, grad_fn=<SumBackward0>)\n",
      "437\n",
      "tensor([-0.0760,  0.1084], grad_fn=<ToCopyBackward0>) tensor([-0.0715, -0.2895,  0.0006,  0.0088]) tensor(1.4570e-29) False defaultdict(<class 'float'>, {'success': 0.0})\n",
      "tensor(0.0175, grad_fn=<SumBackward0>)\n",
      "438\n",
      "tensor([ 0.0941, -0.3762], grad_fn=<ToCopyBackward0>) tensor([-0.0715, -0.2893,  0.0016,  0.0032]) tensor(1.5421e-29) False defaultdict(<class 'float'>, {'success': 0.0})\n",
      "tensor(0.1503, grad_fn=<SumBackward0>)\n",
      "439\n",
      "tensor([-0.0603, -0.4179], grad_fn=<ToCopyBackward0>) tensor([-0.0714, -0.2893,  0.0007, -0.0023]) tensor(-0.0010) False defaultdict(<class 'float'>, {'success': 0.0})\n",
      "tensor(0.1783, grad_fn=<SumBackward0>)\n",
      "440\n",
      "tensor([ 0.0359, -0.3387], grad_fn=<ToCopyBackward0>) tensor([-0.0714, -0.2895,  0.0011, -0.0061]) tensor(1.5066e-29) False defaultdict(<class 'float'>, {'success': 0.0})\n",
      "tensor(0.1160, grad_fn=<SumBackward0>)\n",
      "441\n",
      "tensor([-0.0468, -0.1614], grad_fn=<ToCopyBackward0>) tensor([-0.0714, -0.2898,  0.0004, -0.0073]) tensor(1.4260e-29) False defaultdict(<class 'float'>, {'success': 0.0})\n",
      "tensor(0.0282, grad_fn=<SumBackward0>)\n",
      "442\n",
      "tensor([-0.0470, -0.4897], grad_fn=<ToCopyBackward0>) tensor([-7.1360e-02, -2.9024e-01, -2.5167e-04, -1.2360e-02]) tensor(-0.0169) False defaultdict(<class 'float'>, {'success': 0.0})\n",
      "tensor(0.2420, grad_fn=<SumBackward0>)\n",
      "443\n",
      "tensor([ 0.0321, -0.2254], grad_fn=<ToCopyBackward0>) tensor([-7.1357e-02, -2.9017e-01,  1.6735e-04,  2.3037e-03]) tensor(1.2869e-29) False defaultdict(<class 'float'>, {'success': 0.0})\n",
      "tensor(0.0518, grad_fn=<SumBackward0>)\n",
      "444\n",
      "tensor([ 0.1614, -0.5949], grad_fn=<ToCopyBackward0>) tensor([-0.0713, -0.2901,  0.0021,  0.0013]) tensor(-0.0937) False defaultdict(<class 'float'>, {'success': 0.0})\n",
      "tensor(0.3799, grad_fn=<SumBackward0>)\n",
      "445\n",
      "tensor([-0.0947, -0.6020], grad_fn=<ToCopyBackward0>) tensor([-0.0713, -0.2901,  0.0007,  0.0007]) tensor(-0.0877) False defaultdict(<class 'float'>, {'success': 0.0})\n",
      "tensor(0.3714, grad_fn=<SumBackward0>)\n",
      "446\n",
      "tensor([ 0.1202, -0.4290], grad_fn=<ToCopyBackward0>) tensor([-0.0712, -0.2901,  0.0021,  0.0005]) tensor(-0.0041) False defaultdict(<class 'float'>, {'success': 0.0})\n",
      "tensor(0.1985, grad_fn=<SumBackward0>)\n",
      "447\n",
      "tensor([ 0.0018, -0.5098], grad_fn=<ToCopyBackward0>) tensor([-7.1105e-02, -2.9005e-01,  1.8420e-03,  2.4156e-04]) tensor(-0.0241) False defaultdict(<class 'float'>, {'success': 0.0})\n",
      "tensor(0.2599, grad_fn=<SumBackward0>)\n",
      "448\n",
      "tensor([-0.0224, -0.3974], grad_fn=<ToCopyBackward0>) tensor([-7.1046e-02, -2.9004e-01,  1.3473e-03,  1.9943e-04]) tensor(1.3804e-29) False defaultdict(<class 'float'>, {'success': 0.0})\n",
      "tensor(0.1584, grad_fn=<SumBackward0>)\n",
      "449\n",
      "tensor([ 0.0187, -0.4516], grad_fn=<ToCopyBackward0>) tensor([-7.0990e-02, -2.9003e-01,  1.4106e-03,  8.4553e-05]) tensor(-0.0054) False defaultdict(<class 'float'>, {'success': 0.0})\n",
      "tensor(0.2043, grad_fn=<SumBackward0>)\n",
      "450\n",
      "tensor([-0.1002, -0.7340], grad_fn=<ToCopyBackward0>) tensor([-7.0976e-02, -2.9004e-01,  2.6186e-05, -1.1009e-04]) tensor(-0.2323) False defaultdict(<class 'float'>, {'success': 0.0})\n",
      "tensor(0.5488, grad_fn=<SumBackward0>)\n",
      "451\n",
      "tensor([ 0.0197, -0.1065], grad_fn=<ToCopyBackward0>) tensor([-7.0968e-02, -2.9002e-01,  2.6172e-04,  2.8471e-04]) tensor(1.3985e-29) False defaultdict(<class 'float'>, {'success': 0.0})\n",
      "tensor(0.0117, grad_fn=<SumBackward0>)\n",
      "452\n",
      "tensor([ 0.0544, -0.5669], grad_fn=<ToCopyBackward0>) tensor([-7.0938e-02, -2.9003e-01,  8.8887e-04, -8.8199e-05]) tensor(-0.0575) False defaultdict(<class 'float'>, {'success': 0.0})\n",
      "tensor(0.3243, grad_fn=<SumBackward0>)\n",
      "453\n",
      "tensor([-0.0359, -0.5124], grad_fn=<ToCopyBackward0>) tensor([-7.0919e-02, -2.9003e-01,  3.4662e-04, -2.4716e-05]) tensor(-0.0258) False defaultdict(<class 'float'>, {'success': 0.0})\n",
      "tensor(0.2639, grad_fn=<SumBackward0>)\n",
      "454\n",
      "tensor([0.0194, 0.0373], grad_fn=<ToCopyBackward0>) tensor([-0.0709, -0.2900,  0.0005,  0.0005]) tensor(1.4128e-29) False defaultdict(<class 'float'>, {'success': 0.0})\n",
      "tensor(0.0018, grad_fn=<SumBackward0>)\n",
      "455\n",
      "tensor([ 0.1302, -0.3985], grad_fn=<ToCopyBackward0>) tensor([-7.0832e-02, -2.9002e-01,  2.0517e-03, -1.1894e-04]) tensor(-0.0007) False defaultdict(<class 'float'>, {'success': 0.0})\n",
      "tensor(0.1758, grad_fn=<SumBackward0>)\n",
      "456\n",
      "tensor([-0.0992,  0.1807], grad_fn=<ToCopyBackward0>) tensor([-0.0708, -0.2900,  0.0006,  0.0021]) tensor(1.4442e-29) False defaultdict(<class 'float'>, {'success': 0.0})\n",
      "tensor(0.0425, grad_fn=<SumBackward0>)\n",
      "457\n",
      "tensor([ 0.0435, -0.4297], grad_fn=<ToCopyBackward0>) tensor([-0.0708, -0.2900,  0.0011, -0.0034]) tensor(-0.0020) False defaultdict(<class 'float'>, {'success': 0.0})\n",
      "tensor(0.1865, grad_fn=<SumBackward0>)\n",
      "458\n",
      "tensor([ 0.0311, -0.4183], grad_fn=<ToCopyBackward0>) tensor([-7.0706e-02, -2.9004e-01,  1.3047e-03,  1.3795e-04]) tensor(-0.0008) False defaultdict(<class 'float'>, {'success': 0.0})\n",
      "tensor(0.1759, grad_fn=<SumBackward0>)\n",
      "459\n",
      "tensor([-0.1207, -0.4360], grad_fn=<ToCopyBackward0>) tensor([-7.0703e-02, -2.9003e-01, -3.1484e-04,  1.0888e-04]) tensor(-0.0055) False defaultdict(<class 'float'>, {'success': 0.0})\n",
      "tensor(0.2047, grad_fn=<SumBackward0>)\n",
      "460\n",
      "tensor([ 0.0693, -0.7777], grad_fn=<ToCopyBackward0>) tensor([-7.0689e-02, -2.9004e-01,  5.6294e-04, -1.2815e-04]) tensor(-0.2900) False defaultdict(<class 'float'>, {'success': 0.0})\n",
      "tensor(0.6096, grad_fn=<SumBackward0>)\n",
      "461\n",
      "tensor([ 0.0304, -0.3098], grad_fn=<ToCopyBackward0>) tensor([-7.0657e-02, -2.9003e-01,  8.6260e-04,  1.8453e-04]) tensor(1.4492e-29) False defaultdict(<class 'float'>, {'success': 0.0})\n",
      "tensor(0.0969, grad_fn=<SumBackward0>)\n",
      "462\n",
      "tensor([0.1547, 0.4757], grad_fn=<ToCopyBackward0>) tensor([-0.0706, -0.2898,  0.0026,  0.0059]) tensor(-0.0201) False defaultdict(<class 'float'>, {'success': 0.0})\n",
      "tensor(0.2502, grad_fn=<SumBackward0>)\n",
      "463\n",
      "tensor([ 0.0623, -0.8211], grad_fn=<ToCopyBackward0>) tensor([-0.0705, -0.2899,  0.0031, -0.0047]) tensor(-0.3586) False defaultdict(<class 'float'>, {'success': 0.0})\n",
      "tensor(0.6780, grad_fn=<SumBackward0>)\n",
      "464\n",
      "tensor([-0.0062, -0.2954], grad_fn=<ToCopyBackward0>) tensor([-7.0342e-02, -2.9007e-01,  2.6201e-03, -2.0335e-04]) tensor(1.4920e-29) False defaultdict(<class 'float'>, {'success': 0.0})\n",
      "tensor(0.0873, grad_fn=<SumBackward0>)\n",
      "465\n",
      "tensor([-0.0457, -0.2019], grad_fn=<ToCopyBackward0>) tensor([-0.0703, -0.2900,  0.0017,  0.0005]) tensor(1.5122e-29) False defaultdict(<class 'float'>, {'success': 0.0})\n",
      "tensor(0.0428, grad_fn=<SumBackward0>)\n",
      "466\n",
      "tensor([-0.1172,  0.3710], grad_fn=<ToCopyBackward0>) tensor([-7.0243e-02, -2.8989e-01,  1.1892e-04,  4.9345e-03]) tensor(1.5558e-29) False defaultdict(<class 'float'>, {'success': 0.0})\n",
      "tensor(0.1514, grad_fn=<SumBackward0>)\n",
      "467\n",
      "tensor([ 0.0198, -0.5228], grad_fn=<ToCopyBackward0>) tensor([-0.0702, -0.2899,  0.0003, -0.0020]) tensor(-0.0304) False defaultdict(<class 'float'>, {'success': 0.0})\n",
      "tensor(0.2738, grad_fn=<SumBackward0>)\n",
      "468\n",
      "tensor([ 0.0754, -0.1931], grad_fn=<ToCopyBackward0>) tensor([-0.0702, -0.2900,  0.0012, -0.0041]) tensor(1.5412e-29) False defaultdict(<class 'float'>, {'success': 0.0})\n",
      "tensor(0.0430, grad_fn=<SumBackward0>)\n",
      "469\n",
      "tensor([-0.1731, -0.3202], grad_fn=<ToCopyBackward0>) tensor([-0.0702, -0.2900, -0.0010,  0.0003]) tensor(1.5280e-29) False defaultdict(<class 'float'>, {'success': 0.0})\n",
      "tensor(0.1325, grad_fn=<SumBackward0>)\n",
      "470\n",
      "tensor([-0.0601, -0.3405], grad_fn=<ToCopyBackward0>) tensor([-7.0270e-02, -2.9003e-01, -1.6310e-03,  2.1003e-04]) tensor(1.5217e-29) False defaultdict(<class 'float'>, {'success': 0.0})\n",
      "tensor(0.1196, grad_fn=<SumBackward0>)\n",
      "471\n",
      "tensor([-0.0585, -0.5352], grad_fn=<ToCopyBackward0>) tensor([-7.0351e-02, -2.9003e-01, -2.1414e-03,  1.1720e-05]) tensor(-0.0383) False defaultdict(<class 'float'>, {'success': 0.0})\n",
      "tensor(0.2899, grad_fn=<SumBackward0>)\n",
      "472\n",
      "tensor([ 0.0568, -0.1980], grad_fn=<ToCopyBackward0>) tensor([-7.0407e-02, -2.9002e-01, -1.1943e-03,  1.9295e-04]) tensor(1.4991e-29) False defaultdict(<class 'float'>, {'success': 0.0})\n",
      "tensor(0.0424, grad_fn=<SumBackward0>)\n",
      "473\n",
      "tensor([ 0.0273, -0.3537], grad_fn=<ToCopyBackward0>) tensor([-7.0441e-02, -2.9002e-01, -7.1920e-04,  2.6673e-05]) tensor(1.4933e-29) False defaultdict(<class 'float'>, {'success': 0.0})\n",
      "tensor(0.1258, grad_fn=<SumBackward0>)\n",
      "474\n",
      "tensor([ 0.1124, -0.3347], grad_fn=<ToCopyBackward0>) tensor([-7.0426e-02, -2.9002e-01,  7.2842e-04,  2.4179e-05]) tensor(1.4938e-29) False defaultdict(<class 'float'>, {'success': 0.0})\n",
      "tensor(0.1247, grad_fn=<SumBackward0>)\n",
      "475\n",
      "tensor([-0.0352,  0.0890], grad_fn=<ToCopyBackward0>) tensor([-7.0412e-02, -2.8999e-01,  2.1336e-04,  1.0987e-03]) tensor(1.5046e-29) False defaultdict(<class 'float'>, {'success': 0.0})\n",
      "tensor(0.0092, grad_fn=<SumBackward0>)\n",
      "476\n",
      "tensor([ 0.0785, -0.6537], grad_fn=<ToCopyBackward0>) tensor([-7.0376e-02, -2.9005e-01,  1.1382e-03, -2.1438e-04]) tensor(-0.1335) False defaultdict(<class 'float'>, {'success': 0.0})\n",
      "tensor(0.4334, grad_fn=<SumBackward0>)\n",
      "477\n",
      "tensor([0.0147, 0.6872], grad_fn=<ToCopyBackward0>) tensor([-0.0703, -0.2898,  0.0012,  0.0081]) tensor(-0.1652) False defaultdict(<class 'float'>, {'success': 0.0})\n",
      "tensor(0.4725, grad_fn=<SumBackward0>)\n",
      "478\n",
      "tensor([-0.0123, -0.2189], grad_fn=<ToCopyBackward0>) tensor([-0.0703, -0.2896,  0.0009,  0.0045]) tensor(1.6499e-29) False defaultdict(<class 'float'>, {'success': 0.0})\n",
      "tensor(0.0481, grad_fn=<SumBackward0>)\n",
      "479\n",
      "tensor([ 0.0426, -0.5360], grad_fn=<ToCopyBackward0>) tensor([-0.0702, -0.2896,  0.0013, -0.0025]) tensor(-0.0379) False defaultdict(<class 'float'>, {'success': 0.0})\n",
      "tensor(0.2892, grad_fn=<SumBackward0>)\n",
      "480\n",
      "tensor([0.0121, 0.7439], grad_fn=<ToCopyBackward0>) tensor([-0.0702, -0.2894,  0.0013,  0.0068]) tensor(-0.2366) False defaultdict(<class 'float'>, {'success': 0.0})\n",
      "tensor(0.5535, grad_fn=<SumBackward0>)\n",
      "481\n",
      "tensor([-0.0705, -0.0392], grad_fn=<ToCopyBackward0>) tensor([-7.0170e-02, -2.8921e-01,  2.7609e-04,  5.4817e-03]) tensor(1.8152e-29) False defaultdict(<class 'float'>, {'success': 0.0})\n",
      "tensor(0.0065, grad_fn=<SumBackward0>)\n",
      "482\n",
      "tensor([ 0.0959, -0.6521], grad_fn=<ToCopyBackward0>) tensor([-0.0701, -0.2893,  0.0014, -0.0031]) tensor(-0.1342) False defaultdict(<class 'float'>, {'success': 0.0})\n",
      "tensor(0.4344, grad_fn=<SumBackward0>)\n",
      "483\n",
      "tensor([-0.0568,  0.2485], grad_fn=<ToCopyBackward0>) tensor([-0.0701, -0.2893,  0.0005,  0.0003]) tensor(1.8273e-29) False defaultdict(<class 'float'>, {'success': 0.0})\n",
      "tensor(0.0650, grad_fn=<SumBackward0>)\n",
      "484\n",
      "tensor([ 0.0669, -0.6589], grad_fn=<ToCopyBackward0>) tensor([-0.0701, -0.2895,  0.0013, -0.0077]) tensor(-0.1376) False defaultdict(<class 'float'>, {'success': 0.0})\n",
      "tensor(0.4386, grad_fn=<SumBackward0>)\n",
      "485\n",
      "tensor([-0.0104, -0.5270], grad_fn=<ToCopyBackward0>) tensor([-0.0700, -0.2900,  0.0010, -0.0132]) tensor(-0.0323) False defaultdict(<class 'float'>, {'success': 0.0})\n",
      "tensor(0.2779, grad_fn=<SumBackward0>)\n",
      "486\n",
      "tensor([0.0680, 0.3178], grad_fn=<ToCopyBackward0>) tensor([-0.0699, -0.2902,  0.0017,  0.0011]) tensor(1.5283e-29) False defaultdict(<class 'float'>, {'success': 0.0})\n",
      "tensor(0.1056, grad_fn=<SumBackward0>)\n",
      "487\n",
      "tensor([0.0739, 0.2875], grad_fn=<ToCopyBackward0>) tensor([-0.0699, -0.2900,  0.0024,  0.0045]) tensor(1.5818e-29) False defaultdict(<class 'float'>, {'success': 0.0})\n",
      "tensor(0.0881, grad_fn=<SumBackward0>)\n",
      "488\n",
      "tensor([ 0.0122, -0.5145], grad_fn=<ToCopyBackward0>) tensor([-0.0698, -0.2900,  0.0023, -0.0023]) tensor(-0.0263) False defaultdict(<class 'float'>, {'success': 0.0})\n",
      "tensor(0.2649, grad_fn=<SumBackward0>)\n",
      "489\n",
      "tensor([0.0445, 0.1251], grad_fn=<ToCopyBackward0>) tensor([-0.0697, -0.2900,  0.0025,  0.0011]) tensor(1.6301e-29) False defaultdict(<class 'float'>, {'success': 0.0})\n",
      "tensor(0.0176, grad_fn=<SumBackward0>)\n",
      "490\n",
      "tensor([ 0.0131, -0.3898], grad_fn=<ToCopyBackward0>) tensor([-6.9571e-02, -2.9002e-01,  2.3733e-03, -6.2877e-05]) tensor(1.6533e-29) False defaultdict(<class 'float'>, {'success': 0.0})\n",
      "tensor(0.1521, grad_fn=<SumBackward0>)\n",
      "491\n",
      "tensor([-0.0146, -0.5675], grad_fn=<ToCopyBackward0>) tensor([-6.9490e-02, -2.9002e-01,  1.9086e-03, -1.4839e-04]) tensor(-0.0562) False defaultdict(<class 'float'>, {'success': 0.0})\n",
      "tensor(0.3222, grad_fn=<SumBackward0>)\n",
      "492\n",
      "tensor([ 0.0849, -0.7143], grad_fn=<ToCopyBackward0>) tensor([-6.9389e-02, -2.9003e-01,  2.7061e-03, -1.6884e-04]) tensor(-0.2040) False defaultdict(<class 'float'>, {'success': 0.0})\n",
      "tensor(0.5175, grad_fn=<SumBackward0>)\n",
      "493\n",
      "tensor([-0.1813,  0.0327], grad_fn=<ToCopyBackward0>) tensor([-6.9358e-02, -2.9001e-01,  1.8356e-04,  5.2039e-04]) tensor(1.6995e-29) False defaultdict(<class 'float'>, {'success': 0.0})\n",
      "tensor(0.0339, grad_fn=<SumBackward0>)\n",
      "494\n",
      "tensor([ 0.0603, -0.3418], grad_fn=<ToCopyBackward0>) tensor([-6.9329e-02, -2.9002e-01,  8.9144e-04, -5.9017e-05]) tensor(1.7056e-29) False defaultdict(<class 'float'>, {'success': 0.0})\n",
      "tensor(0.1205, grad_fn=<SumBackward0>)\n",
      "495\n",
      "tensor([0.1111, 0.0872], grad_fn=<ToCopyBackward0>) tensor([-0.0693, -0.2900,  0.0021,  0.0010]) tensor(1.7253e-29) False defaultdict(<class 'float'>, {'success': 0.0})\n",
      "tensor(0.0199, grad_fn=<SumBackward0>)\n",
      "496\n",
      "tensor([0.0795, 0.1664], grad_fn=<ToCopyBackward0>) tensor([-0.0691, -0.2899,  0.0028,  0.0029]) tensor(1.7761e-29) False defaultdict(<class 'float'>, {'success': 0.0})\n",
      "tensor(0.0340, grad_fn=<SumBackward0>)\n",
      "497\n",
      "tensor([ 0.1163, -0.7237], grad_fn=<ToCopyBackward0>) tensor([-0.0690, -0.2900,  0.0039, -0.0062]) tensor(-0.2217) False defaultdict(<class 'float'>, {'success': 0.0})\n",
      "tensor(0.5372, grad_fn=<SumBackward0>)\n",
      "498\n",
      "tensor([0.0054, 0.0024], grad_fn=<ToCopyBackward0>) tensor([-0.0689, -0.2900,  0.0035,  0.0005]) tensor(1.7863e-29) False defaultdict(<class 'float'>, {'success': 0.0})\n",
      "tensor(3.4472e-05, grad_fn=<SumBackward0>)\n",
      "499\n",
      "tensor([0.0353, 0.4273], grad_fn=<ToCopyBackward0>) tensor([-0.0687, -0.2899,  0.0035,  0.0056]) tensor(-0.0017) True defaultdict(<class 'float'>, {'success': 0.0})\n",
      "tensor(0.1838, grad_fn=<SumBackward0>)\n"
     ]
    }
   ],
   "source": [
    "done = False\n",
    "step = 0\n",
    "while not done:\n",
    "    print(step)\n",
    "    action = trainer.agent.act(obs)\n",
    "    obs, reward, done, info = trainer.env.step(action.detach().cpu())\n",
    "    print(action, obs, reward, done, info)\n",
    "    print(action.pow(2).sum())\n",
    "    step += 1"
   ]
  },
  {
   "cell_type": "markdown",
   "metadata": {},
   "source": [
    "action cost"
   ]
  },
  {
   "cell_type": "code",
   "execution_count": 37,
   "metadata": {},
   "outputs": [],
   "source": [
    "obs = trainer.env.reset()\n",
    "phys = trainer.env.unwrapped.physics"
   ]
  },
  {
   "cell_type": "code",
   "execution_count": 38,
   "metadata": {},
   "outputs": [
    {
     "name": "stdout",
     "output_type": "stream",
     "text": [
      "0\n",
      "tensor([-0.7622,  0.1659], dtype=torch.float64) tensor([-0.1003, -0.0999, -0.0092,  0.0020]) tensor(-0.2889) False defaultdict(<class 'float'>, {'success': 0.0})\n",
      "tensor(0.6085, dtype=torch.float64)\n",
      "1\n",
      "tensor([ 0.7604, -0.9374], dtype=torch.float64) tensor([-0.0997, -0.1003,  0.0097, -0.0115]) tensor(-1.3027) False defaultdict(<class 'float'>, {'success': 0.0})\n",
      "tensor(1.4570, dtype=torch.float64)\n",
      "2\n",
      "tensor([0.2081, 0.0587], dtype=torch.float64) tensor([-0.0999, -0.1000,  0.0019,  0.0014]) tensor(9.1627e-17) False defaultdict(<class 'float'>, {'success': 0.0})\n",
      "tensor(0.0467, dtype=torch.float64)\n",
      "3\n",
      "tensor([ 0.3384, -0.2618], dtype=torch.float64) tensor([-0.0999, -0.1001,  0.0040, -0.0033]) tensor(-0.0016) False defaultdict(<class 'float'>, {'success': 0.0})\n",
      "tensor(0.1831, dtype=torch.float64)\n",
      "4\n",
      "tensor([-0.4101,  0.4107], dtype=torch.float64) tensor([-0.1002, -0.0998, -0.0052,  0.0052]) tensor(-0.0651) False defaultdict(<class 'float'>, {'success': 0.0})\n",
      "tensor(0.3369, dtype=torch.float64)\n",
      "5\n",
      "tensor([-0.7171,  0.5459], dtype=torch.float64) tensor([-0.1003, -0.0998, -0.0084,  0.0063]) tensor(-0.5026) False defaultdict(<class 'float'>, {'success': 0.0})\n",
      "tensor(0.8123, dtype=torch.float64)\n",
      "6\n",
      "tensor([0.3427, 0.3876], dtype=torch.float64) tensor([-0.0999, -0.0999,  0.0046,  0.0043]) tensor(-0.0276) False defaultdict(<class 'float'>, {'success': 0.0})\n",
      "tensor(0.2677, dtype=torch.float64)\n",
      "7\n",
      "tensor([-0.0243, -0.4757], dtype=torch.float64) tensor([-0.1000, -0.1002, -0.0006, -0.0060]) tensor(-0.0116) False defaultdict(<class 'float'>, {'success': 0.0})\n",
      "tensor(0.2269, dtype=torch.float64)\n",
      "8\n",
      "tensor([-0.3049, -0.7427], dtype=torch.float64) tensor([-0.1001, -0.1003, -0.0037, -0.0086]) tensor(-0.3246) False defaultdict(<class 'float'>, {'success': 0.0})\n",
      "tensor(0.6446, dtype=torch.float64)\n",
      "9\n",
      "tensor([-0.6462,  0.4491], dtype=torch.float64) tensor([-0.1002, -0.0998, -0.0076,  0.0059]) tensor(-0.2994) False defaultdict(<class 'float'>, {'success': 0.0})\n",
      "tensor(0.6192, dtype=torch.float64)\n",
      "10\n",
      "tensor([0.4316, 0.8205], dtype=torch.float64) tensor([-0.0998, -0.0997,  0.0057,  0.0096]) tensor(-0.5556) False defaultdict(<class 'float'>, {'success': 0.0})\n",
      "tensor(0.8595, dtype=torch.float64)\n",
      "11\n",
      "tensor([0.9468, 0.4502], dtype=torch.float64) tensor([-0.0997, -0.0999,  0.0111,  0.0049]) tensor(-0.8408) False defaultdict(<class 'float'>, {'success': 0.0})\n",
      "tensor(1.0991, dtype=torch.float64)\n",
      "12\n",
      "tensor([0.9709, 0.6851], dtype=torch.float64) tensor([-0.0997, -0.0998,  0.0111,  0.0080]) tensor(-1.2428) False defaultdict(<class 'float'>, {'success': 0.0})\n",
      "tensor(1.4120, dtype=torch.float64)\n",
      "13\n",
      "tensor([0.0694, 0.7405], dtype=torch.float64) tensor([-0.1000, -0.0997,  0.0002,  0.0085]) tensor(-0.2364) False defaultdict(<class 'float'>, {'success': 0.0})\n",
      "tensor(0.5532, dtype=torch.float64)\n",
      "14\n",
      "tensor([-0.9726,  0.2770], dtype=torch.float64) tensor([-0.1004, -0.0999, -0.0118,  0.0029]) tensor(-0.7473) False defaultdict(<class 'float'>, {'success': 0.0})\n",
      "tensor(1.0227, dtype=torch.float64)\n",
      "15\n",
      "tensor([-0.6283,  0.4967], dtype=torch.float64) tensor([-0.1002, -0.0998, -0.0069,  0.0058]) tensor(-0.3215) False defaultdict(<class 'float'>, {'success': 0.0})\n",
      "tensor(0.6415, dtype=torch.float64)\n",
      "16\n",
      "tensor([ 0.6339, -0.3882], dtype=torch.float64) tensor([-0.0998, -0.1002,  0.0081, -0.0050]) tensor(-0.2357) False defaultdict(<class 'float'>, {'success': 0.0})\n",
      "tensor(0.5525, dtype=torch.float64)\n",
      "17\n",
      "tensor([ 0.8895, -0.6442], dtype=torch.float64) tensor([-0.0997, -0.1002,  0.0103, -0.0075]) tensor(-0.9753) False defaultdict(<class 'float'>, {'success': 0.0})\n",
      "tensor(1.2063, dtype=torch.float64)\n",
      "18\n",
      "tensor([-0.3373,  0.0677], dtype=torch.float64) tensor([-0.1001, -0.1000, -0.0047,  0.0013]) tensor(8.9951e-17) False defaultdict(<class 'float'>, {'success': 0.0})\n",
      "tensor(0.1184, dtype=torch.float64)\n",
      "19\n",
      "tensor([0.1661, 0.7475], dtype=torch.float64) tensor([-0.0999, -0.0997,  0.0023,  0.0090]) tensor(-0.2676) False defaultdict(<class 'float'>, {'success': 0.0})\n",
      "tensor(0.5864, dtype=torch.float64)\n",
      "20\n",
      "tensor([-0.3019, -0.4149], dtype=torch.float64) tensor([-0.1001, -0.1002, -0.0038, -0.0056]) tensor(-0.0256) False defaultdict(<class 'float'>, {'success': 0.0})\n",
      "tensor(0.2633, dtype=torch.float64)\n",
      "21\n",
      "tensor([-0.9117,  0.7407], dtype=torch.float64) tensor([-0.1003, -0.0997, -0.0108,  0.0093]) tensor(-1.2002) False defaultdict(<class 'float'>, {'success': 0.0})\n",
      "tensor(1.3798, dtype=torch.float64)\n",
      "22\n",
      "tensor([ 0.4659, -0.1653], dtype=torch.float64) tensor([-0.0998, -0.1001,  0.0063, -0.0025]) tensor(-0.0178) False defaultdict(<class 'float'>, {'success': 0.0})\n",
      "tensor(0.2444, dtype=torch.float64)\n",
      "23\n",
      "tensor([-0.0865,  0.9852], dtype=torch.float64) tensor([-0.1000, -0.0996, -0.0014,  0.0121]) tensor(-0.6938) False defaultdict(<class 'float'>, {'success': 0.0})\n",
      "tensor(0.9781, dtype=torch.float64)\n",
      "24\n",
      "tensor([-0.6432, -0.4287], dtype=torch.float64) tensor([-0.1002, -0.1002, -0.0077, -0.0059]) tensor(-0.2783) False defaultdict(<class 'float'>, {'success': 0.0})\n",
      "tensor(0.5976, dtype=torch.float64)\n",
      "25\n",
      "tensor([-0.8640, -0.4351], dtype=torch.float64) tensor([-0.1003, -0.1001, -0.0100, -0.0049]) tensor(-0.6440) False defaultdict(<class 'float'>, {'success': 0.0})\n",
      "tensor(0.9359, dtype=torch.float64)\n",
      "26\n",
      "tensor([-0.0081,  0.3823], dtype=torch.float64) tensor([-0.1000, -0.0998,  0.0005,  0.0049]) tensor(9.2242e-17) False defaultdict(<class 'float'>, {'success': 0.0})\n",
      "tensor(0.1462, dtype=torch.float64)\n",
      "27\n",
      "tensor([-0.0164, -0.8913], dtype=torch.float64) tensor([-0.1000, -0.1003, -0.0002, -0.0111]) tensor(-0.4831) False defaultdict(<class 'float'>, {'success': 0.0})\n",
      "tensor(0.7947, dtype=torch.float64)\n",
      "28\n",
      "tensor([-0.1821,  0.2507], dtype=torch.float64) tensor([-0.1001, -0.0999, -0.0022,  0.0037]) tensor(9.1251e-17) False defaultdict(<class 'float'>, {'success': 0.0})\n",
      "tensor(0.0960, dtype=torch.float64)\n",
      "29\n",
      "tensor([-0.7866,  0.4117], dtype=torch.float64) tensor([-0.1003, -0.0999, -0.0094,  0.0048]) tensor(-0.4759) False defaultdict(<class 'float'>, {'success': 0.0})\n",
      "tensor(0.7882, dtype=torch.float64)\n",
      "30\n",
      "tensor([ 0.3655, -0.6529], dtype=torch.float64) tensor([-0.0998, -0.1003,  0.0050, -0.0082]) tensor(-0.2425) False defaultdict(<class 'float'>, {'success': 0.0})\n",
      "tensor(0.5599, dtype=torch.float64)\n",
      "31\n",
      "tensor([-0.8373, -0.3381], dtype=torch.float64) tensor([-0.1003, -0.1001, -0.0104, -0.0036]) tensor(-0.5059) False defaultdict(<class 'float'>, {'success': 0.0})\n",
      "tensor(0.8153, dtype=torch.float64)\n",
      "32\n",
      "tensor([-0.3941,  0.4921], dtype=torch.float64) tensor([-0.1001, -0.0998, -0.0042,  0.0062]) tensor(-0.1062) False defaultdict(<class 'float'>, {'success': 0.0})\n",
      "tensor(0.3975, dtype=torch.float64)\n",
      "33\n",
      "tensor([ 0.2905, -0.1236], dtype=torch.float64) tensor([-0.0999, -0.1001,  0.0038, -0.0019]) tensor(9.1248e-17) False defaultdict(<class 'float'>, {'success': 0.0})\n",
      "tensor(0.0997, dtype=torch.float64)\n",
      "34\n",
      "tensor([0.7288, 0.1388], dtype=torch.float64) tensor([-0.0997, -0.0999,  0.0086,  0.0018]) tensor(-0.2338) False defaultdict(<class 'float'>, {'success': 0.0})\n",
      "tensor(0.5504, dtype=torch.float64)\n",
      "35\n",
      "tensor([-0.9388,  0.9735], dtype=torch.float64) tensor([-0.1004, -0.0996, -0.0119,  0.0117]) tensor(-1.8142) False defaultdict(<class 'float'>, {'success': 0.0})\n",
      "tensor(1.8290, dtype=torch.float64)\n",
      "36\n",
      "tensor([-0.7104, -0.0641], dtype=torch.float64) tensor([-0.1002, -0.1001, -0.0079, -0.0015]) tensor(-0.1963) False defaultdict(<class 'float'>, {'success': 0.0})\n",
      "tensor(0.5088, dtype=torch.float64)\n",
      "37\n",
      "tensor([-0.4914,  0.0058], dtype=torch.float64) tensor([-0.1002, -0.1000, -0.0055,  0.0002]) tensor(-0.0167) False defaultdict(<class 'float'>, {'success': 0.0})\n",
      "tensor(0.2415, dtype=torch.float64)\n",
      "38\n",
      "tensor([ 0.1513, -0.9155], dtype=torch.float64) tensor([-0.0999, -0.1003,  0.0022, -0.0111]) tensor(-0.5575) False defaultdict(<class 'float'>, {'success': 0.0})\n",
      "tensor(0.8611, dtype=torch.float64)\n",
      "39\n",
      "tensor([ 0.8375, -0.2107], dtype=torch.float64) tensor([-0.0997, -0.1001,  0.0100, -0.0019]) tensor(-0.4298) False defaultdict(<class 'float'>, {'success': 0.0})\n",
      "tensor(0.7457, dtype=torch.float64)\n",
      "40\n",
      "tensor([ 0.2420, -0.4065], dtype=torch.float64) tensor([-0.0999, -0.1001,  0.0023, -0.0048]) tensor(-0.0107) False defaultdict(<class 'float'>, {'success': 0.0})\n",
      "tensor(0.2238, dtype=torch.float64)\n",
      "41\n",
      "tensor([-0.9104,  0.9261], dtype=torch.float64) tensor([-0.1003, -0.0996, -0.0112,  0.0115]) tensor(-1.6151) False defaultdict(<class 'float'>, {'success': 0.0})\n",
      "tensor(1.6865, dtype=torch.float64)\n",
      "42\n",
      "tensor([-0.3264, -0.0165], dtype=torch.float64) tensor([-0.1001, -0.1000, -0.0033, -0.0009]) tensor(8.9791e-17) False defaultdict(<class 'float'>, {'success': 0.0})\n",
      "tensor(0.1068, dtype=torch.float64)\n",
      "43\n",
      "tensor([-0.9051,  0.4584], dtype=torch.float64) tensor([-0.1003, -0.0998, -0.0108,  0.0056]) tensor(-0.7554) False defaultdict(<class 'float'>, {'success': 0.0})\n",
      "tensor(1.0293, dtype=torch.float64)\n",
      "44\n",
      "tensor([ 0.1907, -0.1152], dtype=torch.float64) tensor([-0.0999, -0.1001,  0.0029, -0.0017]) tensor(9.1136e-17) False defaultdict(<class 'float'>, {'success': 0.0})\n",
      "tensor(0.0496, dtype=torch.float64)\n",
      "45\n",
      "tensor([0.1360, 0.4882], dtype=torch.float64) tensor([-0.1000, -0.0998,  0.0015,  0.0060]) tensor(-0.0228) False defaultdict(<class 'float'>, {'success': 0.0})\n",
      "tensor(0.2569, dtype=torch.float64)\n",
      "46\n",
      "tensor([-0.2421,  0.3037], dtype=torch.float64) tensor([-0.1001, -0.0999, -0.0030,  0.0033]) tensor(9.0817e-17) False defaultdict(<class 'float'>, {'success': 0.0})\n",
      "tensor(0.1508, dtype=torch.float64)\n",
      "47\n",
      "tensor([0.7439, 0.0985], dtype=torch.float64) tensor([-0.0997, -0.1000,  0.0092,  0.0010]) tensor(-0.2456) False defaultdict(<class 'float'>, {'success': 0.0})\n",
      "tensor(0.5631, dtype=torch.float64)\n",
      "48\n",
      "tensor([-0.5108, -0.4573], dtype=torch.float64) tensor([-0.1002, -0.1002, -0.0067, -0.0056]) tensor(-0.1631) False defaultdict(<class 'float'>, {'success': 0.0})\n",
      "tensor(0.4700, dtype=torch.float64)\n",
      "49\n",
      "tensor([-0.9318,  0.5206], dtype=torch.float64) tensor([-0.1003, -0.0998, -0.0109,  0.0066]) tensor(-0.8907) False defaultdict(<class 'float'>, {'success': 0.0})\n",
      "tensor(1.1393, dtype=torch.float64)\n",
      "50\n",
      "tensor([-0.6852,  0.5593], dtype=torch.float64) tensor([-0.1002, -0.0998, -0.0077,  0.0064]) tensor(-0.4695) False defaultdict(<class 'float'>, {'success': 0.0})\n",
      "tensor(0.7823, dtype=torch.float64)\n",
      "51\n",
      "tensor([0.3446, 0.5333], dtype=torch.float64) tensor([-0.0999, -0.0998,  0.0046,  0.0061]) tensor(-0.1104) False defaultdict(<class 'float'>, {'success': 0.0})\n",
      "tensor(0.4031, dtype=torch.float64)\n",
      "52\n",
      "tensor([0.6670, 0.2752], dtype=torch.float64) tensor([-0.0998, -0.0999,  0.0078,  0.0030]) tensor(-0.2068) False defaultdict(<class 'float'>, {'success': 0.0})\n",
      "tensor(0.5206, dtype=torch.float64)\n",
      "53\n",
      "tensor([0.3455, 0.8275], dtype=torch.float64) tensor([-0.0999, -0.0997,  0.0037,  0.0098]) tensor(-0.4935) False defaultdict(<class 'float'>, {'success': 0.0})\n",
      "tensor(0.8042, dtype=torch.float64)\n",
      "54\n",
      "tensor([ 0.5647, -0.1206], dtype=torch.float64) tensor([-0.0998, -0.1001,  0.0066, -0.0020]) tensor(-0.0630) False defaultdict(<class 'float'>, {'success': 0.0})\n",
      "tensor(0.3335, dtype=torch.float64)\n",
      "55\n",
      "tensor([0.6265, 0.8396], dtype=torch.float64) tensor([-0.0998, -0.0997,  0.0072,  0.0103]) tensor(-0.8387) False defaultdict(<class 'float'>, {'success': 0.0})\n",
      "tensor(1.0974, dtype=torch.float64)\n",
      "56\n",
      "tensor([-0.8480, -0.5805], dtype=torch.float64) tensor([-0.1003, -0.1002, -0.0107, -0.0076]) tensor(-0.7880) False defaultdict(<class 'float'>, {'success': 0.0})\n",
      "tensor(1.0561, dtype=torch.float64)\n",
      "57\n",
      "tensor([0.9107, 0.9199], dtype=torch.float64) tensor([-0.0996, -0.0996,  0.0117,  0.0116]) tensor(-1.6000) False defaultdict(<class 'float'>, {'success': 0.0})\n",
      "tensor(1.6755, dtype=torch.float64)\n",
      "58\n",
      "tensor([0.0603, 0.8611], dtype=torch.float64) tensor([-1.0001e-01, -9.9712e-02,  4.7209e-05,  9.7480e-03]) tensor(-0.4290) False defaultdict(<class 'float'>, {'success': 0.0})\n",
      "tensor(0.7450, dtype=torch.float64)\n",
      "59\n",
      "tensor([ 0.2233, -0.4359], dtype=torch.float64) tensor([-0.0999, -0.1002,  0.0027, -0.0059]) tensor(-0.0161) False defaultdict(<class 'float'>, {'success': 0.0})\n",
      "tensor(0.2399, dtype=torch.float64)\n",
      "60\n",
      "tensor([0.8315, 0.2876], dtype=torch.float64) tensor([-0.0997, -0.0999,  0.0099,  0.0038]) tensor(-0.4605) False defaultdict(<class 'float'>, {'success': 0.0})\n",
      "tensor(0.7741, dtype=torch.float64)\n",
      "61\n",
      "tensor([-0.3809, -0.7220], dtype=torch.float64) tensor([-0.1002, -0.1003, -0.0052, -0.0090]) tensor(-0.3467) False defaultdict(<class 'float'>, {'success': 0.0})\n",
      "tensor(0.6664, dtype=torch.float64)\n",
      "62\n",
      "tensor([0.8605, 0.6640], dtype=torch.float64) tensor([-0.0997, -0.0997,  0.0107,  0.0086]) tensor(-0.9437) False defaultdict(<class 'float'>, {'success': 0.0})\n",
      "tensor(1.1814, dtype=torch.float64)\n",
      "63\n",
      "tensor([ 0.7547, -0.9754], dtype=torch.float64) tensor([-0.0997, -0.1004,  0.0085, -0.0123]) tensor(-1.3886) False defaultdict(<class 'float'>, {'success': 0.0})\n",
      "tensor(1.5209, dtype=torch.float64)\n",
      "64\n",
      "tensor([0.3896, 0.6945], dtype=torch.float64) tensor([-0.0999, -0.0997,  0.0042,  0.0091]) tensor(-0.3141) False defaultdict(<class 'float'>, {'success': 0.0})\n",
      "tensor(0.6340, dtype=torch.float64)\n",
      "65\n",
      "tensor([-0.5764,  0.8891], dtype=torch.float64) tensor([-0.1002, -0.0997, -0.0072,  0.0102]) tensor(-0.8701) False defaultdict(<class 'float'>, {'success': 0.0})\n",
      "tensor(1.1227, dtype=torch.float64)\n",
      "66\n",
      "tensor([-0.4236, -0.7705], dtype=torch.float64) tensor([-0.1001, -0.1003, -0.0047, -0.0099]) tensor(-0.4594) False defaultdict(<class 'float'>, {'success': 0.0})\n",
      "tensor(0.7731, dtype=torch.float64)\n",
      "67\n",
      "tensor([0.2589, 0.9050], dtype=torch.float64) tensor([-0.0999, -0.0996,  0.0034,  0.0115]) tensor(-0.5860) False defaultdict(<class 'float'>, {'success': 0.0})\n",
      "tensor(0.8860, dtype=torch.float64)\n",
      "68\n",
      "tensor([-0.1524,  0.2972], dtype=torch.float64) tensor([-0.1001, -0.0999, -0.0020,  0.0029]) tensor(9.0898e-17) False defaultdict(<class 'float'>, {'success': 0.0})\n",
      "tensor(0.1115, dtype=torch.float64)\n",
      "69\n",
      "tensor([-0.6675,  0.0387], dtype=torch.float64) tensor([-0.1002, -0.1000, -0.0080,  0.0003]) tensor(-0.1443) False defaultdict(<class 'float'>, {'success': 0.0})\n",
      "tensor(0.4471, dtype=torch.float64)\n",
      "70\n",
      "tensor([0.3511, 0.8499], dtype=torch.float64) tensor([-0.0999, -0.0997,  0.0047,  0.0103]) tensor(-0.5398) False defaultdict(<class 'float'>, {'success': 0.0})\n",
      "tensor(0.8455, dtype=torch.float64)\n",
      "71\n",
      "tensor([0.3526, 0.9067], dtype=torch.float64) tensor([-0.0999, -0.0997,  0.0040,  0.0104]) tensor(-0.6563) False defaultdict(<class 'float'>, {'success': 0.0})\n",
      "tensor(0.9465, dtype=torch.float64)\n",
      "72\n",
      "tensor([-0.9352,  0.6270], dtype=torch.float64) tensor([-0.1004, -0.0998, -0.0116,  0.0070]) tensor(-1.0539) False defaultdict(<class 'float'>, {'success': 0.0})\n",
      "tensor(1.2677, dtype=torch.float64)\n",
      "73\n",
      "tensor([-0.0718,  0.4800], dtype=torch.float64) tensor([-0.1000, -0.0998, -0.0002,  0.0054]) tensor(-0.0146) False defaultdict(<class 'float'>, {'success': 0.0})\n",
      "tensor(0.2356, dtype=torch.float64)\n",
      "74\n",
      "tensor([0.5112, 0.0177], dtype=torch.float64) tensor([-0.0998, -0.1000,  0.0062, -0.0001]) tensor(-0.0249) False defaultdict(<class 'float'>, {'success': 0.0})\n",
      "tensor(0.2617, dtype=torch.float64)\n",
      "75\n",
      "tensor([-0.3495,  0.0445], dtype=torch.float64) tensor([-0.1001, -0.1000, -0.0046,  0.0005]) tensor(8.9776e-17) False defaultdict(<class 'float'>, {'success': 0.0})\n",
      "tensor(0.1241, dtype=torch.float64)\n",
      "76\n",
      "tensor([0.6220, 0.3463], dtype=torch.float64) tensor([-0.0998, -0.0999,  0.0078,  0.0042]) tensor(-0.1945) False defaultdict(<class 'float'>, {'success': 0.0})\n",
      "tensor(0.5067, dtype=torch.float64)\n",
      "77\n",
      "tensor([-0.1701,  0.0094], dtype=torch.float64) tensor([-0.1001, -0.1000, -0.0025, -0.0001]) tensor(9.0068e-17) False defaultdict(<class 'float'>, {'success': 0.0})\n",
      "tensor(0.0290, dtype=torch.float64)\n",
      "78\n",
      "tensor([0.3544, 0.2638], dtype=torch.float64) tensor([-0.0999, -0.0999,  0.0044,  0.0032]) tensor(-0.0035) False defaultdict(<class 'float'>, {'success': 0.0})\n",
      "tensor(0.1951, dtype=torch.float64)\n",
      "79\n",
      "tensor([-0.7187,  0.1303], dtype=torch.float64) tensor([-0.1003, -0.1000, -0.0090,  0.0014]) tensor(-0.2184) False defaultdict(<class 'float'>, {'success': 0.0})\n",
      "tensor(0.5335, dtype=torch.float64)\n",
      "80\n",
      "tensor([ 0.4583, -0.5776], dtype=torch.float64) tensor([-0.0998, -0.1002,  0.0061, -0.0071]) tensor(-0.2276) False defaultdict(<class 'float'>, {'success': 0.0})\n",
      "tensor(0.5437, dtype=torch.float64)\n",
      "81\n",
      "tensor([-0.8165,  0.2971], dtype=torch.float64) tensor([-0.1003, -0.0999, -0.0102,  0.0040]) tensor(-0.4398) False defaultdict(<class 'float'>, {'success': 0.0})\n",
      "tensor(0.7550, dtype=torch.float64)\n",
      "82\n",
      "tensor([ 0.3378, -0.6082], dtype=torch.float64) tensor([-0.0999, -0.1002,  0.0047, -0.0076]) tensor(-0.1749) False defaultdict(<class 'float'>, {'success': 0.0})\n",
      "tensor(0.4840, dtype=torch.float64)\n",
      "83\n",
      "tensor([ 0.8056, -0.0344], dtype=torch.float64) tensor([-9.9716e-02, -9.9994e-02,  9.4805e-03,  2.9271e-05]) tensor(-0.3302) False defaultdict(<class 'float'>, {'success': 0.0})\n",
      "tensor(0.6502, dtype=torch.float64)\n",
      "84\n",
      "tensor([-0.3457, -0.8517], dtype=torch.float64) tensor([-0.1001, -0.1003, -0.0047, -0.0103]) tensor(-0.5391) False defaultdict(<class 'float'>, {'success': 0.0})\n",
      "tensor(0.8449, dtype=torch.float64)\n",
      "85\n",
      "tensor([0.7390, 0.8333], dtype=torch.float64) tensor([-0.0997, -0.0997,  0.0092,  0.0107]) tensor(-1.0191) False defaultdict(<class 'float'>, {'success': 0.0})\n",
      "tensor(1.2406, dtype=torch.float64)\n",
      "86\n",
      "tensor([-0.3315,  0.9892], dtype=torch.float64) tensor([-0.1001, -0.0997, -0.0046,  0.0114]) tensor(-0.8276) False defaultdict(<class 'float'>, {'success': 0.0})\n",
      "tensor(1.0884, dtype=torch.float64)\n",
      "87\n",
      "tensor([-0.3461, -0.8155], dtype=torch.float64) tensor([-0.1001, -0.1003, -0.0039, -0.0105]) tensor(-0.4722) False defaultdict(<class 'float'>, {'success': 0.0})\n",
      "tensor(0.7848, dtype=torch.float64)\n",
      "88\n",
      "tensor([-0.9321, -0.8287], dtype=torch.float64) tensor([-0.1003, -0.1003, -0.0111, -0.0094]) tensor(-1.4357) False defaultdict(<class 'float'>, {'success': 0.0})\n",
      "tensor(1.5557, dtype=torch.float64)\n",
      "89\n",
      "tensor([-0.1969, -0.4820], dtype=torch.float64) tensor([-0.1000, -0.1002, -0.0017, -0.0053]) tensor(-0.0291) False defaultdict(<class 'float'>, {'success': 0.0})\n",
      "tensor(0.2711, dtype=torch.float64)\n",
      "90\n",
      "tensor([0.2948, 0.7832], dtype=torch.float64) tensor([-0.0999, -0.0997,  0.0037,  0.0098]) tensor(-0.3817) False defaultdict(<class 'float'>, {'success': 0.0})\n",
      "tensor(0.7003, dtype=torch.float64)\n",
      "91\n",
      "tensor([ 0.9336, -0.5465], dtype=torch.float64) tensor([-0.0997, -0.1002,  0.0111, -0.0072]) tensor(-0.9296) False defaultdict(<class 'float'>, {'success': 0.0})\n",
      "tensor(1.1702, dtype=torch.float64)\n",
      "92\n",
      "tensor([0.7856, 0.8544], dtype=torch.float64) tensor([-0.0997, -0.0997,  0.0089,  0.0108]) tensor(-1.1573) False defaultdict(<class 'float'>, {'success': 0.0})\n",
      "tensor(1.3472, dtype=torch.float64)\n",
      "93\n",
      "tensor([-0.2114, -0.5706], dtype=torch.float64) tensor([-0.1001, -0.1002, -0.0031, -0.0075]) tensor(-0.0870) False defaultdict(<class 'float'>, {'success': 0.0})\n",
      "tensor(0.3703, dtype=torch.float64)\n",
      "94\n",
      "tensor([ 0.4273, -0.0143], dtype=torch.float64) tensor([-0.0998, -0.1000,  0.0054,  0.0003]) tensor(-0.0015) False defaultdict(<class 'float'>, {'success': 0.0})\n",
      "tensor(0.1827, dtype=torch.float64)\n",
      "95\n",
      "tensor([-0.3624, -0.5950], dtype=torch.float64) tensor([-0.1001, -0.1002, -0.0047, -0.0072]) tensor(-0.1760) False defaultdict(<class 'float'>, {'success': 0.0})\n",
      "tensor(0.4853, dtype=torch.float64)\n",
      "96\n",
      "tensor([-0.1564,  0.2480], dtype=torch.float64) tensor([-0.1000, -0.0999, -0.0016,  0.0034]) tensor(9.1333e-17) False defaultdict(<class 'float'>, {'success': 0.0})\n",
      "tensor(0.0860, dtype=torch.float64)\n",
      "97\n",
      "tensor([-0.2564,  0.4414], dtype=torch.float64) tensor([-0.1001, -0.0998, -0.0030,  0.0051]) tensor(-0.0244) False defaultdict(<class 'float'>, {'success': 0.0})\n",
      "tensor(0.2605, dtype=torch.float64)\n",
      "98\n",
      "tensor([-0.3053,  0.7855], dtype=torch.float64) tensor([-0.1001, -0.0997, -0.0035,  0.0092]) tensor(-0.3920) False defaultdict(<class 'float'>, {'success': 0.0})\n",
      "tensor(0.7102, dtype=torch.float64)\n",
      "99\n",
      "tensor([-0.0623,  0.2218], dtype=torch.float64) tensor([-0.1000, -0.0999, -0.0005,  0.0021]) tensor(9.1145e-17) False defaultdict(<class 'float'>, {'success': 0.0})\n",
      "tensor(0.0531, dtype=torch.float64)\n",
      "100\n",
      "tensor([0.9861, 0.6071], dtype=torch.float64) tensor([-0.0996, -0.0998,  0.0120,  0.0072]) tensor(-1.1492) False defaultdict(<class 'float'>, {'success': 0.0})\n",
      "tensor(1.3410, dtype=torch.float64)\n",
      "101\n",
      "tensor([ 0.3764, -0.3320], dtype=torch.float64) tensor([-0.0999, -0.1001,  0.0039, -0.0044]) tensor(-0.0208) False defaultdict(<class 'float'>, {'success': 0.0})\n",
      "tensor(0.2519, dtype=torch.float64)\n",
      "102\n",
      "tensor([0.8263, 0.6409], dtype=torch.float64) tensor([-0.0997, -0.0998,  0.0098,  0.0080]) tensor(-0.8339) False defaultdict(<class 'float'>, {'success': 0.0})\n",
      "tensor(1.0935, dtype=torch.float64)\n",
      "103\n",
      "tensor([-0.4740, -0.0014], dtype=torch.float64) tensor([-0.1002, -0.1000, -0.0063, -0.0005]) tensor(-0.0110) False defaultdict(<class 'float'>, {'success': 0.0})\n",
      "tensor(0.2247, dtype=torch.float64)\n",
      "104\n",
      "tensor([-0.8899,  0.8297], dtype=torch.float64) tensor([-0.1003, -0.0997, -0.0104,  0.0101]) tensor(-1.3339) False defaultdict(<class 'float'>, {'success': 0.0})\n",
      "tensor(1.4803, dtype=torch.float64)\n",
      "105\n",
      "tensor([-0.8266,  0.3831], dtype=torch.float64) tensor([-0.1003, -0.0999, -0.0094,  0.0040]) tensor(-0.5224) False defaultdict(<class 'float'>, {'success': 0.0})\n",
      "tensor(0.8300, dtype=torch.float64)\n",
      "106\n",
      "tensor([-0.3133, -0.9794], dtype=torch.float64) tensor([-0.1001, -0.1004, -0.0032, -0.0121]) tensor(-0.7894) False defaultdict(<class 'float'>, {'success': 0.0})\n",
      "tensor(1.0573, dtype=torch.float64)\n",
      "107\n",
      "tensor([-0.9774,  0.0812], dtype=torch.float64) tensor([-0.1004, -0.0999, -0.0116,  0.0017]) tensor(-0.6746) False defaultdict(<class 'float'>, {'success': 0.0})\n",
      "tensor(0.9620, dtype=torch.float64)\n",
      "108\n",
      "tensor([0.2731, 0.4411], dtype=torch.float64) tensor([-0.0999, -0.0998,  0.0040,  0.0052]) tensor(-0.0282) False defaultdict(<class 'float'>, {'success': 0.0})\n",
      "tensor(0.2692, dtype=torch.float64)\n",
      "109\n",
      "tensor([-0.1058, -0.8747], dtype=torch.float64) tensor([-0.1000, -0.1003, -0.0015, -0.0109]) tensor(-0.4628) False defaultdict(<class 'float'>, {'success': 0.0})\n",
      "tensor(0.7763, dtype=torch.float64)\n",
      "110\n",
      "tensor([-0.6817, -0.5627], dtype=torch.float64) tensor([-0.1002, -0.1002, -0.0082, -0.0062]) tensor(-0.4684) False defaultdict(<class 'float'>, {'success': 0.0})\n",
      "tensor(0.7813, dtype=torch.float64)\n",
      "111\n",
      "tensor([ 0.6411, -0.5660], dtype=torch.float64) tensor([-0.0997, -0.1002,  0.0082, -0.0065]) tensor(-0.4143) False defaultdict(<class 'float'>, {'success': 0.0})\n",
      "tensor(0.7313, dtype=torch.float64)\n",
      "112\n",
      "tensor([-0.4426,  0.2869], dtype=torch.float64) tensor([-0.1002, -0.0999, -0.0058,  0.0039]) tensor(-0.0325) False defaultdict(<class 'float'>, {'success': 0.0})\n",
      "tensor(0.2782, dtype=torch.float64)\n",
      "113\n",
      "tensor([-0.5595,  0.1744], dtype=torch.float64) tensor([-0.1002, -0.0999, -0.0064,  0.0019]) tensor(-0.0693) False defaultdict(<class 'float'>, {'success': 0.0})\n",
      "tensor(0.3435, dtype=torch.float64)\n",
      "114\n",
      "tensor([-0.9339, -0.7874], dtype=torch.float64) tensor([-0.1003, -0.1003, -0.0109, -0.0096]) tensor(-1.3498) False defaultdict(<class 'float'>, {'success': 0.0})\n",
      "tensor(1.4921, dtype=torch.float64)\n",
      "115\n",
      "tensor([0.4595, 0.6831], dtype=torch.float64) tensor([-0.0998, -0.0997,  0.0062,  0.0088]) tensor(-0.3583) False defaultdict(<class 'float'>, {'success': 0.0})\n",
      "tensor(0.6778, dtype=torch.float64)\n",
      "116\n",
      "tensor([ 0.1110, -0.8872], dtype=torch.float64) tensor([-0.1000, -0.1003,  0.0010, -0.0113]) tensor(-0.4882) False defaultdict(<class 'float'>, {'success': 0.0})\n",
      "tensor(0.7994, dtype=torch.float64)\n",
      "117\n",
      "tensor([-0.5878, -0.3424], dtype=torch.float64) tensor([-0.1002, -0.1001, -0.0072, -0.0035]) tensor(-0.1571) False defaultdict(<class 'float'>, {'success': 0.0})\n",
      "tensor(0.4627, dtype=torch.float64)\n",
      "118\n",
      "tensor([-0.7337,  0.9966], dtype=torch.float64) tensor([-0.1003, -0.0996, -0.0085,  0.0123]) tensor(-1.4029) False defaultdict(<class 'float'>, {'success': 0.0})\n",
      "tensor(1.5315, dtype=torch.float64)\n",
      "119\n",
      "tensor([0.2721, 0.4462], dtype=torch.float64) tensor([-0.0999, -0.0999,  0.0038,  0.0047]) tensor(-0.0301) False defaultdict(<class 'float'>, {'success': 0.0})\n",
      "tensor(0.2731, dtype=torch.float64)\n",
      "120\n",
      "tensor([0.3188, 0.7622], dtype=torch.float64) tensor([-0.0999, -0.0997,  0.0036,  0.0090]) tensor(-0.3633) False defaultdict(<class 'float'>, {'success': 0.0})\n",
      "tensor(0.6826, dtype=torch.float64)\n",
      "121\n",
      "tensor([-0.5471,  0.4732], dtype=torch.float64) tensor([-0.1002, -0.0998, -0.0068,  0.0052]) tensor(-0.2091) False defaultdict(<class 'float'>, {'success': 0.0})\n",
      "tensor(0.5232, dtype=torch.float64)\n",
      "122\n",
      "tensor([ 0.9222, -0.3004], dtype=torch.float64) tensor([-0.0996, -0.1001,  0.0116, -0.0039]) tensor(-0.6496) False defaultdict(<class 'float'>, {'success': 0.0})\n",
      "tensor(0.9407, dtype=torch.float64)\n",
      "123\n",
      "tensor([-0.9215, -0.4801], dtype=torch.float64) tensor([-0.1004, -0.1002, -0.0118, -0.0056]) tensor(-0.8167) False defaultdict(<class 'float'>, {'success': 0.0})\n",
      "tensor(1.0796, dtype=torch.float64)\n",
      "124\n",
      "tensor([-0.1834,  0.5109], dtype=torch.float64) tensor([-0.1000, -0.0998, -0.0015,  0.0065]) tensor(-0.0408) False defaultdict(<class 'float'>, {'success': 0.0})\n",
      "tensor(0.2947, dtype=torch.float64)\n",
      "125\n",
      "tensor([0.4379, 0.2495], dtype=torch.float64) tensor([-0.0998, -0.0999,  0.0054,  0.0026]) tensor(-0.0216) False defaultdict(<class 'float'>, {'success': 0.0})\n",
      "tensor(0.2540, dtype=torch.float64)\n",
      "126\n",
      "tensor([ 0.2178, -0.6747], dtype=torch.float64) tensor([-0.0999, -0.1003,  0.0023, -0.0083]) tensor(-0.1909) False defaultdict(<class 'float'>, {'success': 0.0})\n",
      "tensor(0.5026, dtype=torch.float64)\n",
      "127\n",
      "tensor([-0.9609, -0.9072], dtype=torch.float64) tensor([-0.1004, -0.1003, -0.0118, -0.0105]) tensor(-1.6982) False defaultdict(<class 'float'>, {'success': 0.0})\n",
      "tensor(1.7463, dtype=torch.float64)\n",
      "128\n",
      "tensor([0.7800, 0.2010], dtype=torch.float64) tensor([-0.0997, -0.0999,  0.0101,  0.0030]) tensor(-0.3288) False defaultdict(<class 'float'>, {'success': 0.0})\n",
      "tensor(0.6488, dtype=torch.float64)\n",
      "129\n",
      "tensor([ 0.0568, -0.1651], dtype=torch.float64) tensor([-1.0000e-01, -1.0007e-01,  9.3879e-05, -2.1784e-03]) tensor(9.0194e-17) False defaultdict(<class 'float'>, {'success': 0.0})\n",
      "tensor(0.0305, dtype=torch.float64)\n",
      "130\n",
      "tensor([-0.5536, -0.6513], dtype=torch.float64) tensor([-0.1002, -0.1002, -0.0067, -0.0078]) tensor(-0.4136) False defaultdict(<class 'float'>, {'success': 0.0})\n",
      "tensor(0.7306, dtype=torch.float64)\n",
      "131\n",
      "tensor([-0.3518,  0.9969], dtype=torch.float64) tensor([-0.1001, -0.0996, -0.0039,  0.0125]) tensor(-0.8637) False defaultdict(<class 'float'>, {'success': 0.0})\n",
      "tensor(1.1176, dtype=torch.float64)\n",
      "132\n",
      "tensor([-0.8216,  0.4217], dtype=torch.float64) tensor([-0.1003, -0.0999, -0.0097,  0.0044]) tensor(-0.5481) False defaultdict(<class 'float'>, {'success': 0.0})\n",
      "tensor(0.8528, dtype=torch.float64)\n",
      "133\n",
      "tensor([-0.4484, -0.6352], dtype=torch.float64) tensor([-0.1001, -0.1002, -0.0049, -0.0079]) tensor(-0.2850) False defaultdict(<class 'float'>, {'success': 0.0})\n",
      "tensor(0.6045, dtype=torch.float64)\n",
      "134\n",
      "tensor([ 0.8996, -0.7781], dtype=torch.float64) tensor([-0.0997, -0.1003,  0.0112, -0.0090]) tensor(-1.2462) False defaultdict(<class 'float'>, {'success': 0.0})\n",
      "tensor(1.4146, dtype=torch.float64)\n",
      "135\n",
      "tensor([ 0.2355, -0.5757], dtype=torch.float64) tensor([-0.0999, -0.1002,  0.0022, -0.0064]) tensor(-0.0986) False defaultdict(<class 'float'>, {'success': 0.0})\n",
      "tensor(0.3869, dtype=torch.float64)\n",
      "136\n",
      "tensor([-0.4944, -0.3328], dtype=torch.float64) tensor([-0.1002, -0.1001, -0.0061, -0.0037]) tensor(-0.0768) False defaultdict(<class 'float'>, {'success': 0.0})\n",
      "tensor(0.3551, dtype=torch.float64)\n",
      "137\n",
      "tensor([ 0.6554, -0.4706], dtype=torch.float64) tensor([-0.0997, -0.1002,  0.0083, -0.0055]) tensor(-0.3311) False defaultdict(<class 'float'>, {'success': 0.0})\n",
      "tensor(0.6511, dtype=torch.float64)\n",
      "138\n",
      "tensor([ 0.5771, -0.8713], dtype=torch.float64) tensor([-0.0998, -0.1003,  0.0065, -0.0102]) tensor(-0.8321) False defaultdict(<class 'float'>, {'success': 0.0})\n",
      "tensor(1.0921, dtype=torch.float64)\n",
      "139\n",
      "tensor([ 0.1289, -0.0503], dtype=torch.float64) tensor([-9.9968e-02, -9.9994e-02,  1.1803e-03, -1.0187e-05]) tensor(9.1114e-17) False defaultdict(<class 'float'>, {'success': 0.0})\n",
      "tensor(0.0192, dtype=torch.float64)\n",
      "140\n",
      "tensor([-0.6693,  0.1244], dtype=torch.float64) tensor([-0.1002, -0.1000, -0.0082,  0.0015]) tensor(-0.1576) False defaultdict(<class 'float'>, {'success': 0.0})\n",
      "tensor(0.4634, dtype=torch.float64)\n",
      "141\n",
      "tensor([-0.8828, -0.7351], dtype=torch.float64) tensor([-0.1003, -0.1003, -0.0102, -0.0090]) tensor(-1.1215) False defaultdict(<class 'float'>, {'success': 0.0})\n",
      "tensor(1.3198, dtype=torch.float64)\n",
      "142\n",
      "tensor([-0.7972,  0.3489], dtype=torch.float64) tensor([-0.1003, -0.0999, -0.0091,  0.0048]) tensor(-0.4421) False defaultdict(<class 'float'>, {'success': 0.0})\n",
      "tensor(0.7572, dtype=torch.float64)\n",
      "143\n",
      "tensor([ 0.6416, -0.7737], dtype=torch.float64) tensor([-0.0997, -0.1003,  0.0083, -0.0096]) tensor(-0.7322) False defaultdict(<class 'float'>, {'success': 0.0})\n",
      "tensor(1.0102, dtype=torch.float64)\n",
      "144\n",
      "tensor([-0.1911, -0.7337], dtype=torch.float64) tensor([-0.1001, -0.1002, -0.0028, -0.0083]) tensor(-0.2566) False defaultdict(<class 'float'>, {'success': 0.0})\n",
      "tensor(0.5748, dtype=torch.float64)\n",
      "145\n",
      "tensor([ 0.6015, -0.4583], dtype=torch.float64) tensor([-0.0998, -0.1001,  0.0074, -0.0051]) tensor(-0.2537) False defaultdict(<class 'float'>, {'success': 0.0})\n",
      "tensor(0.5717, dtype=torch.float64)\n",
      "146\n",
      "tensor([ 0.8757, -0.1792], dtype=torch.float64) tensor([-0.0997, -0.1001,  0.0102, -0.0019]) tensor(-0.4879) False defaultdict(<class 'float'>, {'success': 0.0})\n",
      "tensor(0.7990, dtype=torch.float64)\n",
      "147\n",
      "tensor([0.5592, 0.4240], dtype=torch.float64) tensor([-0.0998, -0.0998,  0.0062,  0.0052]) tensor(-0.1822) False defaultdict(<class 'float'>, {'success': 0.0})\n",
      "tensor(0.4925, dtype=torch.float64)\n",
      "148\n",
      "tensor([0.2851, 0.2088], dtype=torch.float64) tensor([-0.0999, -0.0999,  0.0031,  0.0022]) tensor(9.2012e-17) False defaultdict(<class 'float'>, {'success': 0.0})\n",
      "tensor(0.1249, dtype=torch.float64)\n",
      "149\n",
      "tensor([-0.6961,  0.3446], dtype=torch.float64) tensor([-0.1003, -0.0999, -0.0086,  0.0040]) tensor(-0.2839) False defaultdict(<class 'float'>, {'success': 0.0})\n",
      "tensor(0.6034, dtype=torch.float64)\n",
      "150\n",
      "tensor([-0.4989,  0.9197], dtype=torch.float64) tensor([-0.1002, -0.0997, -0.0055,  0.0109]) tensor(-0.8354) False defaultdict(<class 'float'>, {'success': 0.0})\n",
      "tensor(1.0948, dtype=torch.float64)\n",
      "151\n",
      "tensor([ 0.9915, -0.8291], dtype=torch.float64) tensor([-0.0996, -0.1003,  0.0123, -0.0107]) tensor(-1.5929) False defaultdict(<class 'float'>, {'success': 0.0})\n",
      "tensor(1.6704, dtype=torch.float64)\n",
      "152\n",
      "tensor([-0.8770,  0.2697], dtype=torch.float64) tensor([-0.1004, -0.0999, -0.0113,  0.0039]) tensor(-0.5358) False defaultdict(<class 'float'>, {'success': 0.0})\n",
      "tensor(0.8420, dtype=torch.float64)\n",
      "153\n",
      "tensor([-0.0098, -0.0733], dtype=torch.float64) tensor([-0.1000, -0.1000,  0.0005, -0.0011]) tensor(9.0719e-17) False defaultdict(<class 'float'>, {'success': 0.0})\n",
      "tensor(0.0055, dtype=torch.float64)\n",
      "154\n",
      "tensor([-0.2262,  0.5370], dtype=torch.float64) tensor([-0.1001, -0.0998, -0.0028,  0.0066]) tensor(-0.0668) False defaultdict(<class 'float'>, {'success': 0.0})\n",
      "tensor(0.3395, dtype=torch.float64)\n",
      "155\n",
      "tensor([-0.8198, -0.4306], dtype=torch.float64) tensor([-0.1003, -0.1002, -0.0098, -0.0056]) tensor(-0.5533) False defaultdict(<class 'float'>, {'success': 0.0})\n",
      "tensor(0.8574, dtype=torch.float64)\n",
      "156\n",
      "tensor([ 0.0234, -0.1912], dtype=torch.float64) tensor([-0.1000, -0.1001,  0.0009, -0.0020]) tensor(9.0644e-17) False defaultdict(<class 'float'>, {'success': 0.0})\n",
      "tensor(0.0371, dtype=torch.float64)\n",
      "157\n",
      "tensor([-0.4386, -0.1904], dtype=torch.float64) tensor([-0.1002, -0.1001, -0.0054, -0.0022]) tensor(-0.0122) False defaultdict(<class 'float'>, {'success': 0.0})\n",
      "tensor(0.2286, dtype=torch.float64)\n",
      "158\n",
      "tensor([0.3252, 0.0347], dtype=torch.float64) tensor([-0.0999, -0.1000,  0.0043,  0.0005]) tensor(9.2034e-17) False defaultdict(<class 'float'>, {'success': 0.0})\n",
      "tensor(0.1069, dtype=torch.float64)\n",
      "159\n",
      "tensor([-0.7607, -0.0200], dtype=torch.float64) tensor([-0.1003, -0.1000, -0.0095, -0.0003]) tensor(-0.2607) False defaultdict(<class 'float'>, {'success': 0.0})\n",
      "tensor(0.5791, dtype=torch.float64)\n",
      "160\n",
      "tensor([0.4012, 0.5066], dtype=torch.float64) tensor([-0.0998, -0.0998,  0.0054,  0.0062]) tensor(-0.1212) False defaultdict(<class 'float'>, {'success': 0.0})\n",
      "tensor(0.4175, dtype=torch.float64)\n",
      "161\n",
      "tensor([-0.9988,  0.1454], dtype=torch.float64) tensor([-0.1004, -0.1000, -0.0124,  0.0014]) tensor(-0.7425) False defaultdict(<class 'float'>, {'success': 0.0})\n",
      "tensor(1.0187, dtype=torch.float64)\n",
      "162\n",
      "tensor([0.5090, 0.0873], dtype=torch.float64) tensor([-0.0998, -0.1000,  0.0069,  0.0010]) tensor(-0.0271) False defaultdict(<class 'float'>, {'success': 0.0})\n",
      "tensor(0.2667, dtype=torch.float64)\n",
      "163\n",
      "tensor([0.2121, 0.9186], dtype=torch.float64) tensor([-0.0999, -0.0997,  0.0022,  0.0111]) tensor(-0.5893) False defaultdict(<class 'float'>, {'success': 0.0})\n",
      "tensor(0.8889, dtype=torch.float64)\n",
      "164\n",
      "tensor([-0.7572, -0.0035], dtype=torch.float64) tensor([-0.1003, -0.1000, -0.0093, -0.0007]) tensor(-0.2551) False defaultdict(<class 'float'>, {'success': 0.0})\n",
      "tensor(0.5733, dtype=torch.float64)\n",
      "165\n",
      "tensor([-0.2063, -0.3353], dtype=torch.float64) tensor([-0.1001, -0.1001, -0.0020, -0.0040]) tensor(8.9439e-17) False defaultdict(<class 'float'>, {'success': 0.0})\n",
      "tensor(0.1550, dtype=torch.float64)\n",
      "166\n",
      "tensor([-0.5023, -0.7639], dtype=torch.float64) tensor([-0.1002, -0.1003, -0.0060, -0.0090]) tensor(-0.5289) False defaultdict(<class 'float'>, {'success': 0.0})\n",
      "tensor(0.8359, dtype=torch.float64)\n",
      "167\n",
      "tensor([-0.3821,  0.7422], dtype=torch.float64) tensor([-0.1001, -0.0997, -0.0043,  0.0095]) tensor(-0.3780) False defaultdict(<class 'float'>, {'success': 0.0})\n",
      "tensor(0.6968, dtype=torch.float64)\n",
      "168\n",
      "tensor([-0.8322,  0.9844], dtype=torch.float64) tensor([-0.1003, -0.0997, -0.0098,  0.0114]) tensor(-1.5807) False defaultdict(<class 'float'>, {'success': 0.0})\n",
      "tensor(1.6615, dtype=torch.float64)\n",
      "169\n",
      "tensor([ 0.0366, -0.3904], dtype=torch.float64) tensor([-0.1000, -0.1002,  0.0010, -0.0054]) tensor(8.9733e-17) False defaultdict(<class 'float'>, {'success': 0.0})\n",
      "tensor(0.1538, dtype=torch.float64)\n",
      "170\n",
      "tensor([-0.7962, -0.7581], dtype=torch.float64) tensor([-0.1003, -0.1003, -0.0097, -0.0089]) tensor(-0.9783) False defaultdict(<class 'float'>, {'success': 0.0})\n",
      "tensor(1.2087, dtype=torch.float64)\n",
      "171\n",
      "tensor([0.1460, 0.5277], dtype=torch.float64) tensor([-0.0999, -0.0998,  0.0023,  0.0069]) tensor(-0.0435) False defaultdict(<class 'float'>, {'success': 0.0})\n",
      "tensor(0.2998, dtype=torch.float64)\n",
      "172\n",
      "tensor([0.8027, 0.0098], dtype=torch.float64) tensor([-0.0997, -0.1000,  0.0096, -0.0003]) tensor(-0.3244) False defaultdict(<class 'float'>, {'success': 0.0})\n",
      "tensor(0.6444, dtype=torch.float64)\n",
      "173\n",
      "tensor([-0.1547, -0.9530], dtype=torch.float64) tensor([-0.1001, -0.1003, -0.0024, -0.0115]) tensor(-0.6396) False defaultdict(<class 'float'>, {'success': 0.0})\n",
      "tensor(0.9322, dtype=torch.float64)\n",
      "174\n",
      "tensor([ 0.4673, -0.5839], dtype=torch.float64) tensor([-0.0998, -0.1002,  0.0058, -0.0064]) tensor(-0.2420) False defaultdict(<class 'float'>, {'success': 0.0})\n",
      "tensor(0.5593, dtype=torch.float64)\n",
      "175\n",
      "tensor([ 0.3449, -0.2319], dtype=torch.float64) tensor([-0.0999, -0.1001,  0.0038, -0.0024]) tensor(-0.0005) False defaultdict(<class 'float'>, {'success': 0.0})\n",
      "tensor(0.1727, dtype=torch.float64)\n",
      "176\n",
      "tensor([-0.2987,  0.0540], dtype=torch.float64) tensor([-0.1001, -0.1000, -0.0038,  0.0008]) tensor(9.0053e-17) False defaultdict(<class 'float'>, {'success': 0.0})\n",
      "tensor(0.0921, dtype=torch.float64)\n",
      "177\n",
      "tensor([-0.5881, -0.5730], dtype=torch.float64) tensor([-0.1002, -0.1002, -0.0069, -0.0070]) tensor(-0.3546) False defaultdict(<class 'float'>, {'success': 0.0})\n",
      "tensor(0.6742, dtype=torch.float64)\n",
      "178\n",
      "tensor([-0.4362,  0.4622], dtype=torch.float64) tensor([-0.1001, -0.0998, -0.0049,  0.0060]) tensor(-0.1109) False defaultdict(<class 'float'>, {'success': 0.0})\n",
      "tensor(0.4039, dtype=torch.float64)\n",
      "179\n",
      "tensor([-0.2357,  0.6999], dtype=torch.float64) tensor([-0.1001, -0.0998, -0.0026,  0.0081]) tensor(-0.2292) False defaultdict(<class 'float'>, {'success': 0.0})\n",
      "tensor(0.5455, dtype=torch.float64)\n",
      "180\n",
      "tensor([-0.2162,  0.7182], dtype=torch.float64) tensor([-0.1001, -0.0998, -0.0025,  0.0082]) tensor(-0.2450) False defaultdict(<class 'float'>, {'success': 0.0})\n",
      "tensor(0.5625, dtype=torch.float64)\n",
      "181\n",
      "tensor([-0.2284,  0.8598], dtype=torch.float64) tensor([-0.1001, -0.0997, -0.0026,  0.0099]) tensor(-0.4794) False defaultdict(<class 'float'>, {'success': 0.0})\n",
      "tensor(0.7914, dtype=torch.float64)\n",
      "182\n",
      "tensor([0.5397, 0.0398], dtype=torch.float64) tensor([-0.0998, -0.1000,  0.0067, -0.0001]) tensor(-0.0398) False defaultdict(<class 'float'>, {'success': 0.0})\n",
      "tensor(0.2928, dtype=torch.float64)\n",
      "183\n",
      "tensor([-0.9634, -0.3652], dtype=torch.float64) tensor([-0.1004, -0.1001, -0.0121, -0.0044]) tensor(-0.7944) False defaultdict(<class 'float'>, {'success': 0.0})\n",
      "tensor(1.0614, dtype=torch.float64)\n",
      "184\n",
      "tensor([-0.1829, -0.0539], dtype=torch.float64) tensor([-0.1000, -0.1000, -0.0015, -0.0004]) tensor(9.0466e-17) False defaultdict(<class 'float'>, {'success': 0.0})\n",
      "tensor(0.0363, dtype=torch.float64)\n",
      "185\n",
      "tensor([0.9389, 0.0964], dtype=torch.float64) tensor([-0.0997, -0.1000,  0.0115,  0.0012]) tensor(-0.5915) False defaultdict(<class 'float'>, {'success': 0.0})\n",
      "tensor(0.8908, dtype=torch.float64)\n",
      "186\n",
      "tensor([-0.7561, -0.5486], dtype=torch.float64) tensor([-0.1003, -0.1002, -0.0098, -0.0067]) tensor(-0.5707) False defaultdict(<class 'float'>, {'success': 0.0})\n",
      "tensor(0.8727, dtype=torch.float64)\n",
      "187\n",
      "tensor([-0.4843,  0.4797], dtype=torch.float64) tensor([-0.1002, -0.0998, -0.0053,  0.0062]) tensor(-0.1586) False defaultdict(<class 'float'>, {'success': 0.0})\n",
      "tensor(0.4646, dtype=torch.float64)\n",
      "188\n",
      "tensor([ 0.4227, -0.0090], dtype=torch.float64) tensor([-0.0998, -0.1000,  0.0054, -0.0005]) tensor(-0.0010) False defaultdict(<class 'float'>, {'success': 0.0})\n",
      "tensor(0.1788, dtype=torch.float64)\n",
      "189\n",
      "tensor([-0.1966, -0.5377], dtype=torch.float64) tensor([-0.1001, -0.1002, -0.0027, -0.0065]) tensor(-0.0595) False defaultdict(<class 'float'>, {'success': 0.0})\n",
      "tensor(0.3277, dtype=torch.float64)\n",
      "190\n",
      "tensor([0.9533, 0.4934], dtype=torch.float64) tensor([-0.0996, -0.0998,  0.0117,  0.0064]) tensor(-0.9069) False defaultdict(<class 'float'>, {'success': 0.0})\n",
      "tensor(1.1522, dtype=torch.float64)\n",
      "191\n",
      "tensor([0.9713, 0.3958], dtype=torch.float64) tensor([-0.0997, -0.0999,  0.0111,  0.0044]) tensor(-0.8420) False defaultdict(<class 'float'>, {'success': 0.0})\n",
      "tensor(1.1000, dtype=torch.float64)\n",
      "192\n",
      "tensor([-0.9436, -0.3731], dtype=torch.float64) tensor([-0.1004, -0.1001, -0.0121, -0.0048]) tensor(-0.7558) False defaultdict(<class 'float'>, {'success': 0.0})\n",
      "tensor(1.0297, dtype=torch.float64)\n",
      "193\n",
      "tensor([-0.6131,  0.2009], dtype=torch.float64) tensor([-0.1002, -0.0999, -0.0067,  0.0027]) tensor(-0.1202) False defaultdict(<class 'float'>, {'success': 0.0})\n",
      "tensor(0.4163, dtype=torch.float64)\n",
      "194\n",
      "tensor([-0.9727, -0.2175], dtype=torch.float64) tensor([-0.1003, -0.1001, -0.0114, -0.0028]) tensor(-0.7122) False defaultdict(<class 'float'>, {'success': 0.0})\n",
      "tensor(0.9935, dtype=torch.float64)\n",
      "195\n",
      "tensor([-0.8045,  0.9098], dtype=torch.float64) tensor([-0.1003, -0.0997, -0.0091,  0.0112]) tensor(-1.3268) False defaultdict(<class 'float'>, {'success': 0.0})\n",
      "tensor(1.4750, dtype=torch.float64)\n",
      "196\n",
      "tensor([0.7744, 0.7762], dtype=torch.float64) tensor([-0.0997, -0.0997,  0.0099,  0.0087]) tensor(-0.9699) False defaultdict(<class 'float'>, {'success': 0.0})\n",
      "tensor(1.2021, dtype=torch.float64)\n",
      "197\n",
      "tensor([ 0.0276, -0.6867], dtype=torch.float64) tensor([-0.1000, -0.1003, -0.0002, -0.0088]) tensor(-0.1650) False defaultdict(<class 'float'>, {'success': 0.0})\n",
      "tensor(0.4723, dtype=torch.float64)\n",
      "198\n",
      "tensor([ 0.5284, -0.8082], dtype=torch.float64) tensor([-0.0998, -0.1003,  0.0064, -0.0093]) tensor(-0.6398) False defaultdict(<class 'float'>, {'success': 0.0})\n",
      "tensor(0.9324, dtype=torch.float64)\n",
      "199\n",
      "tensor([-0.8672,  0.5536], dtype=torch.float64) tensor([-0.1003, -0.0998, -0.0109,  0.0072]) tensor(-0.7908) False defaultdict(<class 'float'>, {'success': 0.0})\n",
      "tensor(1.0584, dtype=torch.float64)\n",
      "200\n",
      "tensor([0.3271, 0.7025], dtype=torch.float64) tensor([-0.0999, -0.0998,  0.0046,  0.0081]) tensor(-0.2811) False defaultdict(<class 'float'>, {'success': 0.0})\n",
      "tensor(0.6005, dtype=torch.float64)\n",
      "201\n",
      "tensor([-0.9611,  0.7574], dtype=torch.float64) tensor([-0.1004, -0.0997, -0.0119,  0.0087]) tensor(-1.3569) False defaultdict(<class 'float'>, {'success': 0.0})\n",
      "tensor(1.4974, dtype=torch.float64)\n",
      "202\n",
      "tensor([-0.5168, -0.3871], dtype=torch.float64) tensor([-0.1002, -0.1002, -0.0056, -0.0052]) tensor(-0.1208) False defaultdict(<class 'float'>, {'success': 0.0})\n",
      "tensor(0.4170, dtype=torch.float64)\n",
      "203\n",
      "tensor([-0.8227, -0.3697], dtype=torch.float64) tensor([-0.1003, -0.1001, -0.0096, -0.0042]) tensor(-0.5040) False defaultdict(<class 'float'>, {'success': 0.0})\n",
      "tensor(0.8136, dtype=torch.float64)\n",
      "204\n",
      "tensor([-0.7569,  0.1051], dtype=torch.float64) tensor([-0.1003, -0.1000, -0.0086,  0.0015]) tensor(-0.2652) False defaultdict(<class 'float'>, {'success': 0.0})\n",
      "tensor(0.5840, dtype=torch.float64)\n",
      "205\n",
      "tensor([-0.6426,  0.7440], dtype=torch.float64) tensor([-0.1002, -0.0997, -0.0073,  0.0089]) tensor(-0.6799) False defaultdict(<class 'float'>, {'success': 0.0})\n",
      "tensor(0.9664, dtype=torch.float64)\n",
      "206\n",
      "tensor([-0.5059,  0.3239], dtype=torch.float64) tensor([-0.1002, -0.0999, -0.0057,  0.0034]) tensor(-0.0805) False defaultdict(<class 'float'>, {'success': 0.0})\n",
      "tensor(0.3608, dtype=torch.float64)\n",
      "207\n",
      "tensor([ 0.2401, -0.5547], dtype=torch.float64) tensor([-0.0999, -0.1002,  0.0032, -0.0069]) tensor(-0.0836) False defaultdict(<class 'float'>, {'success': 0.0})\n",
      "tensor(0.3653, dtype=torch.float64)\n",
      "208\n",
      "tensor([-0.7472, -0.0400], dtype=torch.float64) tensor([-1.0028e-01, -9.9998e-02, -9.2380e-03, -7.9249e-05]) tensor(-0.2426) False defaultdict(<class 'float'>, {'success': 0.0})\n",
      "tensor(0.5599, dtype=torch.float64)\n",
      "209\n",
      "tensor([0.0590, 0.3010], dtype=torch.float64) tensor([-0.1000, -0.0999,  0.0013,  0.0037]) tensor(9.2074e-17) False defaultdict(<class 'float'>, {'success': 0.0})\n",
      "tensor(0.0941, dtype=torch.float64)\n",
      "210\n",
      "tensor([-0.4105,  0.4851], dtype=torch.float64) tensor([-0.1002, -0.0998, -0.0050,  0.0057]) tensor(-0.1109) False defaultdict(<class 'float'>, {'success': 0.0})\n",
      "tensor(0.4038, dtype=torch.float64)\n",
      "211\n",
      "tensor([-0.2082, -0.5587], dtype=torch.float64) tensor([-0.1001, -0.1002, -0.0022, -0.0071]) tensor(-0.0770) False defaultdict(<class 'float'>, {'success': 0.0})\n",
      "tensor(0.3555, dtype=torch.float64)\n",
      "212\n",
      "tensor([-0.4064,  0.8907], dtype=torch.float64) tensor([-0.1001, -0.0997, -0.0048,  0.0112]) tensor(-0.6704) False defaultdict(<class 'float'>, {'success': 0.0})\n",
      "tensor(0.9584, dtype=torch.float64)\n",
      "213\n",
      "tensor([-0.1536, -0.7739], dtype=torch.float64) tensor([-0.1000, -0.1003, -0.0016, -0.0100]) tensor(-0.3027) False defaultdict(<class 'float'>, {'success': 0.0})\n",
      "tensor(0.6226, dtype=torch.float64)\n",
      "214\n",
      "tensor([ 0.6327, -0.1266], dtype=torch.float64) tensor([-0.0998, -0.1000,  0.0078, -0.0009]) tensor(-0.1203) False defaultdict(<class 'float'>, {'success': 0.0})\n",
      "tensor(0.4163, dtype=torch.float64)\n",
      "215\n",
      "tensor([-0.9182,  0.0695], dtype=torch.float64) tensor([-0.1004, -0.1000, -0.0116,  0.0009]) tensor(-0.5426) False defaultdict(<class 'float'>, {'success': 0.0})\n",
      "tensor(0.8479, dtype=torch.float64)\n",
      "216\n",
      "tensor([-0.6795,  0.4472], dtype=torch.float64) tensor([-0.1002, -0.0998, -0.0075,  0.0054]) tensor(-0.3418) False defaultdict(<class 'float'>, {'success': 0.0})\n",
      "tensor(0.6616, dtype=torch.float64)\n",
      "217\n",
      "tensor([ 0.0675, -0.1549], dtype=torch.float64) tensor([-0.1000, -0.1001,  0.0013, -0.0022]) tensor(9.0591e-17) False defaultdict(<class 'float'>, {'success': 0.0})\n",
      "tensor(0.0286, dtype=torch.float64)\n",
      "218\n",
      "tensor([ 0.9781, -0.2910], dtype=torch.float64) tensor([-0.0996, -0.1001,  0.0118, -0.0034]) tensor(-0.7700) False defaultdict(<class 'float'>, {'success': 0.0})\n",
      "tensor(1.0414, dtype=torch.float64)\n",
      "219\n",
      "tensor([ 0.3062, -0.2172], dtype=torch.float64) tensor([-0.0999, -0.1001,  0.0030, -0.0024]) tensor(9.0878e-17) False defaultdict(<class 'float'>, {'success': 0.0})\n",
      "tensor(0.1409, dtype=torch.float64)\n",
      "220\n",
      "tensor([-0.8531,  0.8842], dtype=torch.float64) tensor([-0.1003, -0.0997, -0.0105,  0.0109]) tensor(-1.3735) False defaultdict(<class 'float'>, {'success': 0.0})\n",
      "tensor(1.5097, dtype=torch.float64)\n",
      "221\n",
      "tensor([-0.3821,  0.7649], dtype=torch.float64) tensor([-0.1001, -0.0997, -0.0040,  0.0086]) tensor(-0.4141) False defaultdict(<class 'float'>, {'success': 0.0})\n",
      "tensor(0.7311, dtype=torch.float64)\n",
      "222\n",
      "tensor([-0.5367, -0.0118], dtype=torch.float64) tensor([-0.1002, -0.1000, -0.0063, -0.0006]) tensor(-0.0374) False defaultdict(<class 'float'>, {'success': 0.0})\n",
      "tensor(0.2882, dtype=torch.float64)\n",
      "223\n",
      "tensor([-0.4168, -0.8204], dtype=torch.float64) tensor([-0.1001, -0.1003, -0.0047, -0.0099]) tensor(-0.5411) False defaultdict(<class 'float'>, {'success': 0.0})\n",
      "tensor(0.8467, dtype=torch.float64)\n",
      "224\n",
      "tensor([-0.3660,  0.8282], dtype=torch.float64) tensor([-0.1001, -0.0997, -0.0042,  0.0106]) tensor(-0.5109) False defaultdict(<class 'float'>, {'success': 0.0})\n",
      "tensor(0.8198, dtype=torch.float64)\n",
      "225\n",
      "tensor([-0.1692, -0.8452], dtype=torch.float64) tensor([-0.1001, -0.1003, -0.0018, -0.0109]) tensor(-0.4269) False defaultdict(<class 'float'>, {'success': 0.0})\n",
      "tensor(0.7430, dtype=torch.float64)\n",
      "226\n",
      "tensor([0.0865, 0.4538], dtype=torch.float64) tensor([-0.1000, -0.0998,  0.0012,  0.0061]) tensor(-0.0077) False defaultdict(<class 'float'>, {'success': 0.0})\n",
      "tensor(0.2134, dtype=torch.float64)\n",
      "227\n",
      "tensor([-0.3230, -0.5418], dtype=torch.float64) tensor([-0.1001, -0.1002, -0.0040, -0.0069]) tensor(-0.1066) False defaultdict(<class 'float'>, {'success': 0.0})\n",
      "tensor(0.3979, dtype=torch.float64)\n",
      "228\n",
      "tensor([-0.8310, -0.1591], dtype=torch.float64) tensor([-0.1003, -0.1000, -0.0098, -0.0015]) tensor(-0.3980) False defaultdict(<class 'float'>, {'success': 0.0})\n",
      "tensor(0.7159, dtype=torch.float64)\n",
      "229\n",
      "tensor([-0.0168, -0.4338], dtype=torch.float64) tensor([-0.1000, -0.1002,  0.0004, -0.0052]) tensor(-0.0023) False defaultdict(<class 'float'>, {'success': 0.0})\n",
      "tensor(0.1885, dtype=torch.float64)\n",
      "230\n",
      "tensor([ 0.2234, -0.8515], dtype=torch.float64) tensor([-0.0999, -0.1003,  0.0027, -0.0100]) tensor(-0.4615) False defaultdict(<class 'float'>, {'success': 0.0})\n",
      "tensor(0.7750, dtype=torch.float64)\n",
      "231\n",
      "tensor([-0.0301, -0.0032], dtype=torch.float64) tensor([-0.1000, -0.1000, -0.0005,  0.0005]) tensor(9.0863e-17) False defaultdict(<class 'float'>, {'success': 0.0})\n",
      "tensor(0.0009, dtype=torch.float64)\n",
      "232\n",
      "tensor([-0.9293, -0.8007], dtype=torch.float64) tensor([-0.1003, -0.1003, -0.0112, -0.0097]) tensor(-1.3669) False defaultdict(<class 'float'>, {'success': 0.0})\n",
      "tensor(1.5048, dtype=torch.float64)\n",
      "233\n",
      "tensor([-0.9246,  0.7768], dtype=torch.float64) tensor([-0.1003, -0.0997, -0.0105,  0.0100]) tensor(-1.3045) False defaultdict(<class 'float'>, {'success': 0.0})\n",
      "tensor(1.4583, dtype=torch.float64)\n",
      "234\n",
      "tensor([ 0.0704, -0.6357], dtype=torch.float64) tensor([-0.0999, -0.1003,  0.0015, -0.0083]) tensor(-0.1148) False defaultdict(<class 'float'>, {'success': 0.0})\n",
      "tensor(0.4091, dtype=torch.float64)\n",
      "235\n",
      "tensor([ 0.5370, -0.3697], dtype=torch.float64) tensor([-0.0998, -0.1001,  0.0064, -0.0040]) tensor(-0.1269) False defaultdict(<class 'float'>, {'success': 0.0})\n",
      "tensor(0.4250, dtype=torch.float64)\n",
      "236\n",
      "tensor([0.9880, 0.0735], dtype=torch.float64) tensor([-0.0997, -0.1000,  0.0116,  0.0011]) tensor(-0.6980) False defaultdict(<class 'float'>, {'success': 0.0})\n",
      "tensor(0.9816, dtype=torch.float64)\n",
      "237\n",
      "tensor([ 0.9394, -0.4253], dtype=torch.float64) tensor([-0.0997, -0.1002,  0.0107, -0.0052]) tensor(-0.7969) False defaultdict(<class 'float'>, {'success': 0.0})\n",
      "tensor(1.0634, dtype=torch.float64)\n",
      "238\n",
      "tensor([0.8739, 0.1491], dtype=torch.float64) tensor([-0.0997, -0.0999,  0.0100,  0.0021]) tensor(-0.4735) False defaultdict(<class 'float'>, {'success': 0.0})\n",
      "tensor(0.7860, dtype=torch.float64)\n",
      "239\n",
      "tensor([-0.3334, -0.4303], dtype=torch.float64) tensor([-0.1001, -0.1002, -0.0046, -0.0053]) tensor(-0.0417) False defaultdict(<class 'float'>, {'success': 0.0})\n",
      "tensor(0.2963, dtype=torch.float64)\n",
      "240\n",
      "tensor([ 0.6052, -0.4970], dtype=torch.float64) tensor([-0.0998, -0.1002,  0.0076, -0.0057]) tensor(-0.2936) False defaultdict(<class 'float'>, {'success': 0.0})\n",
      "tensor(0.6133, dtype=torch.float64)\n",
      "241\n",
      "tensor([-0.3930,  0.0510], dtype=torch.float64) tensor([-0.1002, -0.1000, -0.0052,  0.0010]) tensor(8.9760e-17) False defaultdict(<class 'float'>, {'success': 0.0})\n",
      "tensor(0.1571, dtype=torch.float64)\n",
      "242\n",
      "tensor([ 0.0677, -0.2957], dtype=torch.float64) tensor([-0.1000, -0.1001,  0.0011, -0.0036]) tensor(9.0225e-17) False defaultdict(<class 'float'>, {'success': 0.0})\n",
      "tensor(0.0920, dtype=torch.float64)\n",
      "243\n",
      "tensor([ 0.8321, -0.4706], dtype=torch.float64) tensor([-0.0997, -0.1002,  0.0100, -0.0055]) tensor(-0.6182) False defaultdict(<class 'float'>, {'success': 0.0})\n",
      "tensor(0.9139, dtype=torch.float64)\n",
      "244\n",
      "tensor([-0.7647,  0.9279], dtype=torch.float64) tensor([-0.1003, -0.0996, -0.0098,  0.0116]) tensor(-1.2877) False defaultdict(<class 'float'>, {'success': 0.0})\n",
      "tensor(1.4457, dtype=torch.float64)\n",
      "245\n",
      "tensor([-0.6198,  0.7146], dtype=torch.float64) tensor([-0.1002, -0.0998, -0.0069,  0.0080]) tensor(-0.5960) False defaultdict(<class 'float'>, {'success': 0.0})\n",
      "tensor(0.8948, dtype=torch.float64)\n",
      "246\n",
      "tensor([-0.5925, -0.3073], dtype=torch.float64) tensor([-0.1002, -0.1001, -0.0068, -0.0042]) tensor(-0.1431) False defaultdict(<class 'float'>, {'success': 0.0})\n",
      "tensor(0.4455, dtype=torch.float64)\n",
      "247\n",
      "tensor([-0.7898,  0.6948], dtype=torch.float64) tensor([-0.1003, -0.0997, -0.0092,  0.0087]) tensor(-0.8502) False defaultdict(<class 'float'>, {'success': 0.0})\n",
      "tensor(1.1067, dtype=torch.float64)\n",
      "248\n",
      "tensor([-0.6875,  0.3716], dtype=torch.float64) tensor([-0.1002, -0.0999, -0.0078,  0.0040]) tensor(-0.2911) False defaultdict(<class 'float'>, {'success': 0.0})\n",
      "tensor(0.6108, dtype=torch.float64)\n",
      "249\n",
      "tensor([-0.4523,  0.4550], dtype=torch.float64) tensor([-0.1001, -0.0998, -0.0050,  0.0053]) tensor(-0.1166) False defaultdict(<class 'float'>, {'success': 0.0})\n",
      "tensor(0.4115, dtype=torch.float64)\n",
      "250\n",
      "tensor([0.1290, 0.6270], dtype=torch.float64) tensor([-0.0999, -0.0998,  0.0019,  0.0073]) tensor(-0.1153) False defaultdict(<class 'float'>, {'success': 0.0})\n",
      "tensor(0.4098, dtype=torch.float64)\n",
      "251\n",
      "tensor([0.9253, 0.1335], dtype=torch.float64) tensor([-0.0997, -0.1000,  0.0111,  0.0012]) tensor(-0.5722) False defaultdict(<class 'float'>, {'success': 0.0})\n",
      "tensor(0.8740, dtype=torch.float64)\n",
      "252\n",
      "tensor([-0.1768,  0.8706], dtype=torch.float64) tensor([-0.1001, -0.0997, -0.0028,  0.0105]) tensor(-0.4770) False defaultdict(<class 'float'>, {'success': 0.0})\n",
      "tensor(0.7892, dtype=torch.float64)\n",
      "253\n",
      "tensor([-0.7924, -0.9108], dtype=torch.float64) tensor([-0.1003, -0.1004, -0.0094, -0.0116]) tensor(-1.3035) False defaultdict(<class 'float'>, {'success': 0.0})\n",
      "tensor(1.4576, dtype=torch.float64)\n",
      "254\n",
      "tensor([-0.6160,  0.3972], dtype=torch.float64) tensor([-0.1002, -0.0998, -0.0069,  0.0055]) tensor(-0.2218) False defaultdict(<class 'float'>, {'success': 0.0})\n",
      "tensor(0.5373, dtype=torch.float64)\n",
      "255\n",
      "tensor([0.1407, 0.9129], dtype=torch.float64) tensor([-0.0999, -0.0997,  0.0021,  0.0107]) tensor(-0.5485) False defaultdict(<class 'float'>, {'success': 0.0})\n",
      "tensor(0.8532, dtype=torch.float64)\n",
      "256\n",
      "tensor([-0.1479, -0.5156], dtype=torch.float64) tensor([-0.1001, -0.1002, -0.0019, -0.0069]) tensor(-0.0372) False defaultdict(<class 'float'>, {'success': 0.0})\n",
      "tensor(0.2877, dtype=torch.float64)\n",
      "257\n",
      "tensor([ 0.5338, -0.2311], dtype=torch.float64) tensor([-0.0998, -0.1001,  0.0066, -0.0024]) tensor(-0.0660) False defaultdict(<class 'float'>, {'success': 0.0})\n",
      "tensor(0.3383, dtype=torch.float64)\n",
      "258\n",
      "tensor([ 0.2721, -0.2606], dtype=torch.float64) tensor([-0.0999, -0.1001,  0.0029, -0.0030]) tensor(9.0742e-17) False defaultdict(<class 'float'>, {'success': 0.0})\n",
      "tensor(0.1419, dtype=torch.float64)\n",
      "259\n",
      "tensor([-0.1016, -0.5759], dtype=torch.float64) tensor([-0.1000, -0.1002, -0.0014, -0.0068]) tensor(-0.0683) False defaultdict(<class 'float'>, {'success': 0.0})\n",
      "tensor(0.3420, dtype=torch.float64)\n",
      "260\n",
      "tensor([0.8481, 0.6821], dtype=torch.float64) tensor([-0.0997, -0.0997,  0.0104,  0.0087]) tensor(-0.9476) False defaultdict(<class 'float'>, {'success': 0.0})\n",
      "tensor(1.1844, dtype=torch.float64)\n",
      "261\n",
      "tensor([ 0.6359, -0.1809], dtype=torch.float64) tensor([-0.0998, -0.1001,  0.0071, -0.0027]) tensor(-0.1364) False defaultdict(<class 'float'>, {'success': 0.0})\n",
      "tensor(0.4371, dtype=torch.float64)\n",
      "262\n",
      "tensor([-0.1764,  0.1189], dtype=torch.float64) tensor([-0.1001, -0.0999, -0.0026,  0.0016]) tensor(9.0535e-17) False defaultdict(<class 'float'>, {'success': 0.0})\n",
      "tensor(0.0452, dtype=torch.float64)\n",
      "263\n",
      "tensor([0.5979, 0.5910], dtype=torch.float64) tensor([-0.0998, -0.0998,  0.0074,  0.0071]) tensor(-0.3884) False defaultdict(<class 'float'>, {'success': 0.0})\n",
      "tensor(0.7068, dtype=torch.float64)\n",
      "264\n",
      "tensor([-0.3049,  0.2661], dtype=torch.float64) tensor([-0.1001, -0.0999, -0.0041,  0.0028]) tensor(-4.4172e-05) False defaultdict(<class 'float'>, {'success': 0.0})\n",
      "tensor(0.1638, dtype=torch.float64)\n",
      "265\n",
      "tensor([-0.3769, -0.7249], dtype=torch.float64) tensor([-0.1001, -0.1003, -0.0043, -0.0089]) tensor(-0.3479) False defaultdict(<class 'float'>, {'success': 0.0})\n",
      "tensor(0.6676, dtype=torch.float64)\n",
      "266\n",
      "tensor([ 0.7576, -0.9635], dtype=torch.float64) tensor([-0.0997, -0.1003,  0.0094, -0.0111]) tensor(-1.3635) False defaultdict(<class 'float'>, {'success': 0.0})\n",
      "tensor(1.5023, dtype=torch.float64)\n",
      "267\n",
      "tensor([ 0.6129, -0.7899], dtype=torch.float64) tensor([-0.0998, -0.1003,  0.0069, -0.0089]) tensor(-0.7195) False defaultdict(<class 'float'>, {'success': 0.0})\n",
      "tensor(0.9996, dtype=torch.float64)\n",
      "268\n",
      "tensor([-0.1564, -0.5068], dtype=torch.float64) tensor([-0.1001, -0.1002, -0.0023, -0.0056]) tensor(-0.0340) False defaultdict(<class 'float'>, {'success': 0.0})\n",
      "tensor(0.2814, dtype=torch.float64)\n",
      "269\n",
      "tensor([0.0998, 0.0634], dtype=torch.float64) tensor([-0.1000, -0.1000,  0.0013,  0.0011]) tensor(9.1457e-17) False defaultdict(<class 'float'>, {'success': 0.0})\n",
      "tensor(0.0140, dtype=torch.float64)\n",
      "270\n",
      "tensor([0.1883, 0.2760], dtype=torch.float64) tensor([-0.0999, -0.0999,  0.0022,  0.0033]) tensor(9.2124e-17) False defaultdict(<class 'float'>, {'success': 0.0})\n",
      "tensor(0.1117, dtype=torch.float64)\n",
      "271\n",
      "tensor([0.8639, 0.8292], dtype=torch.float64) tensor([-0.0997, -0.0997,  0.0103,  0.0098]) tensor(-1.2720) False defaultdict(<class 'float'>, {'success': 0.0})\n",
      "tensor(1.4340, dtype=torch.float64)\n",
      "272\n",
      "tensor([-0.3335, -0.4874], dtype=torch.float64) tensor([-0.1001, -0.1002, -0.0046, -0.0065]) tensor(-0.0726) False defaultdict(<class 'float'>, {'success': 0.0})\n",
      "tensor(0.3488, dtype=torch.float64)\n",
      "273\n",
      "tensor([-0.9652,  0.6159], dtype=torch.float64) tensor([-0.1003, -0.0998, -0.0114,  0.0078]) tensor(-1.1099) False defaultdict(<class 'float'>, {'success': 0.0})\n",
      "tensor(1.3109, dtype=torch.float64)\n",
      "274\n",
      "tensor([ 0.9810, -0.9897], dtype=torch.float64) tensor([-0.0996, -0.1004,  0.0125, -0.0124]) tensor(-1.9742) False defaultdict(<class 'float'>, {'success': 0.0})\n",
      "tensor(1.9419, dtype=torch.float64)\n",
      "275\n",
      "tensor([0.7575, 0.7466], dtype=torch.float64) tensor([-0.0998, -0.0997,  0.0084,  0.0098]) tensor(-0.8807) False defaultdict(<class 'float'>, {'success': 0.0})\n",
      "tensor(1.1312, dtype=torch.float64)\n",
      "276\n",
      "tensor([-0.9762, -0.5495], dtype=torch.float64) tensor([-0.1004, -0.1002, -0.0123, -0.0072]) tensor(-1.0375) False defaultdict(<class 'float'>, {'success': 0.0})\n",
      "tensor(1.2549, dtype=torch.float64)\n",
      "277\n",
      "tensor([-0.5163, -0.7551], dtype=torch.float64) tensor([-0.1002, -0.1003, -0.0055, -0.0087]) tensor(-0.5298) False defaultdict(<class 'float'>, {'success': 0.0})\n",
      "tensor(0.8367, dtype=torch.float64)\n",
      "278\n",
      "tensor([-0.4509,  0.5936], dtype=torch.float64) tensor([-0.1002, -0.0998, -0.0051,  0.0077]) tensor(-0.2386) False defaultdict(<class 'float'>, {'success': 0.0})\n",
      "tensor(0.5557, dtype=torch.float64)\n",
      "279\n",
      "tensor([-0.8546, -0.1422], dtype=torch.float64) tensor([-0.1003, -0.1001, -0.0100, -0.0022]) tensor(-0.4350) False defaultdict(<class 'float'>, {'success': 0.0})\n",
      "tensor(0.7506, dtype=torch.float64)\n",
      "280\n",
      "tensor([-0.4460,  0.0400], dtype=torch.float64) tensor([-0.1001, -0.1000, -0.0048,  0.0006]) tensor(-0.0046) False defaultdict(<class 'float'>, {'success': 0.0})\n",
      "tensor(0.2005, dtype=torch.float64)\n",
      "281\n",
      "tensor([ 0.3172, -0.7888], dtype=torch.float64) tensor([-0.0999, -0.1003,  0.0041, -0.0096]) tensor(-0.4054) False defaultdict(<class 'float'>, {'success': 0.0})\n",
      "tensor(0.7229, dtype=torch.float64)\n",
      "282\n",
      "tensor([-0.5465, -0.3833], dtype=torch.float64) tensor([-0.1002, -0.1001, -0.0069, -0.0041]) tensor(-0.1431) False defaultdict(<class 'float'>, {'success': 0.0})\n",
      "tensor(0.4455, dtype=torch.float64)\n",
      "283\n",
      "tensor([-0.5977, -0.0965], dtype=torch.float64) tensor([-0.1002, -0.1000, -0.0068, -0.0009]) tensor(-0.0844) False defaultdict(<class 'float'>, {'success': 0.0})\n",
      "tensor(0.3666, dtype=torch.float64)\n",
      "284\n",
      "tensor([-0.8327,  0.9236], dtype=torch.float64) tensor([-0.1003, -0.0997, -0.0097,  0.0112]) tensor(-1.4232) False defaultdict(<class 'float'>, {'success': 0.0})\n",
      "tensor(1.5465, dtype=torch.float64)\n",
      "285\n",
      "tensor([-0.1839,  0.8426], dtype=torch.float64) tensor([-0.1000, -0.0997, -0.0017,  0.0095]) tensor(-0.4277) False defaultdict(<class 'float'>, {'success': 0.0})\n",
      "tensor(0.7438, dtype=torch.float64)\n",
      "286\n",
      "tensor([ 0.7509, -0.6830], dtype=torch.float64) tensor([-0.0997, -0.1003,  0.0092, -0.0088]) tensor(-0.7566) False defaultdict(<class 'float'>, {'success': 0.0})\n",
      "tensor(1.0304, dtype=torch.float64)\n",
      "287\n",
      "tensor([-0.3285,  0.2530], dtype=torch.float64) tensor([-0.1001, -0.0999, -0.0045,  0.0036]) tensor(-0.0004) False defaultdict(<class 'float'>, {'success': 0.0})\n",
      "tensor(0.1719, dtype=torch.float64)\n",
      "288\n",
      "tensor([-0.4293,  0.7659], dtype=torch.float64) tensor([-0.1001, -0.0997, -0.0049,  0.0091]) tensor(-0.4570) False defaultdict(<class 'float'>, {'success': 0.0})\n",
      "tensor(0.7709, dtype=torch.float64)\n",
      "289\n",
      "tensor([0.6267, 0.2951], dtype=torch.float64) tensor([-0.0998, -0.0999,  0.0079,  0.0030]) tensor(-0.1713) False defaultdict(<class 'float'>, {'success': 0.0})\n",
      "tensor(0.4798, dtype=torch.float64)\n",
      "290\n",
      "tensor([ 0.8748, -0.9548], dtype=torch.float64) tensor([-0.0997, -0.1004,  0.0101, -0.0117]) tensor(-1.6018) False defaultdict(<class 'float'>, {'success': 0.0})\n",
      "tensor(1.6769, dtype=torch.float64)\n",
      "291\n",
      "tensor([-0.0063, -0.3814], dtype=torch.float64) tensor([-0.1000, -0.1001, -0.0007, -0.0039]) tensor(8.9703e-17) False defaultdict(<class 'float'>, {'success': 0.0})\n",
      "tensor(0.1455, dtype=torch.float64)\n",
      "292\n",
      "tensor([ 0.4809, -0.8848], dtype=torch.float64) tensor([-0.0998, -0.1003,  0.0059, -0.0105]) tensor(-0.7371) False defaultdict(<class 'float'>, {'success': 0.0})\n",
      "tensor(1.0142, dtype=torch.float64)\n",
      "293\n",
      "tensor([ 0.9962, -0.5996], dtype=torch.float64) tensor([-0.0996, -0.1002,  0.0117, -0.0066]) tensor(-1.1635) False defaultdict(<class 'float'>, {'success': 0.0})\n",
      "tensor(1.3519, dtype=torch.float64)\n",
      "294\n",
      "tensor([0.6903, 0.2594], dtype=torch.float64) tensor([-0.0998, -0.0999,  0.0077,  0.0035]) tensor(-0.2277) False defaultdict(<class 'float'>, {'success': 0.0})\n",
      "tensor(0.5438, dtype=torch.float64)\n",
      "295\n",
      "tensor([0.8919, 0.5377], dtype=torch.float64) tensor([-0.0997, -0.0998,  0.0104,  0.0063]) tensor(-0.8228) False defaultdict(<class 'float'>, {'success': 0.0})\n",
      "tensor(1.0845, dtype=torch.float64)\n",
      "296\n",
      "tensor([0.1403, 0.3269], dtype=torch.float64) tensor([-0.1000, -0.0999,  0.0011,  0.0036]) tensor(9.1816e-17) False defaultdict(<class 'float'>, {'success': 0.0})\n",
      "tensor(0.1266, dtype=torch.float64)\n",
      "297\n",
      "tensor([0.6040, 0.8374], dtype=torch.float64) tensor([-0.0998, -0.0997,  0.0072,  0.0099]) tensor(-0.8001) False defaultdict(<class 'float'>, {'success': 0.0})\n",
      "tensor(1.0661, dtype=torch.float64)\n",
      "298\n",
      "tensor([-0.6196, -0.3363], dtype=torch.float64) tensor([-0.1002, -0.1001, -0.0079, -0.0047]) tensor(-0.1860) False defaultdict(<class 'float'>, {'success': 0.0})\n",
      "tensor(0.4970, dtype=torch.float64)\n",
      "299\n",
      "tensor([-0.7058, -0.1712], dtype=torch.float64) tensor([-0.1002, -0.1001, -0.0081, -0.0018]) tensor(-0.2128) False defaultdict(<class 'float'>, {'success': 0.0})\n",
      "tensor(0.5274, dtype=torch.float64)\n",
      "300\n",
      "tensor([ 0.5630, -0.8565], dtype=torch.float64) tensor([-0.0998, -0.1003,  0.0073, -0.0103]) tensor(-0.7813) False defaultdict(<class 'float'>, {'success': 0.0})\n",
      "tensor(1.0507, dtype=torch.float64)\n",
      "301\n",
      "tensor([-0.5403, -0.7372], dtype=torch.float64) tensor([-0.1002, -0.1002, -0.0070, -0.0083]) tensor(-0.5284) False defaultdict(<class 'float'>, {'success': 0.0})\n",
      "tensor(0.8354, dtype=torch.float64)\n",
      "302\n",
      "tensor([-0.1882, -0.8810], dtype=torch.float64) tensor([-0.1001, -0.1003, -0.0019, -0.0102]) tensor(-0.5018) False defaultdict(<class 'float'>, {'success': 0.0})\n",
      "tensor(0.8116, dtype=torch.float64)\n",
      "303\n",
      "tensor([ 0.0103, -0.0765], dtype=torch.float64) tensor([-0.1000, -0.1000,  0.0002, -0.0003]) tensor(9.0870e-17) False defaultdict(<class 'float'>, {'success': 0.0})\n",
      "tensor(0.0060, dtype=torch.float64)\n",
      "304\n",
      "tensor([-0.3219, -0.8319], dtype=torch.float64) tensor([-0.1001, -0.1003, -0.0039, -0.0101]) tensor(-0.4841) False defaultdict(<class 'float'>, {'success': 0.0})\n",
      "tensor(0.7956, dtype=torch.float64)\n",
      "305\n",
      "tensor([0.6716, 0.6477], dtype=torch.float64) tensor([-0.0997, -0.0997,  0.0084,  0.0084]) tensor(-0.5681) False defaultdict(<class 'float'>, {'success': 0.0})\n",
      "tensor(0.8704, dtype=torch.float64)\n",
      "306\n",
      "tensor([0.6364, 0.3579], dtype=torch.float64) tensor([-0.0998, -0.0999,  0.0072,  0.0038]) tensor(-0.2180) False defaultdict(<class 'float'>, {'success': 0.0})\n",
      "tensor(0.5331, dtype=torch.float64)\n",
      "307\n",
      "tensor([0.7719, 0.4299], dtype=torch.float64) tensor([-0.0997, -0.0999,  0.0089,  0.0050]) tensor(-0.4677) False defaultdict(<class 'float'>, {'success': 0.0})\n",
      "tensor(0.7807, dtype=torch.float64)\n",
      "308\n",
      "tensor([-0.7573,  0.9314], dtype=torch.float64) tensor([-0.1003, -0.0997, -0.0097,  0.0110]) tensor(-1.2814) False defaultdict(<class 'float'>, {'success': 0.0})\n",
      "tensor(1.4410, dtype=torch.float64)\n",
      "309\n",
      "tensor([-0.4242, -0.1447], dtype=torch.float64) tensor([-0.1001, -0.1001, -0.0046, -0.0024]) tensor(-0.0046) False defaultdict(<class 'float'>, {'success': 0.0})\n",
      "tensor(0.2008, dtype=torch.float64)\n",
      "310\n",
      "tensor([-0.3451,  0.7049], dtype=torch.float64) tensor([-0.1001, -0.0997, -0.0039,  0.0087]) tensor(-0.2962) False defaultdict(<class 'float'>, {'success': 0.0})\n",
      "tensor(0.6160, dtype=torch.float64)\n",
      "311\n",
      "tensor([0.4048, 0.2458], dtype=torch.float64) tensor([-0.0998, -0.0999,  0.0051,  0.0025]) tensor(-0.0108) False defaultdict(<class 'float'>, {'success': 0.0})\n",
      "tensor(0.2243, dtype=torch.float64)\n",
      "312\n",
      "tensor([-0.2064,  0.8463], dtype=torch.float64) tensor([-0.1001, -0.0997, -0.0028,  0.0101]) tensor(-0.4440) False defaultdict(<class 'float'>, {'success': 0.0})\n",
      "tensor(0.7589, dtype=torch.float64)\n",
      "313\n",
      "tensor([-0.4367, -0.1550], dtype=torch.float64) tensor([-0.1002, -0.1001, -0.0051, -0.0025]) tensor(-0.0080) False defaultdict(<class 'float'>, {'success': 0.0})\n",
      "tensor(0.2147, dtype=torch.float64)\n",
      "314\n",
      "tensor([-0.2263, -0.8623], dtype=torch.float64) tensor([-0.1001, -0.1003, -0.0024, -0.0103]) tensor(-0.4831) False defaultdict(<class 'float'>, {'success': 0.0})\n",
      "tensor(0.7947, dtype=torch.float64)\n",
      "315\n",
      "tensor([0.7103, 0.3994], dtype=torch.float64) tensor([-0.0997, -0.0998,  0.0087,  0.0054]) tensor(-0.3442) False defaultdict(<class 'float'>, {'success': 0.0})\n",
      "tensor(0.6640, dtype=torch.float64)\n",
      "316\n",
      "tensor([-0.0417, -0.3999], dtype=torch.float64) tensor([-0.1000, -0.1002, -0.0010, -0.0052]) tensor(-8.6541e-06) False defaultdict(<class 'float'>, {'success': 0.0})\n",
      "tensor(0.1617, dtype=torch.float64)\n",
      "317\n",
      "tensor([-0.9357,  0.5374], dtype=torch.float64) tensor([-0.1003, -0.0998, -0.0113,  0.0068]) tensor(-0.9222) False defaultdict(<class 'float'>, {'success': 0.0})\n",
      "tensor(1.1643, dtype=torch.float64)\n",
      "318\n",
      "tensor([ 0.9111, -0.5262], dtype=torch.float64) tensor([-0.0996, -0.1002,  0.0117, -0.0068]) tensor(-0.8505) False defaultdict(<class 'float'>, {'success': 0.0})\n",
      "tensor(1.1069, dtype=torch.float64)\n",
      "319\n",
      "tensor([ 0.3429, -0.3283], dtype=torch.float64) tensor([-0.0999, -0.1001,  0.0035, -0.0036]) tensor(-0.0112) False defaultdict(<class 'float'>, {'success': 0.0})\n",
      "tensor(0.2253, dtype=torch.float64)\n",
      "320\n",
      "tensor([-0.3071, -0.6965], dtype=torch.float64) tensor([-0.1001, -0.1002, -0.0039, -0.0082]) tensor(-0.2609) False defaultdict(<class 'float'>, {'success': 0.0})\n",
      "tensor(0.5793, dtype=torch.float64)\n",
      "321\n",
      "tensor([-0.3171, -0.6509], dtype=torch.float64) tensor([-0.1001, -0.1002, -0.0036, -0.0074]) tensor(-0.2101) False defaultdict(<class 'float'>, {'success': 0.0})\n",
      "tensor(0.5243, dtype=torch.float64)\n",
      "322\n",
      "tensor([-0.1652,  0.0844], dtype=torch.float64) tensor([-0.1001, -0.1000, -0.0018,  0.0015]) tensor(9.0804e-17) False defaultdict(<class 'float'>, {'success': 0.0})\n",
      "tensor(0.0344, dtype=torch.float64)\n",
      "323\n",
      "tensor([ 0.7204, -0.9156], dtype=torch.float64) tensor([-0.0997, -0.1003,  0.0088, -0.0112]) tensor(-1.1705) False defaultdict(<class 'float'>, {'success': 0.0})\n",
      "tensor(1.3573, dtype=torch.float64)\n",
      "324\n",
      "tensor([-0.1226, -0.2226], dtype=torch.float64) tensor([-0.1001, -0.1001, -0.0020, -0.0020]) tensor(8.9842e-17) False defaultdict(<class 'float'>, {'success': 0.0})\n",
      "tensor(0.0646, dtype=torch.float64)\n",
      "325\n",
      "tensor([-0.6287,  0.9314], dtype=torch.float64) tensor([-0.1002, -0.0997, -0.0075,  0.0114]) tensor(-1.0476) False defaultdict(<class 'float'>, {'success': 0.0})\n",
      "tensor(1.2628, dtype=torch.float64)\n",
      "326\n",
      "tensor([-0.8086, -0.6162], dtype=torch.float64) tensor([-0.1003, -0.1003, -0.0094, -0.0081]) tensor(-0.7606) False defaultdict(<class 'float'>, {'success': 0.0})\n",
      "tensor(1.0336, dtype=torch.float64)\n",
      "327\n",
      "tensor([-0.6521, -0.4908], dtype=torch.float64) tensor([-0.1002, -0.1002, -0.0073, -0.0055]) tensor(-0.3464) False defaultdict(<class 'float'>, {'success': 0.0})\n",
      "tensor(0.6662, dtype=torch.float64)\n",
      "328\n",
      "tensor([-0.8197, -0.9694], dtype=torch.float64) tensor([-0.1003, -0.1003, -0.0095, -0.0114]) tensor(-1.5121) False defaultdict(<class 'float'>, {'success': 0.0})\n",
      "tensor(1.6117, dtype=torch.float64)\n",
      "329\n",
      "tensor([-0.0042, -0.0234], dtype=torch.float64) tensor([-0.1000, -0.1000,  0.0005,  0.0004]) tensor(9.1179e-17) False defaultdict(<class 'float'>, {'success': 0.0})\n",
      "tensor(0.0006, dtype=torch.float64)\n",
      "330\n",
      "tensor([-0.7371, -0.7017], dtype=torch.float64) tensor([-0.1003, -0.1003, -0.0090, -0.0085]) tensor(-0.7631) False defaultdict(<class 'float'>, {'success': 0.0})\n",
      "tensor(1.0357, dtype=torch.float64)\n",
      "331\n",
      "tensor([ 0.6093, -0.8835], dtype=torch.float64) tensor([-0.0998, -0.1003,  0.0079, -0.0102]) tensor(-0.9064) False defaultdict(<class 'float'>, {'success': 0.0})\n",
      "tensor(1.1518, dtype=torch.float64)\n",
      "332\n",
      "tensor([0.7965, 0.8320], dtype=torch.float64) tensor([-0.0997, -0.0997,  0.0092,  0.0107]) tensor(-1.1304) False defaultdict(<class 'float'>, {'success': 0.0})\n",
      "tensor(1.3266, dtype=torch.float64)\n",
      "333\n",
      "tensor([-0.9639, -0.3086], dtype=torch.float64) tensor([-0.1004, -0.1001, -0.0122, -0.0044]) tensor(-0.7494) False defaultdict(<class 'float'>, {'success': 0.0})\n",
      "tensor(1.0244, dtype=torch.float64)\n",
      "334\n",
      "tensor([-0.4048,  0.4339], dtype=torch.float64) tensor([-0.1001, -0.0998, -0.0042,  0.0055]) tensor(-0.0749) False defaultdict(<class 'float'>, {'success': 0.0})\n",
      "tensor(0.3522, dtype=torch.float64)\n",
      "335\n",
      "tensor([-0.2747, -0.9250], dtype=torch.float64) tensor([-0.1001, -0.1004, -0.0031, -0.0115]) tensor(-0.6384) False defaultdict(<class 'float'>, {'success': 0.0})\n",
      "tensor(0.9312, dtype=torch.float64)\n",
      "336\n",
      "tensor([ 0.0540, -0.6907], dtype=torch.float64) tensor([-0.1000, -0.1002,  0.0008, -0.0077]) tensor(-0.1715) False defaultdict(<class 'float'>, {'success': 0.0})\n",
      "tensor(0.4800, dtype=torch.float64)\n",
      "337\n",
      "tensor([-0.6429, -0.7238], dtype=torch.float64) tensor([-0.1002, -0.1002, -0.0078, -0.0083]) tensor(-0.6455) False defaultdict(<class 'float'>, {'success': 0.0})\n",
      "tensor(0.9372, dtype=torch.float64)\n",
      "338\n",
      "tensor([0.8007, 0.1332], dtype=torch.float64) tensor([-0.0997, -0.0999,  0.0102,  0.0021]) tensor(-0.3391) False defaultdict(<class 'float'>, {'success': 0.0})\n",
      "tensor(0.6589, dtype=torch.float64)\n",
      "339\n",
      "tensor([-0.9006, -0.4560], dtype=torch.float64) tensor([-0.1004, -0.1002, -0.0115, -0.0056]) tensor(-0.7429) False defaultdict(<class 'float'>, {'success': 0.0})\n",
      "tensor(1.0190, dtype=torch.float64)\n",
      "340\n",
      "tensor([-0.2099,  0.1976], dtype=torch.float64) tensor([-0.1000, -0.0999, -0.0019,  0.0027]) tensor(9.1141e-17) False defaultdict(<class 'float'>, {'success': 0.0})\n",
      "tensor(0.0831, dtype=torch.float64)\n",
      "341\n",
      "tensor([-0.4496,  0.3972], dtype=torch.float64) tensor([-0.1002, -0.0999, -0.0053,  0.0047]) tensor(-0.0799) False defaultdict(<class 'float'>, {'success': 0.0})\n",
      "tensor(0.3599, dtype=torch.float64)\n",
      "342\n",
      "tensor([0.3515, 0.8411], dtype=torch.float64) tensor([-0.0999, -0.0997,  0.0046,  0.0099]) tensor(-0.5234) False defaultdict(<class 'float'>, {'success': 0.0})\n",
      "tensor(0.8310, dtype=torch.float64)\n",
      "343\n",
      "tensor([0.4820, 0.5053], dtype=torch.float64) tensor([-0.0998, -0.0998,  0.0056,  0.0055]) tensor(-0.1780) False defaultdict(<class 'float'>, {'success': 0.0})\n",
      "tensor(0.4877, dtype=torch.float64)\n",
      "344\n",
      "tensor([0.4317, 0.4439], dtype=torch.float64) tensor([-0.0999, -0.0999,  0.0049,  0.0051]) tensor(-0.0961) False defaultdict(<class 'float'>, {'success': 0.0})\n",
      "tensor(0.3834, dtype=torch.float64)\n",
      "345\n",
      "tensor([ 0.8189, -0.9143], dtype=torch.float64) tensor([-0.0997, -0.1003,  0.0096, -0.0114]) tensor(-1.3692) False defaultdict(<class 'float'>, {'success': 0.0})\n",
      "tensor(1.5065, dtype=torch.float64)\n",
      "346\n",
      "tensor([-0.5561, -0.2952], dtype=torch.float64) tensor([-0.1002, -0.1001, -0.0073, -0.0029]) tensor(-0.1054) False defaultdict(<class 'float'>, {'success': 0.0})\n",
      "tensor(0.3963, dtype=torch.float64)\n",
      "347\n",
      "tensor([-0.3020, -0.3107], dtype=torch.float64) tensor([-0.1001, -0.1001, -0.0032, -0.0036]) tensor(-0.0022) False defaultdict(<class 'float'>, {'success': 0.0})\n",
      "tensor(0.1878, dtype=torch.float64)\n",
      "348\n",
      "tensor([-0.0898, -0.5370], dtype=torch.float64) tensor([-0.1000, -0.1002, -0.0009, -0.0063]) tensor(-0.0417) False defaultdict(<class 'float'>, {'success': 0.0})\n",
      "tensor(0.2964, dtype=torch.float64)\n",
      "349\n",
      "tensor([ 0.7750, -0.3023], dtype=torch.float64) tensor([-0.0997, -0.1001,  0.0094, -0.0033]) tensor(-0.3731) False defaultdict(<class 'float'>, {'success': 0.0})\n",
      "tensor(0.6921, dtype=torch.float64)\n",
      "350\n",
      "tensor([ 0.1982, -0.0731], dtype=torch.float64) tensor([-0.1000, -0.1000,  0.0018, -0.0007]) tensor(9.1034e-17) False defaultdict(<class 'float'>, {'success': 0.0})\n",
      "tensor(0.0446, dtype=torch.float64)\n",
      "351\n",
      "tensor([0.6487, 0.4657], dtype=torch.float64) tensor([-0.0998, -0.0998,  0.0077,  0.0057]) tensor(-0.3177) False defaultdict(<class 'float'>, {'success': 0.0})\n",
      "tensor(0.6377, dtype=torch.float64)\n",
      "352\n",
      "tensor([-0.7182, -0.7115], dtype=torch.float64) tensor([-0.1003, -0.1003, -0.0092, -0.0089]) tensor(-0.7466) False defaultdict(<class 'float'>, {'success': 0.0})\n",
      "tensor(1.0221, dtype=torch.float64)\n",
      "353\n",
      "tensor([-0.3484,  0.8293], dtype=torch.float64) tensor([-0.1001, -0.0997, -0.0037,  0.0106]) tensor(-0.4991) False defaultdict(<class 'float'>, {'success': 0.0})\n",
      "tensor(0.8092, dtype=torch.float64)\n",
      "354\n",
      "tensor([ 0.7780, -0.9338], dtype=torch.float64) tensor([-0.0997, -0.1004,  0.0096, -0.0119]) tensor(-1.3297) False defaultdict(<class 'float'>, {'success': 0.0})\n",
      "tensor(1.4772, dtype=torch.float64)\n",
      "355\n",
      "tensor([-0.1292,  0.4076], dtype=torch.float64) tensor([-0.1001, -0.0998, -0.0021,  0.0056]) tensor(-0.0015) False defaultdict(<class 'float'>, {'success': 0.0})\n",
      "tensor(0.1828, dtype=torch.float64)\n",
      "356\n",
      "tensor([-0.9402, -0.6458], dtype=torch.float64) tensor([-0.1003, -0.1003, -0.0113, -0.0082]) tensor(-1.0971) False defaultdict(<class 'float'>, {'success': 0.0})\n",
      "tensor(1.3011, dtype=torch.float64)\n",
      "357\n",
      "tensor([ 0.9266, -0.6036], dtype=torch.float64) tensor([-0.0996, -0.1002,  0.0119, -0.0068]) tensor(-0.9965) False defaultdict(<class 'float'>, {'success': 0.0})\n",
      "tensor(1.2229, dtype=torch.float64)\n",
      "358\n",
      "tensor([-0.4846, -0.7778], dtype=torch.float64) tensor([-0.1002, -0.1003, -0.0066, -0.0090]) tensor(-0.5334) False defaultdict(<class 'float'>, {'success': 0.0})\n",
      "tensor(0.8399, dtype=torch.float64)\n",
      "359\n",
      "tensor([-0.1092, -0.8618], dtype=torch.float64) tensor([-0.1000, -0.1003, -0.0009, -0.0099]) tensor(-0.4394) False defaultdict(<class 'float'>, {'success': 0.0})\n",
      "tensor(0.7547, dtype=torch.float64)\n",
      "360\n",
      "tensor([ 0.0448, -0.9643], dtype=torch.float64) tensor([-0.1000, -0.1003,  0.0006, -0.0111]) tensor(-0.6392) False defaultdict(<class 'float'>, {'success': 0.0})\n",
      "tensor(0.9319, dtype=torch.float64)\n",
      "361\n",
      "tensor([ 0.3229, -0.5376], dtype=torch.float64) tensor([-0.0999, -0.1002,  0.0039, -0.0059]) tensor(-0.1032) False defaultdict(<class 'float'>, {'success': 0.0})\n",
      "tensor(0.3933, dtype=torch.float64)\n",
      "362\n",
      "tensor([0.8720, 0.4347], dtype=torch.float64) tensor([-0.0997, -0.0998,  0.0103,  0.0056]) tensor(-0.6598) False defaultdict(<class 'float'>, {'success': 0.0})\n",
      "tensor(0.9494, dtype=torch.float64)\n",
      "363\n",
      "tensor([ 0.3715, -0.1252], dtype=torch.float64) tensor([-0.0999, -0.1001,  0.0039, -0.0018]) tensor(9.1176e-17) False defaultdict(<class 'float'>, {'success': 0.0})\n",
      "tensor(0.1537, dtype=torch.float64)\n",
      "364\n",
      "tensor([-0.0854, -0.0721], dtype=torch.float64) tensor([-0.1000, -0.1000, -0.0013, -0.0008]) tensor(9.0294e-17) False defaultdict(<class 'float'>, {'success': 0.0})\n",
      "tensor(0.0125, dtype=torch.float64)\n",
      "365\n",
      "tensor([-0.5507, -0.4266], dtype=torch.float64) tensor([-0.1002, -0.1002, -0.0066, -0.0051]) tensor(-0.1759) False defaultdict(<class 'float'>, {'success': 0.0})\n",
      "tensor(0.4852, dtype=torch.float64)\n",
      "366\n",
      "tensor([0.9742, 0.6723], dtype=torch.float64) tensor([-0.0996, -0.0997,  0.0122,  0.0084]) tensor(-1.2282) False defaultdict(<class 'float'>, {'success': 0.0})\n",
      "tensor(1.4010, dtype=torch.float64)\n",
      "367\n",
      "tensor([ 0.5440, -0.4467], dtype=torch.float64) tensor([-0.0998, -0.1002,  0.0059, -0.0059]) tensor(-0.1847) False defaultdict(<class 'float'>, {'success': 0.0})\n",
      "tensor(0.4955, dtype=torch.float64)\n",
      "368\n",
      "tensor([-0.1735, -0.0676], dtype=torch.float64) tensor([-0.1001, -0.1000, -0.0024, -0.0005]) tensor(9.0095e-17) False defaultdict(<class 'float'>, {'success': 0.0})\n",
      "tensor(0.0347, dtype=torch.float64)\n",
      "369\n",
      "tensor([0.1453, 0.0654], dtype=torch.float64) tensor([-0.0999, -0.1000,  0.0019,  0.0008]) tensor(9.1487e-17) False defaultdict(<class 'float'>, {'success': 0.0})\n",
      "tensor(0.0254, dtype=torch.float64)\n",
      "370\n",
      "tensor([0.5417, 0.2930], dtype=torch.float64) tensor([-0.0998, -0.0999,  0.0064,  0.0035]) tensor(-0.0932) False defaultdict(<class 'float'>, {'success': 0.0})\n",
      "tensor(0.3793, dtype=torch.float64)\n",
      "371\n",
      "tensor([0.0511, 0.2973], dtype=torch.float64) tensor([-0.1000, -0.0999,  0.0002,  0.0034]) tensor(9.1611e-17) False defaultdict(<class 'float'>, {'success': 0.0})\n",
      "tensor(0.0910, dtype=torch.float64)\n",
      "372\n",
      "tensor([-0.2726, -0.5396], dtype=torch.float64) tensor([-0.1001, -0.1002, -0.0033, -0.0067]) tensor(-0.0837) False defaultdict(<class 'float'>, {'success': 0.0})\n",
      "tensor(0.3654, dtype=torch.float64)\n",
      "373\n",
      "tensor([ 0.4429, -0.0204], dtype=torch.float64) tensor([-0.0998, -0.1000,  0.0056,  0.0001]) tensor(-0.0038) False defaultdict(<class 'float'>, {'success': 0.0})\n",
      "tensor(0.1966, dtype=torch.float64)\n",
      "374\n",
      "tensor([ 0.9658, -0.9787], dtype=torch.float64) tensor([-0.0997, -0.1004,  0.0114, -0.0119]) tensor(-1.9012) False defaultdict(<class 'float'>, {'success': 0.0})\n",
      "tensor(1.8906, dtype=torch.float64)\n",
      "375\n",
      "tensor([ 0.9851, -0.1843], dtype=torch.float64) tensor([-0.0997, -0.1000,  0.0113, -0.0015]) tensor(-0.7253) False defaultdict(<class 'float'>, {'success': 0.0})\n",
      "tensor(1.0044, dtype=torch.float64)\n",
      "376\n",
      "tensor([-0.8198, -0.1949], dtype=torch.float64) tensor([-0.1003, -0.1001, -0.0106, -0.0023]) tensor(-0.3920) False defaultdict(<class 'float'>, {'success': 0.0})\n",
      "tensor(0.7101, dtype=torch.float64)\n",
      "377\n",
      "tensor([0.5426, 0.9801], dtype=torch.float64) tensor([-0.0998, -0.0996,  0.0072,  0.0120]) tensor(-1.0377) False defaultdict(<class 'float'>, {'success': 0.0})\n",
      "tensor(1.2551, dtype=torch.float64)\n",
      "378\n",
      "tensor([-0.1676,  0.6377], dtype=torch.float64) tensor([-0.1001, -0.0998, -0.0025,  0.0070]) tensor(-0.1346) False defaultdict(<class 'float'>, {'success': 0.0})\n",
      "tensor(0.4348, dtype=torch.float64)\n",
      "379\n",
      "tensor([ 0.9402, -0.3313], dtype=torch.float64) tensor([-0.0996, -0.1001,  0.0115, -0.0044]) tensor(-0.7126) False defaultdict(<class 'float'>, {'success': 0.0})\n",
      "tensor(0.9938, dtype=torch.float64)\n",
      "380\n",
      "tensor([ 0.4753, -0.0134], dtype=torch.float64) tensor([-9.9853e-02, -9.9994e-02,  5.0805e-03,  9.7180e-05]) tensor(-0.0114) False defaultdict(<class 'float'>, {'success': 0.0})\n",
      "tensor(0.2261, dtype=torch.float64)\n",
      "381\n",
      "tensor([0.8016, 0.2000], dtype=torch.float64) tensor([-0.0997, -0.0999,  0.0094,  0.0024]) tensor(-0.3632) False defaultdict(<class 'float'>, {'success': 0.0})\n",
      "tensor(0.6825, dtype=torch.float64)\n",
      "382\n",
      "tensor([-0.4660, -0.5132], dtype=torch.float64) tensor([-0.1002, -0.1002, -0.0062, -0.0064]) tensor(-0.1719) False defaultdict(<class 'float'>, {'success': 0.0})\n",
      "tensor(0.4805, dtype=torch.float64)\n",
      "383\n",
      "tensor([ 0.8399, -0.6905], dtype=torch.float64) tensor([-0.0997, -0.1002,  0.0105, -0.0080]) tensor(-0.9448) False defaultdict(<class 'float'>, {'success': 0.0})\n",
      "tensor(1.1822, dtype=torch.float64)\n",
      "384\n",
      "tensor([ 0.8859, -0.1505], dtype=torch.float64) tensor([-0.0997, -0.1000,  0.0101, -0.0014]) tensor(-0.4971) False defaultdict(<class 'float'>, {'success': 0.0})\n",
      "tensor(0.8074, dtype=torch.float64)\n",
      "385\n",
      "tensor([ 0.8443, -0.9252], dtype=torch.float64) tensor([-0.0997, -0.1003,  0.0096, -0.0111]) tensor(-1.4537) False defaultdict(<class 'float'>, {'success': 0.0})\n",
      "tensor(1.5689, dtype=torch.float64)\n",
      "386\n",
      "tensor([-0.8621, -0.4011], dtype=torch.float64) tensor([-0.1003, -0.1001, -0.0110, -0.0042]) tensor(-0.6069) False defaultdict(<class 'float'>, {'success': 0.0})\n",
      "tensor(0.9041, dtype=torch.float64)\n",
      "387\n",
      "tensor([-0.5644,  0.1084], dtype=torch.float64) tensor([-0.1002, -0.0999, -0.0062,  0.0016]) tensor(-0.0611) False defaultdict(<class 'float'>, {'success': 0.0})\n",
      "tensor(0.3304, dtype=torch.float64)\n",
      "388\n",
      "tensor([-0.0812,  0.9375], dtype=torch.float64) tensor([-0.1000, -0.0997, -0.0006,  0.0113]) tensor(-0.5853) False defaultdict(<class 'float'>, {'success': 0.0})\n",
      "tensor(0.8855, dtype=torch.float64)\n",
      "389\n",
      "tensor([-0.2928,  0.4163], dtype=torch.float64) tensor([-0.1001, -0.0999, -0.0035,  0.0044]) tensor(-0.0237) False defaultdict(<class 'float'>, {'success': 0.0})\n",
      "tensor(0.2590, dtype=torch.float64)\n",
      "390\n",
      "tensor([0.2835, 0.1686], dtype=torch.float64) tensor([-0.0999, -0.0999,  0.0036,  0.0018]) tensor(9.2122e-17) False defaultdict(<class 'float'>, {'success': 0.0})\n",
      "tensor(0.1088, dtype=torch.float64)\n",
      "391\n",
      "tensor([0.4616, 0.5568], dtype=torch.float64) tensor([-0.0998, -0.0998,  0.0054,  0.0066]) tensor(-0.2090) False defaultdict(<class 'float'>, {'success': 0.0})\n",
      "tensor(0.5231, dtype=torch.float64)\n",
      "392\n",
      "tensor([-0.7201, -0.5854], dtype=torch.float64) tensor([-0.1003, -0.1002, -0.0090, -0.0075]) tensor(-0.5577) False defaultdict(<class 'float'>, {'success': 0.0})\n",
      "tensor(0.8613, dtype=torch.float64)\n",
      "393\n",
      "tensor([-0.3764,  0.8088], dtype=torch.float64) tensor([-0.1001, -0.0997, -0.0040,  0.0102]) tensor(-0.4843) False defaultdict(<class 'float'>, {'success': 0.0})\n",
      "tensor(0.7958, dtype=torch.float64)\n",
      "394\n",
      "tensor([-0.3229, -0.1471], dtype=torch.float64) tensor([-0.1001, -0.1001, -0.0037, -0.0024]) tensor(8.9297e-17) False defaultdict(<class 'float'>, {'success': 0.0})\n",
      "tensor(0.1259, dtype=torch.float64)\n",
      "395\n",
      "tensor([0.9612, 0.5810], dtype=torch.float64) tensor([-0.0996, -0.0998,  0.0119,  0.0072]) tensor(-1.0460) False defaultdict(<class 'float'>, {'success': 0.0})\n",
      "tensor(1.2615, dtype=torch.float64)\n",
      "396\n",
      "tensor([-0.3591, -0.0165], dtype=torch.float64) tensor([-0.1002, -0.1000, -0.0050, -0.0006]) tensor(8.9293e-17) False defaultdict(<class 'float'>, {'success': 0.0})\n",
      "tensor(0.1292, dtype=torch.float64)\n",
      "397\n",
      "tensor([-0.0801,  0.4457], dtype=torch.float64) tensor([-0.1000, -0.0998, -0.0007,  0.0054]) tensor(-0.0056) False defaultdict(<class 'float'>, {'success': 0.0})\n",
      "tensor(0.2051, dtype=torch.float64)\n",
      "398\n",
      "tensor([ 0.8197, -0.1277], dtype=torch.float64) tensor([-0.0997, -0.1001,  0.0100, -0.0019]) tensor(-0.3691) False defaultdict(<class 'float'>, {'success': 0.0})\n",
      "tensor(0.6882, dtype=torch.float64)\n",
      "399\n",
      "tensor([-0.0030,  0.0551], dtype=torch.float64) tensor([-0.1000, -0.1000, -0.0006,  0.0008]) tensor(9.0776e-17) False defaultdict(<class 'float'>, {'success': 0.0})\n",
      "tensor(0.0030, dtype=torch.float64)\n",
      "400\n",
      "tensor([0.7997, 0.9379], dtype=torch.float64) tensor([-0.0997, -0.0997,  0.0097,  0.0113]) tensor(-1.3862) False defaultdict(<class 'float'>, {'success': 0.0})\n",
      "tensor(1.5192, dtype=torch.float64)\n",
      "401\n",
      "tensor([-0.9091,  0.1615], dtype=torch.float64) tensor([-0.1004, -0.1000, -0.0116,  0.0013]) tensor(-0.5478) False defaultdict(<class 'float'>, {'success': 0.0})\n",
      "tensor(0.8525, dtype=torch.float64)\n",
      "402\n",
      "tensor([-0.4718,  0.9660], dtype=torch.float64) tensor([-0.1001, -0.0996, -0.0050,  0.0116]) tensor(-0.9114) False defaultdict(<class 'float'>, {'success': 0.0})\n",
      "tensor(1.1558, dtype=torch.float64)\n",
      "403\n",
      "tensor([ 0.4578, -0.3022], dtype=torch.float64) tensor([-0.0998, -0.1001,  0.0058, -0.0043]) tensor(-0.0441) False defaultdict(<class 'float'>, {'success': 0.0})\n",
      "tensor(0.3009, dtype=torch.float64)\n",
      "404\n",
      "tensor([ 0.7421, -0.7928], dtype=torch.float64) tensor([-0.0997, -0.1003,  0.0086, -0.0093]) tensor(-0.9410) False defaultdict(<class 'float'>, {'success': 0.0})\n",
      "tensor(1.1792, dtype=torch.float64)\n",
      "405\n",
      "tensor([-0.4469,  0.9240], dtype=torch.float64) tensor([-0.1002, -0.0996, -0.0059,  0.0117]) tensor(-0.7847) False defaultdict(<class 'float'>, {'success': 0.0})\n",
      "tensor(1.0535, dtype=torch.float64)\n",
      "406\n",
      "tensor([0.1877, 0.4169], dtype=torch.float64) tensor([-0.0999, -0.0999,  0.0026,  0.0044]) tensor(-0.0065) False defaultdict(<class 'float'>, {'success': 0.0})\n",
      "tensor(0.2090, dtype=torch.float64)\n",
      "407\n",
      "tensor([-0.0709, -0.3645], dtype=torch.float64) tensor([-0.1000, -0.1001, -0.0010, -0.0047]) tensor(8.9380e-17) False defaultdict(<class 'float'>, {'success': 0.0})\n",
      "tensor(0.1379, dtype=torch.float64)\n",
      "408\n",
      "tensor([-0.1088, -0.7205], dtype=torch.float64) tensor([-0.1000, -0.1003, -0.0013, -0.0085]) tensor(-0.2161) False defaultdict(<class 'float'>, {'success': 0.0})\n",
      "tensor(0.5310, dtype=torch.float64)\n",
      "409\n",
      "tensor([-0.5559, -0.9549], dtype=torch.float64) tensor([-0.1002, -0.1003, -0.0067, -0.0111]) tensor(-0.9937) False defaultdict(<class 'float'>, {'success': 0.0})\n",
      "tensor(1.2208, dtype=torch.float64)\n",
      "410\n",
      "tensor([-0.4969, -0.3820], dtype=torch.float64) tensor([-0.1002, -0.1001, -0.0056, -0.0040]) tensor(-0.1028) False defaultdict(<class 'float'>, {'success': 0.0})\n",
      "tensor(0.3928, dtype=torch.float64)\n",
      "411\n",
      "tensor([ 0.7128, -0.8404], dtype=torch.float64) tensor([-0.0997, -0.1003,  0.0090, -0.0099]) tensor(-0.9854) False defaultdict(<class 'float'>, {'success': 0.0})\n",
      "tensor(1.2143, dtype=torch.float64)\n",
      "412\n",
      "tensor([-0.0458, -0.9233], dtype=torch.float64) tensor([-0.1000, -0.1003, -0.0011, -0.0106]) tensor(-0.5501) False defaultdict(<class 'float'>, {'success': 0.0})\n",
      "tensor(0.8546, dtype=torch.float64)\n",
      "413\n",
      "tensor([0.8909, 0.3640], dtype=torch.float64) tensor([-0.0997, -0.0998,  0.0109,  0.0050]) tensor(-0.6326) False defaultdict(<class 'float'>, {'success': 0.0})\n",
      "tensor(0.9263, dtype=torch.float64)\n",
      "414\n",
      "tensor([ 0.8897, -0.5906], dtype=torch.float64) tensor([-0.0997, -0.1002,  0.0101, -0.0074]) tensor(-0.8922) False defaultdict(<class 'float'>, {'success': 0.0})\n",
      "tensor(1.1404, dtype=torch.float64)\n",
      "415\n",
      "tensor([ 0.3148, -0.9225], dtype=torch.float64) tensor([-0.0999, -0.1003,  0.0032, -0.0107]) tensor(-0.6606) False defaultdict(<class 'float'>, {'success': 0.0})\n",
      "tensor(0.9500, dtype=torch.float64)\n",
      "416\n",
      "tensor([-0.0031, -0.0917], dtype=torch.float64) tensor([-0.1000, -0.1000, -0.0002, -0.0005]) tensor(9.0686e-17) False defaultdict(<class 'float'>, {'success': 0.0})\n",
      "tensor(0.0084, dtype=torch.float64)\n",
      "417\n",
      "tensor([0.6687, 0.3778], dtype=torch.float64) tensor([-0.0998, -0.0999,  0.0081,  0.0046]) tensor(-0.2708) False defaultdict(<class 'float'>, {'success': 0.0})\n",
      "tensor(0.5898, dtype=torch.float64)\n",
      "418\n",
      "tensor([-0.5984, -0.5842], dtype=torch.float64) tensor([-0.1002, -0.1002, -0.0077, -0.0073]) tensor(-0.3807) False defaultdict(<class 'float'>, {'success': 0.0})\n",
      "tensor(0.6994, dtype=torch.float64)\n",
      "419\n",
      "tensor([0.1829, 0.0678], dtype=torch.float64) tensor([-0.0999, -0.1000,  0.0027,  0.0013]) tensor(9.1876e-17) False defaultdict(<class 'float'>, {'success': 0.0})\n",
      "tensor(0.0380, dtype=torch.float64)\n",
      "420\n",
      "tensor([-0.5487,  0.2360], dtype=torch.float64) tensor([-0.1002, -0.0999, -0.0068,  0.0028]) tensor(-0.0778) False defaultdict(<class 'float'>, {'success': 0.0})\n",
      "tensor(0.3568, dtype=torch.float64)\n",
      "421\n",
      "tensor([ 0.9723, -0.5164], dtype=torch.float64) tensor([-0.0996, -0.1002,  0.0122, -0.0064]) tensor(-0.9826) False defaultdict(<class 'float'>, {'success': 0.0})\n",
      "tensor(1.2120, dtype=torch.float64)\n",
      "422\n",
      "tensor([-0.0320,  0.7960], dtype=torch.float64) tensor([-0.1000, -0.0997, -0.0011,  0.0100]) tensor(-0.3146) False defaultdict(<class 'float'>, {'success': 0.0})\n",
      "tensor(0.6346, dtype=torch.float64)\n",
      "423\n",
      "tensor([-0.2383, -0.5152], dtype=torch.float64) tensor([-0.1001, -0.1002, -0.0028, -0.0068]) tensor(-0.0562) False defaultdict(<class 'float'>, {'success': 0.0})\n",
      "tensor(0.3222, dtype=torch.float64)\n",
      "424\n",
      "tensor([-0.4737,  0.2219], dtype=torch.float64) tensor([-0.1002, -0.0999, -0.0056,  0.0031]) tensor(-0.0303) False defaultdict(<class 'float'>, {'success': 0.0})\n",
      "tensor(0.2736, dtype=torch.float64)\n",
      "425\n",
      "tensor([-0.1951, -0.6191], dtype=torch.float64) tensor([-0.1001, -0.1002, -0.0020, -0.0077]) tensor(-0.1241) False defaultdict(<class 'float'>, {'success': 0.0})\n",
      "tensor(0.4213, dtype=torch.float64)\n",
      "426\n",
      "tensor([-0.1329, -0.2114], dtype=torch.float64) tensor([-0.1000, -0.1001, -0.0015, -0.0021]) tensor(9.0005e-17) False defaultdict(<class 'float'>, {'success': 0.0})\n",
      "tensor(0.0624, dtype=torch.float64)\n",
      "427\n",
      "tensor([-0.3674,  0.9992], dtype=torch.float64) tensor([-0.1001, -0.0996, -0.0044,  0.0122]) tensor(-0.8833) False defaultdict(<class 'float'>, {'success': 0.0})\n",
      "tensor(1.1333, dtype=torch.float64)\n",
      "428\n",
      "tensor([ 0.3932, -0.7315], dtype=torch.float64) tensor([-0.0998, -0.1003,  0.0050, -0.0096]) tensor(-0.3707) False defaultdict(<class 'float'>, {'success': 0.0})\n",
      "tensor(0.6898, dtype=torch.float64)\n",
      "429\n",
      "tensor([0.4844, 0.8349], dtype=torch.float64) tensor([-0.0998, -0.0997,  0.0056,  0.0107]) tensor(-0.6391) False defaultdict(<class 'float'>, {'success': 0.0})\n",
      "tensor(0.9318, dtype=torch.float64)\n",
      "430\n",
      "tensor([ 0.1219, -0.5339], dtype=torch.float64) tensor([-0.1000, -0.1002,  0.0011, -0.0071]) tensor(-0.0436) False defaultdict(<class 'float'>, {'success': 0.0})\n",
      "tensor(0.2999, dtype=torch.float64)\n",
      "431\n",
      "tensor([0.7210, 0.8179], dtype=torch.float64) tensor([-0.0997, -0.0997,  0.0087,  0.0103]) tensor(-0.9531) False defaultdict(<class 'float'>, {'success': 0.0})\n",
      "tensor(1.1888, dtype=torch.float64)\n",
      "432\n",
      "tensor([-0.8784,  0.2913], dtype=torch.float64) tensor([-0.1003, -0.0999, -0.0111,  0.0029]) tensor(-0.5522) False defaultdict(<class 'float'>, {'success': 0.0})\n",
      "tensor(0.8564, dtype=torch.float64)\n",
      "433\n",
      "tensor([-0.4238,  0.6004], dtype=torch.float64) tensor([-0.1001, -0.0998, -0.0045,  0.0071]) tensor(-0.2243) False defaultdict(<class 'float'>, {'success': 0.0})\n",
      "tensor(0.5401, dtype=torch.float64)\n",
      "434\n",
      "tensor([0.6298, 0.8374], dtype=torch.float64) tensor([-0.0998, -0.0997,  0.0079,  0.0097]) tensor(-0.8392) False defaultdict(<class 'float'>, {'success': 0.0})\n",
      "tensor(1.0979, dtype=torch.float64)\n",
      "435\n",
      "tensor([0.5787, 0.4449], dtype=torch.float64) tensor([-0.0998, -0.0999,  0.0065,  0.0048]) tensor(-0.2178) False defaultdict(<class 'float'>, {'success': 0.0})\n",
      "tensor(0.5329, dtype=torch.float64)\n",
      "436\n",
      "tensor([0.3654, 0.0925], dtype=torch.float64) tensor([-0.0999, -0.1000,  0.0040,  0.0008]) tensor(9.1906e-17) False defaultdict(<class 'float'>, {'success': 0.0})\n",
      "tensor(0.1421, dtype=torch.float64)\n",
      "437\n",
      "tensor([ 0.3596, -0.2045], dtype=torch.float64) tensor([-0.0999, -0.1001,  0.0041, -0.0025]) tensor(-0.0004) False defaultdict(<class 'float'>, {'success': 0.0})\n",
      "tensor(0.1711, dtype=torch.float64)\n",
      "438\n",
      "tensor([ 0.6844, -0.3299], dtype=torch.float64) tensor([-0.0998, -0.1001,  0.0080, -0.0038]) tensor(-0.2589) False defaultdict(<class 'float'>, {'success': 0.0})\n",
      "tensor(0.5773, dtype=torch.float64)\n",
      "439\n",
      "tensor([ 0.5887, -0.3286], dtype=torch.float64) tensor([-0.0998, -0.1001,  0.0067, -0.0038]) tensor(-0.1503) False defaultdict(<class 'float'>, {'success': 0.0})\n",
      "tensor(0.4545, dtype=torch.float64)\n",
      "440\n",
      "tensor([0.6606, 0.4364], dtype=torch.float64) tensor([-0.0998, -0.0998,  0.0076,  0.0055]) tensor(-0.3070) False defaultdict(<class 'float'>, {'success': 0.0})\n",
      "tensor(0.6269, dtype=torch.float64)\n",
      "441\n",
      "tensor([-0.0481, -0.9341], dtype=torch.float64) tensor([-0.1000, -0.1004, -0.0010, -0.0116]) tensor(-0.5731) False defaultdict(<class 'float'>, {'success': 0.0})\n",
      "tensor(0.8748, dtype=torch.float64)\n",
      "442\n",
      "tensor([0.5791, 0.0807], dtype=torch.float64) tensor([-0.0998, -0.0999,  0.0071,  0.0017]) tensor(-0.0682) False defaultdict(<class 'float'>, {'success': 0.0})\n",
      "tensor(0.3418, dtype=torch.float64)\n",
      "443\n",
      "tensor([0.1982, 0.2900], dtype=torch.float64) tensor([-0.0999, -0.0999,  0.0020,  0.0034]) tensor(9.2055e-17) False defaultdict(<class 'float'>, {'success': 0.0})\n",
      "tensor(0.1234, dtype=torch.float64)\n",
      "444\n",
      "tensor([0.1423, 0.8673], dtype=torch.float64) tensor([-0.1000, -0.0997,  0.0016,  0.0103]) tensor(-0.4587) False defaultdict(<class 'float'>, {'success': 0.0})\n",
      "tensor(0.7724, dtype=torch.float64)\n",
      "445\n",
      "tensor([0.2824, 0.7698], dtype=torch.float64) tensor([-0.0999, -0.0997,  0.0033,  0.0087]) tensor(-0.3528) False defaultdict(<class 'float'>, {'success': 0.0})\n",
      "tensor(0.6724, dtype=torch.float64)\n",
      "446\n",
      "tensor([ 0.3765, -0.5086], dtype=torch.float64) tensor([-0.0999, -0.1002,  0.0044, -0.0067]) tensor(-0.1084) False defaultdict(<class 'float'>, {'success': 0.0})\n",
      "tensor(0.4004, dtype=torch.float64)\n",
      "447\n",
      "tensor([ 0.2433, -0.1679], dtype=torch.float64) tensor([-0.0999, -0.1000,  0.0027, -0.0016]) tensor(9.1073e-17) False defaultdict(<class 'float'>, {'success': 0.0})\n",
      "tensor(0.0874, dtype=torch.float64)\n",
      "448\n",
      "tensor([-0.2247,  0.9375], dtype=torch.float64) tensor([-0.1001, -0.0997, -0.0029,  0.0114]) tensor(-0.6363) False defaultdict(<class 'float'>, {'success': 0.0})\n",
      "tensor(0.9294, dtype=torch.float64)\n",
      "449\n",
      "tensor([-0.1792, -0.6361], dtype=torch.float64) tensor([-0.1001, -0.1003, -0.0020, -0.0084]) tensor(-0.1361) False defaultdict(<class 'float'>, {'success': 0.0})\n",
      "tensor(0.4368, dtype=torch.float64)\n",
      "450\n",
      "tensor([ 0.9194, -0.9761], dtype=torch.float64) tensor([-0.0997, -0.1003,  0.0113, -0.0113]) tensor(-1.7705) False defaultdict(<class 'float'>, {'success': 0.0})\n",
      "tensor(1.7980, dtype=torch.float64)\n",
      "451\n",
      "tensor([-0.6588,  0.6095], dtype=torch.float64) tensor([-0.1003, -0.0997, -0.0086,  0.0080]) tensor(-0.4950) False defaultdict(<class 'float'>, {'success': 0.0})\n",
      "tensor(0.8055, dtype=torch.float64)\n",
      "452\n",
      "tensor([0.6643, 0.9669], dtype=torch.float64) tensor([-0.0997, -0.0997,  0.0086,  0.0112]) tensor(-1.1956) False defaultdict(<class 'float'>, {'success': 0.0})\n",
      "tensor(1.3763, dtype=torch.float64)\n",
      "453\n",
      "tensor([-0.7009, -0.0755], dtype=torch.float64) tensor([-0.1003, -0.1001, -0.0090, -0.0016]) tensor(-0.1860) False defaultdict(<class 'float'>, {'success': 0.0})\n",
      "tensor(0.4970, dtype=torch.float64)\n",
      "454\n",
      "tensor([0.3379, 0.2762], dtype=torch.float64) tensor([-0.0999, -0.0999,  0.0046,  0.0034]) tensor(-0.0027) False defaultdict(<class 'float'>, {'success': 0.0})\n",
      "tensor(0.1905, dtype=torch.float64)\n",
      "455\n",
      "tensor([-0.1277, -0.8521], dtype=torch.float64) tensor([-0.1001, -0.1003, -0.0018, -0.0105]) tensor(-0.4262) False defaultdict(<class 'float'>, {'success': 0.0})\n",
      "tensor(0.7424, dtype=torch.float64)\n",
      "456\n",
      "tensor([0.4936, 0.0631], dtype=torch.float64) tensor([-0.0998, -0.1000,  0.0061,  0.0014]) tensor(-0.0191) False defaultdict(<class 'float'>, {'success': 0.0})\n",
      "tensor(0.2476, dtype=torch.float64)\n",
      "457\n",
      "tensor([0.8288, 0.0549], dtype=torch.float64) tensor([-0.0997, -0.1000,  0.0097,  0.0006]) tensor(-0.3709) False defaultdict(<class 'float'>, {'success': 0.0})\n",
      "tensor(0.6900, dtype=torch.float64)\n",
      "458\n",
      "tensor([-0.3508, -0.5470], dtype=torch.float64) tensor([-0.1002, -0.1002, -0.0048, -0.0067]) tensor(-0.1248) False defaultdict(<class 'float'>, {'success': 0.0})\n",
      "tensor(0.4223, dtype=torch.float64)\n",
      "459\n",
      "tensor([-0.8397, -0.7016], dtype=torch.float64) tensor([-0.1003, -0.1002, -0.0099, -0.0081]) tensor(-0.9641) False defaultdict(<class 'float'>, {'success': 0.0})\n",
      "tensor(1.1975, dtype=torch.float64)\n",
      "460\n",
      "tensor([ 0.6748, -0.1678], dtype=torch.float64) tensor([-0.0997, -0.1000,  0.0088, -0.0016]) tensor(-0.1745) False defaultdict(<class 'float'>, {'success': 0.0})\n",
      "tensor(0.4835, dtype=torch.float64)\n",
      "461\n",
      "tensor([0.6756, 0.2842], dtype=torch.float64) tensor([-0.0998, -0.0999,  0.0077,  0.0035]) tensor(-0.2217) False defaultdict(<class 'float'>, {'success': 0.0})\n",
      "tensor(0.5372, dtype=torch.float64)\n",
      "462\n",
      "tensor([ 0.8618, -0.8784], dtype=torch.float64) tensor([-0.0997, -0.1003,  0.0100, -0.0108]) tensor(-1.3795) False defaultdict(<class 'float'>, {'success': 0.0})\n",
      "tensor(1.5142, dtype=torch.float64)\n",
      "463\n",
      "tensor([0.2106, 0.8455], dtype=torch.float64) tensor([-0.0999, -0.0997,  0.0020,  0.0109]) tensor(-0.4444) False defaultdict(<class 'float'>, {'success': 0.0})\n",
      "tensor(0.7593, dtype=torch.float64)\n",
      "464\n",
      "tensor([0.7828, 0.5998], dtype=torch.float64) tensor([-0.0997, -0.0998,  0.0094,  0.0066]) tensor(-0.6871) False defaultdict(<class 'float'>, {'success': 0.0})\n",
      "tensor(0.9725, dtype=torch.float64)\n",
      "465\n",
      "tensor([-0.7932, -0.8887], dtype=torch.float64) tensor([-0.1003, -0.1003, -0.0102, -0.0111]) tensor(-1.2519) False defaultdict(<class 'float'>, {'success': 0.0})\n",
      "tensor(1.4189, dtype=torch.float64)\n",
      "466\n",
      "tensor([0.7721, 0.3250], dtype=torch.float64) tensor([-0.0997, -0.0999,  0.0099,  0.0046]) tensor(-0.3833) False defaultdict(<class 'float'>, {'success': 0.0})\n",
      "tensor(0.7019, dtype=torch.float64)\n",
      "467\n",
      "tensor([ 0.7612, -0.7436], dtype=torch.float64) tensor([-0.0997, -0.1003,  0.0086, -0.0093]) tensor(-0.8822) False defaultdict(<class 'float'>, {'success': 0.0})\n",
      "tensor(1.1324, dtype=torch.float64)\n",
      "468\n",
      "tensor([-0.0763, -0.2335], dtype=torch.float64) tensor([-0.1000, -0.1001, -0.0014, -0.0023]) tensor(8.9908e-17) False defaultdict(<class 'float'>, {'success': 0.0})\n",
      "tensor(0.0603, dtype=torch.float64)\n",
      "469\n",
      "tensor([-0.6526, -0.7728], dtype=torch.float64) tensor([-0.1002, -0.1003, -0.0078, -0.0092]) tensor(-0.7479) False defaultdict(<class 'float'>, {'success': 0.0})\n",
      "tensor(1.0232, dtype=torch.float64)\n",
      "470\n",
      "tensor([-0.7573,  0.1130], dtype=torch.float64) tensor([-0.1003, -0.0999, -0.0087,  0.0019]) tensor(-0.2674) False defaultdict(<class 'float'>, {'success': 0.0})\n",
      "tensor(0.5863, dtype=torch.float64)\n",
      "471\n",
      "tensor([-0.8807, -0.5659], dtype=torch.float64) tensor([-0.1003, -0.1002, -0.0102, -0.0070]) tensor(-0.8368) False defaultdict(<class 'float'>, {'success': 0.0})\n",
      "tensor(1.0958, dtype=torch.float64)\n",
      "472\n",
      "tensor([ 0.3263, -0.6826], dtype=torch.float64) tensor([-0.0999, -0.1002,  0.0045, -0.0079]) tensor(-0.2543) False defaultdict(<class 'float'>, {'success': 0.0})\n",
      "tensor(0.5724, dtype=torch.float64)\n",
      "473\n",
      "tensor([-0.8572,  0.0695], dtype=torch.float64) tensor([-0.1003, -0.1000, -0.0106,  0.0013]) tensor(-0.4233) False defaultdict(<class 'float'>, {'success': 0.0})\n",
      "tensor(0.7397, dtype=torch.float64)\n",
      "474\n",
      "tensor([-0.8669, -0.9087], dtype=torch.float64) tensor([-0.1003, -0.1003, -0.0099, -0.0111]) tensor(-1.4651) False defaultdict(<class 'float'>, {'success': 0.0})\n",
      "tensor(1.5773, dtype=torch.float64)\n",
      "475\n",
      "tensor([-0.6754, -0.5717], dtype=torch.float64) tensor([-0.1002, -0.1002, -0.0076, -0.0063]) tensor(-0.4702) False defaultdict(<class 'float'>, {'success': 0.0})\n",
      "tensor(0.7830, dtype=torch.float64)\n",
      "476\n",
      "tensor([ 0.8235, -0.9132], dtype=torch.float64) tensor([-0.0997, -0.1003,  0.0104, -0.0107]) tensor(-1.3766) False defaultdict(<class 'float'>, {'success': 0.0})\n",
      "tensor(1.5120, dtype=torch.float64)\n",
      "477\n",
      "tensor([-0.4531, -0.4640], dtype=torch.float64) tensor([-0.1002, -0.1001, -0.0061, -0.0050]) tensor(-0.1235) False defaultdict(<class 'float'>, {'success': 0.0})\n",
      "tensor(0.4206, dtype=torch.float64)\n",
      "478\n",
      "tensor([-0.8334, -0.2351], dtype=torch.float64) tensor([-0.1003, -0.1001, -0.0097, -0.0026]) tensor(-0.4341) False defaultdict(<class 'float'>, {'success': 0.0})\n",
      "tensor(0.7498, dtype=torch.float64)\n",
      "479\n",
      "tensor([ 0.2636, -0.0230], dtype=torch.float64) tensor([-0.0999, -0.1000,  0.0038, -0.0001]) tensor(9.1784e-17) False defaultdict(<class 'float'>, {'success': 0.0})\n",
      "tensor(0.0700, dtype=torch.float64)\n",
      "480\n",
      "tensor([-0.1456,  0.8889], dtype=torch.float64) tensor([-0.1001, -0.0997, -0.0020,  0.0108]) tensor(-0.5014) False defaultdict(<class 'float'>, {'success': 0.0})\n",
      "tensor(0.8113, dtype=torch.float64)\n",
      "481\n",
      "tensor([ 0.6009, -0.4932], dtype=torch.float64) tensor([-0.0998, -0.1002,  0.0074, -0.0066]) tensor(-0.2848) False defaultdict(<class 'float'>, {'success': 0.0})\n",
      "tensor(0.6043, dtype=torch.float64)\n",
      "482\n",
      "tensor([-0.6859, -0.5249], dtype=torch.float64) tensor([-0.1003, -0.1002, -0.0087, -0.0060]) tensor(-0.4300) False defaultdict(<class 'float'>, {'success': 0.0})\n",
      "tensor(0.7459, dtype=torch.float64)\n",
      "483\n",
      "tensor([-0.3967, -0.0802], dtype=torch.float64) tensor([-0.1001, -0.1000, -0.0043, -0.0006]) tensor(-4.4792e-05) False defaultdict(<class 'float'>, {'success': 0.0})\n",
      "tensor(0.1638, dtype=torch.float64)\n",
      "484\n",
      "tensor([ 0.4152, -0.5204], dtype=torch.float64) tensor([-0.0998, -0.1002,  0.0053, -0.0063]) tensor(-0.1413) False defaultdict(<class 'float'>, {'success': 0.0})\n",
      "tensor(0.4433, dtype=torch.float64)\n",
      "485\n",
      "tensor([-0.3074,  0.7755], dtype=torch.float64) tensor([-0.1001, -0.0997, -0.0040,  0.0098]) tensor(-0.3770) False defaultdict(<class 'float'>, {'success': 0.0})\n",
      "tensor(0.6958, dtype=torch.float64)\n",
      "486\n",
      "tensor([0.2312, 0.7452], dtype=torch.float64) tensor([-0.0999, -0.0998,  0.0030,  0.0085]) tensor(-0.2892) False defaultdict(<class 'float'>, {'success': 0.0})\n",
      "tensor(0.6088, dtype=torch.float64)\n",
      "487\n",
      "tensor([-0.5924,  0.6637], dtype=torch.float64) tensor([-0.1002, -0.0998, -0.0074,  0.0075]) tensor(-0.4795) False defaultdict(<class 'float'>, {'success': 0.0})\n",
      "tensor(0.7914, dtype=torch.float64)\n",
      "488\n",
      "tensor([ 0.3563, -0.2634], dtype=torch.float64) tensor([-0.0999, -0.1001,  0.0047, -0.0036]) tensor(-0.0037) False defaultdict(<class 'float'>, {'success': 0.0})\n",
      "tensor(0.1963, dtype=torch.float64)\n",
      "489\n",
      "tensor([-0.6822,  0.1523], dtype=torch.float64) tensor([-0.1003, -0.0999, -0.0085,  0.0021]) tensor(-0.1788) False defaultdict(<class 'float'>, {'success': 0.0})\n",
      "tensor(0.4886, dtype=torch.float64)\n",
      "490\n",
      "tensor([0.4579, 0.5909], dtype=torch.float64) tensor([-0.0998, -0.0998,  0.0060,  0.0070]) tensor(-0.2416) False defaultdict(<class 'float'>, {'success': 0.0})\n",
      "tensor(0.5589, dtype=torch.float64)\n",
      "491\n",
      "tensor([-0.3568,  0.8424], dtype=torch.float64) tensor([-0.1001, -0.0997, -0.0047,  0.0098]) tensor(-0.5302) False defaultdict(<class 'float'>, {'success': 0.0})\n",
      "tensor(0.8370, dtype=torch.float64)\n",
      "492\n",
      "tensor([0.3858, 0.7269], dtype=torch.float64) tensor([-0.0998, -0.0998,  0.0049,  0.0082]) tensor(-0.3578) False defaultdict(<class 'float'>, {'success': 0.0})\n",
      "tensor(0.6773, dtype=torch.float64)\n",
      "493\n",
      "tensor([-0.1418, -0.8691], dtype=torch.float64) tensor([-0.1001, -0.1003, -0.0020, -0.0110]) tensor(-0.4619) False defaultdict(<class 'float'>, {'success': 0.0})\n",
      "tensor(0.7754, dtype=torch.float64)\n",
      "494\n",
      "tensor([0.8600, 0.0610], dtype=torch.float64) tensor([-0.0997, -0.1000,  0.0105,  0.0014]) tensor(-0.4271) False defaultdict(<class 'float'>, {'success': 0.0})\n",
      "tensor(0.7433, dtype=torch.float64)\n",
      "495\n",
      "tensor([-0.0065,  0.4439], dtype=torch.float64) tensor([-0.1000, -0.0998, -0.0007,  0.0053]) tensor(-0.0039) False defaultdict(<class 'float'>, {'success': 0.0})\n",
      "tensor(0.1971, dtype=torch.float64)\n",
      "496\n",
      "tensor([ 0.7116, -0.3072], dtype=torch.float64) tensor([-0.0997, -0.1001,  0.0087, -0.0040]) tensor(-0.2814) False defaultdict(<class 'float'>, {'success': 0.0})\n",
      "tensor(0.6007, dtype=torch.float64)\n",
      "497\n",
      "tensor([0.9431, 0.6563], dtype=torch.float64) tensor([-0.0997, -0.0997,  0.0109,  0.0082]) tensor(-1.1218) False defaultdict(<class 'float'>, {'success': 0.0})\n",
      "tensor(1.3201, dtype=torch.float64)\n",
      "498\n",
      "tensor([-0.9720, -0.5571], dtype=torch.float64) tensor([-0.1004, -0.1002, -0.0124, -0.0072]) tensor(-1.0377) False defaultdict(<class 'float'>, {'success': 0.0})\n",
      "tensor(1.2551, dtype=torch.float64)\n",
      "499\n",
      "tensor([-0.0051,  0.2240], dtype=torch.float64) tensor([-0.1000, -0.0999,  0.0007,  0.0031]) tensor(9.1882e-17) True defaultdict(<class 'float'>, {'success': 0.0})\n",
      "tensor(0.0502, dtype=torch.float64)\n"
     ]
    }
   ],
   "source": [
    "done = False\n",
    "step = 0\n",
    "actions_x = np.random.uniform(-1, 1, 500)\n",
    "actions_y = np.random.uniform(-1, 1, 500)\n",
    "rews = []\n",
    "while not done:\n",
    "    print(step)\n",
    "    phys.set_state(np.array([-0.1,-0.1,0.,0.]))\n",
    "    action = torch.tensor([actions_x[step], actions_y[step]])\n",
    "    obs, reward, done, info = trainer.env.step(action.detach().cpu())\n",
    "    rews.append(reward)\n",
    "    print(action, obs, reward, done, info)\n",
    "    print(action.pow(2).sum())\n",
    "    step += 1\n",
    "rews = np.array(rews)"
   ]
  },
  {
   "cell_type": "code",
   "execution_count": 40,
   "metadata": {},
   "outputs": [],
   "source": [
    "norms = np.linalg.norm(np.array([actions_x, actions_y]), axis=0)"
   ]
  },
  {
   "cell_type": "code",
   "execution_count": 42,
   "metadata": {},
   "outputs": [
    {
     "data": {
      "image/png": "[encoded data removed]",
      "text/plain": [
       "<Figure size 640x480 with 1 Axes>"
      ]
     },
     "metadata": {},
     "output_type": "display_data"
    }
   ],
   "source": [
    "plt.plot(norms, rews, 'o');"
   ]
  },
  {
   "cell_type": "markdown",
   "metadata": {},
   "source": [
    "env render plots"
   ]
  },
  {
   "cell_type": "code",
   "execution_count": 28,
   "metadata": {},
   "outputs": [],
   "source": [
    "trainer.set_env()\n",
    "trainer.env.reset()\n",
    "trainer.set_init_state()\n",
    "physics = trainer.env.unwrapped.physics"
   ]
  },
  {
   "cell_type": "code",
   "execution_count": 265,
   "metadata": {},
   "outputs": [],
   "source": [
    "# action = trainer.agent.act(obs)\n",
    "action = torch.ones(2)\n",
    "\n",
    "obs, rew, done, info = trainer.env.step(action.detach().cpu())"
   ]
  },
  {
   "cell_type": "code",
   "execution_count": 266,
   "metadata": {},
   "outputs": [
    {
     "data": {
      "text/plain": [
       "tensor([1., 1.])"
      ]
     },
     "execution_count": 266,
     "metadata": {},
     "output_type": "execute_result"
    }
   ],
   "source": [
    "action"
   ]
  },
  {
   "cell_type": "code",
   "execution_count": 267,
   "metadata": {},
   "outputs": [],
   "source": [
    "# trainer.show_prediction(obs, action.detach().cpu())"
   ]
  },
  {
   "cell_type": "code",
   "execution_count": 268,
   "metadata": {},
   "outputs": [
    {
     "data": {
      "text/plain": [
       "array([0, 0, 0, 0, 0, 0, 0, 0, 0, 0, 0, 0, 0, 0, 0, 0, 0, 0, 0, 0, 0, 0,\n",
       "       0, 0, 0, 0, 0, 0, 0, 0, 0, 0], dtype=uint8)"
      ]
     },
     "execution_count": 268,
     "metadata": {},
     "output_type": "execute_result"
    }
   ],
   "source": [
    "scene_option.flags = np.zeros(scene_option.flags.shape)\n",
    "scene_option.flags"
   ]
  },
  {
   "cell_type": "code",
   "execution_count": 269,
   "metadata": {},
   "outputs": [],
   "source": [
    "from dm_control.mujoco.wrapper.mjbindings import enums\n",
    "scene_option = mujoco.wrapper.core.MjvOption()\n",
    "mujoco.wrapper.core.mjlib.mjv_defaultOption(scene_option.ptr)\n",
    "\n",
    "scene_option.frame = enums.mjtFrame.mjFRAME_GEOM\n",
    "scene_option.flags[enums.mjtVisFlag.mjVIS_CONTACTPOINT] = True\n",
    "scene_option.flags[enums.mjtVisFlag.mjVIS_ACTIVATION] = True\n",
    "scene_option.flags[enums.mjtVisFlag.mjVIS_ACTUATOR] = True\n",
    "scene_option.flags[enums.mjtVisFlag.mjVIS_CONTACTFORCE] = True\n",
    "scene_option.flags[enums.mjtVisFlag.mjVIS_PERTFORCE] = True\n",
    "scene_option.flags[enums.mjtVisFlag.mjVIS_TRANSPARENT] = True"
   ]
  },
  {
   "cell_type": "code",
   "execution_count": 273,
   "metadata": {},
   "outputs": [],
   "source": [
    "# tweak scales of contact visualization elements\n",
    "physics.model.vis.scale.contactwidth = 1.\n",
    "physics.model.vis.scale.contactheight = 0.3\n",
    "physics.model.vis.scale.forcewidth = 10.\n",
    "physics.model.vis.map.force = 2."
   ]
  },
  {
   "cell_type": "code",
   "execution_count": 274,
   "metadata": {},
   "outputs": [
    {
     "data": {
      "image/png": "[encoded data removed]",
      "text/plain": [
       "<Figure size 640x480 with 1 Axes>"
      ]
     },
     "metadata": {},
     "output_type": "display_data"
    }
   ],
   "source": [
    "pixels = physics.render(scene_option=scene_option)\n",
    "plt.imshow(pixels);"
   ]
  },
  {
   "cell_type": "code",
   "execution_count": 275,
   "metadata": {},
   "outputs": [
    {
     "data": {
      "image/png": "[encoded data removed]",
      "text/plain": [
       "<Figure size 640x480 with 1 Axes>"
      ]
     },
     "metadata": {},
     "output_type": "display_data"
    }
   ],
   "source": [
    "pixels = trainer.env.render(scene_option=scene_option)\n",
    "plt.imshow(pixels);"
   ]
  },
  {
   "cell_type": "code",
   "execution_count": 238,
   "metadata": {},
   "outputs": [],
   "source": [
    "import mujoco.viewer as viewer"
   ]
  },
  {
   "cell_type": "code",
   "execution_count": 243,
   "metadata": {},
   "outputs": [],
   "source": [
    "unenv = trainer.env.unwrapped"
   ]
  },
  {
   "cell_type": "code",
   "execution_count": 244,
   "metadata": {},
   "outputs": [
    {
     "ename": "AttributeError",
     "evalue": "'Environment' object has no attribute 'render'",
     "output_type": "error",
     "traceback": [
      "\u001b[1;31m---------------------------------------------------------------------------\u001b[0m",
      "\u001b[1;31mAttributeError\u001b[0m                            Traceback (most recent call last)",
      "Cell \u001b[1;32mIn[244], line 1\u001b[0m\n\u001b[1;32m----> 1\u001b[0m \u001b[43munenv\u001b[49m\u001b[38;5;241;43m.\u001b[39;49m\u001b[43mrender\u001b[49m()\n",
      "File \u001b[1;32mg:\\My Drive\\work\\projects\\cerebellum\\code\\tdmpc2\\tdmpc2\\envs\\dmcontrol.py:118\u001b[0m, in \u001b[0;36mExtendedTimeStepWrapper.__getattr__\u001b[1;34m(self, name)\u001b[0m\n\u001b[0;32m    117\u001b[0m \u001b[38;5;28;01mdef\u001b[39;00m \u001b[38;5;21m__getattr__\u001b[39m(\u001b[38;5;28mself\u001b[39m, name):\n\u001b[1;32m--> 118\u001b[0m \t\u001b[38;5;28;01mreturn\u001b[39;00m \u001b[38;5;28;43mgetattr\u001b[39;49m\u001b[43m(\u001b[49m\u001b[38;5;28;43mself\u001b[39;49m\u001b[38;5;241;43m.\u001b[39;49m\u001b[43m_env\u001b[49m\u001b[43m,\u001b[49m\u001b[43m \u001b[49m\u001b[43mname\u001b[49m\u001b[43m)\u001b[49m\n",
      "File \u001b[1;32mc:\\Users\\MSI\\anaconda3\\envs\\tdmpc2\\lib\\site-packages\\dm_control\\suite\\wrappers\\action_scale.py:103\u001b[0m, in \u001b[0;36mWrapper.__getattr__\u001b[1;34m(self, name)\u001b[0m\n\u001b[0;32m    102\u001b[0m \u001b[38;5;28;01mdef\u001b[39;00m \u001b[38;5;21m__getattr__\u001b[39m(\u001b[38;5;28mself\u001b[39m, name):\n\u001b[1;32m--> 103\u001b[0m   \u001b[38;5;28;01mreturn\u001b[39;00m \u001b[38;5;28;43mgetattr\u001b[39;49m\u001b[43m(\u001b[49m\u001b[38;5;28;43mself\u001b[39;49m\u001b[38;5;241;43m.\u001b[39;49m\u001b[43m_env\u001b[49m\u001b[43m,\u001b[49m\u001b[43m \u001b[49m\u001b[43mname\u001b[49m\u001b[43m)\u001b[49m\n",
      "File \u001b[1;32mg:\\My Drive\\work\\projects\\cerebellum\\code\\tdmpc2\\tdmpc2\\envs\\dmcontrol.py:59\u001b[0m, in \u001b[0;36mActionRepeatWrapper.__getattr__\u001b[1;34m(self, name)\u001b[0m\n\u001b[0;32m     58\u001b[0m \u001b[38;5;28;01mdef\u001b[39;00m \u001b[38;5;21m__getattr__\u001b[39m(\u001b[38;5;28mself\u001b[39m, name):\n\u001b[1;32m---> 59\u001b[0m \t\u001b[38;5;28;01mreturn\u001b[39;00m \u001b[38;5;28;43mgetattr\u001b[39;49m\u001b[43m(\u001b[49m\u001b[38;5;28;43mself\u001b[39;49m\u001b[38;5;241;43m.\u001b[39;49m\u001b[43m_env\u001b[49m\u001b[43m,\u001b[49m\u001b[43m \u001b[49m\u001b[43mname\u001b[49m\u001b[43m)\u001b[49m\n",
      "File \u001b[1;32mg:\\My Drive\\work\\projects\\cerebellum\\code\\tdmpc2\\tdmpc2\\envs\\dmcontrol.py:86\u001b[0m, in \u001b[0;36mActionDTypeWrapper.__getattr__\u001b[1;34m(self, name)\u001b[0m\n\u001b[0;32m     85\u001b[0m \u001b[38;5;28;01mdef\u001b[39;00m \u001b[38;5;21m__getattr__\u001b[39m(\u001b[38;5;28mself\u001b[39m, name):\n\u001b[1;32m---> 86\u001b[0m \t\u001b[38;5;28;01mreturn\u001b[39;00m \u001b[38;5;28;43mgetattr\u001b[39;49m\u001b[43m(\u001b[49m\u001b[38;5;28;43mself\u001b[39;49m\u001b[38;5;241;43m.\u001b[39;49m\u001b[43m_env\u001b[49m\u001b[43m,\u001b[49m\u001b[43m \u001b[49m\u001b[43mname\u001b[49m\u001b[43m)\u001b[49m\n",
      "\u001b[1;31mAttributeError\u001b[0m: 'Environment' object has no attribute 'render'"
     ]
    }
   ],
   "source": [
    "unenv.render()"
   ]
  },
  {
   "cell_type": "code",
   "execution_count": null,
   "metadata": {},
   "outputs": [],
   "source": [
    "mujoco.mjv_initGeom(\n",
    "                        # scn.geoms[scn.ngeom-1],\n",
    "                      mujoco.mjtGeom.mjGEOM_CAPSULE, np.zeros(3),\n",
    "                      np.zeros(3), np.zeros(9), rgba.astype(np.float32))"
   ]
  },
  {
   "cell_type": "code",
   "execution_count": 112,
   "metadata": {},
   "outputs": [],
   "source": [
    "def scene_callback(physics, scn):\n",
    "    rgba = np.array([1., 0., 0., 1.], dtype=np.float32)\n",
    "    radius = 0.01\n",
    "    point1 = physics.named.data.geom_xpos['target']\n",
    "    point2 = physics.named.data.geom_xpos['target'] + np.array([0., 0.2, 0.])\n",
    "    mujoco.mjv_initGeom(\n",
    "                        \n",
    "                        # scn.geoms[scn.ngeom-1],\n",
    "                      mujoco.mjtGeom.mjGEOM_CAPSULE, np.zeros(3),\n",
    "                      np.zeros(3), np.zeros(9), rgba.astype(np.float32))\n",
    "    # mujoco.mjv_makeConnector(scn.geoms[scn.ngeom-1],\n",
    "    #                        mujoco.mjtGeom.mjGEOM_CAPSULE, radius,\n",
    "    #                        point1[0], point1[1], point1[2],\n",
    "                        #    point2[0], point2[1], point2[2])\n",
    "    # mujoco.mjv_makeConnector(scn.geoms[scn.ngeom-1],\n",
    "    #                        mujoco.mjtGeom.mjGEOM_CAPSULE, radius,\n",
    "    #                        point1[0], point1[1], point1[2],\n",
    "                        #    point2[0], point2[1], point2[2])"
   ]
  },
  {
   "cell_type": "code",
   "execution_count": 115,
   "metadata": {},
   "outputs": [
    {
     "ename": "AttributeError",
     "evalue": "'Environment' object has no attribute 'render'",
     "output_type": "error",
     "traceback": [
      "\u001b[1;31m---------------------------------------------------------------------------\u001b[0m",
      "\u001b[1;31mAttributeError\u001b[0m                            Traceback (most recent call last)",
      "Cell \u001b[1;32mIn[115], line 4\u001b[0m\n\u001b[0;32m      1\u001b[0m physics \u001b[38;5;241m=\u001b[39m trainer\u001b[38;5;241m.\u001b[39menv\u001b[38;5;241m.\u001b[39munwrapped\u001b[38;5;241m.\u001b[39mphysics\n\u001b[0;32m      2\u001b[0m \u001b[38;5;66;03m# camera = mujoco.Camera(physics, max_geom=10000,\u001b[39;00m\n\u001b[0;32m      3\u001b[0m                         \u001b[38;5;66;03m#    scene_callback=scene_callback)\u001b[39;00m\n\u001b[1;32m----> 4\u001b[0m pixels \u001b[38;5;241m=\u001b[39m \u001b[43mtrainer\u001b[49m\u001b[38;5;241;43m.\u001b[39;49m\u001b[43menv\u001b[49m\u001b[38;5;241;43m.\u001b[39;49m\u001b[43munwrapped\u001b[49m\u001b[38;5;241;43m.\u001b[39;49m\u001b[43mrender\u001b[49m()\n\u001b[0;32m      5\u001b[0m \u001b[38;5;66;03m# frames.append(pixels)\u001b[39;00m\n\u001b[0;32m      6\u001b[0m plt\u001b[38;5;241m.\u001b[39mimshow(pixels)\n",
      "File \u001b[1;32mg:\\My Drive\\work\\projects\\cerebellum\\code\\tdmpc2\\tdmpc2\\envs\\dmcontrol.py:118\u001b[0m, in \u001b[0;36mExtendedTimeStepWrapper.__getattr__\u001b[1;34m(self, name)\u001b[0m\n\u001b[0;32m    117\u001b[0m \u001b[38;5;28;01mdef\u001b[39;00m \u001b[38;5;21m__getattr__\u001b[39m(\u001b[38;5;28mself\u001b[39m, name):\n\u001b[1;32m--> 118\u001b[0m \t\u001b[38;5;28;01mreturn\u001b[39;00m \u001b[38;5;28;43mgetattr\u001b[39;49m\u001b[43m(\u001b[49m\u001b[38;5;28;43mself\u001b[39;49m\u001b[38;5;241;43m.\u001b[39;49m\u001b[43m_env\u001b[49m\u001b[43m,\u001b[49m\u001b[43m \u001b[49m\u001b[43mname\u001b[49m\u001b[43m)\u001b[49m\n",
      "File \u001b[1;32mc:\\Users\\MSI\\anaconda3\\envs\\tdmpc2\\lib\\site-packages\\dm_control\\suite\\wrappers\\action_scale.py:103\u001b[0m, in \u001b[0;36mWrapper.__getattr__\u001b[1;34m(self, name)\u001b[0m\n\u001b[0;32m    102\u001b[0m \u001b[38;5;28;01mdef\u001b[39;00m \u001b[38;5;21m__getattr__\u001b[39m(\u001b[38;5;28mself\u001b[39m, name):\n\u001b[1;32m--> 103\u001b[0m   \u001b[38;5;28;01mreturn\u001b[39;00m \u001b[38;5;28;43mgetattr\u001b[39;49m\u001b[43m(\u001b[49m\u001b[38;5;28;43mself\u001b[39;49m\u001b[38;5;241;43m.\u001b[39;49m\u001b[43m_env\u001b[49m\u001b[43m,\u001b[49m\u001b[43m \u001b[49m\u001b[43mname\u001b[49m\u001b[43m)\u001b[49m\n",
      "File \u001b[1;32mg:\\My Drive\\work\\projects\\cerebellum\\code\\tdmpc2\\tdmpc2\\envs\\dmcontrol.py:59\u001b[0m, in \u001b[0;36mActionRepeatWrapper.__getattr__\u001b[1;34m(self, name)\u001b[0m\n\u001b[0;32m     58\u001b[0m \u001b[38;5;28;01mdef\u001b[39;00m \u001b[38;5;21m__getattr__\u001b[39m(\u001b[38;5;28mself\u001b[39m, name):\n\u001b[1;32m---> 59\u001b[0m \t\u001b[38;5;28;01mreturn\u001b[39;00m \u001b[38;5;28;43mgetattr\u001b[39;49m\u001b[43m(\u001b[49m\u001b[38;5;28;43mself\u001b[39;49m\u001b[38;5;241;43m.\u001b[39;49m\u001b[43m_env\u001b[49m\u001b[43m,\u001b[49m\u001b[43m \u001b[49m\u001b[43mname\u001b[49m\u001b[43m)\u001b[49m\n",
      "File \u001b[1;32mg:\\My Drive\\work\\projects\\cerebellum\\code\\tdmpc2\\tdmpc2\\envs\\dmcontrol.py:86\u001b[0m, in \u001b[0;36mActionDTypeWrapper.__getattr__\u001b[1;34m(self, name)\u001b[0m\n\u001b[0;32m     85\u001b[0m \u001b[38;5;28;01mdef\u001b[39;00m \u001b[38;5;21m__getattr__\u001b[39m(\u001b[38;5;28mself\u001b[39m, name):\n\u001b[1;32m---> 86\u001b[0m \t\u001b[38;5;28;01mreturn\u001b[39;00m \u001b[38;5;28;43mgetattr\u001b[39;49m\u001b[43m(\u001b[49m\u001b[38;5;28;43mself\u001b[39;49m\u001b[38;5;241;43m.\u001b[39;49m\u001b[43m_env\u001b[49m\u001b[43m,\u001b[49m\u001b[43m \u001b[49m\u001b[43mname\u001b[49m\u001b[43m)\u001b[49m\n",
      "\u001b[1;31mAttributeError\u001b[0m: 'Environment' object has no attribute 'render'"
     ]
    }
   ],
   "source": [
    "physics = trainer.env.unwrapped.physics\n",
    "# camera = mujoco.Camera(physics, max_geom=10000,\n",
    "                        #    scene_callback=scene_callback)\n",
    "pixels = trainer.env.render()\n",
    "# frames.append(pixels)\n",
    "plt.imshow(pixels)"
   ]
  },
  {
   "cell_type": "markdown",
   "metadata": {},
   "source": [
    "policies"
   ]
  },
  {
   "cell_type": "code",
   "execution_count": null,
   "metadata": {},
   "outputs": [],
   "source": []
  },
  {
   "cell_type": "code",
   "execution_count": 27,
   "metadata": {},
   "outputs": [
    {
     "ename": "NameError",
     "evalue": "name 'atrainer' is not defined",
     "output_type": "error",
     "traceback": [
      "\u001b[1;31m---------------------------------------------------------------------------\u001b[0m",
      "\u001b[1;31mNameError\u001b[0m                                 Traceback (most recent call last)",
      "Cell \u001b[1;32mIn[27], line 1\u001b[0m\n\u001b[1;32m----> 1\u001b[0m \u001b[43matrainer\u001b[49m\u001b[38;5;241m.\u001b[39magent\u001b[38;5;241m.\u001b[39mmodel\u001b[38;5;241m.\u001b[39m_pi\n",
      "\u001b[1;31mNameError\u001b[0m: name 'atrainer' is not defined"
     ]
    }
   ],
   "source": [
    "trainer.agent.model._pi"
   ]
  },
  {
   "cell_type": "code",
   "execution_count": null,
   "metadata": {},
   "outputs": [
    {
     "data": {
      "text/plain": [
       "tensor([ 0.5940, -1.1288, -0.0964,  0.0652, -0.1632, -0.3500, -1.9004,  0.3255,\n",
       "         0.5840, -0.4268,  0.1966,  0.3218, -0.6771, -0.3832,  0.5049, -1.2223,\n",
       "        -0.3500,  0.6493, -0.3041, -0.3189, -1.2531,  1.6860,  0.5500,  0.1842,\n",
       "        -0.1535,  0.2468,  0.6187, -0.9353,  0.1381, -0.2036,  0.1685,  0.3809,\n",
       "         0.2017, -0.6862, -0.0489,  0.1974,  0.9791,  0.0000,  0.0000,  0.0000,\n",
       "         0.0000,  0.0000,  0.0000,  0.0000,  0.0000,  0.0000,  0.0000,  0.0000,\n",
       "         0.0000,  0.0000,  0.0000,  0.0000,  0.0000,  0.0000,  0.0000,  0.0000,\n",
       "         0.0000,  0.0000,  0.0000,  0.0000,  0.0000,  0.0000,  0.0000,  0.0000,\n",
       "         0.0000,  0.0000,  0.0000])"
      ]
     },
     "execution_count": 16,
     "metadata": {},
     "output_type": "execute_result"
    }
   ],
   "source": [
    "obs = trainer.env.reset()\n",
    "obs"
   ]
  },
  {
   "cell_type": "code",
   "execution_count": null,
   "metadata": {},
   "outputs": [],
   "source": [
    "obs = obs.to(trainer.agent.device, non_blocking=True).unsqueeze(0)"
   ]
  },
  {
   "cell_type": "code",
   "execution_count": 25,
   "metadata": {},
   "outputs": [
    {
     "data": {
      "text/plain": [
       "tensor([[0.0131, 0.0876, 0.0802, 0.4303, 0.0170, 0.2621, 0.0548, 0.0549, 0.1728,\n",
       "         0.1797, 0.0420, 0.0744, 0.3237, 0.1118, 0.0626, 0.0329, 0.0765, 0.1079,\n",
       "         0.2486, 0.1026, 0.0810, 0.1201, 0.2253, 0.0379, 0.0451, 0.0846, 0.1261,\n",
       "         0.0441, 0.0873, 0.3245, 0.0437, 0.2447, 0.0687, 0.0228, 0.3301, 0.0626,\n",
       "         0.0562, 0.0385, 0.0424, 0.3788, 0.1543, 0.2361, 0.0371, 0.0501, 0.0940,\n",
       "         0.0902, 0.2346, 0.1035, 0.1866, 0.1158, 0.1232, 0.1179, 0.1760, 0.0538,\n",
       "         0.1991, 0.0276, 0.2480, 0.0337, 0.2922, 0.0191, 0.0138, 0.0593, 0.1492,\n",
       "         0.1846, 0.1166, 0.2035, 0.1262, 0.0518, 0.2690, 0.1164, 0.0829, 0.0336,\n",
       "         0.0642, 0.2931, 0.0304, 0.0552, 0.1091, 0.1608, 0.0997, 0.1875, 0.1811,\n",
       "         0.1285, 0.0664, 0.0636, 0.0306, 0.0084, 0.3863, 0.1350, 0.0869, 0.0996,\n",
       "         0.0741, 0.0672, 0.1027, 0.3791, 0.0579, 0.1326, 0.0190, 0.0267, 0.0101,\n",
       "         0.0310, 0.1484, 0.0574, 0.0583, 0.6491, 0.0747, 0.0593, 0.1393, 0.0805,\n",
       "         0.5548, 0.0279, 0.0319, 0.0315, 0.0185, 0.0580, 0.0990, 0.0726, 0.5298,\n",
       "         0.0119, 0.1385, 0.0716, 0.0105, 0.0942, 0.2640, 0.4570, 0.0245, 0.0749,\n",
       "         0.0190, 0.0559]], device='cuda:0', grad_fn=<ViewBackward0>)"
      ]
     },
     "execution_count": 25,
     "metadata": {},
     "output_type": "execute_result"
    }
   ],
   "source": [
    "z = trainer.agent.model.encode(obs, None)\n",
    "z"
   ]
  },
  {
   "cell_type": "code",
   "execution_count": 28,
   "metadata": {},
   "outputs": [
    {
     "data": {
      "text/plain": [
       "tensor([-0.5172, -0.1855, -0.0112, -0.2529, -0.0453, -0.0611, -0.3110, -0.1090,\n",
       "        -0.0283, -0.0230, -0.2707, -0.2208, -0.4569,  0.1826, -0.0633, -0.0802,\n",
       "         0.0522,  0.1652, -0.0700,  0.0548, -0.4273], device='cuda:0',\n",
       "       grad_fn=<SelectBackward0>)"
      ]
     },
     "execution_count": 28,
     "metadata": {},
     "output_type": "execute_result"
    }
   ],
   "source": [
    "a = trainer.agent.model.pi(z, None)[1][0]\n",
    "a"
   ]
  },
  {
   "cell_type": "code",
   "execution_count": 17,
   "metadata": {},
   "outputs": [
    {
     "name": "stdout",
     "output_type": "stream",
     "text": [
      "action grad fn 2: None\n",
      "tensor([[-0.5151, -0.2183, -0.0824, -0.2368, -0.0453, -0.0611, -0.4465, -0.1835,\n",
      "         -0.0545, -0.0284, -0.2830, -0.2220, -0.4362,  0.1659, -0.0623, -0.0791,\n",
      "         -0.4023,  0.1843, -0.0723,  0.0517, -0.4493]], device='cuda:0')\n",
      "atest grad fn: None\n"
     ]
    },
    {
     "data": {
      "text/plain": [
       "tensor([-0.5221, -0.1703,  0.1166, -0.2585, -0.0484, -0.0588, -0.2673, -0.0681,\n",
       "        -0.0671, -0.0290, -0.2644, -0.2222, -0.4303,  0.1916, -0.0626, -0.0788,\n",
       "         0.3068,  0.1698, -0.0659,  0.0537, -0.4359])"
      ]
     },
     "execution_count": 17,
     "metadata": {},
     "output_type": "execute_result"
    }
   ],
   "source": [
    "trainer.agent.act(obs)"
   ]
  },
  {
   "cell_type": "code",
   "execution_count": null,
   "metadata": {},
   "outputs": [],
   "source": [
    "trainer.train()"
   ]
  },
  {
   "cell_type": "code",
   "execution_count": 15,
   "metadata": {},
   "outputs": [
    {
     "data": {
      "text/plain": [
       "True"
      ]
     },
     "execution_count": 15,
     "metadata": {},
     "output_type": "execute_result"
    }
   ],
   "source": [
    "import torch \n",
    "torch.cuda.is_available()"
   ]
  },
  {
   "cell_type": "code",
   "execution_count": null,
   "metadata": {},
   "outputs": [],
   "source": []
  },
  {
   "cell_type": "code",
   "execution_count": 39,
   "metadata": {},
   "outputs": [],
   "source": [
    "# load dm_control env\n",
    "import dm_control\n",
    "\n",
    "from dm_control import suite\n",
    "import numpy as np\n",
    "\n",
    "from dm_control import mujoco\n",
    "\n"
   ]
  },
  {
   "cell_type": "code",
   "execution_count": 40,
   "metadata": {},
   "outputs": [
    {
     "ename": "NameError",
     "evalue": "name 'static_model' is not defined",
     "output_type": "error",
     "traceback": [
      "\u001b[1;31m---------------------------------------------------------------------------\u001b[0m",
      "\u001b[1;31mNameError\u001b[0m                                 Traceback (most recent call last)",
      "\u001b[1;32mg:\\My Drive\\work\\projects\\cerebellum\\code\\tdmpc2\\tdmpc2\\test.ipynb Cell 3\u001b[0m line \u001b[0;36m1\n\u001b[1;32m----> <a href='vscode-notebook-cell:/g%3A/My%20Drive/work/projects/cerebellum/code/tdmpc2/tdmpc2/test.ipynb#X36sZmlsZQ%3D%3D?line=0'>1</a>\u001b[0m physics \u001b[39m=\u001b[39m mujoco\u001b[39m.\u001b[39mPhysics\u001b[39m.\u001b[39mfrom_xml_string(static_model)\n",
      "\u001b[1;31mNameError\u001b[0m: name 'static_model' is not defined"
     ]
    }
   ],
   "source": [
    "physics = mujoco.Physics.from_xml_string(static_model)\n"
   ]
  },
  {
   "cell_type": "code",
   "execution_count": null,
   "metadata": {},
   "outputs": [],
   "source": []
  },
  {
   "cell_type": "code",
   "execution_count": 84,
   "metadata": {},
   "outputs": [],
   "source": [
    "import dm_control"
   ]
  },
  {
   "cell_type": "code",
   "execution_count": 85,
   "metadata": {},
   "outputs": [
    {
     "data": {
      "text/plain": [
       "'c:\\\\Users\\\\MSI\\\\anaconda3\\\\envs\\\\tdmpc2\\\\lib\\\\site-packages\\\\dm_control\\\\__init__.py'"
      ]
     },
     "execution_count": 85,
     "metadata": {},
     "output_type": "execute_result"
    }
   ],
   "source": [
    "dm_control.__file__"
   ]
  },
  {
   "cell_type": "code",
   "execution_count": 83,
   "metadata": {},
   "outputs": [],
   "source": [
    "from dm_control.utils import rewards"
   ]
  },
  {
   "cell_type": "code",
   "execution_count": 37,
   "metadata": {},
   "outputs": [
    {
     "data": {
      "text/plain": [
       "{'__name__': 'dm_control.utils.rewards',\n",
       " '__doc__': 'Soft indicator function evaluating whether a number is within bounds.',\n",
       " '__package__': 'dm_control.utils',\n",
       " '__loader__': <_frozen_importlib_external.SourceFileLoader at 0x1faabb09790>,\n",
       " '__spec__': ModuleSpec(name='dm_control.utils.rewards', loader=<_frozen_importlib_external.SourceFileLoader object at 0x000001FAABB09790>, origin='c:\\\\Users\\\\MSI\\\\anaconda3\\\\envs\\\\tdmpc2\\\\lib\\\\site-packages\\\\dm_control\\\\utils\\\\rewards.py'),\n",
       " '__file__': 'c:\\\\Users\\\\MSI\\\\anaconda3\\\\envs\\\\tdmpc2\\\\lib\\\\site-packages\\\\dm_control\\\\utils\\\\rewards.py',\n",
       " '__cached__': 'c:\\\\Users\\\\MSI\\\\anaconda3\\\\envs\\\\tdmpc2\\\\lib\\\\site-packages\\\\dm_control\\\\utils\\\\__pycache__\\\\rewards.cpython-39.pyc',\n",
       " '__builtins__': {'__name__': 'builtins',\n",
       "  '__doc__': \"Built-in functions, exceptions, and other objects.\\n\\nNoteworthy: None is the `nil' object; Ellipsis represents `...' in slices.\",\n",
       "  '__package__': '',\n",
       "  '__loader__': _frozen_importlib.BuiltinImporter,\n",
       "  '__spec__': ModuleSpec(name='builtins', loader=<class '_frozen_importlib.BuiltinImporter'>, origin='built-in'),\n",
       "  '__build_class__': <function __build_class__>,\n",
       "  '__import__': <function __import__>,\n",
       "  'abs': <function abs(x, /)>,\n",
       "  'all': <function all(iterable, /)>,\n",
       "  'any': <function any(iterable, /)>,\n",
       "  'ascii': <function ascii(obj, /)>,\n",
       "  'bin': <function bin(number, /)>,\n",
       "  'breakpoint': <function breakpoint>,\n",
       "  'callable': <function callable(obj, /)>,\n",
       "  'chr': <function chr(i, /)>,\n",
       "  'compile': <function compile(source, filename, mode, flags=0, dont_inherit=False, optimize=-1, *, _feature_version=-1)>,\n",
       "  'delattr': <function delattr(obj, name, /)>,\n",
       "  'dir': <function dir>,\n",
       "  'divmod': <function divmod(x, y, /)>,\n",
       "  'eval': <function eval(source, globals=None, locals=None, /)>,\n",
       "  'exec': <function exec(source, globals=None, locals=None, /)>,\n",
       "  'format': <function format(value, format_spec='', /)>,\n",
       "  'getattr': <function getattr>,\n",
       "  'globals': <function globals()>,\n",
       "  'hasattr': <function hasattr(obj, name, /)>,\n",
       "  'hash': <function hash(obj, /)>,\n",
       "  'hex': <function hex(number, /)>,\n",
       "  'id': <function id(obj, /)>,\n",
       "  'input': <bound method Kernel.raw_input of <ipykernel.ipkernel.IPythonKernel object at 0x000001FA99FD7C10>>,\n",
       "  'isinstance': <function isinstance(obj, class_or_tuple, /)>,\n",
       "  'issubclass': <function issubclass(cls, class_or_tuple, /)>,\n",
       "  'iter': <function iter>,\n",
       "  'len': <function len(obj, /)>,\n",
       "  'locals': <function locals()>,\n",
       "  'max': <function max>,\n",
       "  'min': <function min>,\n",
       "  'next': <function next>,\n",
       "  'oct': <function oct(number, /)>,\n",
       "  'ord': <function ord(c, /)>,\n",
       "  'pow': <function pow(base, exp, mod=None)>,\n",
       "  'print': <function print>,\n",
       "  'repr': <function repr(obj, /)>,\n",
       "  'round': <function round(number, ndigits=None)>,\n",
       "  'setattr': <function setattr(obj, name, value, /)>,\n",
       "  'sorted': <function sorted(iterable, /, *, key=None, reverse=False)>,\n",
       "  'sum': <function sum(iterable, /, start=0)>,\n",
       "  'vars': <function vars>,\n",
       "  'None': None,\n",
       "  'Ellipsis': Ellipsis,\n",
       "  'NotImplemented': NotImplemented,\n",
       "  'False': False,\n",
       "  'True': True,\n",
       "  'bool': bool,\n",
       "  'memoryview': memoryview,\n",
       "  'bytearray': bytearray,\n",
       "  'bytes': bytes,\n",
       "  'classmethod': classmethod,\n",
       "  'complex': complex,\n",
       "  'dict': dict,\n",
       "  'enumerate': enumerate,\n",
       "  'filter': filter,\n",
       "  'float': float,\n",
       "  'frozenset': frozenset,\n",
       "  'property': property,\n",
       "  'int': int,\n",
       "  'list': list,\n",
       "  'map': map,\n",
       "  'object': object,\n",
       "  'range': range,\n",
       "  'reversed': reversed,\n",
       "  'set': set,\n",
       "  'slice': slice,\n",
       "  'staticmethod': staticmethod,\n",
       "  'str': str,\n",
       "  'super': super,\n",
       "  'tuple': tuple,\n",
       "  'type': type,\n",
       "  'zip': zip,\n",
       "  '__debug__': True,\n",
       "  'BaseException': BaseException,\n",
       "  'Exception': Exception,\n",
       "  'TypeError': TypeError,\n",
       "  'StopAsyncIteration': StopAsyncIteration,\n",
       "  'StopIteration': StopIteration,\n",
       "  'GeneratorExit': GeneratorExit,\n",
       "  'SystemExit': SystemExit,\n",
       "  'KeyboardInterrupt': KeyboardInterrupt,\n",
       "  'ImportError': ImportError,\n",
       "  'ModuleNotFoundError': ModuleNotFoundError,\n",
       "  'OSError': OSError,\n",
       "  'EnvironmentError': OSError,\n",
       "  'IOError': OSError,\n",
       "  'WindowsError': OSError,\n",
       "  'EOFError': EOFError,\n",
       "  'RuntimeError': RuntimeError,\n",
       "  'RecursionError': RecursionError,\n",
       "  'NotImplementedError': NotImplementedError,\n",
       "  'NameError': NameError,\n",
       "  'UnboundLocalError': UnboundLocalError,\n",
       "  'AttributeError': AttributeError,\n",
       "  'SyntaxError': SyntaxError,\n",
       "  'IndentationError': IndentationError,\n",
       "  'TabError': TabError,\n",
       "  'LookupError': LookupError,\n",
       "  'IndexError': IndexError,\n",
       "  'KeyError': KeyError,\n",
       "  'ValueError': ValueError,\n",
       "  'UnicodeError': UnicodeError,\n",
       "  'UnicodeEncodeError': UnicodeEncodeError,\n",
       "  'UnicodeDecodeError': UnicodeDecodeError,\n",
       "  'UnicodeTranslateError': UnicodeTranslateError,\n",
       "  'AssertionError': AssertionError,\n",
       "  'ArithmeticError': ArithmeticError,\n",
       "  'FloatingPointError': FloatingPointError,\n",
       "  'OverflowError': OverflowError,\n",
       "  'ZeroDivisionError': ZeroDivisionError,\n",
       "  'SystemError': SystemError,\n",
       "  'ReferenceError': ReferenceError,\n",
       "  'MemoryError': MemoryError,\n",
       "  'BufferError': BufferError,\n",
       "  'Warning': Warning,\n",
       "  'UserWarning': UserWarning,\n",
       "  'DeprecationWarning': DeprecationWarning,\n",
       "  'PendingDeprecationWarning': PendingDeprecationWarning,\n",
       "  'SyntaxWarning': SyntaxWarning,\n",
       "  'RuntimeWarning': RuntimeWarning,\n",
       "  'FutureWarning': FutureWarning,\n",
       "  'ImportWarning': ImportWarning,\n",
       "  'UnicodeWarning': UnicodeWarning,\n",
       "  'BytesWarning': BytesWarning,\n",
       "  'ResourceWarning': ResourceWarning,\n",
       "  'ConnectionError': ConnectionError,\n",
       "  'BlockingIOError': BlockingIOError,\n",
       "  'BrokenPipeError': BrokenPipeError,\n",
       "  'ChildProcessError': ChildProcessError,\n",
       "  'ConnectionAbortedError': ConnectionAbortedError,\n",
       "  'ConnectionRefusedError': ConnectionRefusedError,\n",
       "  'ConnectionResetError': ConnectionResetError,\n",
       "  'FileExistsError': FileExistsError,\n",
       "  'FileNotFoundError': FileNotFoundError,\n",
       "  'IsADirectoryError': IsADirectoryError,\n",
       "  'NotADirectoryError': NotADirectoryError,\n",
       "  'InterruptedError': InterruptedError,\n",
       "  'PermissionError': PermissionError,\n",
       "  'ProcessLookupError': ProcessLookupError,\n",
       "  'TimeoutError': TimeoutError,\n",
       "  'open': <function io.open(file, mode='r', buffering=-1, encoding=None, errors=None, newline=None, closefd=True, opener=None)>,\n",
       "  'copyright': Copyright (c) 2001-2023 Python Software Foundation.\n",
       "  All Rights Reserved.\n",
       "  \n",
       "  Copyright (c) 2000 BeOpen.com.\n",
       "  All Rights Reserved.\n",
       "  \n",
       "  Copyright (c) 1995-2001 Corporation for National Research Initiatives.\n",
       "  All Rights Reserved.\n",
       "  \n",
       "  Copyright (c) 1991-1995 Stichting Mathematisch Centrum, Amsterdam.\n",
       "  All Rights Reserved.,\n",
       "  'credits':     Thanks to CWI, CNRI, BeOpen.com, Zope Corporation and a cast of thousands\n",
       "      for supporting Python development.  See www.python.org for more information.,\n",
       "  'license': Type license() to see the full license text,\n",
       "  'help': Type help() for interactive help, or help(object) for help about object.,\n",
       "  'execfile': <function _pydev_bundle._pydev_execfile.execfile(file, glob=None, loc=None)>,\n",
       "  'runfile': <function _pydev_bundle.pydev_umd.runfile(filename, args=None, wdir=None, namespace=None)>,\n",
       "  '__IPYTHON__': True,\n",
       "  'display': <function IPython.core.display_functions.display(*objs, include=None, exclude=None, metadata=None, transient=None, display_id=None, raw=False, clear=False, **kwargs)>,\n",
       "  '__pybind11_internals_v4_msvc__': <capsule object NULL at 0x000001FA9B69DD20>,\n",
       "  '__MUJOCO_ERROR_FatalError': mujoco.FatalError,\n",
       "  '__MUJOCO_ERROR_UnexpectedError': mujoco.UnexpectedError,\n",
       "  '__MUJOCO_STRUCTS_MJMODELWRAPPER_LOOKUP': 140706060505632,\n",
       "  '__MUJOCO_STRUCTS_MJDATAWRAPPER_LOOKUP': 140706060830864,\n",
       "  'get_ipython': <bound method InteractiveShell.get_ipython of <ipykernel.zmqshell.ZMQInteractiveShell object at 0x000001FA99FEC190>>},\n",
       " 'warnings': <module 'warnings' from 'c:\\\\Users\\\\MSI\\\\anaconda3\\\\envs\\\\tdmpc2\\\\lib\\\\warnings.py'>,\n",
       " 'np': <module 'numpy' from 'c:\\\\Users\\\\MSI\\\\anaconda3\\\\envs\\\\tdmpc2\\\\lib\\\\site-packages\\\\numpy\\\\__init__.py'>,\n",
       " '_DEFAULT_VALUE_AT_MARGIN': 0.1,\n",
       " '_sigmoids': <function dm_control.utils.rewards._sigmoids(x, value_at_1, sigmoid)>,\n",
       " 'tolerance': <function dm_control.utils.rewards.tolerance(x, bounds=(0.0, 0.0), margin=0.0, sigmoid='gaussian', value_at_margin=0.1)>}"
      ]
     },
     "execution_count": 37,
     "metadata": {},
     "output_type": "execute_result"
    }
   ],
   "source": [
    "vars(rewards)"
   ]
  },
  {
   "cell_type": "code",
   "execution_count": 24,
   "metadata": {},
   "outputs": [],
   "source": [
    "env = suite.load(domain_name=\"humanoid\", task_name=\"stand\")"
   ]
  },
  {
   "cell_type": "code",
   "execution_count": 25,
   "metadata": {},
   "outputs": [],
   "source": [
    "a = env.reset()"
   ]
  },
  {
   "cell_type": "code",
   "execution_count": 46,
   "metadata": {},
   "outputs": [
    {
     "data": {
      "text/plain": [
       "['__abstractmethods__',\n",
       " '__annotations__',\n",
       " '__class__',\n",
       " '__delattr__',\n",
       " '__dict__',\n",
       " '__dir__',\n",
       " '__doc__',\n",
       " '__eq__',\n",
       " '__format__',\n",
       " '__ge__',\n",
       " '__getattribute__',\n",
       " '__getstate__',\n",
       " '__gt__',\n",
       " '__hash__',\n",
       " '__init__',\n",
       " '__init_subclass__',\n",
       " '__le__',\n",
       " '__lt__',\n",
       " '__module__',\n",
       " '__ne__',\n",
       " '__new__',\n",
       " '__reduce__',\n",
       " '__reduce_ex__',\n",
       " '__repr__',\n",
       " '__setattr__',\n",
       " '__setstate__',\n",
       " '__sizeof__',\n",
       " '__str__',\n",
       " '__subclasshook__',\n",
       " '__weakref__',\n",
       " '_abc_impl',\n",
       " '_contexts',\n",
       " '_contexts_lock',\n",
       " '_data',\n",
       " '_free_rendering_contexts',\n",
       " '_make_rendering_contexts',\n",
       " '_named',\n",
       " '_new_warnings',\n",
       " '_physics_state_items',\n",
       " '_reload_from_data',\n",
       " '_reload_from_model',\n",
       " '_step_with_up_to_date_position_velocity',\n",
       " '_warnings',\n",
       " '_warnings_before',\n",
       " '_warnings_cause_exception',\n",
       " 'activation',\n",
       " 'after_reset',\n",
       " 'center_of_mass_position',\n",
       " 'center_of_mass_velocity',\n",
       " 'check_divergence',\n",
       " 'check_invalid_state',\n",
       " 'contexts',\n",
       " 'control',\n",
       " 'copy',\n",
       " 'data',\n",
       " 'enable_profiling',\n",
       " 'extremities',\n",
       " 'forward',\n",
       " 'free',\n",
       " 'from_binary_path',\n",
       " 'from_byte_string',\n",
       " 'from_model',\n",
       " 'from_xml_path',\n",
       " 'from_xml_string',\n",
       " 'get_state',\n",
       " 'head_height',\n",
       " 'joint_angles',\n",
       " 'legacy_step',\n",
       " 'model',\n",
       " 'named',\n",
       " 'position',\n",
       " 'reload_from_xml_path',\n",
       " 'reload_from_xml_string',\n",
       " 'render',\n",
       " 'reset',\n",
       " 'reset_context',\n",
       " 'set_control',\n",
       " 'set_state',\n",
       " 'state',\n",
       " 'step',\n",
       " 'suppress_physics_errors',\n",
       " 'time',\n",
       " 'timestep',\n",
       " 'torso_upright',\n",
       " 'torso_vertical_orientation',\n",
       " 'velocity']"
      ]
     },
     "execution_count": 46,
     "metadata": {},
     "output_type": "execute_result"
    }
   ],
   "source": [
    "dir(env.physics)"
   ]
  },
  {
   "cell_type": "code",
   "execution_count": 49,
   "metadata": {},
   "outputs": [
    {
     "data": {
      "text/plain": [
       "0.2591486275956094"
      ]
     },
     "execution_count": 49,
     "metadata": {},
     "output_type": "execute_result"
    }
   ],
   "source": [
    "env.physics.torso_upright()"
   ]
  },
  {
   "cell_type": "code",
   "execution_count": 33,
   "metadata": {},
   "outputs": [],
   "source": [
    "a = env.step(action)"
   ]
  },
  {
   "cell_type": "code",
   "execution_count": 34,
   "metadata": {},
   "outputs": [
    {
     "data": {
      "text/plain": [
       "TimeStep(step_type=<StepType.MID: 1>, reward=0.6251759549391062, discount=1.0, observation=OrderedDict([('joint_angles', array([-0.08013083, -1.24846062,  0.15628188, -0.10930045, -0.33979471,\n",
       "        0.3795355 , -2.11091445, -0.69644445,  0.80489154, -0.4283976 ,\n",
       "       -0.13369845, -1.41352164, -1.88303171,  0.81576464, -0.08134116,\n",
       "       -1.03257747, -0.63396274,  0.29931963,  1.16693293,  1.12373313,\n",
       "       -1.62034902])), ('head_height', 1.5395249813926186), ('extremities', array([-0.33984119,  0.6810589 , -0.00319464,  0.59674369,  0.2871065 ,\n",
       "       -0.22459295,  0.17763026, -0.34349913,  0.18954656,  0.21251072,\n",
       "        0.07896279, -0.65928201])), ('torso_vertical', array([0.78376148, 0.56441114, 0.25914863])), ('com_velocity', array([ 0.01228269, -0.00626209, -0.25252969])), ('velocity', array([  0.06888843,  -0.25731313,  -0.60961412,  -0.1627916 ,\n",
       "        -1.59057734,  -2.4377255 ,  -1.17130589,   1.78133509,\n",
       "         6.5213768 ,  -4.4311912 ,   0.42199801,  -0.13892007,\n",
       "         0.20733923,   0.84231878,  23.33083693,  -0.8527481 ,\n",
       "         0.82318195,   4.33803362,   5.16716807,   3.36018511,\n",
       "       -27.27028064,   4.67433574,   6.65689553, -12.48173547,\n",
       "         4.05664825,  -5.6224959 , -18.27811824]))]))"
      ]
     },
     "execution_count": 34,
     "metadata": {},
     "output_type": "execute_result"
    }
   ],
   "source": [
    "a"
   ]
  },
  {
   "cell_type": "code",
   "execution_count": 32,
   "metadata": {},
   "outputs": [],
   "source": [
    "spec = env.action_spec()\n",
    "action = np.random.uniform(spec.minimum, spec.maximum, spec.shape)"
   ]
  },
  {
   "cell_type": "code",
   "execution_count": 17,
   "metadata": {},
   "outputs": [
    {
     "ename": "TypeError",
     "evalue": "unsupported operand type(s) for /: 'str' and 'str'",
     "output_type": "error",
     "traceback": [
      "\u001b[1;31m---------------------------------------------------------------------------\u001b[0m",
      "\u001b[1;31mTypeError\u001b[0m                                 Traceback (most recent call last)",
      "\u001b[1;32mg:\\My Drive\\work\\projects\\cerebellum\\code\\tdmpc2\\tdmpc2\\test.ipynb Cell 2\u001b[0m line \u001b[0;36m1\n\u001b[1;32m----> <a href='vscode-notebook-cell:/g%3A/My%20Drive/work/projects/cerebellum/code/tdmpc2/tdmpc2/test.ipynb#X23sZmlsZQ%3D%3D?line=0'>1</a>\u001b[0m \u001b[39m\"\u001b[39;49m\u001b[39ma\u001b[39;49m\u001b[39m\"\u001b[39;49m \u001b[39m/\u001b[39;49m \u001b[39m\"\u001b[39;49m\u001b[39mb\u001b[39;49m\u001b[39m\"\u001b[39;49m\n",
      "\u001b[1;31mTypeError\u001b[0m: unsupported operand type(s) for /: 'str' and 'str'"
     ]
    }
   ],
   "source": [
    "\"a\" / \"b\""
   ]
  },
  {
   "cell_type": "code",
   "execution_count": null,
   "metadata": {},
   "outputs": [],
   "source": [
    "\"\""
   ]
  }
 ],
 "metadata": {
  "kernelspec": {
   "display_name": "dmcontrol",
   "language": "python",
   "name": "python3"
  },
  "language_info": {
   "codemirror_mode": {
    "name": "ipython",
    "version": 3
   },
   "file_extension": ".py",
   "mimetype": "text/x-python",
   "name": "python",
   "nbconvert_exporter": "python",
   "pygments_lexer": "ipython3",
   "version": "3.9.18"
  }
 },
 "nbformat": 4,
 "nbformat_minor": 2
}
